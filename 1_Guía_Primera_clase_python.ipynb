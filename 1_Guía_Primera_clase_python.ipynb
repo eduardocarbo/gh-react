{
  "cells": [
    {
      "cell_type": "markdown",
      "metadata": {
        "id": "view-in-github",
        "colab_type": "text"
      },
      "source": [
        "<a href=\"https://colab.research.google.com/github/eduardocarbo/gh-react/blob/main/1_Gu%C3%ADa_Primera_clase_python.ipynb\" target=\"_parent\"><img src=\"https://colab.research.google.com/assets/colab-badge.svg\" alt=\"Open In Colab\"/></a>"
      ]
    },
    {
      "cell_type": "markdown",
      "id": "4ceba61d",
      "metadata": {
        "id": "4ceba61d"
      },
      "source": [
        "# Modulo 1 conceptos básicos Variables, expresiones y Operaciones Básicas"
      ]
    },
    {
      "cell_type": "markdown",
      "id": "73327670",
      "metadata": {
        "id": "73327670"
      },
      "source": [
        "# Escalares"
      ]
    },
    {
      "cell_type": "markdown",
      "id": "878836b7",
      "metadata": {
        "id": "878836b7"
      },
      "source": [
        "Números que utilizamos normalmente para contar, medir, sumar,..."
      ]
    },
    {
      "cell_type": "code",
      "source": [
        "z = 5\n",
        "y = -3\n",
        "w = z -y\n",
        "w"
      ],
      "metadata": {
        "colab": {
          "base_uri": "https://localhost:8080/"
        },
        "id": "f04QrOBkZKwK",
        "outputId": "ff815bc6-8e0d-4022-cab7-f87828a9607b"
      },
      "id": "f04QrOBkZKwK",
      "execution_count": null,
      "outputs": [
        {
          "output_type": "execute_result",
          "data": {
            "text/plain": [
              "8"
            ]
          },
          "metadata": {},
          "execution_count": 2
        }
      ]
    },
    {
      "cell_type": "code",
      "source": [
        "type(z)"
      ],
      "metadata": {
        "colab": {
          "base_uri": "https://localhost:8080/"
        },
        "id": "F3gyh4ppZarJ",
        "outputId": "1e8d3704-13db-402f-a35e-cb41aafd1244"
      },
      "id": "F3gyh4ppZarJ",
      "execution_count": null,
      "outputs": [
        {
          "output_type": "execute_result",
          "data": {
            "text/plain": [
              "int"
            ]
          },
          "metadata": {},
          "execution_count": 3
        }
      ]
    },
    {
      "cell_type": "code",
      "source": [
        "z = \"María\"\n",
        "z"
      ],
      "metadata": {
        "colab": {
          "base_uri": "https://localhost:8080/",
          "height": 35
        },
        "id": "WrhDmWHPaAKz",
        "outputId": "657561da-f9af-42fa-b2ed-8c3160d4e1a9"
      },
      "id": "WrhDmWHPaAKz",
      "execution_count": null,
      "outputs": [
        {
          "output_type": "execute_result",
          "data": {
            "text/plain": [
              "'María'"
            ],
            "application/vnd.google.colaboratory.intrinsic+json": {
              "type": "string"
            }
          },
          "metadata": {},
          "execution_count": 4
        }
      ]
    },
    {
      "cell_type": "code",
      "source": [
        "type(z)"
      ],
      "metadata": {
        "colab": {
          "base_uri": "https://localhost:8080/"
        },
        "id": "BNN6DCHPaW3q",
        "outputId": "73e7f3b2-7426-47d1-e8b8-c92f7983db28"
      },
      "id": "BNN6DCHPaW3q",
      "execution_count": null,
      "outputs": [
        {
          "output_type": "execute_result",
          "data": {
            "text/plain": [
              "str"
            ]
          },
          "metadata": {},
          "execution_count": 5
        }
      ]
    },
    {
      "cell_type": "code",
      "source": [
        "#Potenciación\n",
        "4**2"
      ],
      "metadata": {
        "colab": {
          "base_uri": "https://localhost:8080/"
        },
        "id": "35bhKiSVacek",
        "outputId": "7b05215e-d00c-477e-fd02-12eda44c6165"
      },
      "id": "35bhKiSVacek",
      "execution_count": null,
      "outputs": [
        {
          "output_type": "execute_result",
          "data": {
            "text/plain": [
              "16"
            ]
          },
          "metadata": {},
          "execution_count": 6
        }
      ]
    },
    {
      "cell_type": "code",
      "source": [
        "#Cociente entre dos números\n",
        "5//3"
      ],
      "metadata": {
        "colab": {
          "base_uri": "https://localhost:8080/"
        },
        "id": "O-p5w3EzakeL",
        "outputId": "a2140266-5d2d-4125-980e-d461553420ad"
      },
      "id": "O-p5w3EzakeL",
      "execution_count": null,
      "outputs": [
        {
          "output_type": "execute_result",
          "data": {
            "text/plain": [
              "1"
            ]
          },
          "metadata": {},
          "execution_count": 7
        }
      ]
    },
    {
      "cell_type": "code",
      "source": [
        "#Módulo\n",
        "x = 5%3\n",
        "x"
      ],
      "metadata": {
        "colab": {
          "base_uri": "https://localhost:8080/"
        },
        "id": "8zRaaYz4bGzh",
        "outputId": "7648008c-f8bc-44ae-b142-1a7488c3d37f"
      },
      "id": "8zRaaYz4bGzh",
      "execution_count": null,
      "outputs": [
        {
          "output_type": "execute_result",
          "data": {
            "text/plain": [
              "2"
            ]
          },
          "metadata": {},
          "execution_count": 9
        }
      ]
    },
    {
      "cell_type": "code",
      "source": [
        "y = divmod(9,4)\n",
        "y"
      ],
      "metadata": {
        "colab": {
          "base_uri": "https://localhost:8080/"
        },
        "id": "VDJELabEbNxx",
        "outputId": "94d5ef7b-209b-4fc0-90f6-d3a54723ab54"
      },
      "id": "VDJELabEbNxx",
      "execution_count": null,
      "outputs": [
        {
          "output_type": "execute_result",
          "data": {
            "text/plain": [
              "(2, 1)"
            ]
          },
          "metadata": {},
          "execution_count": 10
        }
      ]
    },
    {
      "cell_type": "code",
      "source": [
        "r = pow(4,3)\n",
        "r"
      ],
      "metadata": {
        "colab": {
          "base_uri": "https://localhost:8080/"
        },
        "id": "-QwWd8C7bjRk",
        "outputId": "a734a15f-1616-45e3-e215-8993dad374e4"
      },
      "id": "-QwWd8C7bjRk",
      "execution_count": null,
      "outputs": [
        {
          "output_type": "execute_result",
          "data": {
            "text/plain": [
              "64"
            ]
          },
          "metadata": {},
          "execution_count": 11
        }
      ]
    },
    {
      "cell_type": "code",
      "source": [
        "r = pow(25,1/2)\n",
        "r"
      ],
      "metadata": {
        "colab": {
          "base_uri": "https://localhost:8080/"
        },
        "id": "rsj36ajubonN",
        "outputId": "48bd4f4b-8f3a-4fa8-d4b0-4f85cc8f653f"
      },
      "id": "rsj36ajubonN",
      "execution_count": null,
      "outputs": [
        {
          "output_type": "execute_result",
          "data": {
            "text/plain": [
              "5.0"
            ]
          },
          "metadata": {},
          "execution_count": 12
        }
      ]
    },
    {
      "cell_type": "code",
      "source": [
        "print(\"división\")\n",
        "print(type(8/4))\n",
        "print(8/4)\n",
        "print(\"Multiplicación\")\n",
        "print(4*3)"
      ],
      "metadata": {
        "colab": {
          "base_uri": "https://localhost:8080/"
        },
        "id": "qIK8QVsTcx8L",
        "outputId": "c0f01242-1961-4bc9-8aeb-b8f771f2547f"
      },
      "id": "qIK8QVsTcx8L",
      "execution_count": null,
      "outputs": [
        {
          "output_type": "stream",
          "name": "stdout",
          "text": [
            "división\n",
            "<class 'float'>\n",
            "2.0\n",
            "Multiplicación\n",
            "12\n"
          ]
        }
      ]
    },
    {
      "cell_type": "markdown",
      "id": "203ee7cd",
      "metadata": {
        "id": "203ee7cd"
      },
      "source": [
        "### Operaciones Básicas"
      ]
    },
    {
      "cell_type": "markdown",
      "id": "818e81fc",
      "metadata": {
        "id": "818e81fc"
      },
      "source": [
        "## Libreria comandos de matematicas\n",
        "\n"
      ]
    },
    {
      "cell_type": "code",
      "source": [
        "#importación de librería de funciones matemáticas\n",
        "import math\n",
        "print(\"Raíz cuadra de un número\")\n",
        "print(math.sqrt(4))"
      ],
      "metadata": {
        "colab": {
          "base_uri": "https://localhost:8080/"
        },
        "id": "FK1dJAQYeXsd",
        "outputId": "d3267b1f-7e4b-4562-efc8-dac687d56b21"
      },
      "id": "FK1dJAQYeXsd",
      "execution_count": null,
      "outputs": [
        {
          "output_type": "stream",
          "name": "stdout",
          "text": [
            "Raíz cuadra de un número\n",
            "2.0\n"
          ]
        }
      ]
    },
    {
      "cell_type": "code",
      "source": [
        "import math as mt\n",
        "print(\"Raíz cuadra de un número\")\n",
        "print(mt.sqrt(4))"
      ],
      "metadata": {
        "colab": {
          "base_uri": "https://localhost:8080/"
        },
        "id": "u_e_Bjo1fhjn",
        "outputId": "ecb9abe5-963b-48c5-a7b2-f661526010be"
      },
      "id": "u_e_Bjo1fhjn",
      "execution_count": null,
      "outputs": [
        {
          "output_type": "stream",
          "name": "stdout",
          "text": [
            "Raíz cuadra de un número\n",
            "2.0\n"
          ]
        }
      ]
    },
    {
      "cell_type": "code",
      "source": [
        "print(\"Para clacular elk seno de un número\")\n",
        "import math as mt\n",
        "mt.sin(90)"
      ],
      "metadata": {
        "colab": {
          "base_uri": "https://localhost:8080/"
        },
        "id": "mDHIQGDxgC70",
        "outputId": "91836084-4dd4-4506-d9b0-a923b2786b0d"
      },
      "id": "mDHIQGDxgC70",
      "execution_count": null,
      "outputs": [
        {
          "output_type": "stream",
          "name": "stdout",
          "text": [
            "Para clacular elk seno de un número\n"
          ]
        },
        {
          "output_type": "execute_result",
          "data": {
            "text/plain": [
              "0.8939966636005579"
            ]
          },
          "metadata": {},
          "execution_count": 19
        }
      ]
    },
    {
      "cell_type": "code",
      "source": [
        "import math as mt\n",
        "mt.tan(35)"
      ],
      "metadata": {
        "colab": {
          "base_uri": "https://localhost:8080/"
        },
        "id": "HSmwn7w4hKmO",
        "outputId": "0273a21c-5621-446a-94a4-7ff274d8a32a"
      },
      "id": "HSmwn7w4hKmO",
      "execution_count": null,
      "outputs": [
        {
          "output_type": "execute_result",
          "data": {
            "text/plain": [
              "0.473814720414451"
            ]
          },
          "metadata": {},
          "execution_count": 20
        }
      ]
    },
    {
      "cell_type": "code",
      "source": [
        "import numpy as np\n",
        "np.pi"
      ],
      "metadata": {
        "colab": {
          "base_uri": "https://localhost:8080/"
        },
        "id": "FlP9OQjQhSj-",
        "outputId": "e3a274e7-6827-4d1c-9f62-5bafccc54c2b"
      },
      "id": "FlP9OQjQhSj-",
      "execution_count": null,
      "outputs": [
        {
          "output_type": "execute_result",
          "data": {
            "text/plain": [
              "3.141592653589793"
            ]
          },
          "metadata": {},
          "execution_count": 21
        }
      ]
    },
    {
      "cell_type": "markdown",
      "id": "3bdf7aa3",
      "metadata": {
        "id": "3bdf7aa3"
      },
      "source": [
        "### Funciones Trigonometricas"
      ]
    },
    {
      "cell_type": "code",
      "source": [
        ""
      ],
      "metadata": {
        "id": "SnPiSOpEh8Tk"
      },
      "id": "SnPiSOpEh8Tk",
      "execution_count": null,
      "outputs": []
    },
    {
      "cell_type": "markdown",
      "id": "e0d40e85",
      "metadata": {
        "id": "e0d40e85"
      },
      "source": [
        "## Operadores relacionales"
      ]
    },
    {
      "cell_type": "markdown",
      "id": "adf56b65",
      "metadata": {
        "id": "adf56b65"
      },
      "source": [
        "\n",
        "Nombre                | Operador        |Ejemplo\n",
        "-----------------------|-----------------|-----------------\n",
        "Mayor que              | >               | a >b     \n",
        "Menor que              | <               | a< b     \n",
        "Mayor o igual que      | >=              | a >=b   \n",
        "Menor o igual que      | <=              | a<= b   \n",
        "Igual a                | ==              | a ==b  \n",
        "Distinto de            | !=              | a !=b   \n"
      ]
    },
    {
      "cell_type": "markdown",
      "id": "889b48c6",
      "metadata": {
        "id": "889b48c6"
      },
      "source": [
        "## Operadores lógicos o de conjunto"
      ]
    },
    {
      "cell_type": "markdown",
      "id": "7184205b",
      "metadata": {
        "id": "7184205b"
      },
      "source": [
        "|Nombre                                 | Operador   |símbolo\n",
        "----------------------------------------|------------|------------------\n",
        "|Interesección                        | y                | &, and     \n",
        "|Unión                                     | o                | ,or      \n",
        "|Negación                               | NO              | not  \n",
        "|Unión menos intersección  | o exclusivo |   ^  \n"
      ]
    },
    {
      "cell_type": "markdown",
      "id": "2c914687",
      "metadata": {
        "id": "2c914687"
      },
      "source": [
        "## Operadores de asignación "
      ]
    },
    {
      "cell_type": "markdown",
      "id": "9e585552",
      "metadata": {
        "id": "9e585552"
      },
      "source": [
        "Símbolo  | Ejemplo \n",
        "-----------|-------\n",
        "a = b      | =\n",
        "a = a+1    | a+=1\n",
        "a = a-1    | a-=1\n",
        "a = a+b    | a+=b\n",
        "a = a-b    | a-=b\n",
        "a = a*b    | a*=b\n",
        "a = a/b    | a/=b\n",
        "a= a%b     | a%=b\n",
        "\n",
        "\n"
      ]
    },
    {
      "cell_type": "markdown",
      "id": "08fa5c82",
      "metadata": {
        "id": "08fa5c82"
      },
      "source": [
        "## Impresiones en pantalla"
      ]
    },
    {
      "cell_type": "code",
      "source": [
        "q = input(\"Escriba su nombre: \")\n",
        "q\n"
      ],
      "metadata": {
        "colab": {
          "base_uri": "https://localhost:8080/",
          "height": 53
        },
        "id": "XLZfY9pSxlIX",
        "outputId": "446b4a36-0753-450c-9a2a-d298a148e8c3"
      },
      "id": "XLZfY9pSxlIX",
      "execution_count": null,
      "outputs": [
        {
          "name": "stdout",
          "output_type": "stream",
          "text": [
            "Escriba su nombre: Eduardo Carrillo Botero\n"
          ]
        },
        {
          "output_type": "execute_result",
          "data": {
            "text/plain": [
              "'Eduardo Carrillo Botero'"
            ],
            "application/vnd.google.colaboratory.intrinsic+json": {
              "type": "string"
            }
          },
          "metadata": {},
          "execution_count": 22
        }
      ]
    },
    {
      "cell_type": "code",
      "source": [
        "#pedir 2 números y que me sume\n",
        "a = int(input(\"digite pro favor un número : \"))\n",
        "b = int(input(\"digite un segundo número : \"))\n",
        "c = a + b\n",
        "print(\"La sumatoria de los dos números es\")\n",
        "c"
      ],
      "metadata": {
        "colab": {
          "base_uri": "https://localhost:8080/"
        },
        "id": "CNQQWF6RyXUO",
        "outputId": "c7f22a7c-a4a5-4713-94b1-484dfdf1496a"
      },
      "id": "CNQQWF6RyXUO",
      "execution_count": null,
      "outputs": [
        {
          "output_type": "stream",
          "name": "stdout",
          "text": [
            "digite pro favor un número : 2\n",
            "digite un segundo número : 3\n",
            "La sumatoria de los dos números es\n"
          ]
        },
        {
          "output_type": "execute_result",
          "data": {
            "text/plain": [
              "5"
            ]
          },
          "metadata": {},
          "execution_count": 26
        }
      ]
    },
    {
      "cell_type": "markdown",
      "id": "1aa68628",
      "metadata": {
        "id": "1aa68628"
      },
      "source": [
        "## Entrada de datos"
      ]
    },
    {
      "cell_type": "markdown",
      "id": "6b9c9794",
      "metadata": {
        "id": "6b9c9794"
      },
      "source": [
        "# Objetos en python"
      ]
    },
    {
      "cell_type": "markdown",
      "id": "17e6a220",
      "metadata": {
        "id": "17e6a220"
      },
      "source": [
        "Un objeto es un elemento que tiene un nombre, un valor y un tipo. El tipo lo hereda del valor que toma"
      ]
    },
    {
      "cell_type": "markdown",
      "id": "f8999fe1",
      "metadata": {
        "id": "f8999fe1"
      },
      "source": [
        "## Tipos de datos"
      ]
    },
    {
      "cell_type": "markdown",
      "id": "b2301672",
      "metadata": {
        "id": "b2301672"
      },
      "source": [
        "#### Enteros: \n",
        "Son variables que guardan números enteros.\n"
      ]
    },
    {
      "cell_type": "markdown",
      "id": "b3e9d075",
      "metadata": {
        "id": "b3e9d075"
      },
      "source": [
        "### Float: \n",
        "Números decimales"
      ]
    },
    {
      "cell_type": "markdown",
      "id": "a94e472e",
      "metadata": {
        "id": "a94e472e"
      },
      "source": [
        "  Especificador | Salida mostrada \n",
        " -------|-------\n",
        "d ó i| Entero con signo \n",
        "u| Entero sin signo \n",
        "f| Décimal de punto flotante \n",
        "e| Notación científica \n",
        "g| Representación corta \n",
        "c| Caracter\n",
        "s| Cadena de caracteres"
      ]
    },
    {
      "cell_type": "code",
      "source": [
        "y = 1/3\n",
        "print(type(y))\n",
        "#print(\"Esta es una aproximación del número real 1/3:\",y)\n",
        "#print(\"Esta es una aproximación del númerro real 1/3:\",f'{y:.5}) # para decimales\n",
        "#print(\"Esta es una aproximación del nu´mero real 1/3: %.3f\"%y) # para decimales"
      ],
      "metadata": {
        "colab": {
          "base_uri": "https://localhost:8080/"
        },
        "id": "f1tEHAgqB0L_",
        "outputId": "64599b60-eb3c-4d91-be8f-f92a2c701526"
      },
      "id": "f1tEHAgqB0L_",
      "execution_count": null,
      "outputs": [
        {
          "output_type": "stream",
          "name": "stdout",
          "text": [
            "<class 'float'>\n"
          ]
        }
      ]
    },
    {
      "cell_type": "code",
      "source": [
        "print(\"Esta es una aproximación del nu´mero real 1/3: %.10e\"%y) #flotante multiplicado por la potencia especificada de 10"
      ],
      "metadata": {
        "colab": {
          "base_uri": "https://localhost:8080/"
        },
        "id": "RiB-Xk-WB5N4",
        "outputId": "d1c945d0-1b43-48b1-8d8b-6715ebdbb2fa"
      },
      "id": "RiB-Xk-WB5N4",
      "execution_count": null,
      "outputs": [
        {
          "output_type": "stream",
          "name": "stdout",
          "text": [
            "Esta es una aproximación del nu´mero real 1/3: 3.3333333333e-01\n"
          ]
        }
      ]
    },
    {
      "cell_type": "code",
      "source": [
        "w = 10/3 \n",
        "print(\"Esta es una aproximación del número reaL 10/3: %.2d\"%w)"
      ],
      "metadata": {
        "colab": {
          "base_uri": "https://localhost:8080/"
        },
        "id": "Cor8HrzyCOFr",
        "outputId": "99e98a2f-6f3b-48cf-c18d-8982570fa3ec"
      },
      "id": "Cor8HrzyCOFr",
      "execution_count": null,
      "outputs": [
        {
          "output_type": "stream",
          "name": "stdout",
          "text": [
            "Esta es una aproximación del número reaL 10/3: 03\n"
          ]
        }
      ]
    },
    {
      "cell_type": "markdown",
      "id": "e04cfbdb",
      "metadata": {
        "id": "e04cfbdb"
      },
      "source": [
        "### Tipo booleano : \n",
        "Toma los valores de falso o verdadero"
      ]
    },
    {
      "cell_type": "code",
      "source": [
        "t = True\n",
        "# f = False\n",
        "print(t)\n",
        "print(type(t))\n",
        "print(3*t)\n",
        "print(3*f)"
      ],
      "metadata": {
        "colab": {
          "base_uri": "https://localhost:8080/"
        },
        "id": "a7p5-twfEEUl",
        "outputId": "de202ab4-53e3-4666-cc82-5366fd3b5e8e"
      },
      "id": "a7p5-twfEEUl",
      "execution_count": null,
      "outputs": [
        {
          "output_type": "stream",
          "name": "stdout",
          "text": [
            "True\n",
            "<class 'bool'>\n",
            "3\n",
            "0\n"
          ]
        }
      ]
    },
    {
      "cell_type": "markdown",
      "id": "aac8deac",
      "metadata": {
        "id": "aac8deac"
      },
      "source": [
        "### String: Cadenas de caracteres."
      ]
    },
    {
      "cell_type": "code",
      "source": [
        ""
      ],
      "metadata": {
        "id": "fTA-fN2CFLU3"
      },
      "id": "fTA-fN2CFLU3",
      "execution_count": null,
      "outputs": []
    },
    {
      "cell_type": "markdown",
      "id": "bc6f6904",
      "metadata": {
        "id": "bc6f6904"
      },
      "source": [
        "### Listas"
      ]
    },
    {
      "cell_type": "code",
      "source": [
        "familia = [\"Pedro\",\"Marta\"]\n"
      ],
      "metadata": {
        "id": "Y9I0ry69HsCY"
      },
      "id": "Y9I0ry69HsCY",
      "execution_count": null,
      "outputs": []
    },
    {
      "cell_type": "code",
      "source": [
        "len(familia) #LONGITUD DE LA LISTA"
      ],
      "metadata": {
        "colab": {
          "base_uri": "https://localhost:8080/"
        },
        "id": "3J5sDEEiIlQB",
        "outputId": "af77bece-9d36-4d7f-9d6f-41f448bb6bc2"
      },
      "id": "3J5sDEEiIlQB",
      "execution_count": null,
      "outputs": [
        {
          "output_type": "execute_result",
          "data": {
            "text/plain": [
              "2"
            ]
          },
          "metadata": {},
          "execution_count": 28
        }
      ]
    },
    {
      "cell_type": "code",
      "source": [
        "familia.append(\"Ricardo\") # Añade un elemento al final de la lista\n",
        "familia"
      ],
      "metadata": {
        "colab": {
          "base_uri": "https://localhost:8080/"
        },
        "id": "75lV7LPNIrfB",
        "outputId": "d462eeeb-da47-4b14-c073-1c4ec4bbdc6a"
      },
      "id": "75lV7LPNIrfB",
      "execution_count": null,
      "outputs": [
        {
          "output_type": "execute_result",
          "data": {
            "text/plain": [
              "['Pedro', 'Marta', 'Ricardo']"
            ]
          },
          "metadata": {},
          "execution_count": 29
        }
      ]
    },
    {
      "cell_type": "code",
      "source": [
        "familia.extend([\"Sergio\",\"Bibiana\",\"Mauricio\"]) #.extend(): agrega todos los elementos al final\n",
        "familia"
      ],
      "metadata": {
        "colab": {
          "base_uri": "https://localhost:8080/"
        },
        "id": "CyNpfqQgI53z",
        "outputId": "04e29a1c-a152-4cf7-8fee-982f2ee7ec96"
      },
      "id": "CyNpfqQgI53z",
      "execution_count": null,
      "outputs": [
        {
          "output_type": "execute_result",
          "data": {
            "text/plain": [
              "['Pedro', 'Marta', 'Ricardo', 'Sergio', 'Bibiana', 'Mauricio']"
            ]
          },
          "metadata": {},
          "execution_count": 30
        }
      ]
    },
    {
      "cell_type": "code",
      "source": [
        "familia2 = [\"Julio\",\"Lucas\",\"Camila\"]\n",
        "familia2\n",
        "familia2 = familia2+[\"Alberto\"]\n",
        "familia2"
      ],
      "metadata": {
        "colab": {
          "base_uri": "https://localhost:8080/"
        },
        "id": "IeDW6DPALC2A",
        "outputId": "64d7f17d-823c-4252-df82-3f5b0c0efcc6"
      },
      "id": "IeDW6DPALC2A",
      "execution_count": null,
      "outputs": [
        {
          "output_type": "execute_result",
          "data": {
            "text/plain": [
              "['Julio', 'Lucas', 'Camila', 'Alberto']"
            ]
          },
          "metadata": {},
          "execution_count": 35
        }
      ]
    },
    {
      "cell_type": "markdown",
      "source": [
        "Acceder al último elemento de la lista"
      ],
      "metadata": {
        "id": "Hnn-mELxM8-S"
      },
      "id": "Hnn-mELxM8-S"
    },
    {
      "cell_type": "code",
      "source": [
        "familia2[-1]"
      ],
      "metadata": {
        "colab": {
          "base_uri": "https://localhost:8080/",
          "height": 35
        },
        "id": "ARTZbxxoM8GL",
        "outputId": "c7f190dc-1a1b-481f-dfa3-e9eea480ebc8"
      },
      "id": "ARTZbxxoM8GL",
      "execution_count": null,
      "outputs": [
        {
          "output_type": "execute_result",
          "data": {
            "text/plain": [
              "'Alberto'"
            ],
            "application/vnd.google.colaboratory.intrinsic+json": {
              "type": "string"
            }
          },
          "metadata": {},
          "execution_count": 37
        }
      ]
    },
    {
      "cell_type": "markdown",
      "source": [
        "Insertar un elemento en cualquier posicion\n"
      ],
      "metadata": {
        "id": "Qg98WwPONGor"
      },
      "id": "Qg98WwPONGor"
    },
    {
      "cell_type": "code",
      "source": [
        "familia2.insert(2,\"Sarita\")\n",
        "familia2"
      ],
      "metadata": {
        "colab": {
          "base_uri": "https://localhost:8080/"
        },
        "id": "wz8AnzdENLmc",
        "outputId": "0206eeeb-3975-465d-cc41-c78105dffc92"
      },
      "id": "wz8AnzdENLmc",
      "execution_count": null,
      "outputs": [
        {
          "output_type": "execute_result",
          "data": {
            "text/plain": [
              "['Julio', 'Lucas', 'Sarita', 'Sarita', 'Camila', 'Alberto']"
            ]
          },
          "metadata": {},
          "execution_count": 39
        }
      ]
    },
    {
      "cell_type": "code",
      "source": [
        "familia2.insert(3,\"Eduardo\")\n",
        "familia2"
      ],
      "metadata": {
        "colab": {
          "base_uri": "https://localhost:8080/"
        },
        "id": "_j9uf7YoNl7B",
        "outputId": "2dcced34-0606-4fde-f45a-7576b5663e2f"
      },
      "id": "_j9uf7YoNl7B",
      "execution_count": null,
      "outputs": [
        {
          "output_type": "execute_result",
          "data": {
            "text/plain": [
              "['Julio', 'Lucas', 'Sarita', 'Eduardo', 'Sarita', 'Camila', 'Alberto']"
            ]
          },
          "metadata": {},
          "execution_count": 40
        }
      ]
    },
    {
      "cell_type": "code",
      "source": [
        "familia2.insert(7,\"Daniel\")\n",
        "familia2"
      ],
      "metadata": {
        "colab": {
          "base_uri": "https://localhost:8080/"
        },
        "id": "wo6aJSUFNv56",
        "outputId": "ccaa03cf-49a6-474e-ba25-5b7895c1aee3"
      },
      "id": "wo6aJSUFNv56",
      "execution_count": null,
      "outputs": [
        {
          "output_type": "execute_result",
          "data": {
            "text/plain": [
              "['Julio',\n",
              " 'Lucas',\n",
              " 'Sarita',\n",
              " 'Eduardo',\n",
              " 'Sarita',\n",
              " 'Camila',\n",
              " 'Alberto',\n",
              " 'Daniel',\n",
              " 'Daniel']"
            ]
          },
          "metadata": {},
          "execution_count": 42
        }
      ]
    },
    {
      "cell_type": "markdown",
      "source": [
        "Para quitar elementos"
      ],
      "metadata": {
        "id": "n1Im_J4MOfEI"
      },
      "id": "n1Im_J4MOfEI"
    },
    {
      "cell_type": "code",
      "source": [
        "familia2.pop(-1) # para quitar el último pro ejemplo\n",
        "\n",
        "familia2"
      ],
      "metadata": {
        "colab": {
          "base_uri": "https://localhost:8080/"
        },
        "id": "koEzAzbYOd-g",
        "outputId": "6ed6f11d-145a-4224-a0d2-16bd9ea7843c"
      },
      "id": "koEzAzbYOd-g",
      "execution_count": null,
      "outputs": [
        {
          "output_type": "execute_result",
          "data": {
            "text/plain": [
              "['Julio', 'Lucas', 'Sarita', 'Eduardo', 'Sarita', 'Camila', 'Alberto']"
            ]
          },
          "metadata": {},
          "execution_count": 45
        }
      ]
    },
    {
      "cell_type": "markdown",
      "source": [
        "Quitar  elemento con cierto valor"
      ],
      "metadata": {
        "id": "fGNc3GR7O-0G"
      },
      "id": "fGNc3GR7O-0G"
    },
    {
      "cell_type": "code",
      "source": [
        "familia2.remove(\"Camila\") # elimina el primer elemento coincidente\n",
        "familia2"
      ],
      "metadata": {
        "colab": {
          "base_uri": "https://localhost:8080/"
        },
        "id": "Flbs-21UPClF",
        "outputId": "91832c00-4086-4d2a-90d8-3bf5a2166000"
      },
      "id": "Flbs-21UPClF",
      "execution_count": null,
      "outputs": [
        {
          "output_type": "execute_result",
          "data": {
            "text/plain": [
              "['Julio', 'Lucas', 'Sarita', 'Eduardo', 'Sarita', 'Alberto']"
            ]
          },
          "metadata": {},
          "execution_count": 46
        }
      ]
    },
    {
      "cell_type": "code",
      "source": [
        "familia2.append(\"Diego\")\n",
        "familia2"
      ],
      "metadata": {
        "colab": {
          "base_uri": "https://localhost:8080/"
        },
        "id": "P_yC34GcPXUq",
        "outputId": "9b7ba3d0-278e-4b19-9b8a-bf76dd39f9ca"
      },
      "id": "P_yC34GcPXUq",
      "execution_count": null,
      "outputs": [
        {
          "output_type": "execute_result",
          "data": {
            "text/plain": [
              "['Julio', 'Lucas', 'Sarita', 'Eduardo', 'Sarita', 'Alberto', 'Diego']"
            ]
          },
          "metadata": {},
          "execution_count": 47
        }
      ]
    },
    {
      "cell_type": "code",
      "source": [
        "familia2.remove(\"Diego\")\n",
        "familia2"
      ],
      "metadata": {
        "colab": {
          "base_uri": "https://localhost:8080/"
        },
        "id": "B1bTy9IcPpGs",
        "outputId": "f41eead0-1b44-4d80-c4ee-39ad9ee42479"
      },
      "id": "B1bTy9IcPpGs",
      "execution_count": null,
      "outputs": [
        {
          "output_type": "execute_result",
          "data": {
            "text/plain": [
              "['Julio', 'Lucas', 'Sarita', 'Eduardo', 'Sarita', 'Alberto']"
            ]
          },
          "metadata": {},
          "execution_count": 48
        }
      ]
    },
    {
      "cell_type": "markdown",
      "source": [
        "verificar un elemento que está en la lista"
      ],
      "metadata": {
        "id": "NelD1Ct4Ptw9"
      },
      "id": "NelD1Ct4Ptw9"
    },
    {
      "cell_type": "code",
      "source": [
        "\"Eduardo\" in familia2"
      ],
      "metadata": {
        "colab": {
          "base_uri": "https://localhost:8080/"
        },
        "id": "cDWrZyf6PwZt",
        "outputId": "cf30748d-3477-4a2c-b2de-65d13800ba6a"
      },
      "id": "cDWrZyf6PwZt",
      "execution_count": null,
      "outputs": [
        {
          "output_type": "execute_result",
          "data": {
            "text/plain": [
              "True"
            ]
          },
          "metadata": {},
          "execution_count": 51
        }
      ]
    },
    {
      "cell_type": "markdown",
      "source": [
        "Ordenar lsitas en manera ascendentes"
      ],
      "metadata": {
        "id": "8bEhygs3QrPF"
      },
      "id": "8bEhygs3QrPF"
    },
    {
      "cell_type": "code",
      "source": [
        "#esto se hace con la función : \n",
        "familia2.sort()\n",
        "familia2"
      ],
      "metadata": {
        "colab": {
          "base_uri": "https://localhost:8080/"
        },
        "id": "R4SZITCDQuM-",
        "outputId": "806ae28a-05c3-4282-e927-df52a30aa419"
      },
      "id": "R4SZITCDQuM-",
      "execution_count": null,
      "outputs": [
        {
          "output_type": "execute_result",
          "data": {
            "text/plain": [
              "['Alberto', 'Eduardo', 'Julio', 'Lucas', 'Sarita', 'Sarita']"
            ]
          },
          "metadata": {},
          "execution_count": 53
        }
      ]
    },
    {
      "cell_type": "markdown",
      "source": [
        "Organizar de forma descendente:"
      ],
      "metadata": {
        "id": "bBHhf1t_RM2r"
      },
      "id": "bBHhf1t_RM2r"
    },
    {
      "cell_type": "code",
      "source": [
        "familia2.reverse()\n",
        "familia2"
      ],
      "metadata": {
        "colab": {
          "base_uri": "https://localhost:8080/"
        },
        "id": "HpYF05I8RO_b",
        "outputId": "1753d7c8-a260-43fb-f92a-94ac57ec2289"
      },
      "id": "HpYF05I8RO_b",
      "execution_count": null,
      "outputs": [
        {
          "output_type": "execute_result",
          "data": {
            "text/plain": [
              "['Sarita', 'Sarita', 'Lucas', 'Julio', 'Eduardo', 'Alberto']"
            ]
          },
          "metadata": {},
          "execution_count": 54
        }
      ]
    },
    {
      "cell_type": "markdown",
      "source": [
        "Ordenar por cantidad de caracteres"
      ],
      "metadata": {
        "id": "iuHZegk8Rd_P"
      },
      "id": "iuHZegk8Rd_P"
    },
    {
      "cell_type": "code",
      "source": [
        "#eso se hace con sort pero con algunos argumentos\n",
        "familia2.sort(key = len,reverse = True)\n",
        "familia2\n",
        "#lo organiza pro número de caracteres"
      ],
      "metadata": {
        "colab": {
          "base_uri": "https://localhost:8080/"
        },
        "id": "ge73Ku1IRoF_",
        "outputId": "76853959-9016-4b0f-97a2-30af4fcfaacd"
      },
      "id": "ge73Ku1IRoF_",
      "execution_count": null,
      "outputs": [
        {
          "output_type": "execute_result",
          "data": {
            "text/plain": [
              "['Eduardo', 'Alberto', 'Sarita', 'Sarita', 'Lucas', 'Julio']"
            ]
          },
          "metadata": {},
          "execution_count": 55
        }
      ]
    },
    {
      "cell_type": "markdown",
      "source": [
        "Para numerar listas:"
      ],
      "metadata": {
        "id": "9cw5JWUuSOuU"
      },
      "id": "9cw5JWUuSOuU"
    },
    {
      "cell_type": "code",
      "source": [
        "list(enumerate(familia2)) "
      ],
      "metadata": {
        "colab": {
          "base_uri": "https://localhost:8080/"
        },
        "id": "zXsRH1KRSQeV",
        "outputId": "93e4e2d1-f0e2-4ce0-cfb1-3d7bbe2896f3"
      },
      "id": "zXsRH1KRSQeV",
      "execution_count": null,
      "outputs": [
        {
          "output_type": "execute_result",
          "data": {
            "text/plain": [
              "[(0, 'Eduardo'),\n",
              " (1, 'Alberto'),\n",
              " (2, 'Sarita'),\n",
              " (3, 'Sarita'),\n",
              " (4, 'Lucas'),\n",
              " (5, 'Julio')]"
            ]
          },
          "metadata": {},
          "execution_count": 56
        }
      ]
    },
    {
      "cell_type": "markdown",
      "source": [
        "Emparejar listas"
      ],
      "metadata": {
        "id": "Ta0tpkDJSsET"
      },
      "id": "Ta0tpkDJSsET"
    },
    {
      "cell_type": "code",
      "source": [
        "nombres=[\"a\",\"b\",\"c\"]\n",
        "apellidos=[\"d\",\"e\",\"f\"]\n",
        "zip(nombres,apellidos)\n",
        "nombres_apellidos = zip(nombres,apellidos)\n",
        "list(nombres_apellidos)\n",
        "#el emparejamiento de lista es con zip"
      ],
      "metadata": {
        "colab": {
          "base_uri": "https://localhost:8080/"
        },
        "id": "pgkGVR9hS7NL",
        "outputId": "bea34907-a002-44af-89e8-5911b7f2f64b"
      },
      "id": "pgkGVR9hS7NL",
      "execution_count": null,
      "outputs": [
        {
          "output_type": "execute_result",
          "data": {
            "text/plain": [
              "[('a', 'd'), ('b', 'e'), ('c', 'f')]"
            ]
          },
          "metadata": {},
          "execution_count": 60
        }
      ]
    },
    {
      "cell_type": "markdown",
      "source": [
        "Desempaquetar una lista:"
      ],
      "metadata": {
        "id": "vpgUaZrdT2Ej"
      },
      "id": "vpgUaZrdT2Ej"
    },
    {
      "cell_type": "code",
      "source": [
        "numeros = [1,2,3]\n",
        "a,b,c = numeros\n",
        "print(a)\n",
        "print(b)\n",
        "print(c)\n",
        "#Ojo: debe tener el mismo tamaño la lista"
      ],
      "metadata": {
        "colab": {
          "base_uri": "https://localhost:8080/"
        },
        "id": "UEYvt-PFT4RG",
        "outputId": "fb11b2fd-a80d-4ddd-d1de-dd8cbc1e65a1"
      },
      "id": "UEYvt-PFT4RG",
      "execution_count": null,
      "outputs": [
        {
          "output_type": "stream",
          "name": "stdout",
          "text": [
            "1\n",
            "2\n",
            "3\n"
          ]
        }
      ]
    },
    {
      "cell_type": "markdown",
      "source": [
        "la lista con rango de número"
      ],
      "metadata": {
        "id": "ccEtaXShUoXr"
      },
      "id": "ccEtaXShUoXr"
    },
    {
      "cell_type": "code",
      "source": [
        "##a veces uno necesita una numeración en un dataframe proque no esta, lo que podemos hacer es:\n",
        "#range\n",
        "print(range(30))\n",
        "print(list(range(30)))"
      ],
      "metadata": {
        "colab": {
          "base_uri": "https://localhost:8080/"
        },
        "id": "03Fe-7L2Uqex",
        "outputId": "1d26bc37-de2f-4155-eb4c-c60b54b93202"
      },
      "id": "03Fe-7L2Uqex",
      "execution_count": null,
      "outputs": [
        {
          "output_type": "stream",
          "name": "stdout",
          "text": [
            "range(0, 30)\n",
            "[0, 1, 2, 3, 4, 5, 6, 7, 8, 9, 10, 11, 12, 13, 14, 15, 16, 17, 18, 19, 20, 21, 22, 23, 24, 25, 26, 27, 28, 29]\n"
          ]
        }
      ]
    },
    {
      "cell_type": "markdown",
      "source": [
        "Tuplas: son secuencias de longitud fija y no son mutables"
      ],
      "metadata": {
        "id": "abmYzzyIVJOx"
      },
      "id": "abmYzzyIVJOx"
    },
    {
      "cell_type": "code",
      "source": [
        "tupla = (\"lavadora\",\"tv\", \"radio\", \"desktop\")\n",
        "#apra acceder a las tuplas\n",
        "tupla[1]"
      ],
      "metadata": {
        "colab": {
          "base_uri": "https://localhost:8080/",
          "height": 35
        },
        "id": "_Uk2GGgaVN3_",
        "outputId": "bc5431fa-e712-4055-f2b1-94d52b2185e9"
      },
      "id": "_Uk2GGgaVN3_",
      "execution_count": null,
      "outputs": [
        {
          "output_type": "execute_result",
          "data": {
            "text/plain": [
              "'tv'"
            ],
            "application/vnd.google.colaboratory.intrinsic+json": {
              "type": "string"
            }
          },
          "metadata": {},
          "execution_count": 71
        }
      ]
    },
    {
      "cell_type": "markdown",
      "id": "1023dbb1",
      "metadata": {
        "id": "1023dbb1"
      },
      "source": [
        "Secuencias de longitud variable. Son mutables ya que los elementos que las conforman pueden modificarse."
      ]
    },
    {
      "cell_type": "markdown",
      "source": [
        "Fechas"
      ],
      "metadata": {
        "id": "7MDjILr3WVB1"
      },
      "id": "7MDjILr3WVB1"
    },
    {
      "cell_type": "code",
      "source": [
        "# uno las puede trabajar como cadenas \n",
        "hoy = \"2022-08-02\"\n",
        "ayer = \"2022-08-01\"\n",
        "type(hoy)\n",
        "type(ayer)"
      ],
      "metadata": {
        "colab": {
          "base_uri": "https://localhost:8080/"
        },
        "id": "26JqyLY2WUM8",
        "outputId": "dc3f4e72-b788-40ba-ff8b-d7bea9ac4e8c"
      },
      "id": "26JqyLY2WUM8",
      "execution_count": null,
      "outputs": [
        {
          "output_type": "execute_result",
          "data": {
            "text/plain": [
              "str"
            ]
          },
          "metadata": {},
          "execution_count": 76
        }
      ]
    },
    {
      "cell_type": "markdown",
      "source": [
        "Para el manejo de fechas"
      ],
      "metadata": {
        "id": "wotN_JqnXUNF"
      },
      "id": "wotN_JqnXUNF"
    },
    {
      "cell_type": "code",
      "source": [
        "from datetime import time, datetime, date, timedelta\n",
        "hoy = datetime.strptime(\"2022-08-02\",\"%Y-%m-%d\")\n",
        "# se creo un elemento de fecha\n",
        "#crea el objeto de fecha y hora a partir de la cadena dada\n",
        "hoy"
      ],
      "metadata": {
        "colab": {
          "base_uri": "https://localhost:8080/"
        },
        "id": "-7V07whHXWwu",
        "outputId": "6abcc1ad-3165-4f00-db75-0e959ecce946"
      },
      "id": "-7V07whHXWwu",
      "execution_count": null,
      "outputs": [
        {
          "output_type": "execute_result",
          "data": {
            "text/plain": [
              "datetime.datetime(2022, 8, 2, 0, 0)"
            ]
          },
          "metadata": {},
          "execution_count": 82
        }
      ]
    },
    {
      "cell_type": "code",
      "source": [
        "type(hoy)"
      ],
      "metadata": {
        "colab": {
          "base_uri": "https://localhost:8080/"
        },
        "id": "638QnKwiXdf4",
        "outputId": "d3e2c249-47b4-4e3b-ddee-0158c09f57a9"
      },
      "id": "638QnKwiXdf4",
      "execution_count": null,
      "outputs": [
        {
          "output_type": "execute_result",
          "data": {
            "text/plain": [
              "datetime.datetime"
            ]
          },
          "metadata": {},
          "execution_count": 83
        }
      ]
    },
    {
      "cell_type": "markdown",
      "metadata": {
        "id": "cfded963"
      },
      "source": [
        "# Diccionarios"
      ],
      "id": "cfded963"
    },
    {
      "cell_type": "markdown",
      "metadata": {
        "id": "00c9d427"
      },
      "source": [
        "Un diccionario es un objeto que almacena una clave y un valor. Se accede a sus elementos a través de su valor."
      ],
      "id": "00c9d427"
    },
    {
      "cell_type": "code",
      "source": [
        "diccionario1 = {\"Jose\":30,\"Eva\":18,\"Ricardo\":37} # creación de diccionarios\n",
        "diccionario1 # lo organiza de menor a mayor por edades, las claves son los nombres y los valroes son la edad, en este caso\n",
        "#NOTA: SON LSITAS EN PARES  y uno puede acceder las claves y los valores"
      ],
      "metadata": {
        "colab": {
          "base_uri": "https://localhost:8080/"
        },
        "id": "Se2e-DArak9E",
        "outputId": "592257f0-164c-4a41-9322-9400b65bf1c8"
      },
      "id": "Se2e-DArak9E",
      "execution_count": null,
      "outputs": [
        {
          "output_type": "execute_result",
          "data": {
            "text/plain": [
              "{'Eva': 18, 'Jose': 30, 'Ricardo': 37}"
            ]
          },
          "metadata": {},
          "execution_count": 2
        }
      ]
    },
    {
      "cell_type": "code",
      "source": [
        "#Como acceder a las claves:\n",
        "diccionario1.keys()"
      ],
      "metadata": {
        "id": "JkQA4vtbakt5",
        "colab": {
          "base_uri": "https://localhost:8080/"
        },
        "outputId": "92cc1919-3f8d-4134-db10-f8be2c0539e5"
      },
      "id": "JkQA4vtbakt5",
      "execution_count": null,
      "outputs": [
        {
          "output_type": "execute_result",
          "data": {
            "text/plain": [
              "dict_keys(['Jose', 'Eva', 'Ricardo'])"
            ]
          },
          "metadata": {},
          "execution_count": 4
        }
      ]
    },
    {
      "cell_type": "code",
      "source": [
        "# como acceder a los valores del diccionario\n",
        "diccionario1.values()"
      ],
      "metadata": {
        "colab": {
          "base_uri": "https://localhost:8080/"
        },
        "id": "hgB1QOZOXdQ8",
        "outputId": "8630387f-7cb1-4209-bd8a-b69677356462"
      },
      "id": "hgB1QOZOXdQ8",
      "execution_count": null,
      "outputs": [
        {
          "output_type": "execute_result",
          "data": {
            "text/plain": [
              "dict_values([30, 18, 37])"
            ]
          },
          "metadata": {},
          "execution_count": 6
        }
      ]
    },
    {
      "cell_type": "markdown",
      "metadata": {
        "id": "9504a658"
      },
      "source": [
        "#### Elementos del diccionario"
      ],
      "id": "9504a658"
    },
    {
      "cell_type": "markdown",
      "metadata": {
        "id": "86150ee9"
      },
      "source": [
        "#### Claves del diccionario"
      ],
      "id": "86150ee9"
    },
    {
      "cell_type": "markdown",
      "metadata": {
        "id": "3e1dc88b"
      },
      "source": [
        "#### Valores del diccionario"
      ],
      "id": "3e1dc88b"
    },
    {
      "cell_type": "markdown",
      "metadata": {
        "id": "6d588721"
      },
      "source": [
        "#### Acceso a los elementos a través de claves"
      ],
      "id": "6d588721"
    },
    {
      "cell_type": "markdown",
      "metadata": {
        "id": "e26a05c7"
      },
      "source": [
        "#### Agregar nuevos elementos al diccionario"
      ],
      "id": "e26a05c7"
    },
    {
      "cell_type": "markdown",
      "metadata": {
        "id": "64eba404"
      },
      "source": [
        "#### Unir diccionarios"
      ],
      "id": "64eba404"
    },
    {
      "cell_type": "markdown",
      "metadata": {
        "id": "c71846af"
      },
      "source": [
        "#### Eliminar elementos del diccionario"
      ],
      "id": "c71846af"
    },
    {
      "cell_type": "code",
      "source": [
        "# escribir los nombre y concatenar los , celular y direccion, # elk ciudadano con cédula tal tiene ..."
      ],
      "metadata": {
        "id": "O_0Ity77z_w0"
      },
      "id": "O_0Ity77z_w0",
      "execution_count": null,
      "outputs": []
    }
  ],
  "metadata": {
    "kernelspec": {
      "display_name": "Python 3 (ipykernel)",
      "language": "python",
      "name": "python3"
    },
    "language_info": {
      "codemirror_mode": {
        "name": "ipython",
        "version": 3
      },
      "file_extension": ".py",
      "mimetype": "text/x-python",
      "name": "python",
      "nbconvert_exporter": "python",
      "pygments_lexer": "ipython3",
      "version": "3.9.7"
    },
    "colab": {
      "name": "1. Guía_Primera_clase_python.ipynb",
      "provenance": [],
      "collapsed_sections": [
        "818e81fc",
        "3bdf7aa3",
        "e0d40e85",
        "889b48c6",
        "2c914687",
        "08fa5c82",
        "1aa68628",
        "b2301672",
        "9504a658",
        "86150ee9",
        "3e1dc88b",
        "6d588721",
        "e26a05c7",
        "64eba404",
        "c71846af"
      ],
      "include_colab_link": true
    }
  },
  "nbformat": 4,
  "nbformat_minor": 5
}