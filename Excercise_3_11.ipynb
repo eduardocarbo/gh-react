{
  "nbformat": 4,
  "nbformat_minor": 0,
  "metadata": {
    "colab": {
      "name": "Excercise 3.11.ipynb",
      "provenance": [],
      "authorship_tag": "ABX9TyOzegKekQIopkPP/mff5owt",
      "include_colab_link": true
    },
    "kernelspec": {
      "name": "python3",
      "display_name": "Python 3"
    },
    "language_info": {
      "name": "python"
    }
  },
  "cells": [
    {
      "cell_type": "markdown",
      "metadata": {
        "id": "view-in-github",
        "colab_type": "text"
      },
      "source": [
        "<a href=\"https://colab.research.google.com/github/eduardocarbo/gh-react/blob/main/Excercise_3_11.ipynb\" target=\"_parent\"><img src=\"https://colab.research.google.com/assets/colab-badge.svg\" alt=\"Open In Colab\"/></a>"
      ]
    },
    {
      "cell_type": "code",
      "source": [
        "import math as mt"
      ],
      "metadata": {
        "id": "DLWa1G4P-ps2"
      },
      "execution_count": null,
      "outputs": []
    },
    {
      "cell_type": "code",
      "execution_count": null,
      "metadata": {
        "colab": {
          "base_uri": "https://localhost:8080/"
        },
        "id": "oO46NUWR950f",
        "outputId": "fae01f06-41a2-4430-8550-619c451873b4"
      },
      "outputs": [
        {
          "output_type": "stream",
          "name": "stdout",
          "text": [
            "Por favor digite un número: 2.57\n",
            "El número que usted digitó no es un número entero :\n",
            "2\n",
            "End Program\n"
          ]
        }
      ],
      "source": [
        "numero = float(input(\"Por favor digite un número: \")) #INPUT DATA ,TYPE CHAR\n",
        "\n",
        "\n",
        "if numero % 2 == 0:\n",
        "  print(\"El número que usted digitó si es un entero\")\n",
        "  numero\n",
        "\n",
        "\n",
        "elif numero % 2 != 0:\n",
        "  print(\"El número que usted digitó no es un número entero :\")\n",
        "  print (mt.floor(numero))\n",
        "\n",
        "print(\"End Program\")"
      ]
    }
  ]
}