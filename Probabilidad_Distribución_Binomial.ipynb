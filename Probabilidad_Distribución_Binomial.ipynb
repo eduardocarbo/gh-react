{
  "nbformat": 4,
  "nbformat_minor": 0,
  "metadata": {
    "colab": {
      "provenance": [],
      "collapsed_sections": [],
      "authorship_tag": "ABX9TyP5liLob0FQFwjnC0kvwRNU",
      "include_colab_link": true
    },
    "kernelspec": {
      "name": "python3",
      "display_name": "Python 3"
    },
    "language_info": {
      "name": "python"
    }
  },
  "cells": [
    {
      "cell_type": "markdown",
      "metadata": {
        "id": "view-in-github",
        "colab_type": "text"
      },
      "source": [
        "<a href=\"https://colab.research.google.com/github/eduardocarbo/gh-react/blob/main/Probabilidad_Distribuci%C3%B3n_Binomial.ipynb\" target=\"_parent\"><img src=\"https://colab.research.google.com/assets/colab-badge.svg\" alt=\"Open In Colab\"/></a>"
      ]
    },
    {
      "cell_type": "markdown",
      "source": [
        "##Sequencias de eventos tipo Bernoulli\n",
        "\n"
      ],
      "metadata": {
        "id": "iqd8oWB-Jo4F"
      }
    },
    {
      "cell_type": "code",
      "source": [
        "import numpy as np\n",
        "from numpy.random import binomial\n",
        "from scipy.stats import binom\n",
        "from math import factorial\n",
        "import matplotlib.pyplot as plt"
      ],
      "metadata": {
        "id": "MrJ-cWjtKFmM"
      },
      "execution_count": 2,
      "outputs": []
    },
    {
      "cell_type": "code",
      "source": [
        "def my_binomial(k, n, p):\n",
        "  return factorial (n)/(factorial(k)*factorial(n-k))*pow(p,k)*pow(1-p,n-k)"
      ],
      "metadata": {
        "id": "9ZzIBb55KVmK"
      },
      "execution_count": 3,
      "outputs": []
    },
    {
      "cell_type": "code",
      "source": [
        "my_binomial(2,3,0.5)"
      ],
      "metadata": {
        "colab": {
          "base_uri": "https://localhost:8080/"
        },
        "id": "GmyNyXx6MGfo",
        "outputId": "2d94f8db-9d79-482f-c057-301b5624e54e"
      },
      "execution_count": 4,
      "outputs": [
        {
          "output_type": "execute_result",
          "data": {
            "text/plain": [
              "0.375"
            ]
          },
          "metadata": {},
          "execution_count": 4
        }
      ]
    },
    {
      "cell_type": "code",
      "source": [
        "#para tener presente \n",
        "\n",
        "dist = binom(3,0.5)\n",
        "dist.pmf(2)"
      ],
      "metadata": {
        "colab": {
          "base_uri": "https://localhost:8080/"
        },
        "id": "m4sCGEtKPH6A",
        "outputId": "90b06733-dbaf-4fdf-83cf-8e7f145c0570"
      },
      "execution_count": 5,
      "outputs": [
        {
          "output_type": "execute_result",
          "data": {
            "text/plain": [
              "0.3750000000000001"
            ]
          },
          "metadata": {},
          "execution_count": 5
        }
      ]
    },
    {
      "cell_type": "markdown",
      "source": [
        "## Función de Densidad acumulada\n"
      ],
      "metadata": {
        "id": "dMXitJoLPAWe"
      }
    },
    {
      "cell_type": "code",
      "source": [
        "dist.cdf(2)"
      ],
      "metadata": {
        "colab": {
          "base_uri": "https://localhost:8080/"
        },
        "id": "mQQsbHwxNQqg",
        "outputId": "ad4d5349-6559-472f-b5fa-bf823c943117"
      },
      "execution_count": 6,
      "outputs": [
        {
          "output_type": "execute_result",
          "data": {
            "text/plain": [
              "0.875"
            ]
          },
          "metadata": {},
          "execution_count": 6
        }
      ]
    },
    {
      "cell_type": "markdown",
      "source": [
        "##Generadores aleatorios\n"
      ],
      "metadata": {
        "id": "1rZNs2SPPam3"
      }
    },
    {
      "cell_type": "code",
      "source": [
        "p = 0.5\n",
        "n = 3\n",
        "binomial(n, p)"
      ],
      "metadata": {
        "colab": {
          "base_uri": "https://localhost:8080/"
        },
        "id": "1EbcHJWkQAo_",
        "outputId": "07c3aca0-c365-40e4-ca95-da336010a3d6"
      },
      "execution_count": 13,
      "outputs": [
        {
          "output_type": "execute_result",
          "data": {
            "text/plain": [
              "2"
            ]
          },
          "metadata": {},
          "execution_count": 13
        }
      ]
    },
    {
      "cell_type": "code",
      "source": [
        "arr = []\n",
        "for _ in range(100):\n",
        "  arr.append(binomial(n, p))"
      ],
      "metadata": {
        "id": "bF03lDLxQDuo"
      },
      "execution_count": 15,
      "outputs": []
    },
    {
      "cell_type": "code",
      "source": [
        "def plot_hist(num_trials):\n",
        "  values = [0,1,2,3]\n",
        "  arr = []\n",
        "  for _ in range(num_trials):\n",
        "    arr.append(binomial(n, p))\n",
        "  sim = np.unique(arr, return_counts = True)[1]/len(arr)\n",
        "  teorica = [binom(3, 0.5).pmf(k) for k in values]\n",
        "  plt.bar(values,sim, color= 'red')\n",
        "  plt.bar(values, teorica, alpha = 0.5, color ='blue')\n",
        "  plt.title('{} experimentos'.format(num_trials))\n",
        "  plt.show()\n",
        "\n",
        "plot_hist(20)\n",
        "plot_hist(200)\n",
        "plot_hist(500)"
      ],
      "metadata": {
        "colab": {
          "base_uri": "https://localhost:8080/",
          "height": 809
        },
        "id": "xP1DmQCFQT7Y",
        "outputId": "17970c9a-9074-4bbf-b387-2b72e6b36d34"
      },
      "execution_count": 27,
      "outputs": [
        {
          "output_type": "display_data",
          "data": {
            "text/plain": [
              "<Figure size 432x288 with 1 Axes>"
            ],
            "image/png": "[encoded data removed]"
          },
          "metadata": {
            "needs_background": "light"
          }
        },
        {
          "output_type": "display_data",
          "data": {
            "text/plain": [
              "<Figure size 432x288 with 1 Axes>"
            ],
            "image/png": "[encoded data removed]"
          },
          "metadata": {
            "needs_background": "light"
          }
        },
        {
          "output_type": "display_data",
          "data": {
            "text/plain": [
              "<Figure size 432x288 with 1 Axes>"
            ],
            "image/png": "[encoded data removed]"
          },
          "metadata": {
            "needs_background": "light"
          }
        }
      ]
    },
    {
      "cell_type": "code",
      "source": [
        "np.unique(arr, return_counts = True)[1]/len(arr)"
      ],
      "metadata": {
        "colab": {
          "base_uri": "https://localhost:8080/"
        },
        "id": "zo_4kgwWQpm_",
        "outputId": "beaccfce-6bb8-48d9-a377-10c28ab17fe9"
      },
      "execution_count": 20,
      "outputs": [
        {
          "output_type": "execute_result",
          "data": {
            "text/plain": [
              "array([0.13, 0.34, 0.33, 0.2 ])"
            ]
          },
          "metadata": {},
          "execution_count": 20
        }
      ]
    }
  ]
}