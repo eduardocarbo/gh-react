{
  "nbformat": 4,
  "nbformat_minor": 0,
  "metadata": {
    "colab": {
      "name": "Copia de Modulo5__INFERENCIA ESTADISTICA_EAN.ipynb",
      "provenance": [],
      "include_colab_link": true
    },
    "kernelspec": {
      "name": "python3",
      "display_name": "Python 3"
    },
    "language_info": {
      "name": "python"
    }
  },
  "cells": [
    {
      "cell_type": "markdown",
      "metadata": {
        "id": "view-in-github",
        "colab_type": "text"
      },
      "source": [
        "<a href=\"https://colab.research.google.com/github/eduardocarbo/gh-react/blob/main/Copia_de_Modulo5__INFERENCIA_ESTADISTICA_EAN.ipynb\" target=\"_parent\"><img src=\"https://colab.research.google.com/assets/colab-badge.svg\" alt=\"Open In Colab\"/></a>"
      ]
    },
    {
      "cell_type": "markdown",
      "source": [
        "#Intervalos de confianza\n",
        "\n",
        "##Glosario\n",
        "**Estimación por intervalo:**Estimación de un parámetro poblacional que suministra un intervalo que se cree contiene el valor del parámetro. Tienen la forma: estimación puntual±margen de error \n",
        "\n",
        "**Margen de error:** Valor que se resta y se suma a la estimación puntual con objeto de obtener un\n",
        "intervalo de estimación para el parámetro poblacional.\n",
        "**Nivel de confianza:** Confianza correspondiente a la estimación por intervalo. Si un\n",
        "procedimiento para obtener una estimación por intervalo proporciona intervalos tales que, 95%\n",
        "de ellos contendrán al parámetro poblacional, se dice que esa estimación por intervalo tiene un\n",
        "nivel de confianza de 95%\n",
        "* Los intervalos de confianza siempre tienen un nivel de confianza. Los usuales son del 90%, 95%, o 99%\n",
        "\n",
        "**Puntos finales del intervalo:** Parte superior e inferior del intervalo de confianza. \n",
        "\n",
        "\n",
        "\n",
        "\n",
        "\n",
        "\n",
        "\n",
        "\n",
        "\n",
        "\n",
        "\n",
        "\n"
      ],
      "metadata": {
        "id": "3abwIumld9gO"
      }
    },
    {
      "cell_type": "markdown",
      "source": [
        "### Intervalo de confianza para la media (caso σ conocida)"
      ],
      "metadata": {
        "id": "v-OjZezWmQyi"
      }
    },
    {
      "cell_type": "markdown",
      "source": [
        "**Problema 1: (Ejercicios 1 a 4)** Nielsen Media Research llevó a cabo un estudio para saber cuánto tiempo se veía televisión en los hogares, en el horario de 8:00 a 11:00 de la noche. Los datos que se encuentran en el archivo Nielsen son consistentes con los hallazgos reportados (The World Almanac, 2003). Con base en estudios anteriores, la desviación estándar poblacional se considera conocida y es σ=3.5 horas. Dé una estimación mediante un intervalo de confianza de 95% para la media\n",
        "del tiempo que se ve televisión por semana en el horario de 8:00 a 11:00 de la noche."
      ],
      "metadata": {
        "id": "USgGmG8-ZDG4"
      }
    },
    {
      "cell_type": "markdown",
      "source": [
        "Ejercicio 1: Cargue el archivo Nielsen.csv"
      ],
      "metadata": {
        "id": "E8NBqyTJTpA3"
      }
    },
    {
      "cell_type": "code",
      "source": [
        "from google.colab import files\n",
        "uploaded=files.upload()"
      ],
      "metadata": {
        "colab": {
          "resources": {
            "http://localhost:8080/nbextensions/google.colab/files.js": {
              "data": "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",
              "ok": true,
              "headers": [
                [
                  "content-type",
                  "application/javascript"
                ]
              ],
              "status": 200,
              "status_text": ""
            }
          },
          "base_uri": "https://localhost:8080/",
          "height": 74
        },
        "id": "cVh3yYf8q28U",
        "outputId": "17d55563-10d2-469c-9be8-e7bdbcfd5677"
      },
      "execution_count": 1,
      "outputs": [
        {
          "output_type": "display_data",
          "data": {
            "text/plain": [
              "<IPython.core.display.HTML object>"
            ],
            "text/html": [
              "\n",
              "     <input type=\"file\" id=\"files-8cdd95c4-9be4-4dcf-b3fb-d3a064284912\" name=\"files[]\" multiple disabled\n",
              "        style=\"border:none\" />\n",
              "     <output id=\"result-8cdd95c4-9be4-4dcf-b3fb-d3a064284912\">\n",
              "      Upload widget is only available when the cell has been executed in the\n",
              "      current browser session. Please rerun this cell to enable.\n",
              "      </output>\n",
              "      <script src=\"/nbextensions/google.colab/files.js\"></script> "
            ]
          },
          "metadata": {}
        },
        {
          "output_type": "stream",
          "name": "stdout",
          "text": [
            "Saving Nielsen.csv to Nielsen.csv\n"
          ]
        }
      ]
    },
    {
      "cell_type": "markdown",
      "source": [
        "Ejercicio 2:\n",
        "(i) Importe la librería pandas con el alias pd. Nombre como df al dataset, use la función read_csv del paquete pandas. \n",
        "(ii) Importe el modulo scipy.stats con el alias st. Revise brevemente la documentación en https://docs.scipy.org/doc/scipy/reference/stats.html\n",
        "(iii)Explore el dataframe usando el método .head()\n",
        "(iv) Explore el dataframe usando el método .head()"
      ],
      "metadata": {
        "id": "zkyLXTUcYeRI"
      }
    },
    {
      "cell_type": "code",
      "source": [
        "import pandas as pd\n",
        "import numpy as np\n",
        "import scipy.stats as st\n",
        "df=pd.read_csv(\"Nielsen.csv\")\n",
        "df.head(5)\n",
        "#La interpretaciòn del resultado es: pro ejemplo 9 son las horas semanales de televisiòn en un horari oespecìfico.(8:00 p.m a 11:00 p.m)"
      ],
      "metadata": {
        "colab": {
          "base_uri": "https://localhost:8080/",
          "height": 206
        },
        "id": "jeclvG61rYBl",
        "outputId": "a8f163b0-adfc-413f-8a84-2c4a048a546e"
      },
      "execution_count": 3,
      "outputs": [
        {
          "output_type": "execute_result",
          "data": {
            "text/plain": [
              "   Hours\n",
              "0      6\n",
              "1      4\n",
              "2      9\n",
              "3      8\n",
              "4     19"
            ],
            "text/html": [
              "\n",
              "  <div id=\"df-b65dee71-4afd-4758-b3c3-e6b9424f7f96\">\n",
              "    <div class=\"colab-df-container\">\n",
              "      <div>\n",
              "<style scoped>\n",
              "    .dataframe tbody tr th:only-of-type {\n",
              "        vertical-align: middle;\n",
              "    }\n",
              "\n",
              "    .dataframe tbody tr th {\n",
              "        vertical-align: top;\n",
              "    }\n",
              "\n",
              "    .dataframe thead th {\n",
              "        text-align: right;\n",
              "    }\n",
              "</style>\n",
              "<table border=\"1\" class=\"dataframe\">\n",
              "  <thead>\n",
              "    <tr style=\"text-align: right;\">\n",
              "      <th></th>\n",
              "      <th>Hours</th>\n",
              "    </tr>\n",
              "  </thead>\n",
              "  <tbody>\n",
              "    <tr>\n",
              "      <th>0</th>\n",
              "      <td>6</td>\n",
              "    </tr>\n",
              "    <tr>\n",
              "      <th>1</th>\n",
              "      <td>4</td>\n",
              "    </tr>\n",
              "    <tr>\n",
              "      <th>2</th>\n",
              "      <td>9</td>\n",
              "    </tr>\n",
              "    <tr>\n",
              "      <th>3</th>\n",
              "      <td>8</td>\n",
              "    </tr>\n",
              "    <tr>\n",
              "      <th>4</th>\n",
              "      <td>19</td>\n",
              "    </tr>\n",
              "  </tbody>\n",
              "</table>\n",
              "</div>\n",
              "      <button class=\"colab-df-convert\" onclick=\"convertToInteractive('df-b65dee71-4afd-4758-b3c3-e6b9424f7f96')\"\n",
              "              title=\"Convert this dataframe to an interactive table.\"\n",
              "              style=\"display:none;\">\n",
              "        \n",
              "  <svg xmlns=\"http://www.w3.org/2000/svg\" height=\"24px\"viewBox=\"0 0 24 24\"\n",
              "       width=\"24px\">\n",
              "    <path d=\"M0 0h24v24H0V0z\" fill=\"none\"/>\n",
              "    <path d=\"M18.56 5.44l.94 2.06.94-2.06 2.06-.94-2.06-.94-.94-2.06-.94 2.06-2.06.94zm-11 1L8.5 8.5l.94-2.06 2.06-.94-2.06-.94L8.5 2.5l-.94 2.06-2.06.94zm10 10l.94 2.06.94-2.06 2.06-.94-2.06-.94-.94-2.06-.94 2.06-2.06.94z\"/><path d=\"M17.41 7.96l-1.37-1.37c-.4-.4-.92-.59-1.43-.59-.52 0-1.04.2-1.43.59L10.3 9.45l-7.72 7.72c-.78.78-.78 2.05 0 2.83L4 21.41c.39.39.9.59 1.41.59.51 0 1.02-.2 1.41-.59l7.78-7.78 2.81-2.81c.8-.78.8-2.07 0-2.86zM5.41 20L4 18.59l7.72-7.72 1.47 1.35L5.41 20z\"/>\n",
              "  </svg>\n",
              "      </button>\n",
              "      \n",
              "  <style>\n",
              "    .colab-df-container {\n",
              "      display:flex;\n",
              "      flex-wrap:wrap;\n",
              "      gap: 12px;\n",
              "    }\n",
              "\n",
              "    .colab-df-convert {\n",
              "      background-color: #E8F0FE;\n",
              "      border: none;\n",
              "      border-radius: 50%;\n",
              "      cursor: pointer;\n",
              "      display: none;\n",
              "      fill: #1967D2;\n",
              "      height: 32px;\n",
              "      padding: 0 0 0 0;\n",
              "      width: 32px;\n",
              "    }\n",
              "\n",
              "    .colab-df-convert:hover {\n",
              "      background-color: #E2EBFA;\n",
              "      box-shadow: 0px 1px 2px rgba(60, 64, 67, 0.3), 0px 1px 3px 1px rgba(60, 64, 67, 0.15);\n",
              "      fill: #174EA6;\n",
              "    }\n",
              "\n",
              "    [theme=dark] .colab-df-convert {\n",
              "      background-color: #3B4455;\n",
              "      fill: #D2E3FC;\n",
              "    }\n",
              "\n",
              "    [theme=dark] .colab-df-convert:hover {\n",
              "      background-color: #434B5C;\n",
              "      box-shadow: 0px 1px 3px 1px rgba(0, 0, 0, 0.15);\n",
              "      filter: drop-shadow(0px 1px 2px rgba(0, 0, 0, 0.3));\n",
              "      fill: #FFFFFF;\n",
              "    }\n",
              "  </style>\n",
              "\n",
              "      <script>\n",
              "        const buttonEl =\n",
              "          document.querySelector('#df-b65dee71-4afd-4758-b3c3-e6b9424f7f96 button.colab-df-convert');\n",
              "        buttonEl.style.display =\n",
              "          google.colab.kernel.accessAllowed ? 'block' : 'none';\n",
              "\n",
              "        async function convertToInteractive(key) {\n",
              "          const element = document.querySelector('#df-b65dee71-4afd-4758-b3c3-e6b9424f7f96');\n",
              "          const dataTable =\n",
              "            await google.colab.kernel.invokeFunction('convertToInteractive',\n",
              "                                                     [key], {});\n",
              "          if (!dataTable) return;\n",
              "\n",
              "          const docLinkHtml = 'Like what you see? Visit the ' +\n",
              "            '<a target=\"_blank\" href=https://colab.research.google.com/notebooks/data_table.ipynb>data table notebook</a>'\n",
              "            + ' to learn more about interactive tables.';\n",
              "          element.innerHTML = '';\n",
              "          dataTable['output_type'] = 'display_data';\n",
              "          await google.colab.output.renderOutput(dataTable, element);\n",
              "          const docLink = document.createElement('div');\n",
              "          docLink.innerHTML = docLinkHtml;\n",
              "          element.appendChild(docLink);\n",
              "        }\n",
              "      </script>\n",
              "    </div>\n",
              "  </div>\n",
              "  "
            ]
          },
          "metadata": {},
          "execution_count": 3
        }
      ]
    },
    {
      "cell_type": "markdown",
      "source": [
        "Ejercicio 3: Pase el dataframe a una serie de pandas"
      ],
      "metadata": {
        "id": "Le5NnW4lbyAB"
      }
    },
    {
      "cell_type": "code",
      "source": [
        "horas = df[\"Hours\"]\n",
        "type(\"horas\")"
      ],
      "metadata": {
        "colab": {
          "base_uri": "https://localhost:8080/"
        },
        "id": "VuXO8aE7d63J",
        "outputId": "7e7391f7-2586-4d13-fefe-b4329b8b51c9"
      },
      "execution_count": 6,
      "outputs": [
        {
          "output_type": "execute_result",
          "data": {
            "text/plain": [
              "str"
            ]
          },
          "metadata": {},
          "execution_count": 6
        }
      ]
    },
    {
      "cell_type": "markdown",
      "source": [
        "Ejercicio 4: Dé una estimación mediante un intervalo de confianza de 95% para la media del tiempo que se ve televisión por semana en el horario de 8:00 a 11:00 de la noche."
      ],
      "metadata": {
        "id": "BPSkTw0Ob3pp"
      }
    },
    {
      "cell_type": "code",
      "source": [
        "st.norm.interval(alpha=0.95,loc=np.mean(horas),scale=st.sem(horas))\n",
        "#linea para construir el intervalo de confianza\n",
        "\n",
        "#loc es la media de las observaciones.\n",
        "#error estandar de la media despues del scale: desviación estandar de la media sobre raiz del número de elementos de la muestra"
      ],
      "metadata": {
        "colab": {
          "base_uri": "https://localhost:8080/"
        },
        "id": "2GOJSL2PfJ-N",
        "outputId": "93499f62-2b97-4c72-ea77-7f0679f46524"
      },
      "execution_count": 15,
      "outputs": [
        {
          "output_type": "execute_result",
          "data": {
            "text/plain": [
              "(8.109594557390281, 8.890405442609719)"
            ]
          },
          "metadata": {},
          "execution_count": 15
        }
      ]
    },
    {
      "cell_type": "code",
      "source": [
        "#Con un nivel de confianza del 95 % , se peude afirmar que la media del tiempo del horario dfe 8 a11 de horas tv es de 8.10 y 8.9 horas aproximadamente."
      ],
      "metadata": {
        "id": "avkamUBCkX5L"
      },
      "execution_count": 23,
      "outputs": []
    },
    {
      "cell_type": "markdown",
      "source": [
        "Ejercicio Extra:\n",
        "Ejercicio 4: Dé una estimación mediante un intervalo de confianza de 90% para la media del tiempo que se ve televisión por semana en el horario de 8:00 a 11:00 de la noche."
      ],
      "metadata": {
        "id": "8jLmJ1J_mt6A"
      }
    },
    {
      "cell_type": "code",
      "source": [
        "st.norm.interval(alpha=0.90,loc=np.mean(horas),scale=st.sem(horas))\n",
        "#Con un nivel de confianza del 90% , se peude afirmar que la media del tiempo del horario dfe 8 a11 de horas tv es de 8.10 y 8.82 horas aproximadamente."
      ],
      "metadata": {
        "colab": {
          "base_uri": "https://localhost:8080/"
        },
        "id": "Tr9EcYwfm9-L",
        "outputId": "4c41e30a-8471-4a00-a418-b0ee530e97de"
      },
      "execution_count": 22,
      "outputs": [
        {
          "output_type": "execute_result",
          "data": {
            "text/plain": [
              "(8.172361424330514, 8.827638575669486)"
            ]
          },
          "metadata": {},
          "execution_count": 22
        }
      ]
    },
    {
      "cell_type": "code",
      "source": [
        "#Si yo aumento la confianza, el intervalo se amplía, eso sucede proque si se adquiere más confianza (nivel de confianza) el margen de error aumenta."
      ],
      "metadata": {
        "id": "EVmHwlDAoUng"
      },
      "execution_count": 24,
      "outputs": []
    },
    {
      "cell_type": "markdown",
      "source": [
        "###Intervalo de confianza para la media (caso sigma desconocida)"
      ],
      "metadata": {
        "id": "EZGXMB89nyta"
      }
    },
    {
      "cell_type": "markdown",
      "source": [
        "**Problema 2: (Ejercicios 5 a 8)** La International Air Transport Association realiza encuestas entre los viajeros de negocios en las que se califica la calidad de los aeropuertos de salida internacional. La calificación máxima es 10. Se seleccionó una muestra aleatoria simple de 50 viajeros de negocios y a cada uno se le pidió su calificación para el aeropuerto internacional de Miami. Las calificaciones se encuentran en el fichero Miami.csv"
      ],
      "metadata": {
        "id": "KwTVjYmFcS-c"
      }
    },
    {
      "cell_type": "code",
      "source": [
        "from google.colab import files\n",
        "uploaded=files.upload()"
      ],
      "metadata": {
        "colab": {
          "resources": {
            "http://localhost:8080/nbextensions/google.colab/files.js": {
              "data": "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",
              "ok": true,
              "headers": [
                [
                  "content-type",
                  "application/javascript"
                ]
              ],
              "status": 200,
              "status_text": ""
            }
          },
          "base_uri": "https://localhost:8080/",
          "height": 74
        },
        "id": "4GutIV3hrkq-",
        "outputId": "33c5e995-4742-4514-9a98-71fda31a0880"
      },
      "execution_count": 25,
      "outputs": [
        {
          "output_type": "display_data",
          "data": {
            "text/plain": [
              "<IPython.core.display.HTML object>"
            ],
            "text/html": [
              "\n",
              "     <input type=\"file\" id=\"files-8e1f6162-7668-4576-9ed9-72460b4ce1df\" name=\"files[]\" multiple disabled\n",
              "        style=\"border:none\" />\n",
              "     <output id=\"result-8e1f6162-7668-4576-9ed9-72460b4ce1df\">\n",
              "      Upload widget is only available when the cell has been executed in the\n",
              "      current browser session. Please rerun this cell to enable.\n",
              "      </output>\n",
              "      <script src=\"/nbextensions/google.colab/files.js\"></script> "
            ]
          },
          "metadata": {}
        },
        {
          "output_type": "stream",
          "name": "stdout",
          "text": [
            "Saving Miami.csv to Miami.csv\n"
          ]
        }
      ]
    },
    {
      "cell_type": "markdown",
      "source": [
        "Ejercicio 1: Cargue el archivo Miami.csv"
      ],
      "metadata": {
        "id": "Hqj-0UAUcS-f"
      }
    },
    {
      "cell_type": "markdown",
      "source": [
        "Ejercicio 2:\n",
        "(i) Importe la librería pandas con el alias pd. Nombre como df al dataset, use la función read_csv del paquete pandas. \n",
        "(ii) Importe el modulo scipy.stats con el alias st. Revise brevemente la documentación en https://docs.scipy.org/doc/scipy/reference/stats.html\n",
        "(iii)Explore el dataframe usando el método .head()\n",
        "(iv) Explore el dataframe usando el método .head()"
      ],
      "metadata": {
        "id": "DuodYyV3cS-i"
      }
    },
    {
      "cell_type": "code",
      "source": [
        "import pandas as pd\n",
        "import numpy as np\n",
        "import scipy.stats as st\n",
        "df=pd.read_csv(\"Miami.csv\")\n",
        "df.head(5)"
      ],
      "metadata": {
        "colab": {
          "base_uri": "https://localhost:8080/",
          "height": 206
        },
        "id": "PbQrLzm_rgok",
        "outputId": "4654ddd8-da16-4add-8cfb-dae929d073aa"
      },
      "execution_count": 40,
      "outputs": [
        {
          "output_type": "execute_result",
          "data": {
            "text/plain": [
              "   Rating\n",
              "0       6\n",
              "1       4\n",
              "2       6\n",
              "3       8\n",
              "4       7"
            ],
            "text/html": [
              "\n",
              "  <div id=\"df-79083b11-a6de-4935-947f-34517abaeeca\">\n",
              "    <div class=\"colab-df-container\">\n",
              "      <div>\n",
              "<style scoped>\n",
              "    .dataframe tbody tr th:only-of-type {\n",
              "        vertical-align: middle;\n",
              "    }\n",
              "\n",
              "    .dataframe tbody tr th {\n",
              "        vertical-align: top;\n",
              "    }\n",
              "\n",
              "    .dataframe thead th {\n",
              "        text-align: right;\n",
              "    }\n",
              "</style>\n",
              "<table border=\"1\" class=\"dataframe\">\n",
              "  <thead>\n",
              "    <tr style=\"text-align: right;\">\n",
              "      <th></th>\n",
              "      <th>Rating</th>\n",
              "    </tr>\n",
              "  </thead>\n",
              "  <tbody>\n",
              "    <tr>\n",
              "      <th>0</th>\n",
              "      <td>6</td>\n",
              "    </tr>\n",
              "    <tr>\n",
              "      <th>1</th>\n",
              "      <td>4</td>\n",
              "    </tr>\n",
              "    <tr>\n",
              "      <th>2</th>\n",
              "      <td>6</td>\n",
              "    </tr>\n",
              "    <tr>\n",
              "      <th>3</th>\n",
              "      <td>8</td>\n",
              "    </tr>\n",
              "    <tr>\n",
              "      <th>4</th>\n",
              "      <td>7</td>\n",
              "    </tr>\n",
              "  </tbody>\n",
              "</table>\n",
              "</div>\n",
              "      <button class=\"colab-df-convert\" onclick=\"convertToInteractive('df-79083b11-a6de-4935-947f-34517abaeeca')\"\n",
              "              title=\"Convert this dataframe to an interactive table.\"\n",
              "              style=\"display:none;\">\n",
              "        \n",
              "  <svg xmlns=\"http://www.w3.org/2000/svg\" height=\"24px\"viewBox=\"0 0 24 24\"\n",
              "       width=\"24px\">\n",
              "    <path d=\"M0 0h24v24H0V0z\" fill=\"none\"/>\n",
              "    <path d=\"M18.56 5.44l.94 2.06.94-2.06 2.06-.94-2.06-.94-.94-2.06-.94 2.06-2.06.94zm-11 1L8.5 8.5l.94-2.06 2.06-.94-2.06-.94L8.5 2.5l-.94 2.06-2.06.94zm10 10l.94 2.06.94-2.06 2.06-.94-2.06-.94-.94-2.06-.94 2.06-2.06.94z\"/><path d=\"M17.41 7.96l-1.37-1.37c-.4-.4-.92-.59-1.43-.59-.52 0-1.04.2-1.43.59L10.3 9.45l-7.72 7.72c-.78.78-.78 2.05 0 2.83L4 21.41c.39.39.9.59 1.41.59.51 0 1.02-.2 1.41-.59l7.78-7.78 2.81-2.81c.8-.78.8-2.07 0-2.86zM5.41 20L4 18.59l7.72-7.72 1.47 1.35L5.41 20z\"/>\n",
              "  </svg>\n",
              "      </button>\n",
              "      \n",
              "  <style>\n",
              "    .colab-df-container {\n",
              "      display:flex;\n",
              "      flex-wrap:wrap;\n",
              "      gap: 12px;\n",
              "    }\n",
              "\n",
              "    .colab-df-convert {\n",
              "      background-color: #E8F0FE;\n",
              "      border: none;\n",
              "      border-radius: 50%;\n",
              "      cursor: pointer;\n",
              "      display: none;\n",
              "      fill: #1967D2;\n",
              "      height: 32px;\n",
              "      padding: 0 0 0 0;\n",
              "      width: 32px;\n",
              "    }\n",
              "\n",
              "    .colab-df-convert:hover {\n",
              "      background-color: #E2EBFA;\n",
              "      box-shadow: 0px 1px 2px rgba(60, 64, 67, 0.3), 0px 1px 3px 1px rgba(60, 64, 67, 0.15);\n",
              "      fill: #174EA6;\n",
              "    }\n",
              "\n",
              "    [theme=dark] .colab-df-convert {\n",
              "      background-color: #3B4455;\n",
              "      fill: #D2E3FC;\n",
              "    }\n",
              "\n",
              "    [theme=dark] .colab-df-convert:hover {\n",
              "      background-color: #434B5C;\n",
              "      box-shadow: 0px 1px 3px 1px rgba(0, 0, 0, 0.15);\n",
              "      filter: drop-shadow(0px 1px 2px rgba(0, 0, 0, 0.3));\n",
              "      fill: #FFFFFF;\n",
              "    }\n",
              "  </style>\n",
              "\n",
              "      <script>\n",
              "        const buttonEl =\n",
              "          document.querySelector('#df-79083b11-a6de-4935-947f-34517abaeeca button.colab-df-convert');\n",
              "        buttonEl.style.display =\n",
              "          google.colab.kernel.accessAllowed ? 'block' : 'none';\n",
              "\n",
              "        async function convertToInteractive(key) {\n",
              "          const element = document.querySelector('#df-79083b11-a6de-4935-947f-34517abaeeca');\n",
              "          const dataTable =\n",
              "            await google.colab.kernel.invokeFunction('convertToInteractive',\n",
              "                                                     [key], {});\n",
              "          if (!dataTable) return;\n",
              "\n",
              "          const docLinkHtml = 'Like what you see? Visit the ' +\n",
              "            '<a target=\"_blank\" href=https://colab.research.google.com/notebooks/data_table.ipynb>data table notebook</a>'\n",
              "            + ' to learn more about interactive tables.';\n",
              "          element.innerHTML = '';\n",
              "          dataTable['output_type'] = 'display_data';\n",
              "          await google.colab.output.renderOutput(dataTable, element);\n",
              "          const docLink = document.createElement('div');\n",
              "          docLink.innerHTML = docLinkHtml;\n",
              "          element.appendChild(docLink);\n",
              "        }\n",
              "      </script>\n",
              "    </div>\n",
              "  </div>\n",
              "  "
            ]
          },
          "metadata": {},
          "execution_count": 40
        }
      ]
    },
    {
      "cell_type": "code",
      "source": [
        "df.tail(5)"
      ],
      "metadata": {
        "colab": {
          "base_uri": "https://localhost:8080/",
          "height": 206
        },
        "id": "AybD2sybsOOK",
        "outputId": "94b42280-6a89-496d-ced7-f676c5c5eddb"
      },
      "execution_count": 28,
      "outputs": [
        {
          "output_type": "execute_result",
          "data": {
            "text/plain": [
              "    Rating\n",
              "45       3\n",
              "46      10\n",
              "47       8\n",
              "48       9\n",
              "49       6"
            ],
            "text/html": [
              "\n",
              "  <div id=\"df-d9588ce3-a573-47d8-b83b-944348379949\">\n",
              "    <div class=\"colab-df-container\">\n",
              "      <div>\n",
              "<style scoped>\n",
              "    .dataframe tbody tr th:only-of-type {\n",
              "        vertical-align: middle;\n",
              "    }\n",
              "\n",
              "    .dataframe tbody tr th {\n",
              "        vertical-align: top;\n",
              "    }\n",
              "\n",
              "    .dataframe thead th {\n",
              "        text-align: right;\n",
              "    }\n",
              "</style>\n",
              "<table border=\"1\" class=\"dataframe\">\n",
              "  <thead>\n",
              "    <tr style=\"text-align: right;\">\n",
              "      <th></th>\n",
              "      <th>Rating</th>\n",
              "    </tr>\n",
              "  </thead>\n",
              "  <tbody>\n",
              "    <tr>\n",
              "      <th>45</th>\n",
              "      <td>3</td>\n",
              "    </tr>\n",
              "    <tr>\n",
              "      <th>46</th>\n",
              "      <td>10</td>\n",
              "    </tr>\n",
              "    <tr>\n",
              "      <th>47</th>\n",
              "      <td>8</td>\n",
              "    </tr>\n",
              "    <tr>\n",
              "      <th>48</th>\n",
              "      <td>9</td>\n",
              "    </tr>\n",
              "    <tr>\n",
              "      <th>49</th>\n",
              "      <td>6</td>\n",
              "    </tr>\n",
              "  </tbody>\n",
              "</table>\n",
              "</div>\n",
              "      <button class=\"colab-df-convert\" onclick=\"convertToInteractive('df-d9588ce3-a573-47d8-b83b-944348379949')\"\n",
              "              title=\"Convert this dataframe to an interactive table.\"\n",
              "              style=\"display:none;\">\n",
              "        \n",
              "  <svg xmlns=\"http://www.w3.org/2000/svg\" height=\"24px\"viewBox=\"0 0 24 24\"\n",
              "       width=\"24px\">\n",
              "    <path d=\"M0 0h24v24H0V0z\" fill=\"none\"/>\n",
              "    <path d=\"M18.56 5.44l.94 2.06.94-2.06 2.06-.94-2.06-.94-.94-2.06-.94 2.06-2.06.94zm-11 1L8.5 8.5l.94-2.06 2.06-.94-2.06-.94L8.5 2.5l-.94 2.06-2.06.94zm10 10l.94 2.06.94-2.06 2.06-.94-2.06-.94-.94-2.06-.94 2.06-2.06.94z\"/><path d=\"M17.41 7.96l-1.37-1.37c-.4-.4-.92-.59-1.43-.59-.52 0-1.04.2-1.43.59L10.3 9.45l-7.72 7.72c-.78.78-.78 2.05 0 2.83L4 21.41c.39.39.9.59 1.41.59.51 0 1.02-.2 1.41-.59l7.78-7.78 2.81-2.81c.8-.78.8-2.07 0-2.86zM5.41 20L4 18.59l7.72-7.72 1.47 1.35L5.41 20z\"/>\n",
              "  </svg>\n",
              "      </button>\n",
              "      \n",
              "  <style>\n",
              "    .colab-df-container {\n",
              "      display:flex;\n",
              "      flex-wrap:wrap;\n",
              "      gap: 12px;\n",
              "    }\n",
              "\n",
              "    .colab-df-convert {\n",
              "      background-color: #E8F0FE;\n",
              "      border: none;\n",
              "      border-radius: 50%;\n",
              "      cursor: pointer;\n",
              "      display: none;\n",
              "      fill: #1967D2;\n",
              "      height: 32px;\n",
              "      padding: 0 0 0 0;\n",
              "      width: 32px;\n",
              "    }\n",
              "\n",
              "    .colab-df-convert:hover {\n",
              "      background-color: #E2EBFA;\n",
              "      box-shadow: 0px 1px 2px rgba(60, 64, 67, 0.3), 0px 1px 3px 1px rgba(60, 64, 67, 0.15);\n",
              "      fill: #174EA6;\n",
              "    }\n",
              "\n",
              "    [theme=dark] .colab-df-convert {\n",
              "      background-color: #3B4455;\n",
              "      fill: #D2E3FC;\n",
              "    }\n",
              "\n",
              "    [theme=dark] .colab-df-convert:hover {\n",
              "      background-color: #434B5C;\n",
              "      box-shadow: 0px 1px 3px 1px rgba(0, 0, 0, 0.15);\n",
              "      filter: drop-shadow(0px 1px 2px rgba(0, 0, 0, 0.3));\n",
              "      fill: #FFFFFF;\n",
              "    }\n",
              "  </style>\n",
              "\n",
              "      <script>\n",
              "        const buttonEl =\n",
              "          document.querySelector('#df-d9588ce3-a573-47d8-b83b-944348379949 button.colab-df-convert');\n",
              "        buttonEl.style.display =\n",
              "          google.colab.kernel.accessAllowed ? 'block' : 'none';\n",
              "\n",
              "        async function convertToInteractive(key) {\n",
              "          const element = document.querySelector('#df-d9588ce3-a573-47d8-b83b-944348379949');\n",
              "          const dataTable =\n",
              "            await google.colab.kernel.invokeFunction('convertToInteractive',\n",
              "                                                     [key], {});\n",
              "          if (!dataTable) return;\n",
              "\n",
              "          const docLinkHtml = 'Like what you see? Visit the ' +\n",
              "            '<a target=\"_blank\" href=https://colab.research.google.com/notebooks/data_table.ipynb>data table notebook</a>'\n",
              "            + ' to learn more about interactive tables.';\n",
              "          element.innerHTML = '';\n",
              "          dataTable['output_type'] = 'display_data';\n",
              "          await google.colab.output.renderOutput(dataTable, element);\n",
              "          const docLink = document.createElement('div');\n",
              "          docLink.innerHTML = docLinkHtml;\n",
              "          element.appendChild(docLink);\n",
              "        }\n",
              "      </script>\n",
              "    </div>\n",
              "  </div>\n",
              "  "
            ]
          },
          "metadata": {},
          "execution_count": 28
        }
      ]
    },
    {
      "cell_type": "markdown",
      "source": [
        "Ejercicio 3: Pase el dataframe a una serie de pandas"
      ],
      "metadata": {
        "id": "aAR5iEECcS-l"
      }
    },
    {
      "cell_type": "code",
      "source": [
        "calificacion = df[\"Rating\"]\n",
        "type(calificacion)"
      ],
      "metadata": {
        "colab": {
          "base_uri": "https://localhost:8080/"
        },
        "id": "xo-p7L8JsUxl",
        "outputId": "9078e4ab-b7e0-4847-dbd9-f9d60f436ede"
      },
      "execution_count": 30,
      "outputs": [
        {
          "output_type": "execute_result",
          "data": {
            "text/plain": [
              "pandas.core.series.Series"
            ]
          },
          "metadata": {},
          "execution_count": 30
        }
      ]
    },
    {
      "cell_type": "markdown",
      "source": [
        "Ejercicio 4: Calcule el intervalo de confianza de 95% para la media poblacional de las calificaciones al aeropuerto de Miami."
      ],
      "metadata": {
        "id": "kFTrURWncS-n"
      }
    },
    {
      "cell_type": "code",
      "source": [
        "\n",
        "st.t.interval(alpha=0.95,df=len(calificacion)-1,loc=np.mean(calificacion), scale=st.sem(calificacion))\n",
        "#len(calificacion)-1 : Grados de Libertas de la distribuci´+on t\n",
        "#scale: calcular el error estándar de la media \n",
        "\n",
        "#con un nivel de confianza de 95 %  , se puede afirmar que en el aeropuerto int de miami, la calificación promedio esta entre 5.72 y 6.95"
      ],
      "metadata": {
        "colab": {
          "base_uri": "https://localhost:8080/"
        },
        "id": "N8KDtFU7sluu",
        "outputId": "402f2b01-26f5-4006-edc3-88f9fb781690"
      },
      "execution_count": 36,
      "outputs": [
        {
          "output_type": "execute_result",
          "data": {
            "text/plain": [
              "(5.725322265599599, 6.954677734400401)"
            ]
          },
          "metadata": {},
          "execution_count": 36
        }
      ]
    },
    {
      "cell_type": "markdown",
      "source": [
        "Ejercicio Extra: Calcule el intervalo de confianza de 80% para la media poblacional de las calificaciones al aeropuerto de Miami."
      ],
      "metadata": {
        "id": "3gcFhwzIu2kb"
      }
    },
    {
      "cell_type": "code",
      "source": [
        "st.t.interval(alpha=0.80,df=len(calificacion)-1,loc=np.mean(calificacion), scale=st.sem(calificacion))\n",
        "#con un nivel de confianza de 80 % , se puede afirmar que en el aeropuerto int de miami, la calificación promedio esta entre 5.94 y 6.73"
      ],
      "metadata": {
        "colab": {
          "base_uri": "https://localhost:8080/"
        },
        "id": "dAhIhwgKu0CL",
        "outputId": "0274aefc-1d83-4d81-a432-a5db78fb9a6b"
      },
      "execution_count": 38,
      "outputs": [
        {
          "output_type": "execute_result",
          "data": {
            "text/plain": [
              "(5.942648040447571, 6.737351959552429)"
            ]
          },
          "metadata": {},
          "execution_count": 38
        }
      ]
    },
    {
      "cell_type": "markdown",
      "source": [
        "### Intervalo de confianza para la proporción poblacional \n",
        "\n"
      ],
      "metadata": {
        "id": "y0a8nOvUm3A3"
      }
    },
    {
      "cell_type": "markdown",
      "source": [
        "**Problema 3: (Ejercicios 9 a 12)**  Towers Perrin, una empresa de recursos humanos, realizó un estudio con 1100 empleados de empresas medianas y grandes para determinar qué tan insatisfechos estaban con sus trabajos (The Wall Street Journal, 29 de enero de 2003). En el archivo JobSatisfaction se muestran datos representativos. Un Sí como respuesta indica que al empleado le desagrada mucho su empleo actual.  ¿Cuál es el intervalo de confianza de 95% para la proporción de la población de empleados a quienes les desagrada mucho su empleo actual?"
      ],
      "metadata": {
        "id": "7UOPRXpmnF65"
      }
    },
    {
      "cell_type": "code",
      "source": [
        "from google.colab import files\n",
        "uploaded=files.upload()"
      ],
      "metadata": {
        "colab": {
          "resources": {
            "http://localhost:8080/nbextensions/google.colab/files.js": {
              "data": "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",
              "ok": true,
              "headers": [
                [
                  "content-type",
                  "application/javascript"
                ]
              ],
              "status": 200,
              "status_text": ""
            }
          },
          "base_uri": "https://localhost:8080/",
          "height": 74
        },
        "id": "1l6vDwLzyKoZ",
        "outputId": "5e7b6c1d-6ed6-45d9-a95e-51621e6d063b"
      },
      "execution_count": 39,
      "outputs": [
        {
          "output_type": "display_data",
          "data": {
            "text/plain": [
              "<IPython.core.display.HTML object>"
            ],
            "text/html": [
              "\n",
              "     <input type=\"file\" id=\"files-e59643d6-2d1b-4238-9fbc-f9f0a095af47\" name=\"files[]\" multiple disabled\n",
              "        style=\"border:none\" />\n",
              "     <output id=\"result-e59643d6-2d1b-4238-9fbc-f9f0a095af47\">\n",
              "      Upload widget is only available when the cell has been executed in the\n",
              "      current browser session. Please rerun this cell to enable.\n",
              "      </output>\n",
              "      <script src=\"/nbextensions/google.colab/files.js\"></script> "
            ]
          },
          "metadata": {}
        },
        {
          "output_type": "stream",
          "name": "stdout",
          "text": [
            "Saving JobSatisfaction.csv to JobSatisfaction.csv\n"
          ]
        }
      ]
    },
    {
      "cell_type": "markdown",
      "source": [
        "Ejercicio 1: Cargue el archivo JobSatisfaction.csv"
      ],
      "metadata": {
        "id": "UbT9T6xSnF66"
      }
    },
    {
      "cell_type": "markdown",
      "source": [
        "Ejercicio 2:\n",
        "(i) Importe la librería pandas con el alias pd. Nombre como df al dataset, use la función read_csv del paquete pandas. \n",
        "(ii) Importe el modulo scipy.stats con el alias st. Revise brevemente la documentación en https://docs.scipy.org/doc/scipy/reference/stats.html\n",
        "(iii)Explore el dataframe usando el método .head()\n",
        "(iv) Explore el dataframe usando el método .head()"
      ],
      "metadata": {
        "id": "2CNgu6RRnF6-"
      }
    },
    {
      "cell_type": "code",
      "source": [
        "import pandas as pd\n",
        "import numpy as np\n",
        "from statsmodels.stats.proportion import proportion_confint\n",
        "df=pd.read_csv(\"JobSatisfaction.csv\")\n",
        "df.head(5)"
      ],
      "metadata": {
        "colab": {
          "base_uri": "https://localhost:8080/",
          "height": 206
        },
        "id": "NG6I9ZW7zM-6",
        "outputId": "d413e82a-d02f-4709-8fc3-6373f681f993"
      },
      "execution_count": 46,
      "outputs": [
        {
          "output_type": "execute_result",
          "data": {
            "text/plain": [
              "  Response\n",
              "0      Yes\n",
              "1      Yes\n",
              "2       No\n",
              "3       No\n",
              "4      Yes"
            ],
            "text/html": [
              "\n",
              "  <div id=\"df-64ac7a06-3df3-4c5b-b855-69c10d2c3c30\">\n",
              "    <div class=\"colab-df-container\">\n",
              "      <div>\n",
              "<style scoped>\n",
              "    .dataframe tbody tr th:only-of-type {\n",
              "        vertical-align: middle;\n",
              "    }\n",
              "\n",
              "    .dataframe tbody tr th {\n",
              "        vertical-align: top;\n",
              "    }\n",
              "\n",
              "    .dataframe thead th {\n",
              "        text-align: right;\n",
              "    }\n",
              "</style>\n",
              "<table border=\"1\" class=\"dataframe\">\n",
              "  <thead>\n",
              "    <tr style=\"text-align: right;\">\n",
              "      <th></th>\n",
              "      <th>Response</th>\n",
              "    </tr>\n",
              "  </thead>\n",
              "  <tbody>\n",
              "    <tr>\n",
              "      <th>0</th>\n",
              "      <td>Yes</td>\n",
              "    </tr>\n",
              "    <tr>\n",
              "      <th>1</th>\n",
              "      <td>Yes</td>\n",
              "    </tr>\n",
              "    <tr>\n",
              "      <th>2</th>\n",
              "      <td>No</td>\n",
              "    </tr>\n",
              "    <tr>\n",
              "      <th>3</th>\n",
              "      <td>No</td>\n",
              "    </tr>\n",
              "    <tr>\n",
              "      <th>4</th>\n",
              "      <td>Yes</td>\n",
              "    </tr>\n",
              "  </tbody>\n",
              "</table>\n",
              "</div>\n",
              "      <button class=\"colab-df-convert\" onclick=\"convertToInteractive('df-64ac7a06-3df3-4c5b-b855-69c10d2c3c30')\"\n",
              "              title=\"Convert this dataframe to an interactive table.\"\n",
              "              style=\"display:none;\">\n",
              "        \n",
              "  <svg xmlns=\"http://www.w3.org/2000/svg\" height=\"24px\"viewBox=\"0 0 24 24\"\n",
              "       width=\"24px\">\n",
              "    <path d=\"M0 0h24v24H0V0z\" fill=\"none\"/>\n",
              "    <path d=\"M18.56 5.44l.94 2.06.94-2.06 2.06-.94-2.06-.94-.94-2.06-.94 2.06-2.06.94zm-11 1L8.5 8.5l.94-2.06 2.06-.94-2.06-.94L8.5 2.5l-.94 2.06-2.06.94zm10 10l.94 2.06.94-2.06 2.06-.94-2.06-.94-.94-2.06-.94 2.06-2.06.94z\"/><path d=\"M17.41 7.96l-1.37-1.37c-.4-.4-.92-.59-1.43-.59-.52 0-1.04.2-1.43.59L10.3 9.45l-7.72 7.72c-.78.78-.78 2.05 0 2.83L4 21.41c.39.39.9.59 1.41.59.51 0 1.02-.2 1.41-.59l7.78-7.78 2.81-2.81c.8-.78.8-2.07 0-2.86zM5.41 20L4 18.59l7.72-7.72 1.47 1.35L5.41 20z\"/>\n",
              "  </svg>\n",
              "      </button>\n",
              "      \n",
              "  <style>\n",
              "    .colab-df-container {\n",
              "      display:flex;\n",
              "      flex-wrap:wrap;\n",
              "      gap: 12px;\n",
              "    }\n",
              "\n",
              "    .colab-df-convert {\n",
              "      background-color: #E8F0FE;\n",
              "      border: none;\n",
              "      border-radius: 50%;\n",
              "      cursor: pointer;\n",
              "      display: none;\n",
              "      fill: #1967D2;\n",
              "      height: 32px;\n",
              "      padding: 0 0 0 0;\n",
              "      width: 32px;\n",
              "    }\n",
              "\n",
              "    .colab-df-convert:hover {\n",
              "      background-color: #E2EBFA;\n",
              "      box-shadow: 0px 1px 2px rgba(60, 64, 67, 0.3), 0px 1px 3px 1px rgba(60, 64, 67, 0.15);\n",
              "      fill: #174EA6;\n",
              "    }\n",
              "\n",
              "    [theme=dark] .colab-df-convert {\n",
              "      background-color: #3B4455;\n",
              "      fill: #D2E3FC;\n",
              "    }\n",
              "\n",
              "    [theme=dark] .colab-df-convert:hover {\n",
              "      background-color: #434B5C;\n",
              "      box-shadow: 0px 1px 3px 1px rgba(0, 0, 0, 0.15);\n",
              "      filter: drop-shadow(0px 1px 2px rgba(0, 0, 0, 0.3));\n",
              "      fill: #FFFFFF;\n",
              "    }\n",
              "  </style>\n",
              "\n",
              "      <script>\n",
              "        const buttonEl =\n",
              "          document.querySelector('#df-64ac7a06-3df3-4c5b-b855-69c10d2c3c30 button.colab-df-convert');\n",
              "        buttonEl.style.display =\n",
              "          google.colab.kernel.accessAllowed ? 'block' : 'none';\n",
              "\n",
              "        async function convertToInteractive(key) {\n",
              "          const element = document.querySelector('#df-64ac7a06-3df3-4c5b-b855-69c10d2c3c30');\n",
              "          const dataTable =\n",
              "            await google.colab.kernel.invokeFunction('convertToInteractive',\n",
              "                                                     [key], {});\n",
              "          if (!dataTable) return;\n",
              "\n",
              "          const docLinkHtml = 'Like what you see? Visit the ' +\n",
              "            '<a target=\"_blank\" href=https://colab.research.google.com/notebooks/data_table.ipynb>data table notebook</a>'\n",
              "            + ' to learn more about interactive tables.';\n",
              "          element.innerHTML = '';\n",
              "          dataTable['output_type'] = 'display_data';\n",
              "          await google.colab.output.renderOutput(dataTable, element);\n",
              "          const docLink = document.createElement('div');\n",
              "          docLink.innerHTML = docLinkHtml;\n",
              "          element.appendChild(docLink);\n",
              "        }\n",
              "      </script>\n",
              "    </div>\n",
              "  </div>\n",
              "  "
            ]
          },
          "metadata": {},
          "execution_count": 46
        }
      ]
    },
    {
      "cell_type": "code",
      "source": [],
      "metadata": {
        "id": "7FqcbGO6zacs"
      },
      "execution_count": null,
      "outputs": []
    },
    {
      "cell_type": "markdown",
      "source": [
        "Ejercicio 3: Del df, cuente a cuántas personas les desagrada su trabajo. Nota: Recuerde las funciones vistas en clase. "
      ],
      "metadata": {
        "id": "OTCsVpOnrtdb"
      }
    },
    {
      "cell_type": "code",
      "source": [
        "df.value_counts()"
      ],
      "metadata": {
        "colab": {
          "base_uri": "https://localhost:8080/"
        },
        "id": "ndvJmaiJ0QLA",
        "outputId": "58efa40b-0b9c-4807-9331-5eeb70fe5ebb"
      },
      "execution_count": 48,
      "outputs": [
        {
          "output_type": "execute_result",
          "data": {
            "text/plain": [
              "Response\n",
              "No          550\n",
              "Yes         550\n",
              "dtype: int64"
            ]
          },
          "metadata": {},
          "execution_count": 48
        }
      ]
    },
    {
      "cell_type": "markdown",
      "source": [
        "Ejercicio 4: ¿Cuál es el intervalo de confianza de 95% para la proporción de la población de empleados a quienes les desagrada mucho su empleo actual?"
      ],
      "metadata": {
        "id": "ewU7yleAnF7B"
      }
    },
    {
      "cell_type": "code",
      "source": [
        "#En este caso utilizamos proportion_confint\n",
        "# proportion_confint(550,1100, alpha 0.05, method=\"normal\")"
      ],
      "metadata": {
        "id": "hGEmoaMi0X8c"
      },
      "execution_count": 50,
      "outputs": []
    },
    {
      "cell_type": "markdown",
      "source": [
        "### Intervalo de confianza para la desviación estándar poblacional "
      ],
      "metadata": {
        "id": "pzrdrH-VuBCz"
      }
    },
    {
      "cell_type": "markdown",
      "source": [
        "\n",
        "\n",
        "```\n",
        "# Esto tiene formato de código\n",
        "```\n",
        "\n",
        "**Problema 4 (Trabajo autonónomo):** Para analizar el riesgo o la volatilidad al invertir en las acciones comunes de Chevron Corporation se toma una muestra de rendimiento porcentual total mensual. Los rendimientos de los 12 meses de 2005 (Compustat, 24 de febrero de 2006) están en la imagen abajo . El rendimiento total es el precio más cualquier dividendo pagado.\n",
        "* Calcule la varianza muestral y la desviación estándar muestral como medidas de la volatili\u0002dad del rendimiento mensual total de Chevron.\n",
        "* Proporcione un intervalo de 95% de confianza para la desviación estándar poblacional.\n",
        "\n",
        "![EjercicioIC_desvestpob.png](data:image/png;base64,iVBORw0KGgoAAAANSUhEUgAAAyAAAADcCAIAAAAHqlLAAAAAAXNSR0IArs4c6QAAAARnQU1BAACxjwv8YQUAAAAJcEhZcwAAFiUAABYlAUlSJPAAAHUQSURBVHhe7b35P1Tv//j//U/MjuxkakppkaWIFClCyBoRqaSIZCmFCilZ22SJSJR9Gw3DNGaYccZ40qe6JebWX/D+nnPmzMrpmfJ8lXo8bvcfmjPnzEydq8d1v5ZzXf/f/0FAQEBAQEBAQKxpgGBBQEBAQEBAQKxxgGBBQEBAQEBAQKxxgGBBQEBAQEBAQKxxgGBBQEBAQEBAQKxxgGBBQEBAQEBAQKxxgGBBQEBAQEBAQKxxgGBBQEBAQEBAQKxxgGBBQEBAQEBAQKxxgGBBQEBAQEBAQKxxgGBBQEBAQEBAQKxx/Lhgyee+AgAAAAAA/J0QPkQSIFgAAAAAAACrhvAhkgDBAgAAAAAAWDWED5EECBYAAAAAAMCqIXyIJECwAAAAAAAAVg3hQyQBggUAAAAAALBqCB8iCRAsAAAAAACAVUP4EEmAYAEAAAAAAKwawodIAgQLAAAAAABg1RA+RBIgWAAAAAAAAKuG8CGSAMECAAAAAABYNYQPkQQIFgAAAAAAwKohfIgkQLAAAAAAAABWDeFDJAGCBQAAAAAAsGoIHyIJECwAAAAAAIBVQ/gQSYBgAQAAAAAArBrCh0gCBAsAAAAAAGDVED5EEiBYAAAAAAAAq4bwIZIAwQIAAAAAAFg1hA+RBAgWAAAAAADAqiF8iCRAsAAAAAAAAFYN4UMkAYIFAAAAAACwaggfIgkQLAAAAAAAgFVD+BBJgGABAAAAAACsGsKHSAIECwAAAAAAYNUQPkQS60CwEOHE69dDbUrejAxP6Z8gn1MIhoaJE14PtXdNimb1TgB+A6YkXW9U91F5p9687eyXCmeWnfmTzM4NdKi+olsiVh5ExA3FJfeapYj6tO/nZ65dW8SjjW2ITPegmD/a1jkplGsdnJHUFdd3IVpH5hQjHQOD09pHAJSlce3UoS4t2mgVp7bX3I63H/T+/YH1gpg32q6618q72d450js6v+b/r2UTIlWdxe3kfVQelAy/Ls5/2DS6qD7t+/mZa9eU911NAyN61atkuus1jyte0jq4OFxfWdWzoHXkq4w/3Mr9rH3kz4DwIZJYB4Il5bbfTg22Z1DoBigM58sj+v8fpl5EbaTh71JMdsfklPWPgmD9fsiE3Mrc0y4mVPxO0dgeiSkpKVEHtpoY2e46EJtdv3b6Ipc0l94I4NDRL2JuPteAecZiR/o+I/R7DQ9dH9JOBN/Dz1yrj7C7r0Ok0Dv4nUj6H52NzH7C0yRZ2cTArUgXK5rxVse9DntPppc01j5rvJebFuy40T66Rah1LYpksDYlMuVev07W++v5MlD/IPWYPXZ/UeguaV36dZjoSdwmqjL5GDuGFzx4JQPBWp8oxt/U5Z7ca07B7ybV1jM2M+Vc7MHNxibWuw9G5Netnb4gvJ77V4PtaFii2xr3RoIenBlJd2Ki32vifmdAuy30PfzMtfq872wdEf5Y/YgI7iXGpT2d0iTq2bnWW3HOZgyTzXtddu0PS696VPfy4f3CC8ddbO3in4q0rkVBhBWX4s7fF2D/Gn8QhA+RxDoZIpwZSXNh25pjFsXknK2Xar+rGCmOdNvBYWIZkHn4llzrLeB34/1dXyO8rjI5XvYJOyIX5npswI4wd59tJJp6a8GnimAzrLQQgrXUnemxAf2WDUfyh1crST9zrQ4yfm3YVte07h/J49LesuP7Yyv4WnI2PZjhasZAVTXwCW9Wwb8bsj8462p2yd3iNM8tx4t4K2icbPRRiFNIYf8vbwf/XiDd2a42G60wi6LbxbZPar87ixSH7N/NxmSdzjh6S6D1FrAeEVcdY+GCZXziAV6PIIOFnkbYESP7iw0rDI/8KNLaEBP0Y1WCJednumKpz/xQydBqJelnrtVBwas4ud05u/MHBg1kY3cCPaMqtLvPP7+64oHaKtM6tJSvkAmqAl3DL1/NzyupvOC+7ViRZIV2yKz0XvC+wELBrx8KWDsIHyKJdSJYcsHVgycuxO9kof8xKFZBD/7Rems8KyAu+7wL9paBcUApXm0DvymfK4NRJ0DvlGlQufJOLXakKu8djR3VsnaNG+KLVIKFlpOZN09ra3rmf6T74WeuVTPVn+FuzqC5/Ihgyd5m7LNwz9JOTIrhAl8zrJ7wycO1711JdFQ5aqjva2Ic9qfzSFIY9q9tsS/3jUzv+F8N0n/DKzAtYTsDrcMYFqEPhFpv9eUHRuWfd8TeohsG39dp2gHrkOm6E6Z4J/qG0DLl3ZwZuay8v1T2yZq1698lvkglWGhZErx9Uvmy64c6sH/mWjWiV7meplSW4w8I1pc3V9ytXPN7tfROxrvnY4zmbROvPDGWbUTVEZE14rmvwmdndrte7yD5CqQzy9nUPaPzi97x9QvhQySxjgQr4n5nvjsTvaMUE4/CQdWdlrRcPna+s42opHUFSyJqqrh/NTU7p7h9QKI6OPehp6Ys63J21q1n9c2NVS9moMP/f8hywVrqz3TH7x3VJqxRI1jL7h0y2vewsraioraiqq1btMBreXwtLetq0esh7XlFU4Lau7fS0gorOqcrtARLyu2qQi/Eru3ol2q/7BqY/jTQUJGVevXK7XZ8itJn3qv6/Izs7Hs9I7iF6F1LfNEqf55M1J3uYY11stK2ncitqawfJXrpZ+e7n5ZlpWZezX9a1ztHYkUKfmmINc0huV3bzN6X+Bmj/2jWQTXv0Jez8vuhIbnDS9KObNed5+rIG+KS52e30iz8S/Qncv3NYIIV/Lgj+4AxnkM8c0WqG7HQnBR4vmmIqIB1BUvM7Sq/dSP1ckFxg0gzc2tq/Omd/LTL+bcq2pse1TcJfqpGBNae5YIlF2btw+8vxTrikWaS0LL7u8RrbcT+g1fUVtbzhch0c+nttNQbhc/F2s1CcX9bcU5OWm7tG36tlmB9GWyuJ65tFE5qv3whkkhF9UX5qZeu36oXYR81LW2tLsm4nH+vBZFin6l3reqL9H6eXPryEZ5/Kupqe+Yl/J7713JSr5Y3DCv/Rop3zdc8LfAhoC0RueXYOXgGULzraS7Mykq5WvKgfkxA0j0mG38caMHYnTyonaCEJcdNsAZJeBk2FKgYKz0ZmCtGZMNpLg6n6z+oT9MHeR23mWHlV6U/kWvdQvgQSawnwXogmbnrZ45VzzTHS6+Vlc18VVTQ1Z6Fzsv6goUM10TZG5u4ZDwf4uZ6W5rvSamdUMhnkcpIe1O7U/ffjLdVZ/vYsFzSRklqNeC/YLlg/fMg0Aq/p1tOPp5XnrbivZOJxkoj7HFH2Xn8pO+eXc5bjLD8tdGvQmnbyPCzmF2mDIqpw7HEmMAAty2GWDbBBQsRDOb62uLXHsgZVqAvbx5j4y/dwmOP7nPdR3zU0cKKnHDPfc6bDdFfSN8SWjs6q3/tj/08pOtJ8tHt2LtUtuepKyk327H8IurJOGhrZO57rU3YeiPQlm7jmfpmfHnemUVueRnRmQHFYu2DU7nuaK1g5FuE/aNNtmf7hj3mz0zePrLj+L1vypOo/CiTssGjcOhPSXA/Dy5YT8XjVf541cvaldGmbH+L6k/63ehGRtL0BWtpqDxup5HxvosdA28KfcxNnc61CWa/yvh1UXYb7CMet/cNVV32ZTP3pvX87KQ9YI1ZLljCJ0EW2BHmprhHxLShFe+vQtj7JMoOGyxmbT8R7e24x2GLKQX9H21zrEhp5EtDFQl7NlAZG/YExCYEHd2/DesOUArW0lh74TFrzG9YbreGZpf47cUB+Lxhlkt0nJfbfqctJvhH+eXW5gR7ue3ZhLoLmhLDK2Uy/WtJft7MfHdprD0264uxM/C0zy5Hp00bsBam1fEiLloIFzsepPttxael2njFXsy8WY9mifnmDB82w9Ln2kB/W9Exa8ZGj6wG4fImgWLk1tENBoZ+d99rH+TmHjI0oGw4UoE18KSDaUei748vcm8H7Ah8+E15mi/0YdFZXrl4Lv0DIHyIJNaVYEm/imtOc7CpEjTOyRZU22W80qDjD3izi/qCNTtd7GfBMGAcuDYpQ8tHnrehAcMpZVjCzXenU4zc8vvxBCqojjuWDoL1v0QtWMaHLjc/rarIjPbYSGOY2x07Xz5GNM5I7h16m8R3A7DJyBTLIzfRk5e6012xm456D5pBZmfuBWCixnK61oXe3NmpPE9s1oJ6DtZgzgHiZOw/tvJjMd05fm8SmVtsv7gHe5fKDi7FXrYm7cZkiHmsEBst0r32x37e3Nex20exdzVDhO+fRm9l4v122F98ujHSkor+gIjqOdW/lYqpZ8GmVIZ13BPlWCfBYkfGfhMDxp74+sbq/FDv2PvDi++exO1yz+9G//rTE09vpkcFBJ04W/ZKb1hhujECrU6Mg+7pTUH9i1EK1uTcx6cnN+MSvDm65iNaSIZvhwbflspm9AVLxq88Zkal0w9ee4u12fI8GXSac0rH54HsA4YGLPdsIZ5S5qoij18BwfrdUAuWoXfa05bKopsxrjZMmpm9T2pZL9E4J7m/6H/bj8VHscnmDHO/m+jJ8rErzljBYLkVoI0o2fijQEzUGHvxOkXGu3sIm+ylnoMlynFTnoxLkvJjMd05ce/tonyGe2kX/nJj+H3sZf8Fe0yGjH3KxpddS/rzpqr8sEfBqFaHi7ulX5He63tx33LPUfqf/JYX9uPVQ4TCmvitNArDIvohVqo/P4qwZhjQNoU3CPB/BC0+lgeZMSi2UU91xk+Rzlw3I7Q1klTV1JB1wjeqVIyIXpy0P5jVg/5DfR6oKU6ODPEPTils15tZ8flROPpFJv73iOb0eofwIZJYZ4IlnxlSFkSGadDd8S+d6QFRVeh90hcsGf+eN9Z6MPK9JR4dkw0VHDNGC9bemz0d2c5YmWNucj+b93xSIv8gEP05g8HrAbVgGe4NO+WMdRShHuN8sZVIbShk965f/lVcghuMarBMWOiHv3TCkouwwhebqUrfFt+J96vrzcFSDOkK1qhSsGiuGb1oFagYzvXCX7pnDaIv9W1M+9of/HnLBUtYdQybwcBwSsXnS6kmgpgcLuPrtv8QtFVA05pMpmZmuiH3fIhfSGTS/Sb+ohwZSHF2Otv0ERlrueBqxaRs2BNZ/KAg7mhCm/YQhhxpO2VLQzNyaif+MwCNYH1FXmc4YPmBaulXxZeNXDkSV4lqqL5gKUYKjmCDiSz/W8Oy0TFxgY8heh/dMsffKLMQg+0ZW9Lw9jMyNfcO5rr9bqgFi+kaEeGCdRQZUIz2XGlR9mZhkN1f1Js/3sUFi7Uj/RXmKPOFh/GXuzNfz3wdLwrAu522JTThdYreHKxZsa5gyZSCxXLO7ZajLyW5HvjLfXloJllmY9rXkv88iVKwVGN5orIj+EtHvPm3TLD+uetngr3ck4XPl1LNhTXyuzOu2ySTi7JdGXTq1tPP9SaoLfKeF8YHBwVGpN1qRpC5hdZLro6JnWK57GmShzWVaror7mbZvZM+F2p1VodZqI1BmzFY3tM6uI4hfIgk1ptgzS0N5Hrh/ysM3dMr4r0vNmI3T1+wpC2X8M5SGntfeGTEKSVR5x/1IKIiP3xsCMPI7khuI0yS+J+iPUQ4/yrVlUhwu1IaVdOGSO/dcoMpOqY2GGnr5Z14c021isfPCJb+ydovf+znoS/1BEv6MmUH/oNdr+JT1+UTWWgWQ3/w1uQm3VoZab+C1vrMLUl6x3VZGsjz3Rlcw5+RFPuhDUSKict1bCa7rO9StGbCIgbyOm4TJliXl61H8NeiFiy0Lsn1MMaSA/PAlaLzPomdWNWoL1hfmhPxsWAq2y2IKACREXHn749LuBX+Nvjzhiisrb4ZnWPfGisBfgXaQ4SiwcvO+O02YDmc7RQR55De3xUEy0ctWF9eJu3CrlK3oH5GsPRP1n5J/vP0Bav86DcES9Z7bhs+3OlyA5+6vjSQ5YFnue2JzbqdDjODF3cyMHF88a3OCIRb4rM9okywOHw3yIaC/mdxu4LNZP/y8mJCLt6Fr2KhIXYLLlgjWgfXMYQPkcS6EyzNkDmDZeaRrqxN9QULaUvfjddejilv8RO0QESP00IdTJV5kLYpolFvuSDgv0RbsD7JpwdSHJWrNjDsY19iY/nfvHffEqyWFOX8A2diUt1/JVg/9vPQl3qChbzGtAn9HLdMlWDhM22Z9pdf6gmWsgeLnVin14OlhUzYEGnvndu/hHRlYX20VNuIh/g8U3FNTPRTVc2Bg7SctKHR6T75eu3UvxiNYM19HS8NtcbWSaJuMPVMV9aU+oK12HrBAS8PTinLegEl3BdpgXsssTuLVYFRj7WnrQC/AdqCJf0qact0Ua7aQLePe6YctPrG/f2WYDWfVU7BdEnDxsj+O8Ei/3mrEqyZIUyb0Jd7bxKCpXzYiLYrqVVXpIgeLE5cPfkjlrP/VEfsPpQrQIieeBo77Dmedt6XRSc80HnmZuFpFBsVLK/8Ga2D6xjCh0hiHQrW3Kf62K1YUTY6WkAs9rNsDpboSSC+oKWxRyGXaEQqhGMyYUdJVrVchlZIE9ziaGdzCtG7i58A/A/4rHy4j25gopzkPvkq01mZ4Ghbox7hT3SS3DvxNw1GJig7gg040jinlCNixBetuWD92M9DX6oFi+g6kjRFYRNXGXsu4elv5m3KbjQxUW1CG/BHlrRA2mJtaQzTyEqdnnZtPrckuTgn9aJ/cVFJ4Ab0b20T9xT7z6Lg3o6IKNF9TlZaE7SBwtyW0gyjVypwwXpCTAGUtsdxsAnFpl73iPu7bA6WsDQEX6zS0DN3kvi3nX0/Ojb/Oj+/GusRVwjeVMbsMWVo6jbgt2Fa+XAfhW6snOT+qTXFBVvlDlUNTtxDfECD5P5+/KZgKfh3/LD+eOrmWKWIEF+05oJF/vO+V7CUY4IfH0Vgz+6wdl3Fa8DFNylOaJZjWEZX6z+DvFB7ajOTYh5aRboOu6Q1zdnxcjOaoKaqsWXGsAUvsPQu45WeCK/WnfPwqSzQlE7bce7lt/rD1hGED5HEOhGsmcFkRy+8tsNeYmtp0Kk2wbXKPg+sU/fcDky5DBieN6bxMveh5pQdXimyj+W8GeCLmksuBMfXDjac3+mS2aasqKRoC4NmEfB42Zw+4L9jrvAwC/1PTjdgehUoK/5PLy86Y1MKUC2wjXiALaS58r3joZmFUBaijTV+2xd/uefSm0X5rLw8GMsXTPtLLyRfkdHaCHwld1W+UC0GQfPIwlZjR40KewSGTlM+56XgXj+Iv3TL6EdfLg1kE0aVjXVu6137Qz8Pzdp3A7A8TmWHlvRVJ13I7//ckXnAnEK1DKrBmnqiJ8fRdGzkduXN8rzzqSZ6M5Puic1p1X8LAxks9LKPqcYf/5E8jWNTiTSNDD+M8M16qatlsuFbHnSa3Wk86QM4SHu6swdek2EvsckohhTrExWqSbiy3vP4YAqd7nVDudDr1MtYDlbhMTcG5jRO8Li9dxPCEiom6k/v3JcypPyHnayKsKSaBZYue2QB+LVMlB3B1/qhM3wKlJ240r5Le7AnjlEZ2hz8FP2PTHJ/pTKVUam6mf+55Y0ry66M9pmvMsGzE1iTib4zsVs8t8SrjMZXckebTM/xZRSIxSBYrvnYauyoUWFPAaO6k9OFvZy8rnzpkov1Jyk7jdQn611L9vMIo6LvTOrD5qEKS31wwXK4yMUF633xUfy5n42RJa0NFxJKujry3DdQGabhZViGnH8QiLZIN7imc/E5rDpMPovnUBke2GM9+m9hyIW5B3dFVP+DvYs0Y+1GZUtVLr4XFpjaqqtlqCzuZzA55/VnlK5bCB8iiXUgWMKW+wn+TpYUmsWuoIQbbzAdnp0qOOwU34jfuam+O2dOOCkbJWgRtN4fllKHNQKm3hZGOJsr97igme0JL+uQfJU0nt/N3rXP+3TK9cIrEfs4O04W9fwhHv37g7x9kRHpxcH+z+N3yuZARFojtjCxtDfZQZngqFYuF6qHl1a8d0hPdZSjsveLsdXndnNvQzzxkmV/rKRViia4N2kH2SwDmvkmB0f3uNNH2CymBcfezS/h6euXxf52yq8w3h3++HVrSeB25dwLw50h1Z09T6J2m+AfZbQrtLqzsypsF/aEM51i4hhW1dqicy2W/n7s5/Gfhm3C0iKducUvl4v1l8wiNSm+dhaO4ZkPcsL2WG7yufh05f2CkJ4bboZmAaUrPXczO1N+YpdPnmrpphn+LT+OEY3t6htwyPvs/X794i2ujrIx8szBPFLn+N/KfPOtpMDd5gyq2R6/pBuNmPTLePeO7D7fgIupuLUsMdDZEuswwO4se+/JlCrsIUFRZ1mUgxneqKMwTR0jCkfEcwsNpx3Q8uZzMvN67vVIp827Qyu6oZvwN2KJ+yQ3yoODNXuUd9M1Ju0Rtkjm5Mt0J6V1USxcExrQpLTS/V3sLolzVu70Rdt69FpPd/V54iXTPiBvYHJOwW/M8bJh0KmmW3Y4eUad87VhGJtxdroEnCl723wzyF75FYYOEaVvW/JCdhKP+OwMLRnpLo1zNMY/irU7rGTkzd2TDtgiLxSGsVNEyYDutdiMghV+3gy/JNIF79misDYfu9YyVn2aeGlkF5zX9gltRvLKTm6h40c2BeS+wY6MPMv04VjtCc27nRPtYLrF62IzD81v+v9uaFYZvbrX2PzY45Wm0yj4FVE7vUtUe/gsdt8K4jAYbJdAX0/fuFKBvq5J6kMtNnjk/DmLuRM+RBLrpAfrB1FMjo+/fNH9hkfszyoTTQwIFPKZ99zOnuYO8TsYHPx90b9338cCv6e3qVUwPqMQjk6O/4fV2w/9POl0R2tfJx8fxVaBiERtL143toverZjaCD61pnlsC1hxgZkPvP4pnWtnP/K6el+8mVxhx7HZmQdB293TudB9tQbMfuL39TU1v+VOKXsWFe+GJtDmHyKe6mjpeT289lsIA/9T9O/v94HMdL3setn/DzL7nvf2n+W9QWvGD/28Sf7Iy9aREWKyDY58fvB1V0PT4IDoW42uybac/VtC7mlv1aVCxBdwda5ViPkjzc1crnj5yQr+g/DtrtfbSWc7rD8IHyKJP1uwAOBPQT5VFRdw8r7oJ1L2Irc0IeB8C2yFDgDAKlniVp/zjXo0+BOtVuTtk5hjqU/HViOsvz2ED5EECBYArBNm/3l5O+PKI63d7FcBmh+zzuf1CMCuAAD4ERTjrQ8upTdyv9XXTgrytuHyubvNE3+UXaEQPkQSIFgAAAAAAACrhvAhkgDBAgAAAAAAWDWED5EECBYAAAAAAMCqIXyIJECwAAAAAAAAVg3hQyQBggUAAAAAALBqCB8iCRAsAAAAAACAVUP4EEmAYAEAAAAAAKwawodIAgQLAAAAAABg1RA+RBIgWAAAAAAAAKuG8CGSAMECAAAAAABYNYQPkQQIFgAAAAAAwKohfIgkQLAAAAAAAABWDeFDJAGCBQDfi2Risqdngj+tf5wU+XtuZ09dq1iiOaiQCEW93H8ksOnyOkYhfsvrGSe2rZWJxpuaBSKdEwDgvwGZ4/bxBwSf9Y//AFPSbu68TO8gsEoIHyKJdSBYwjdPr0Qc4JibW5pv2uPue+Sw35HDvj4HD+21Y1tZ+lwfXNI7HwDWHunInQgXW2MjIwqFaeIQUSJA9E7QBRnruRUf5OOXmFnWMyAiiqhM0J7m5+l3pvBWbrLf/uNp9TOQ3X4DFGOtjzJjfbajGcbM1ikw/UbNBPnNXRqqL4w/yDGmWkc8UlZyX5rO2DNpu5PbFnXPBIC15VPHnVPO1iYbGFQ6zcwhrKp3Ru8EnNnJ/CO2VqbmllpY2Ubcn9A7TVYRyjH1ezSpfRBYPYQPkcQ66cGS1IWaUekm4eVSrYMIP9fbO60L8hrwX/P+6aXoi1VjwpmvEt6LREdjpmnoA5HeOWoUI/VXPa3ZB9M6+NrdVHLBzYOWW6OahfhL4dO4reZH8qB58JuAvI7bRKPTvfP4RL/UN5A8iramqQXrq7jzyZWMmq7v79cEgNUjrLkacbGuW7QoR6Yen3ExoZoHPZjXOwcF6b7u5RhyJvVmdna+kuQjW80OlvB0uswVw6Un7VjUDSBYPw3hQySxTgQLaUfTH8P8ZLVuFhPWV5VzoYoC/mNEnQ+fy9W9Te+KA0xo7lkkbiRqydy3geVw5rVSpNSIa+I5tG0JTV+II7LOBA6DE/0SEtxvwcxA8g4GnRFYot2EI0FSl7BJS7AA4L9nvvHR6zG1JIkq/QwZbpnCZV2ti913b1eOajUSZqdveVsdujml3VmOcMtPRuWedWWAYP08hA+RxDoWLOQtv2dK83JylN8vVMhlM11N7U29/+iWPIWYx2tq6Gx/+167nEnGhYMihVwy2do8MiZXHeSPNNW1veiWilRHAEALBfe6l5VrXueK/fNIf/IuBtM29pF+/9ZCbfQmplFQiVh95H2JnzHT9kwtoj4C/DpmBrUEa+HdqHiQKxriz2NpRDIzxBUNcsU8ESHHywVLKhAOoZlE9VI+93mkq6u2vrtz9MO3h5IB4AeQvb3jaX4gq/vfR29k/Ps+5l65b7UK58x4XkTiA54oxw0Eaw0gfIgk1q9gfW6+EJPZi/UiSPobU47tMKdtjiooP+19wHXnRmOate8tld1LR0qSEs6k3r6eFu1kZu2W1MKfVfBbHiT6Olgz7WIK7vhzjOkGZsEVH+UyUUXCYc8T1+9VPck9fYhje+BMhUhKfB0AYEj6q6OOnK3mrdx9JayIsKbQOKF376YlBPsGnTh1tagV7/qSCzL3MpibzjZodGqhPnYLk7Y/E0YJfwd0BOvjQMPNo1Y0lmM2qtHI+Nvq7CAOlb4rqV+ZUrQEa4lbX5hwFM0kW+IaFpQfJeXWnjl4KDT9YWVpYbw7Z7PbhQquqtsSAH6eaUFJhH/cQ8l3uLuCd8vXyv32oKazYKEjJzq+WiabFYNgrQmED5HEehIsOsPO83h4SDBKWMAhp42Grhm4YKFMVkdZUQ13Rdb0oxXYrPjGAWPWtpRmGfrWx4YEl8O5IrwsLnVnuBnStp6q+4iWvNF8HyPKBqfTjTzxWHVBRSP/86vUveZ7Mtuxq1DmG07vYLFcUtsgOQIYMsFASUqogwmNTtmwK6yqhygn2iw8PclmGhjtDC6obOa+bq5J9WazGHYR5VKZrCOBQ2duT32puerLy/M7mTQ7zaAh8AvRESxsYOXmAYZSsLCXkqpjjBUFC32p4N86akRVCZZsMNXRzCmFSzTMRK/jtzE2OGa1rlBaAGCVzMpbSzKDdpkxDaim9tF3+/4tdcwit7wtPHI0D21MtuWGJjaPz2K1JAjWmkD4EEmsqx4s05DCfvEgd6K/f+xNY9UpZy+1YEnqz3BoZieqlCkP7xswjaycRhPc0yBz673HE07FnEGJObLLxIC+Lb4TTX+TZSdMaZzYeqLdKZc2RVkz7BN71F1WSM/1vTQaO6pF6xl74C9G9vGdQNLx7H7CfhsmxdTr5vJnzebueDPpdJ8CgapDfuJJsDmVtTP91dSbeA6NaX9Zq6L98jJpF5O6Nb5RVQKBX4i+YMnyPLUES1pNLlhfJyvCzWmEYE0+jmXT7M+2qGu+pe70fSwq+2SNZjwRAH6UL2LRzHDny1vxnhtpVPODxQPfnMci45f6mHpoZotOdacEX65Tzl4AwVojCB8iifU7RKjgl90uVM1w1xWsL89Pb2WahFdMf0Xa03ezDmQPfUFmFjXghRIXLLR6I1Ih0ovqFH3nuT7NmCDSFmtLY7kVaPWvAgCqTY1RtjTjw2Xjesfn3hcfYdFNwrSedZ2/62dMZxwp4I9ccWIwOUmNWoL1PN6OSdt3RdVIAH4layNYuE7Rdp5v1XQtSOoTOVSGe46yEx0A1oS5RxGbmUy/QqHecW0UI7d9Lffe6CXqrw8NZ33Db/d2dPJwXiU5MowO5rd2jvSOgf3/OIQPkcQ6nuSuRCZbQJWITLCkzRftaTYRjz5pX6JEX7CG8txoVKsT9Rqjl/Ul2dONPO+OwJqQgA6fH4VbGx26x9c/vlAXy8GynmbJGXxuO/bw/4dHETZMk7Ayifqtjw8CTZlWpx5pbAz4dSgFi3n83s8J1kCmO4tiEVqtSTjS1ss7acxDeQiseQasIZLHMTbMIwUC/eMasPFBs31Xxgizl49lODPoBpRlaAo28AMQPkQS61yw5ILcoHMPJaSCJeOXeDGplodLh9S9UPKpimtVPXJ9wcIem99CZ9opZ27hTDdFWjGdU0eg8AG6fCwNMN9zcWh5wRBWRtrQNsc8U9evnytDzFl2yU2yr8KqKBuaQ3K76sEffF0AmxN1eqs5AL8GXLAY1rGPlRlGKVh7sjqUgjVV4ft9Q4TSpqRtNLr92V51R7jk8amNDJfLsFwfsKaIS0Msd2W0KcvnSsj4D3xM96X3kHSQz0pyPWCIcA0gfIgk1olgTTdGWFAZphHYtCr1QZn0yfn9HL+qcTSL1cSxaWYhlcqUh8813hBWhjZGZ6VFvhYMisW+2LLGXlFv2/Os0IDEx9gK2uLSYBMqO+aZegbMUn+BrxWNHVpBrK8tqI7mcKIrVRtiAH8vU/zH9+vbxolUhXDv+zvHVxMTrRa7i0/7BWTXKl9O96c4Glv7VRHL+iFdZ+3M3LNGsYpZNpzmbLrrXK9ySp+k5dJOY7f0Ds1YEvALmJ2piNq97UhRt7T3/DaGhV+1am3YjxVBZkwT79z+L3L5TPONMHsmfXNUsxi/SvIkzpZmEVpNCJb4fpAmk8iFBd6WLJvICiJvzFWFcuzC6nSWnAWAVfOx+8mjqtczRKNOLrrl5xrzkKiqkJ7K6KMhafVyrfMVI7f9LBxVLYTlgGCtEYQPkcQ6ECxhx7Orka6WFAqdsmGLs/dhb2yrHG93V3tLFsOA6Xl9Uvr2dU6AHcuAvtXvxsOeuaGGPP9NdDp1k296c+/0V9lo03l3thF6uQHFyPpAXOm4ZE7Bb606f8CGaUDffDizuFFETGOfnXuRE+Zk5x6RWpx39Zz/kYSiro/avwT4O0F6CjxNqExTx8DE61mZ15IvFNTy1B0S7yuCLRkM55QO4oh06Gmci53zieuFpVVXQr28E+oGVTkO4dbEuR8IvfqkujQ31PXg6XKYl/PLmX8UuYVFZR8K83faHVXUp+lnmnxd4G3NYDItOA6BqY8rIzfZ7vFOyK4XD7+sTjm8iWlA4xzNKW0VDzRVXPC0RjMJmnwqO/5BKzzZRHfOcWf7fdGXb969GhfkG13RoRkXBoAfYmY0x92MQTPf43/xStbN9AvpOXWaZRqEFeFWFKZTyrDm/Fnk9mEzp5S3pBkGBGuNIHyIJNZJD9ZPIxFMdPZMCck7VLVYGBsa6X47r5ntDvz1IBOCl8/bG16ODE8t63JHZoZ4H3Rn2CyJeMMvmgd6Ber+URWzH3k9fU2tozwJ9Iz+Hsjn+1vb61snhMs7mSRId+c4vrf3J9HUKsf4EPlAN5+rWpsUAH6Wmbne1td1jb0dvOWr1y7whyUinQL8cXRQwNNaiBv4jyB8iCT+FsECAAAAAABYQwgfIgkQLAAAAAAAgFVD+BBJgGABAAAAAACsGsKHSAIECwAAAAAAYNUQPkQSIFgAAAAAAACrhvAhkgDBAgAAAAAAWDWED5HEny1YX8Z6R7iwFQmwWmY/CMXkWwROSbu587rrMuihmBSIunun3n1jWRD5e25nT12rGLYS/8348m5Cb9ENAPjtQMRTHS3tL4eXLQSjz5KQx2uu7xtCNAeRqen+wWkx7LG7FhA+RBLrQLCEb55eiTjAMTe3NOc4HfA9chhbaNTn4KG9dmwrS5/r6q3CdVji1udHOFmy6AdyhmHBIeC7mX3fVZkTsod95NaM/ltKZmUVoRxT8gX6hG33YwMizmQU52Vf8nfxiLgzoncmMtZzKz7Ixy8xs6xnQESuccCvQMYv83M4WwetMuA3ZXG0pTTBz9c/9uaDFpHwG5I0I2u+neTvHRSX+bSZO08snSXqzQ12tqJhy26zLFxPFr1Vbk4A/DCED5HEOunBktSFmlHpJuEV2okP4ed6e6eRbvK11HvVjUUDwQK+G7mkubwq77S7OYXhXbCiYCmGS0/asaikKyCLm6LY7NCqeeVLpDPTyfhAVp/aohQj9Vc9rdkH0zpg75TfkqWuK25GFIuAe8QmJP8ZCv7wJNRtwOqYRWovebFtvNMa/6V8yvhtKR627AM5z4kdvXDk4pJQr+CrdU2tPU+L031sGXTa9vgG2K3kpyB8iCTWiWCRbPYsrK8q55L1ASiGcg6AYAGrRdqaupO2smAh3PKTUblnXUm3mJA2X7Sn259tUa3fLX163MQ64jGxaZ2oJXPfBpbDmdewwfNvynRn4r5tHCOqsWtez385gIIMlQX65ffDGA2wCj40p7iZMx0SnxPtN1KmelJcTI12JjeIdI5LW3NiruH7ouKIn5/bTqNxYtthlsLPQPgQSaxfwVIIekaHNRlKIebxmho629++V6m9WrCWJIKxF/XtrcM6Uysk48JBkUIumWxtHhkjPmf5h5Cd+VXCH2mqa3vRLRVBlvyzkLZeXlmwZsbzIhIf8EQ5bqSCJRsu9GTS2P5VQ3ipENUnbrMOKeHjio/0J+9iMG1jH+lmPeD3QVBx0jOpvSqCzaTZn3lBaLEuC/y+3rr6rg7+8nc/j3R11dZ3d47q7WSy9K6/t7bmzWv+R7HkE3oEGX2RsMeY5ZjeOCTmCrAjOGSXAwCG5FX6Hjptc0TjvzXPFlqTHQ2pm6Ie63uYuKOnXXvzHOmzYBMaO6oFBOtnIHyIJNatYM1OF544U6F8KR0pSUo4k3r7elq0k5m1W1ILPv6iFCy3uMvhjrYbrVg0Os3a/WL72KyC3/Ig0dfBmmkXU3DHn2NMNzALrvi40oeQnCkTVSQc9jxx/V7Vk9zThzi2B85UiGDjwj8GEsFa6MiJjq+WyWbF3xAs+dx8XeKeDRQj++CS588LQzyC0htkSlkXVkRYU2ic0Lt30xKCfYNOnLpa1Cr/dj8/8D9ldjLvqG9O/xJaAHbRqDZBT8f1ThB1Z/l5B6VUlBcmu1uacRw8vQ8HnHkwhd5EKbf2zMFDoekPK0sL4905m90uVHCVvZgfm9MCjl2sa2l/fTvSeWtYvWTuU8eDK74cOtPW90xKVvZDAapT5JcDgJL3FcFWDConPK8qLTrsmF9E7KWKFu3hPzXi2hMWVCY7Oq8kJ+Z4oH9wYkpR39iKExIEpT5Mc/+S/3o0/A+H8CGSWE+CRWfYeR4PDwlGOeG7b4upaTguWB8bElwO54rwZt9Sd4abIW3rqbqPhGBRLA9e6RmXf5VNdKW4mqEFNKYGe2s038eIssHpdCNPPFZdUNHI/39kH7LszM+vUvea78lslyl/23zD6R0slktqGyTEP4QVBWuyLTc0sXkczVP/Ilhf5fLJqlgnMwqFTtseVSVV9UYsPD3JZhoY7QwuqGzmvm6uSfVmsxh2EeVSyG6/CUhHlmdA1Sh6i+XCnP1GDMND14a0px98ab3gsMExuxN7MlSZIpxTOj4j6PmywVRHM6cULtHKEr2O38bY4JjViqYI0UN/M88c5TQGafuFpGdYsZmV5HowWPvyiCHCb1yuPAIASEu0DY3O2hWSU/fizXBTeZbPRoYRJ7psVN+xJDWn2VTKBvvwnKru9o6uslTfTTSmXVgNT9+xFPy7x212pL7QnXUDrBbCh0hiXfVgmYYU9osGhoS9fSMtj3N97SMxwRI9DTK33ns84VTMGZSYI7tMDOjb4julqiHCbNUkLXxuDdUmvBHNcZNlJ0xpnNh61TOupB+y7ExpU5Q1wz6xR91lhfRc30uDjtY/hxUEa6o7JfhynXJo718Fa1pQGusfEHp8hxGFztgWXCzAC8bcHW8mne5ToG50TjwJNqeydqa/+sZSDsD/jo+1sQeiH3/A/6zg3wu2ojB2nu/T/KeeleV5MliOOV34/ULa0nfRzEOrsYHCycexbJrWxDtUv9L3sajskzWf5aIngSYMzpGbDfxF+dwilzuFCbeuYH3rcuII8NczUebDoBgevKd+OEbwIAwtog7Jg6omnOr4HV8jA4ZXgbpfau7BcUsGzSG5XfdpMEl3kov7xWaY4f6zED5EEut3DtaX5pyCWuQr0p6+m3Uge+gLMrOoActcyya5I81R1jRDj8LhWaU2bY1vJJIa+YcsO7MX1Sn6znN9mjFBpC3WlsZyKxhUtkeBdc4ywfrQcNY3/HZvRycP51WSI8PoYH5r50jv2LIqUC6+d3ybc1KveO6rsP1uIIfJYDpdbEVPe198hEU3CSvXPAY7f9fPmM44olEu4NchEzwMsN7qEajsIA8P8XdjUylM65NVmglzn55EsplGx+6MYfcL6c52ZjpeeoNWWrgP0Xaeb9X0YUvqEzlUhnuOCJlb6Ljhy6ZRmKbOYdc6RpQyrSNY376cOAL87YgrfZkU8+N4D6gSUdUxI4rRIY1yKREWBxhhU1nUc/u+CkuOmxgw0YSm6SyfnatPCoouFUMB+3kIHyKJ9StYBNhzWzSbiEea8qRimWDJes9vY5j6VQuXaRP5hywTrKE8NxrV6kS9pqDL+pLs6Uaed0f0+2CBdYm+YMnHMpwZdANs5Rhd6LuS+vUylLQlxZ7pnNpJNBaR/sKDJnT2yRb53EJdLIfJ9CucUJ+8UBu9iUn3zlNOgQd+JUv9OT4HU7sHuKJBAkFV9DamwQavvEl1tYTwauP2WHF885+2dhVHe/ukvMaGjOeWBjLdWRSL0GpN9sCLEPNQHoJf+2W4/mbwTjOmAYN95F436li6gvVvlwMAXgOyaUaHywSaI69ibGmGy+od3M5ZRwrnNEfqEjZTGVrF6XPX7cS4ojEYclkTCB8iiXUvWDJ+iReTanm4VPncFoZ8quJaVY98mWBJG8IsTLzzsUmpetpE/iH6Z8plnQlb6Ey7lGb1DInppkgrtFIdgdbAn8EKQ4Ta4LUj2RDhZHmoGd0jSz13Z1Z8bT/DxP8J+mdhZaQNbXPMM3U9+rkyxJxll9wEU21+OUj3OaeAW7rTWbChfwaFtSujTT2GK5c8yb6a+6CxurqllacZW5E2JW2j0e3P9qp7tSWPT21kuFzuWpQJXz5swu/4jLTmvJs5bVvCiy+EYO292Ytnm29crnwJAPK5+YoQa5ZtQo26C3y6LtSUYX+mSzOWokRUG2rB4ES/VCcoSVWkJc0+sVlZhS0OlF6MK3irSV8zE62vYZ77j0P4EEmsE8GSPg+3oNKNgu5pP2WqZFZa5GvBoFjsiy1r7BX1tj3PCg1IfIyWGKVgqWs7Bb88wt4po1mCXSUuDTahsmOeqWZWkX7IsjPRxm6BrxWNHVpBFEpBdTSHE105Dv0QfwjSxiQ7GsMrj3j6Tx99wVrsLj7tF5Bdi4/0IcMl3iZmh/NVfe/TnQl2Zl55IvzP/SmOxtZ+VcRsU6TrrJ2Ze5ZmWRrgF7E0dPsY27tUf+lXXI7pVHZ4tbIz4MurVDeH4Ht1r3jdg2KeYH5SI17CAm9Llk1kBZEE5qpCOXZhdegHykbvhoTVKJ9GlI2VeBk6p2C9mx9K/IyYnHMN0wrRoICHkF5OfD4AoJ70KtPZ0Mr/7rQyL0maL9qbHMjqwSwc6amMPhqSVi/Hz/zcmuJiYhFUTHSNLzQl2pu75uNzB5d41QnuB5Ny75TdUVJwKzkw9Ire9CxgNRA+RBLrQLCEnbVZJ92sKBQ6xcTxRHZho0SvTpKNNp13ZxuhJxhQjKwPxJWOKzs/JR33TjhusnONTr6an3EhPiTiei0flS0Fv7Xq/AEbpgF98+HM4kaR8uSVPmTlM+Wzcy9ywpzs3CNSi/OunvM/klDUBVMF/whm/+l4WpFyhMMyoFrtT75V2TWwfMsUfcF6XxFsyWA4p3Qok9TiYGXS/q0uIZfLHpSXpwZ5HoyrGVDVxNKhp3Euds4nrheWVl0J9fJOqBtUV9LAr+FjR2mSO/ZYu39K6SA+5IczizTfu+bPoaPZgGXrm1zJl8x9ab92dBNDPUBMYTCsnSMfKSeqyya6c4472++Lvnzz7tW4IN/oig68IYcKlu9GR//ksurHT6/HHg/M6MIXMVIMl4TY0hg2u3yjb/ahR8guBwAtvgyUJe7juISml5fevR7uceRMFTFLT1gRbkVhOqUME2fKJh7Eutk5Rl0pelKcHu156EIlF8tOwsY0ZyNNAVZi5Jqn7EkFfgzCh0hinfRgfQcSwURnz5RQv8ZSiMcEHZ1jXNG/boqJQfIhK7IwNjTS/XZev4cW+NtAZoZ4utsDIzPdL1/XNw30ClQjyxqWRLzhF83oW99VIIHfhvetN5JSqvkDnb3P618+edxQXlKS4ud95rnWfUTkA918rkjrps9+kc58RaQzAz38Ie3jc4vCt4LhKd1u7+WXA4Ae8g/cju6mNgFfa/NmtDLiD0tEul2eyNTU6+au1v4ZmGv1n0L4EEn8OYIFAADwHyF8HLd1l/6aGuMV165hDxLqHAQA4O+B8CGSAMECAAD4NktDud4mdM6Ri1U1r0Z7hwSdrS13r15MyHm98hrZAAD8HRA+RBIgWAAAAP/GzGRNdsJR5x0ca5tNdnuPROXcezkN0wMA4C+H8CGSAMECAAAAAABYNYQPkQQIFgAAAAAAwKohfIgkQLAAAAAAAABWDeFDJAGCBQCrZUnI4zXX9w3pPCmtjUIiFPVy/5HADOj1gwyZG+oXjExh6xIjEzPja7dEmUw03tQsEC07/sNIBWOdb1fY1wv4q5CJxEMi3ZU+ljMl7ebO662ZjExN9w9Oi2H5q7WA8CGSWAeCJe6qv3Y+cLeFhaXZluCSldbXlrQl7LSyNLVgO4anFHWPQq0G/EfMyJpvJ/l7B8VlPm3mzq+4CLtM0J7m5+l3pvBWbrLf/uNp9cSK/7K3Jb7WFpam5lpYbA5+rH0t8GuYmXx4wXfnVrdjIeG+HvvdvU/4Oh7N6FXtd/SzfGk6Y8+k7U5uW4MFHRBee3bYPisawz1HvEImBP5s5BN5PmwrVQKxsE+qX74SsjazsopQjqn2vl6i3txgZysatsQoy8L1ZNFbsfot4IcgfIgk1kkPlnw8wwXbcNfIMbtj2VKio8XHbejou8zDt5V7BQDA2iPjt6V42LIP5DzHd8VZGbng5kHLrVHN+ILdX4VP47aaH8kbRKvqxc70w87+Fy5n5mdn42Sl+2428cqT6lwO/AKWBvN8zI29c7lKo1oYrE7cY7Q1TnsF0VWj4A9PqqsuceeTKxk1Xcv2Uf0xkP4briBYfyWS5hRPz/ikpLQLKBfSMx9OfHOjLcVw6Uk7FlWz7YRcXBLqFXy1rqm152lxuo8tg07bHt8A25D8FIQPkcQ6EazZmXzvnQ72xnTqpqgnH3TekvMzPDwDj25hGpgElUO3OfDfMNWT4mJqtDO5QbTsLS3ENfEc2raEJtVi3LLOBA6+8eoMv/haHbELIY6Mf9/Hwvsm7996+IH/nPfFRwyZmxLrNQO+C+0pniGlP17xIENlgX75yl101hzZ8C13EKy/kNmZ+6HHs7+7YxXhlp+Myj3rqtnXS9qaE3NNs/mp+Pm57TQaJ7Ydlnr/GQgfIon1I1g+3mn50WwqxcyrhKtVUU02JrkGVVXFbWUamOoI1sx8f2vb05qO11r73qNIxoWDIoVcMtnaPDIm/yoeFw9yRVqIucLPmpP5I011bS+6pSIYrv6rWWhNdjRE5f7x/LK3tFmojd7ENAoqEauPvC/xM2banqnVn62l4N3ytfIo1C7JwC/iY2mACZ1ifSRvVF3TIG9ri57+ozGY2Y/DnV31TVyuWFuIP/P6RO9mv4p5w88b+wZExAggMvoiYY8xyzG9cUjMFRAZSSoQ6kyXWfEDkZmuPmwKBCIWtTb29hPnL/B7u+ueD/NURUgtWAgy093cXvdKrLNHCjLTj825+cht6+4UEJWxbErS8aK98c2kEMrbugXpyXU1NGbv8gqMySxslPyLFc2M50UkPuCJctw0giXu6Gmf0jpH+izYhMaOagHB+hkIHyKJ9SRYOYODKbsZdJrDhVZVD8HszL3j+xNfvH9+WkewpH0VoY5ecUUtddX5gXabj9wckc4p+C0PEn0drJl2MQV3/DnGdAOz4Aqk2G/7wZjMjKs3rl7NiXIxY1AsfW/jO2jKRBUJhz1PXL9X9ST39CGO7YEzFSJYV/AvRVx7AtsPODqvJCfmeKB/cGJKUd8KS3jLBZl7GcxNZxu0+kLqY7cwafszsVFC9UG03E7f8rbwvEbs1Qr8UhTj1ac4NAqdau4SXdY2od+nONldfSH6Quq1O2mhzlaW+5NqZmSz/7TcPu+zzcxoS3T6ucM7OVttWDTGBqeYCvSGfup4cMWXQ2fa+p5Jycp+yB+oL0w4iqadLXENxJjjCh+IlrDMk85mDJOjeQ8uxxw7fHivrZEhO/Jee/OViOO+3l47TenmrrntMuxypWC5xmaH7N5sa2bENKDbuF6pEyhk4z23zwQ6WBjaRd+77mdnYkAxP/5MPvepsyQtJiHr2vWc8D0WNnsvP/3GADfw+6IYfXw18JDHLmtDhgGFTtngcLJmAC8PK7HQkRMdXy2TzYq1BUsfQakP09y/hJgkCvwYhA+RxLoSrOFF3u1j5hTqxpBaAX4c6c/3OljQK/+iK1ifH4ZZs4h67ktT/DbDrReasLKoGM33MaJscDrdyBOPVRdUNPLld6+XKyfFS7vy3I1pVt73B7DOqi+vUvea78lUZjT53HzD6R0slktqG+zD+ifxYaC1va6elIZXIuU0GknNaTaVssE+PKequ72jqyzVdxONaRdWoz3khyHrSEBr1u2pLzWJ78vL8zuZNDvNoCGOjF/qY+aZM/S9vf3Af8zHzqLoXcZUugHF0Noz4d6IcgodxtTrM45HielZ8rEMFwZz85laCZaRCg4x6YYu5+sRtN0lfVsbZcdgmB4v5ivks5JcDwZrX55qiFDBv3XUiKoSLLIPlPUl2dOZmyPvD2E96Eh3tjONbnPwZiveG/quPNyatv3MC6wU4YJFtTqQ2yxcks/ONaV4mFNonOgWtKzKxkq8GFRTh/OPRt93P7xX1ISIn19w9iocxH8J0pu7j07fGvMK5jWvY2bkb6pvhOwwYRgY703jrtjmn2zLDU1sHkez07cES8G/e9xmR+qLNZoa+NdC+BBJrC/BUsinXsawaXSWZ04/mqEWmhIPnHggl83pCZZirLnsWvkI9lz07PzT6G0s08hKvBhNlp0wpXFi67WmryrryJnRbHdTpplvgbLOkzZFWTPsE3vUxRfpub6XBr2pfxZyccWluMiIU2REpTYqFUpwx9fIgOFVoG7qzT04bsmgOSS36z4XhryJ59CY9pdbtQUraReTujW+UXvGtGLktq+lq7oCBn4LJEONqb72Jlj3gIljTO0Q/jCNsCzUysI1OPrMqRiUeF97Yzoxx+7TPT8jpl0y3nJDUYzc8jWhbPAvmV8mWF8nK8LNaYRgkX6gnJ/uxDD0KCKsXfo0yJhud7pDmYKQ1xkONJZvMTb9lBgizFZ1f8r6zm+nMyxjHkqxq44b0Tmn1LNq5h8EWto4h8Vg33XmVHTATkMKc0tSo6Z8AusSmaDllB1j5Vs51Z0SfLlOOVX0G4Il6U5ycb/YDDPcfxbCh0hivQkW9jSWq5EBfXt8x6SwJtTtUhPeTaU3RIgxNfbwxvUr2Xczjm9lmYRXaAQLre30OqIWu695mVMtfAqIhzKQXlSn6DvP9WnaB0hbrC2N5VagbAsCfxXC4gAjbEBZU7qEJcdNDJjeGuXCkfOvODGYHO2s9+V5vB2Ttu+K9tTUWeSWt7nbVQGMD/5+fOwqOe20gUo3MPG8No7MLb5Kdtjgmj8gW0Rm1CzhN05PsL4ib67uoTHcMoXItwSL/AP1BGu6NsRES7A6Mh1pxFPSyya5LzyJtGXSvXJ5CqVgqa+Szwwm7zByz56Qar5rEZFrFUVgvaIYyvE0NAy+r79Mw4eGs77ht3s7Onk4r5IcGUYH81s7R3rHNHOL5bNz9UlB0aViSEE/D+FDJLHuBOurbLw6wIzKMDuekeLrkyPEi4i+YAlbbh7dfST95bwMz2jfFiykv/CQCc3K+x4+OIgfGcpzo1GtTtRrxB/vwDfyvDuiTH/A34SkPpFDZR0pnNMcqUvYTGUcykN0py98ehRhwzQJK5Ooj3x8EGjKtDr1SCsPYuODpm5rt8wS8FMg/Y3Vb7TqnjnFaEXkJioFN6QvLxLtWVZ455DmBCXLBKvnmgvN6EjhP9/swSL/wB8XrC/N53awjIJKREQPlkawZN1n7RgbwxtXnoIDrGckVRFW5lFVegN88rEMZ2w9o2XQdyX1q3Tqc9ftxLiiMRiNWRMIHyKJ9SJY0hteh7KImcKfnsdvZxrQWNbhZULlCQsN2oI105+8g2EeVIunlcXWpN3fEixs4SIzpplvPjEhZmm44+3odGfCFjrTLqVZ3RUx3RRpxXROHQHl/xsR1YZa4KstqI5IqiItafaJzXpdoV+FVVE22kOHMwNoUbQ5UaeZ04OPD1o4XeuCrtDfA2Qo3/dYmc7jnKKyIwwKyzV/QK7g5R02opgfua1p6yO82msl48gywcIm6rEOZPcvEYK192bvCoJF/oE/LlifqkOtzQ7hz1brCdbsdN5BFsPU79aw2uaXuBW37/aB3K93lgZzPG2OVvzLqtp4UdQdIlwcKL0YV/BWc2RmovU1zHP/cQgfIol1IlhoRbXLXj1TGOkv8GAxdiR2qxz886Nwa4YB62gR/hT9dEOYOZW150qr5Csi6En3MGOwjt8Vf5ZMfxWXBptQ2THP1BNilgbyfS1pFj75yp4wzLeuX7g7KF/qL/C1orFDK4iSJ6iO5nCiK8fhAZy/k8+tKS4mFkHYFGbs5UJTor25a34XNk1nsbv4tF9Adq3y4SzZcJqz6a5zvcqSKWm5tNPYLb1Dy8NmkduHzcDUfyOkdaHm1l45Q+qp38IncVtoZgdzsTFc2WjFMay/3C2usLObK2h9mB9+NPkRdq9xwbKOrlIuyTE7fS+AvS2qSYBVeB9K0Lc45xqmFaJBAU/+VXw/SJ12SD9w5m2KAypYhcPKKhNTJRr7JDHpE2lP301jet/SCNb+LGI+g2y85oTdvkst+GQayeMAQxo7+qUqMSp4RYFWFKqVy9nCprHB/oHqrGi/M038b9fKwG8Iwi/LyMmrESjFSDbREuvsndVBVGRIT2X00ZC0+mXrbOsL1hKvOsH9YFLunbI7SgpuJQeGXtGbSwqsBsKHSGIdCJaw41lGlJs1hWrhGJtRMYx3BvxTHhmWi/c5yQR99zPi9ppiTwCZ7Ai/fLeHPztfe87ZnEI1tt7jFVlYcyfchsqw2n0yt7zi/AEbpgF98+HM4kYRmoNkvMpj5lTGBqeA2HOn487FxcQF7d9qE/AES7Wzcy9ywpzs3CNSi/OunvM/klDUBfMB/2JkEw9i3ewco64UPSlOj/Y8dKGSq8xK7yuCLRkM55QO1TJI3Jo49wOhV59Ul+aGuh48Xa6zFoOM/+CIiXNKJ2S03wbUbFzt3Tw8Pf3ikzPy0hNPONls9brwYpjof1LwHqccsGFhz8YbsNiuiff7lOOJuGCZOR8NPp10JTcp+JBn+IM3xNCwYrgkxJbGsNnlG32z601TxQVPazTtbPW7Udnxj2zFD5SJG2/HOxlSGBZe5+728AS8ysvHNlEpzE1BVx+NjL/tLIhyNjGg2Xim32uVyaeHC4JdNnMORFy4kZ2RHhMce6VuGnPB8b7ic94b0ats/VKK3wwoB49mpY/OHWQzsfRIZ9q6xz7u0RtUAtYF4uZTW5h0yoYdR5NSUlLjolMK37xXvyusCLeiMJ1ShtVHCHQFS9iY5mykHjQkMHLNU3e1Aj8A4UMksU56sFbN4rthARfftxVNhbzeEe7Uj3U+LYwNjXS/nSe63IG/G2Rq6nVzV2v/jKqHAAeZGeJ90Oljn/3I6+lrah3lSZaVOomsv1+6hvv+Aj/NF97baeyGSpGu1o6GF9wh8fIRNDwP8LR3n1QNEUrfD/eO9KsWFFWxKHwrGP5Wzln+gatDJpH1dr5FP0GnKJKByAe6+VzVUqjAugSZ6WntqG/s7Rz9uGxEb4E/LNFZbxb4X0H4EEn8qYIFAADw36E/BwsAgL8QwodIAgQLAABgtXy8e5TFZCfW6W+CBADAXwThQyQBggUAALAaZpEXRZd87GxsrPcEXLr3qEszGwYAgL8KwodIAgQLAAAAAABg1RA+RBIgWAAAAAAAAKuG8CGSAMECAAAAAABYNYQPkcS6FCypaI7kkdQvY70j3BX2tViJ2fmeF929U5ojsqnJjj5Y0xZAy8YH4QrP6n+VTf8z2C8an/7XJT8UkwIRWrbe4RsG67Io4gv7+R9/+Pl84D9FKprs/8+WZZEKxjrf6i3oAAAkkGQhNL2IRO//LYF8IwUtCN6Odw/prjUD/CiED5HEOhSs2ek7R53j6vXy1BK3Pj/CyZJFP6DcsvBfkTYn29MYuy4MoCUVGW7LPX2Yw6TZhDdCsfurmX3fVZkTsod95NaM7vGZurTjHkeTc28XJh71PJbWTrYctrDtfmxAxJmM4rzsS/4uHhF3RtS7UghfFp5wsGBi6/sxbJzjCjth6drfBdnEQFFi4F5HT9/ghPjoCF83l72+F4vb59aquYXw2rPD9lnpbHEDACSQZaE5hbCnNi3YmX34Pl/nuA7fSEGTXWWRjhvNWEyGAd18Z/Tdflga7WchfIgk1p9gIT25+xhUq2MPl9VwS71X3Vi07xUsuYRXmp5b1qPa53W6McKCDoL1VyOXNJdX5Z12N6cwvAu0U9tS700fq81xT5T7ooibT2629M5Tba+kjbgpis0OrcK3bELLamemk/GBLHzrN2S4Otwj7GpV18uWluJkXw6Nwtp6vl6zLTTwy0CGn0TYGVs4J1cPqzY1komq4/eaG+2IKpv8977G2Zmht//uykj/DVcQLOBfIc9Cwy9rivPOu22gGh66RypY5ClILm5JCbtS2TuPzC1wnyQ7G9IsA5+8U18I/BCED5HEuhOsz41n3LexjRlMD6LQaFAM5RxYhWDpgbyK2QiCBXyVtqbupOmmNklLjC1jW3ynauToS2O8Hcs2vmbZYLS0+aI93f5si6qelj49bmId8RiV+C8v0xKu9ajbix8b4rYzqRx8A2DiWuDXIOdn7zdhGB3M6dfNJzNjWa5GjA1e1/WO67M0cCfEP3sl29Zl2SbNAEDKCllIiazv/Hb6NwSLPAV9fdfU2KDcMhVjvvioMWtfXj/sk/NzED5EEutNsCaehXmk1VfHsql0+4QuXRlSC9aSRDD2or69dVhnAxPJuHBQpJBLJlubR8aUpUo20z88T5wDggXgSFsv66U2SV3CZqqxf4nW5l8lx02om07V6+uRbLjQk0lj+1cN4QVMVJ+4zTqkBNsi+uPrFq56O2GUyYpwcyr7ZA0I1i9G/CSOTaWY+VaN6b+l4BceMzGgbdbsnYza2EdeV1f9i7eqbXCWeE+SnIwYzsmdA8NTYxPzvGHRIFfMwzelEY+LB7miweHpd/hq72rBQpCZ7ub2uldinYmkyEw/F81FH7lt3Z0CQulkU5KOF+2NbyaFsAvKX8byLEQg60uy/5ZgkacgndPks5PXPSzdM2HX+Z+F8CGSWF+CpeDmBfjkCBCskDEYFuEPhDrv4oLlFnc53NF2oxWLRqdZu19sH5tV8FseJPo6WDPtYgru+HOM6QZmQflNufEBDhaGW2LbiewJggXgLEttS72Z+1nULXHPNTIkaTi7hcpwy1zebzFfl7hnA8XIPrjk+fPCEI+g9AbZij0WY7d9jU2DSjQNSuCXsNAQt5VpwNibPra8pkG6spxoFOZW5X44ipHG/Ojgc1mlDWUZARxTx5iKSUTKe3DR345G43hfSEnNr37zrj7z2EYqw/kyWm8t8TufZ/txmLTdF15hvqUULNfY7JDdm23NjJgGdBvXK3UChWy85/aZQDQX2UXfu+5nZ2JAMT/+TD73qbMkLSYh69r1nPA9FjZ7Lz+FovI38cOC9X0p6HNvSaxv7HPVjubAj0P4EEmsK8GaGU71CCkeQxPNUn+O5waKsee1Ca20iAsWxfLglZ5x+VfZRFeKqxmDyomp+Yi+NZrvY0TZ4HS6kSceqy6oaOSjee3+YSYNBOtP58NAa3tdPSkNr0TaHUsoy1Lbl+fxdkzazvOtql537JzUnTS6nWbQUAv5ZFWskxmFQqdtj6qSrtxAnJ0p9rPefb4bCtuv5n3xUUO6AfNIITFnRQfBfW8GhW4YdG/qq7TzpsfWoGIebjmynnN2dOXwioxX6EnXqLaMX3yQrhQs7KW4JNBIR7CoVgdym4VL8tm5phQPcwqNE92CFj/ZWIkXg2rqcP7R6Pvuh/eKmhDx8wvOXoWDeP2H9Obuo9O3xrzSK6jA+uHns5CKfxesb6cgxVhbdUrgHnMqhWG0O6Jk/D96YPbvgfAhklhPgiWuS3Q/2STC/ywTPAwwo7LsU1s0e4ERQ4TZXKKDHa8FqagzTc59nSw7YUrjxGqP6UifBZvQQbD+cOTiiktxkRGnyIhKbeTpjr8sS20LDae3Mmm7kl5pCxZ6Ds3u9JsVSsu0oDTWPyD0+A4jCp2xLbhYsPwccfNl131XXmgtEQL8IuYLfVioYPkWrbTdjbDUBxUsZuDdqY+PItg2IXXqWlA82NXQjc0u0BessZJDWoI1qS9YDPdsEVHh4ZNpGJYxD6X4RBkjOueUKhfNzT8ItLRxDouJOXMKJTpgpyGFuSWpETaWXqesQRZS8T2C9c0UJJ2a5/N4NbeSPKzojA2Hbw59e4oh8C8QPkQS60ewZmfuHdtotz80JDgcJ8TVhkanbgyrVjc9l01yR5qjrGmGHoXDs0rB2hrfqKkjQbCAFVmW2pa60/exaHYJTVqC1ZhkR1tpXEkuvnd8m3NSL1oTC9vvBnKYDKbTxVbVk6o4son2C36nS4chr/0OLNREs5kGK472fkV6ru+lUZibzjZIuJd2MbcndC1v7q9asDST3BeeRNoy6V65PIVSsOxOdxCfPzOYvMPIPXtCOrOIqJFDgfmL+HHB+o4UpETwOJZDNTxS+I/ecWBVED5EEutGsJDBAq8DWS+4ImzeKE5vdcI2GsX0YAmXcP9lgiXrPb+NYepXLSR6sECwgH9neWqbfHxqI9UsuFzzKL64LNScahP5WH/RSGlLij3TObUTq1BRkP7CgyZ09skW9Qny6dHbp84W9sLc9t8FYUWENYVqEfgUzRJ6b727H2xuQN0Y2iDGxgQZ5gFPlp/zE4L1pfncDpZRUImI6MHSCJas+6wdYyPe9Y6fCfx1/LBg/XsKUjPdGGHJWuErgNVA+BBJrBfBWnhxdp/vbanOZL2Z0SvOTDrN8dJrZWFaJljShjALE+/8KfQqECzgO1khtYnrQi0Zu5MHVZ0ci60XHFiWUZXKZbG0mCwPNaN7ZKl73WfF1/YzTPyfEC9nJkoTzxZ0arQMGRpog8nLvxak/5IDi2HqXziqeyNmp255mzGYLqmvv8hnZbe8jRkmvvmq6QdoRuquqn01rRYsgbZgOaUSgiUq8icXrE/VodZmh/D2oZ5gzU7nHUR/kt8tTTfnErfi9l39hWmAP5YfFqx/SUHaTD0JNFXXnsAPQvgQSawPwUKGHxy18b2lXxUphq55GhrQ2KH1AuVLTLDUZUvBL4+wd8poxtdyFJcGm1DZMc+0eg4kj/wNaZvUz2BPv4iypludqAfB+stRDv955Wk/evPldZqruX1K8zT+crrnrL3JvvRhvDpc7C4+7ReQXYsXTmS4xNvE7HC+mFCx6c4EOzOvPBH2Z7m0OvqAV3zhnTtlSgpy0oMCr79aYS8L4H+KpLPoiDXD1iuveUKVYWbnmjN9NjLYvnkjeEJQ8Cui2FTKBruQjIqu1x1dDy5HR98ax+7yVPUxFt0u7rVk9kN/v1QuqQ02pZl7FvbKviKCnhvH7Y1om04+xfo+lYK1P4t4Lkc2XnPCbt+lFrxbVPI4wJDG1qwHoeAVBVpRqFYuZwubxgb7B6qzov3ONJFtHgD8eayUhXBkHQkcuuHBklGtwoD0VEYfDUmrl2N/Jk9B4p4X96qH+MSTg0uDt4L2Rj+HQvWTED5EEutAsMRdjxNcrRhUjm/Kk1dCtWMpRloepvvZYRuP0Db7XKjtRr5KOu6dcNxk5xqdfDU/40J8SMT1Wj4qWwp+a9X5AzZMA/rmw5nFjSI0i0mHO4uSvG2oFObmoKtVw/yR3pIUv800CpMdkFbapzffEPhbmP2n42lFyhEOy4BqtT/5VmXXgHop0RlRWewh9xM3HlQ/yQg5cCCuZpAQo/cVwZYMhnNKh7IhuDhYmbR/q0vI5bIH5eWpQZ4H42oGsDPfP09yMcU2ydGGtV/V8wH8WqTcF+lBe+3svcMSsjJSL4Qd2L3NOTyjRkx0KaHMzr+8GbHbhIbeOIbRNt/0N2PKLDErueu/kUW33uN9+mbre/ncp7acI7Z0mrEZx8k361HxqS3Wjj7R+bW8Jfn0cEGwy2bOgYgLN7Iz0mOCY6/UTaN3XzbeV3zOeyOai2z9UorfDCglflb66NxBNpOKlROmrXvs4x7lceCPhzQLKca7motS/Dk0CsPMM/F2bdMQ0RcurAi3ojCdUobxl2QpaLEr55A5hW65K+Rsen5menpyzqthaN39NIQPkcT6meT+vSjEY4KOzjGuCKa5AGuLQswfbXnR18X/qNOsRGaGeDpL2qJHul++rm8a6BVoDUkDvz3IlKSjtaOhsa9D74aqQeQDPQLelO5Q3cw8t1+ivWqomD/W0Ydvpiv9INatw2QSWW/n227e/Hf1lKNf183n4suWAgA5C/xhnRJIkoIWBf19DfVvmrskIlgBa40gfIgk/jzBAgAAAAAA+M8hfIgkQLAAAAAAAABWDeFDJAGCBQAAAAAAsGoIHyIJECwAAAAAAIBVQ/gQSYBgAQAAAAAArBrCh0gCBAsAAAAAAGDVED5EEiBYALBKpqTdXGyjX/3jGhZFfGE//+NKa1x9HuMKhiZg+Ya/BIWwr+tF/4dlx38cqWCs863+Hk3A34RCJHr/r+vnIVPT/YPTYrLlGGY/CMWwMcAaQPgQSawDwRJ31V87H7jbwsLSbEtwybKVbVEkbQk7rSxNLdiO4SlF3dpL3ALAGjMrqwjlmPo9ItsnTviy8ISDBbb+rQHDxjmusFO9g6FirPFG4KHQ5NySnPNhnh5xdzRvAb+K96/Lr4U6sa1MrXaGPRnWpA7FWGtV6gm3zWaWW93jrlQq13NfPbKuRDs6yz69dS1WdER47dlh+6x09tsB/ioUwp7atGBn9uH7pJs9o4h6c4OdrWjYasYsC9eTRW/F2u/Ovu+qzAnZwz5yC3YhXAMIHyKJddKDJR/PcGGgxcXIMbtDP1UpRouP29DRd5mHb2N7BQDAf4ZiuPSkHYu6gUSwkOHqcI+wq1VdL1taipN9OTQKa+v5enyzJmSoxMdiS9ST9/iZXzoz9pvaRpTx9XZ/An4BSHe2C1obUcw8M4d1RErSGLlx9/nWn+lu/NhRej2jfPQH/WwZSP8NVxCsv5Sl4Zc1xXnn3TZQv7EXoVwuLgn1Cr5a19Ta87Q43ceWQadtj29QteXkkubyqrzT7uaUlTY6BFYP4UMksU4Ea3Ym33ung70xnbop6oluf7ucn+HhGXh0C9PAJKgces6B/xCEW34yKvesK4NEsL68TEu41qNed/tjQ9x2JpUT17CAvtVybifLNLwCly0U2WjxQQbDIXlQdTLwy5CNl/jYOe8xpdIZu07X/KNxlxleqsuxWwLNmb+cZTtGA38Zsr7z27+12bO0NSfm2qh6AFH8/Nx2Go0T266t+NLW1JV3kgZWD+FDJLF+BMvHOy0/mk2lmHnh+8+r3ppsTHINqqqK28o0MNURrJn5/ta2pzUdr3mEvCNTsiGuaBBleJKP13OSCQl6ZIg3py58Ev5IU13bi24p7CQA6DMznheR+IAnynEjE6yPr1u42r3xkxXh5lT2yZoF+az0hgeDyU6sQ1TvIu1xbBrLOVd9MvCrQAXrqGf+y4pTdjQK0zqwcEilyPKxjP1BRWLtkz+PdHXV1nd3jn5Q1WEf+cN4VuGKhyfw7bmkci56ZHhqnNg98At/UPxOK2XJpiQdL9ob30wKdfc26erD5j8gYlFrY2+/SNm1ucDv7a57PsxTFRu1YCHITHdze90rsd4GKf3Y7MCP3LbuTgExw2blrwPWKbK+JPtvCZa4o6d9SuuI9FmwCY0d1aIrWJdBsNYKwodIYj0JVs7gYMpuBp3mcEHdaT87c+/4/sQX75+f1hEsaV9FqKNXXFFLXXV+oN3mIzdHpOhBXvtlT2uGgdH+5JZufNt8Ebfx9C5bn2tcLPXIRBUJhz1PXL9X9ST39CGO7YEzFSLNVq/A385CR050fLVMNismFyx9xm77GpsGlQgUcvlEliuDbhJWps59MwPJ9gzmxnj1ycCvAhesW0Pyjy9T3cwoFFPnzGblbdIVLCm39szBQ6HpDytLC+PdOZvdLlRwv6Ap6OWNEA5qZnZxZX1Y57pMxCsM3sbxK3n9TlSXm+S308p409l6wpA+dZakxSRkXbueE77Hwmbv5adY2RDXZp50NmOYHM17cDnm2OHDe22NDNmR99qbr0Qc9/X22mlKN3fNbZdhn6AULNfY7JDdm23NjJgGdBvXK3UChWy85/aZQAcLQ7voe9f97EwMKObHn638daq/NbAu+TfB0kdQ6sM09y+Z0e7yBMFaQwgfIol1JVjDi7zbx8wp1I0htQL8ONKf73WwoFf+RVewPj8Ms2ZtOtuAJbUvTfHbDLdeaMLTE9KZ5URn7DzfR+i8qDb8wJVX2KSuL69S95rvyVRmMfncfMPpHSyWS2obPO0FYEy25YYmNo+jIv79gjU7U+xnvft8N17YFupOcZjUTdE1qskQqGDtYDA55zXnA78IQrDQmysXFR9jMw0YduF1I9hLLcGSDaY6mjmlcIlGl+h1/DbGBsesVjRjzEpuHzZjWp2sIlTs46PowCvdeDfY7MwtLxZTJVji5xecvQoH8d5xpDd3H52+NeYV1uWJ15rMzZH3hz5jb3VnO9PoNgdvtuIf+K483Jq2/cwLLBfhgkW1OpDbLFySz841pXiYU2ic6Bb0Q2RjJV4MqqnD+Uej77sf3itqQki/Dli/rE6wFPy7x212pL4gOlMJQLDWEMKHSGJ9CZZCPvUyhk2jszxz+pfQSqsp8cCJB3LZnJ5gKcaay66Vj4iwC+efRm9jmUZWKkvYLFLki6bCiPIJ7KWgNMIng4919UuboqwZ9ok96i4rpOf6Xpp+zyrwlzLVnRJ8uU6E//m7BUvcfNl135UXqi4rpO/uYXPahh2xRa2i4f7e8qzw3YYUQ/fb6vOBX4VGsNA/T7Qn7jSkUyy8ckckWoI1+TiWTbM/26JucS11p+9jYeO/mBKJa05zaGbH7uL9BKLamGD1NIZP5UFmKsGafxBoaeMcFhNz5hRKdMBOQwpzS1IjqmhyfroTw9CjiKe8Svo0yJhud7pDmY6Q1xkONJZvMd49phwizBYRA5T4jByGZcxDKXbVcSM655R6tg351xEnAOuQVQmWpDvJxf1is/7TyiBYawjhQySx3gRrbrEz3dXIgL49vmNSWBPqdqkJ76bSGyLEmBp7eOP6ley7Gce3skzCK1QKP/n83DaakUeOAJmVlwQH5XKxmQpIL6pT9J3n+jRjgkhbrC2N5VagbP8BfzEfGs76ht/u7ejk4bxKcmQYHcxv7RzpHcMq1xVB6+kLfqdLh3VWmhF1P7scGeTjHRQen19Zk+XGYDin8rRPAH4J2oKFIuku9DKn0pl7ztb1XSEEC9cp2k7tJwol9YkcKsM9B3edGW7KbsYGjzsDcgX/bmxUKdrqU56mJVgzg8k7jNyzJ6Qzi4gaOV5C9ARrujbEREuwOjIdacQj0ssmuS88ibRl0r1yeQqlYKmv+tbXAeuX7xes2bn6pKDoUrF6wrsaEKw1hPAhklh3goVmw+oAMyrD7HhGiq9PjhAvPfqCJWy5eXT3kfSX87K5xVfJDtqCJZcLst2MmFuTGt5WhgaXYQMBaAobynOjUa1O1Gu6JfBybOR5V3kC8PciH8twxpYIWQZ9V1L/8uSFMT16+9TZwl58yvPKfGyIt2eZHLuN1ov6bwH/a/QESz6nGKmO3YZNeHdztQtUCtZApjuLYhFarWnC4bUU81AegruOgnvzsAndJbVDeCP0/BPNLGMtwZJ1n7VjbAxvXKHv88cF60vzuR0so6ASEdGDpRGsb3wdsH75XsH63HU7Ma5obMURGBCsNYTwIZJYL4IlveF1KGtQ2fz69Dx+O9OAxrIOLxMqT1ho0Basmf7kHQzzoFo8syy2Ju3WEay5r4LKKFuauadPQNSDOeKgrDNhC51pl9Ks7j+fboq0YjqnjqxcgwJ/LbOSXI9vDhHOTJQmni3o1NTEyNBAm+7kYmFTqpOh1eG8cShdvwOy0aLD7nn9On3VH1+m7jejUOgMf+UQobQpaRuNbn+2V93JLXl8aiPD5XKX6pFD4ZNgC4bd0ZDgCz1atZqWYM1O5x1kMUz9bmn6NZe4Fbfv9i39hGB9qg61NjuEj0jqCdY3vo54CaxDvkuwFgdKL8YVvNXkqJmJ1teaee4gWGsI4UMksU4Ea2YgeZd9QhPRP4/0F3iwGDsSldOHUT4/CrdmGLCOFs1jL6cbwsyprD1XWiVfEUFPuocZg3X8rvizRO1YM8OpjgymdcxDTUNzqb/A14rGDq0gSqGgOprDia4chw4GQBd9wVrsLj7tF5Bdq1QoubQ6+oBXfOGdO2VKCnLSgwKv4w9SKFGMN+d62dgeTO8SQOfo7wHSlu5gt2xyknLCu0qw5HJhgbclyyaygsgJc1WhHLuwOr7mJn6qO7WVSd+XrpzeTvDxnp8xc2N8DTaTQcErCrSiUK1czhY2jQ32D1RnRfudacI+YeZtigMqWIXEUvKYKtHYJ4kJoEh7+m4a0/uWRrD2Z00o1Vw2XnPCbt+lFnySjeRxgCGNHf1SlRXJv444AViHyDoSOHTDgyXaG5YgPZXRR0PS6pXrbC/xqhPcDyblqlLQnYJbyYGhV9o1xVLamGRHY3jlrbQtCrBKCB8iiXUgWMKOZxlRbtYUqoVjbEbFsBA7+E95ZFjuENYUkwn67mfE7TWl0g0oJjvCL9/t4c/O155zNqdQja33eEUW1twJt6EyrHZHF2Pz4pWfqeBe87LXXXtNPjv3IifMyc49IrU47+o5/yMJRV36cwMBYJlgva8ItmQwnFM60Pz1/nmSi6n+SCJrf6YAqw7lHwZf1uacOubhdTq3cRr6rn4P3r+uyD3pYsWgmLlE5JZ34C00FTJR+1mnE8VKwUJfTnTnHHe23xd9+ebdq3FBvtEVHaplY5Ug7Rluh7VW6ZOJG4vSDlnS6LSt/lfrXgsV8lnpo3MH2UwsWdGZtu6xj3vQVh962u14J0MKw8Lr3N0enoBXefnYJiqFuSno6qOR8bedBVHOJgY0G8/0e60y+fRwQbDLZs6BiAs3sjPSY4Jjr9RhZUk23ld8znsjepWtX0rxmwFlY3LFr1P9WmC9oRjvai5K8efQKAwzz8TbtU1DqikxFeFWFKZTyjD258Y0ZyO9FEQxcs3rVXbQzv7T8bQi5QiHZUC12p98q7JrQKr+fOBHIHyIJNZJD9aqWXw3LOBOKY3qE693hDul3Rf1qSbW9+Ir7YammoWxoZHut/PqgQAA+BeQmSHeh39tCyLcjvJHb17zPkKrcR2BCGRjeo+5IPKBbj5XtNICLrPvx4QrHdeD+IQV8893IZPIejvfdvPmdZqIZPz01wG/PQv8YYnOkrPA/wrCh0jiTxWsb4EMPwj0KxyAxwMBAAAAAPhRCB8iib9IsGTC+lgHewd3Xw87l4TnuhsaAgAAAAAArAbCh0jib+rBkvZmeNlz7A5E3eHBcsYAAAAAAPwMhA+RxN84RAgAAAAAAPCTED5EEiBYAAAAAAAAq4bwIZIAwQIAAAAAAFg1hA+RxN8nWLPzPS+6ezVLjALA9yKZmOzpmeD/+2JCn8e4gqGJFZ/YV0wKRGj5e6dZehRYH8hE403NAmwL+W/ynad9P1LBWOdbzcYAwF/N7OdxrmBQ+PlfV3uRCES9w3PfWm9oStrNnYdVY34SwodIYn0IlkzQdy/zrNdWS0tTC/aeE8k3Wn54kQVpc7I9jbHrwgCs9AisAunInQgXW2MjIwqFaeIQUYKvHboCirHGG4GHQpNzS3LOh3l6xN3p1CxXK2y7HxsQcSajOC/7kr+LR8SdEdL9doD/EQvdjwrO+uywNjO3srJ39fI74u3j4eLq6Xfqws2mbpH24nlfms7YM2m7k9u+vaDUd572XSC89uywfVY6e+MAfy0Kfn3Osf0BibmluWcCPPxy6nQ34FIjE3RcDTgSdKEwPyc12N0r6s7bFR7qmpVVhHJMv7HlF/B9ED5EEuuoB2uhIXYL04Ch2l31R5HwStNzy3o+6x8HAFLeP70UfbFqTDjzVcJ7kehozDQNfSDSOwcDGSrxsdgS9eQ9/vJLZ8Z+U9uIMj6eB8VNUWx2aBWxVjjSmelkfCALNob7DZC2pu6kUTTbj8jf9zy5Gbzd2NDqQGKlSG3S4s4nVzJquv6t//I7T/tOkP4briBYAFYSir3Mt558qswt759EbbU6dFd3A00c+US+t9WWyBf4lidfpd25bkabTpTrVZqK4dKTdizqt/ZUBb4PwodIYh0J1mLrBQeWAfNYCfSWA/9bRJ0Pn8vVGepdcYAJzV219bg2X1rO7WSZhleodlCRjRYfZDAckgfRP0ubL9rT7c+2qMYNpU+Pm1hHPAbR//UgPTnONIqRV+mY1kHZeHOcvSGDueN0jc7+Of9jlu3uDPydfHwavZm1RbNjprQpyY62OeaZfm0obU3ZSTMLrlB1nM9Kbx5gsnama22H+hXhlp+Myj3r+s1N64Hvg/AhklhPgvUqWSNYEpF0iCsaHJ4WYuXmI39YNMgVDfE1W9xMjvL7hQq5bKarqb2p9x+dAR3ZTP+wztizhD/SVNf2olsqguXdgX9Bwb3uZeWa17l8EtWs9IYHg8lOrMN29sVB2uPYNJZzLvpn2XChJ5PG9q8awsuYqD5xm3VIibJzC/iloILlskywUMT1Z7ehx/dkvVbda6lAOKQzbrgkHh1pauh6o7sDkv5psx+HO7vqm7hcsfa1C/yecazPTP5+8FVH8yCRkSTjYy/qX7/mLyhPUwsWgsx0N7fXvRLr7IiCzPRj02g+ctu6OwWE8cumJB0v2hvfTAph75Q/BuRVjC3NxK9a2S+FIa4+ZoQaVpvudkkK3g0vQyonrp4oP2gxq4/lMGmuGb2qBuHMeF5E4gOeKMcNBGsNIHyIJNarYIm57Zk+NkyaS1r3olw+8+Zhvj+bxrRPa535KulvTDm2w5y2Oaqg/LT3AdedG41p1r63hKhjIW/bc+MDHCwMt6h3epaJKhIOe564fq/qSe7pQxzbA2cqRLARIUCGpL866sjZat5KQ3vyiSxXBt0krEz9CMXMQLI9g7kxHn85X5e4ZwPFyD645PnzwhCPoPQG2M3+t4BMsOSynrN2dDrN5XLXZ259YcJRB2vmlrgGlfrw32SdDD+d+bi6PNePbb4n+hlXvrT8tMnu6gvRF1Kv3UkLdbay3J9UMyObWxqqywtztGAZBmSVZUf4+Xk5bdpA54TeH3ySfurYEV/P7eZME4+MN1hnp1KwXGOzQ3ZvtjUzYhrQbVyv1AkUsvGe22cC0VRmF33vup+diQHF/Pgz+dynzpK0mISsa9dzwvdY2Oy9/JRkmg6wvkD6b7rRaFtiX2t0Cm28baKx9t7UHSVcGsjyYBmYBZerp34utl7YzaKyY54pC+RCR050fLVMNisGwVoTCB8iifUqWJiq3/Q2VAoW9vLjXV+mUrDQl5PVUVZUw12RNf0I2nwU3zhgzNqW0ox3rsrG7x9moiVVKVhfXqXuNd+T2U70u843nN7BYrmktn3Hjq3AX4ZMMFCSEupgQqNTNuwKq+pR9dVrsVB3isOkboquUWU3VLB2MJic88RL+WRVrJMZhUKnbY+qksJjFr8JpII1N194mEmnWIY//IxNMb511IiqMifZ28z92/2Lp3BF/tJ81p5JjBrrnjb1+ozj0VwuruPysQwXBnPzmVpsBPnLy6RdTNrW0NIJLBHNjKQ5MpgWhzPb8Bk2oppgC8b2hC60pYcLFtXqQG6zcEk+O9eU4mFOoXGiW8ToW2MlXgyqqcP5R6Pvux/eK2pCxM8vOHsVDuI1LtKbu49O3xrzCnat+J0RDfXV17fXkfG8fxCfbyBtTLKj0Xee79M0/mV957fTmRzNoKESSX0ih0rbfBIrIfgRfGoNdWt8I1YgJ9tyQxObx2exahEEa00gfIgk1rFgjeZpC9anEi3BktSf4dDMTlQpJ7gs1MduYZpGViqnnUqfBZvQCcGSNkVZM+wTe9SlFum5vpdGY0e1aBoKAKBE9vGdQNLx7H7CfhsmxdTr5sRyQ0L67h42p23YEVvUKhru7y3PCt9tSDF0v02cMC0ojfUPCD2+w4hCZ2wLLhZAMfsdIBesjyV+hnQDs+AKLOdMVoSb0whzEj8+xbaIrFRNtpNPCZsaR97hQ3LapwnLQq0sXIOjz5yKQYn3tTem07YlNKHtt6Xu9H0suteNUWUP06cHgSaoiD9XVpYzQ5d2MYyOVIpUPVju2aq59ni1yrCMeSjFp/EZ0TmnVJ3xc/MPAi1tnMNisO86cyo6YKchhak1awf4/VgaqrwaFXEqkozIrId4CZE0nrej0ncm9WsLVpI9KljnG9QTEpTMjOd5WTJZDlFFfYM8QXNFfsgOYzr94LVhhXyqOyX4cp3y6RwQrDWC8CGS+BsE68vz01uZJuEVywQL6UV1ir7znFazAGmLtaWx3AqUrUAAWIGJxihbmvHhsnG94zii7meXI4N8vIPC4/Mra7LcGAznVB72llx87/g256RetGUpbL8byGEymE4XW2GS+6+HVLDk4xnODDrNOaUTSzJa5rTYfnGP0dYLTSu5i/ZpaMra4Jo/IFtEZtQs4aqkJ1ifK4LNtARrOGU3Q/l7lk1yX3gSacuke+XyFErBsjvdQaSvmcHkHUbu2RNSzXctIvKVxrKB9Qbe8qfbxXdqCVZHAofOcrrevbyqmhopT43z9/b1D03KqmpJ3ctkOWZ1zHxoOOsbfru3o5OH8yrJkWF0ML+1c6R3DLLQj0P4EEmsO8FiHbu3doI1lOdGo1qdqNdYPN4sMPK8OwLzQwFSPj8KtzY6dI+vf1yPjw3x9iyTY7fRunDuq7QlxZ7pnIpX1ShIf+FBEzr7ZIvqZOCXQSZYSN8NNwaF5ZCpnOSuZU7YmCDLJKRUrHO+Eu3TXiTas6zw3ib9035YsL40n9vBMgoqERE9WBrBknWftWNsDG+EPok/EGljpBXN/HiNZsBX8jRoA21jRNO3b7e4McmeZnb0tkQmH8NaCwaUZdB3JfXDdIUfhvAhklhvgkXZGPVEqU1KwXK+3KWssT4UHVm1YMllnQlb6Ew7YnoWxnRTpBVaDY5AgQPI+VgaYL7n4tC3C4mwKdXJ0Opw3rjytMnyUDO6R9aQqkdhVnxtP8PE/wnxEvh1rCxYcvFdfzaTtj3myT9KudEyJ8XobV8TiplPvmaVLElvXUU7lnC0T+PlHTaimB+5LVafhvBqr5WgReKHBetTdai12aESLtoC1BOs2em8gyyGqd+tYXWv1RK34vZdWGvtT+B95Qlr1g7NagtIW/pumnVolXJZLBJEnecdjK297vaortIwK8n1gCHCNYDwIZL4/QVLwa+M27XF/0bvJ6zpZhpUonouRlwRbkE1O5QrkM4t8VuKgu1YTNu4J/gDXJKaODbNLKRSKVgLT0+ymRvCypTtSMkjf0PapuiX+MSFpf4CXysaO7RiRpm/BNXRHE505TjxFQCAMcV/fL++bZyoqBDufX/n+GqiHC52F5/2C8iu1XlcSzHenOtlY3swvUug6gpFhku8TcwO56vq2unOBDszrzyR6hLgl4HWVbvwhUb5xM36PPKmNs1vm4nx7siScdUMp6/i+0EmqqexZILaUBsanWUfmFHb1DHc9CA7/OR9ZTWmc9poxTEzKsPMLa6ws5sraH2YH340+RFWVBbfpDijgoWN9GEf/ulB4Aamzemnyvk02GAfw+jQfbVg7c8iJvzJxmtO2O271II/RSF5HGBIYxOpDEXBKwq0olCtXM4WNo0N9g9UZ0X7nWlS/aWA9Y20I2fvht3nXyortc/NibvMXK69xo0c6amMPhqSVi9Xn4wiE3ZlHGSzD1xrmlipOgPBWiMIHyKJddCD9e5x3BYabZNntK+DU2gR0R+AIR3KObTRkGpoxXY+ltpYHLGFvcs3JrttcOh1ToAdy4C+1e/Gw565oYY8/010OnWTb3pzZ19nUZK3DZXC3Bx0tWoYf5hi7kVOmJOde0Rqcd7Vc/5HEoq6NHubAAAK0lPgaUJlmjoGJl7PyryWfKGglkeM9KEty4pgSwbDOaUDPyL/MPiyNufUMQ+v07mN05qyirE4WJm0f6tLyOWyB+XlqUGeB+NqBpa3LIH/KQs9TwrPHtzENKDQmZv2evn7eh/ev2u7vYN3yNmSBh4mSThfhpoqLnhaM/GsUtnxj2xO8a61+MQOM+xCivG2I9cbMG1a4TTe45QDNiwGNhbDYrsm3u9DK0j0tNKYPcZ0ipXn2armUXlHVfbRjTQ6bYv/1cZO4WRjQZyTIYVp6Z18r29UMlwQ7LKZcyDiwo3sjPSY4NgrdVi5ko33FZ/z3oimMlu/lOI3A8ru+Vnpo3MH2UwqNvTDtHWPfdyjPA78CSwOlp/1dIu6+qChNCPS3f1cGZfIQsKKcCsK0yllGH+5JOL2VuQkHt1/NDq3g0eWYUCw1gjCh0hiXQwRLr0b7Ktv6BvQWeJPyceRXl7PON4zP/VRtz5bFQtjQyPdbzXrlAKANsiE4OXz9oaXI8NTywZckJkh3gdlDyjC7Sh/9Oa17rKTOiAz3S9f1zcN9ApgKZA/ADRv8Hv5H/4t8+DphTf/wwlKJpH1dr5FP0HdnfYtEPlAN58rUrcBgD8HmWS6q7WrpWdarNMxucAflhAr0MpFzysaGzokuicA/xWED5HEOpqDBQAAAAAA8LtA+BBJgGABAAAAAACsGsKHSAIECwAAAAAAYNUQPkQSIFgAAAAAAACrhvAhkgDBAgAAAAAAWDWED5EECBYAAAAAAMCqIXyIJECwAAAAAAAAVg3hQyQBggUAAAAAALBqCB8iCRAsAAAAAACAVUP4EEmAYAEAAAAAAKwawodIAgQLAAAAAABg1RA+RBIgWAAAAAAAAKuG8CGSAMECAAAAAABYNYQPkQQIFgAAAAAAwKohfIgkQLAAAAAAAABWDeFDJAGCBQAAAAAAsGoIHyIJECwAAAAAAIBVQ/gQSYBgAQAAAAAArBrCh0gCBAsAAAAAAGDVED5EEiBYAAAAAAAAq4bwIZIAwQIAAAAAAFg1hA+RBAgWAAAAAADAqiF8iCRAsAAAAAAAAFYN4UMk8eOCBQEBAQEBAQEBsWKAYEFAQEBAQEBArHGAYEFAQEBAQEBArHGAYEFAQEBAQEBArHGAYEFAQEBAQEBArHGAYEFAQEBAQEBArHGAYEFAQEBAQEBArHGAYEFAQEBAQEBArHGAYEFAQEBAQEBArHGAYEFAQEBAQEBArHGAYEFAQEBAQEBArHGAYEFAQEBAQEBArHGAYEFAQEBAQEBArHGAYEFAQEBAQEBArHGAYEFAQEBAQEBArHGAYEFAQEBAQEBArHGAYEFAQEBAQEBArHGAYEFAQEBAQEBArHGAYEFAQEBAQEBArGn83//9/1JAM2LjFGdkAAAAAElFTkSuQmCC)"
      ],
      "metadata": {
        "id": "8i6wlwfJukqB"
      }
    },
    {
      "cell_type": "markdown",
      "source": [
        "#Pruebas de Hipótesis\n",
        "\n",
        "Cuando se hace una prueba de hipótesis se empieza por hacer una suposición tentativa acerca del parámetro poblacional. \n",
        "En el procedimiento de pruebas de hipótesis se usan datos de una muestra para probar dos afir\u0002maciones contrarias indicadas por $h_0$ y $h_a$\n",
        "\n",
        "\n",
        "##Glosario\n",
        "\n",
        "**Hipótesis nula:** Hipótesis que en una prueba de hipótesis se supone tentativamente verdadera. Plantea que no hay cambios, todo sigue igual. \n",
        "**Hipótesis alternativa:**Es lo contrario a la  hipótesis nula. A menudo es lo que la prueba intenta demostrar.   \n",
        "**Error tipo I:** El error de rechazar H0 cuando es verdadera.\n",
        "**Error tipo II:** El error de aceptar H0 cuando es falsa.\n",
        "**Nivel de significancia:**Probabilidad de cometer un error tipo I cuando la hipótesis nula es ver\u0002dadera como igualdad\n",
        "**Estadístico de prueba** Un estadístico cuyo valor ayuda a determinar si se rechaza la hipótesis nula.\n",
        "**Valor-p** Probabilidad asociada al estadística de prueba. Poporciona una medida de la evidencia, dada por la muestra, contra la hipótesis nula.\n",
        "\n"
      ],
      "metadata": {
        "id": "_NfyOCqH3RBn"
      }
    },
    {
      "cell_type": "markdown",
      "source": [
        "### Prueba de hipótesis para la media (caso σ desconocida)"
      ],
      "metadata": {
        "id": "VV7DTXC357yp"
      }
    },
    {
      "cell_type": "markdown",
      "source": [
        "**Problema 2: (Ejercicios 5 a 8)** Joan´s Nursery se especializa en jardines de zonas residenciales, de acuerdo con el diseño del\n",
        "cliente. La estimación del precio de un proyecto se basa en el número de árboles, arbustos, etc.,\n",
        "a emplear en el proyecto. Para propósitos de estimación de costos, los administradores conside\u0002ran que se requieren dos horas de trabajo para plantar un árbol mediano. A continuación se pre\u0002sentan los tiempos (en horas) realmente requeridos en una muestra de 10 árboles plantados el\n",
        "mes pasado.\n",
        "\n",
        "1.7 1.5 2.6 2.2 2.4 2.3 2.6 3.0 1.4 2.3\n",
        "\n",
        "Utilice el nivel de significancia α \u0004 0.05, realice una prueba para ver si el tiempo necesario\n",
        "promedio para plantar los árboles difiere de 2 horas.\n",
        "a. Establezca las hipótesis nula y alternativa.\n",
        "b. Calcule la media muestral.\n",
        "c. Calcule la desviación estándar muestral.\n",
        "d. ¿Cuál es el valor-p?\n",
        "e. ¿Cuál es su conclusión?"
      ],
      "metadata": {
        "id": "qEob8gOk57yu"
      }
    },
    {
      "cell_type": "markdown",
      "source": [
        "### Prueba de hipótesis para una proporción "
      ],
      "metadata": {
        "id": "eOcD_XeRElCZ"
      }
    },
    {
      "cell_type": "markdown",
      "source": [
        "**Problema 2: Considere la prueba de hipótesis siguiente: \n",
        "\\begin{matrix}\n",
        "H_{0}: p=0.20\\\\ \n",
        "H_{a}: p\\neq 0.20\n",
        "\\end{matrix}\n",
        "En una muestra de 400 se encontró que $\\bar{p}=0.175$\n",
        "\n",
        "a) ¿Cuál es el estadístico de prueba?\n",
        "\n",
        "b) ¿Cuál es el valor-p?\n",
        "\n",
        "c) Con $α=0.05$, ¿cuál es su conclusión?"
      ],
      "metadata": {
        "id": "SIHOK2t_ElCz"
      }
    },
    {
      "cell_type": "markdown",
      "source": [
        "### Prueba de hipótesis para la diferencia de dos medias  (sigmas desconocidas)"
      ],
      "metadata": {
        "id": "Vb7zu95Y89ZO"
      }
    },
    {
      "cell_type": "markdown",
      "source": [
        "**Problema 1: (Ejercicios 5 a 8)**  Los datos siguientes se obtuvieron de dos muestras aleatorias independientes tomadas de dos poblaciones. Pruebe la hipótesis de que no hay diferencia entre las dos medias poblacionales. Use $α=0.05$\n",
        "\n",
        "\n",
        "| Muestra 1  | Muestra 2 |\n",
        "| ------------- |:-------------:|\n",
        "| 10      | 8     |\n",
        "| 7      | 7     |\n",
        "| 13      | 8     |   \n",
        "| 7      | 4     |  \n",
        "| 9      | 6     |  \n",
        "| 8      | 9     |  \n",
        "\n"
      ],
      "metadata": {
        "id": "CtiNSkN189ZT"
      }
    }
  ]
}