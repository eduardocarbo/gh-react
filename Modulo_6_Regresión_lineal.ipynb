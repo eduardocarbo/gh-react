{
  "cells": [
    {
      "cell_type": "markdown",
      "metadata": {
        "id": "view-in-github",
        "colab_type": "text"
      },
      "source": [
        "<a href=\"https://colab.research.google.com/github/eduardocarbo/gh-react/blob/main/Modulo_6_Regresi%C3%B3n_lineal.ipynb\" target=\"_parent\"><img src=\"https://colab.research.google.com/assets/colab-badge.svg\" alt=\"Open In Colab\"/></a>"
      ]
    },
    {
      "cell_type": "markdown",
      "id": "15dd6ef9",
      "metadata": {
        "id": "15dd6ef9"
      },
      "source": [
        "# Modulo 6: SKLEARN Y STATMODELS, REGRESIÓN LINEAL SIMPLE"
      ]
    },
    {
      "cell_type": "markdown",
      "source": [
        "Importación de librerias"
      ],
      "metadata": {
        "id": "wLmeWxxmQHhr"
      },
      "id": "wLmeWxxmQHhr"
    },
    {
      "cell_type": "code",
      "execution_count": 1,
      "id": "d5167bdb",
      "metadata": {
        "id": "d5167bdb"
      },
      "outputs": [],
      "source": [
        "import pandas as pd\n",
        "import numpy as np\n",
        "import matplotlib.pyplot as plt\n",
        "import seaborn as sns\n",
        "import statsmodels.api as sm"
      ]
    },
    {
      "cell_type": "markdown",
      "id": "a360a3d9",
      "metadata": {
        "id": "a360a3d9"
      },
      "source": [
        "# Preparación de la data"
      ]
    },
    {
      "cell_type": "markdown",
      "source": [
        "Conexión al drive"
      ],
      "metadata": {
        "id": "YzanfVaYQXoU"
      },
      "id": "YzanfVaYQXoU"
    },
    {
      "cell_type": "code",
      "source": [
        "from google.colab import drive\n",
        "drive.mount('/content/drive')"
      ],
      "metadata": {
        "colab": {
          "base_uri": "https://localhost:8080/"
        },
        "id": "5I6VV4PT0ien",
        "outputId": "2e76d033-5768-466e-a754-82c32dd2410e"
      },
      "id": "5I6VV4PT0ien",
      "execution_count": 7,
      "outputs": [
        {
          "output_type": "stream",
          "name": "stdout",
          "text": [
            "Drive already mounted at /content/drive; to attempt to forcibly remount, call drive.mount(\"/content/drive\", force_remount=True).\n"
          ]
        }
      ]
    },
    {
      "cell_type": "markdown",
      "source": [
        "Importación de la información"
      ],
      "metadata": {
        "id": "Itds_LkQQvnT"
      },
      "id": "Itds_LkQQvnT"
    },
    {
      "cell_type": "code",
      "execution_count": 62,
      "id": "6c8037f4",
      "metadata": {
        "id": "6c8037f4",
        "colab": {
          "base_uri": "https://localhost:8080/",
          "height": 229
        },
        "outputId": "35f6291a-1b3a-413d-cfa5-df86cf4c9fae"
      },
      "outputs": [
        {
          "output_type": "display_data",
          "data": {
            "text/plain": [
              "(59043, 16)"
            ]
          },
          "metadata": {}
        },
        {
          "output_type": "execute_result",
          "data": {
            "text/plain": [
              "   DIRECTORIO    Sexo  Edad      Estado_Civil    Región  \\\n",
              "0      118277  Hombre    28  Esta soltero (a)  Pacífica   \n",
              "1      118278   Mujer    26  Esta soltero (a)  Pacífica   \n",
              "\n",
              "  recibio_rentas_capital  Percepción_ingreso  Servicios  Bienes  \\\n",
              "0                     No  No son suficientes          5    71.0   \n",
              "1                     No  No son suficientes          5    75.0   \n",
              "\n",
              "   Empleabilidad  Horas  nivel_edu  tipo_casa  estrato  tipo_vivienda  \\\n",
              "0           0.40    0.0        5.6          1      2.0              3   \n",
              "1           0.25    0.0        4.0          1      2.0              3   \n",
              "\n",
              "   total_ingresos  \n",
              "0   335583.333333  \n",
              "1   190000.000000  "
            ],
            "text/html": [
              "\n",
              "  <div id=\"df-a7c9efc1-703b-4850-a5e1-123c2973ac05\">\n",
              "    <div class=\"colab-df-container\">\n",
              "      <div>\n",
              "<style scoped>\n",
              "    .dataframe tbody tr th:only-of-type {\n",
              "        vertical-align: middle;\n",
              "    }\n",
              "\n",
              "    .dataframe tbody tr th {\n",
              "        vertical-align: top;\n",
              "    }\n",
              "\n",
              "    .dataframe thead th {\n",
              "        text-align: right;\n",
              "    }\n",
              "</style>\n",
              "<table border=\"1\" class=\"dataframe\">\n",
              "  <thead>\n",
              "    <tr style=\"text-align: right;\">\n",
              "      <th></th>\n",
              "      <th>DIRECTORIO</th>\n",
              "      <th>Sexo</th>\n",
              "      <th>Edad</th>\n",
              "      <th>Estado_Civil</th>\n",
              "      <th>Región</th>\n",
              "      <th>recibio_rentas_capital</th>\n",
              "      <th>Percepción_ingreso</th>\n",
              "      <th>Servicios</th>\n",
              "      <th>Bienes</th>\n",
              "      <th>Empleabilidad</th>\n",
              "      <th>Horas</th>\n",
              "      <th>nivel_edu</th>\n",
              "      <th>tipo_casa</th>\n",
              "      <th>estrato</th>\n",
              "      <th>tipo_vivienda</th>\n",
              "      <th>total_ingresos</th>\n",
              "    </tr>\n",
              "  </thead>\n",
              "  <tbody>\n",
              "    <tr>\n",
              "      <th>0</th>\n",
              "      <td>118277</td>\n",
              "      <td>Hombre</td>\n",
              "      <td>28</td>\n",
              "      <td>Esta soltero (a)</td>\n",
              "      <td>Pacífica</td>\n",
              "      <td>No</td>\n",
              "      <td>No son suficientes</td>\n",
              "      <td>5</td>\n",
              "      <td>71.0</td>\n",
              "      <td>0.40</td>\n",
              "      <td>0.0</td>\n",
              "      <td>5.6</td>\n",
              "      <td>1</td>\n",
              "      <td>2.0</td>\n",
              "      <td>3</td>\n",
              "      <td>335583.333333</td>\n",
              "    </tr>\n",
              "    <tr>\n",
              "      <th>1</th>\n",
              "      <td>118278</td>\n",
              "      <td>Mujer</td>\n",
              "      <td>26</td>\n",
              "      <td>Esta soltero (a)</td>\n",
              "      <td>Pacífica</td>\n",
              "      <td>No</td>\n",
              "      <td>No son suficientes</td>\n",
              "      <td>5</td>\n",
              "      <td>75.0</td>\n",
              "      <td>0.25</td>\n",
              "      <td>0.0</td>\n",
              "      <td>4.0</td>\n",
              "      <td>1</td>\n",
              "      <td>2.0</td>\n",
              "      <td>3</td>\n",
              "      <td>190000.000000</td>\n",
              "    </tr>\n",
              "  </tbody>\n",
              "</table>\n",
              "</div>\n",
              "      <button class=\"colab-df-convert\" onclick=\"convertToInteractive('df-a7c9efc1-703b-4850-a5e1-123c2973ac05')\"\n",
              "              title=\"Convert this dataframe to an interactive table.\"\n",
              "              style=\"display:none;\">\n",
              "        \n",
              "  <svg xmlns=\"http://www.w3.org/2000/svg\" height=\"24px\"viewBox=\"0 0 24 24\"\n",
              "       width=\"24px\">\n",
              "    <path d=\"M0 0h24v24H0V0z\" fill=\"none\"/>\n",
              "    <path d=\"M18.56 5.44l.94 2.06.94-2.06 2.06-.94-2.06-.94-.94-2.06-.94 2.06-2.06.94zm-11 1L8.5 8.5l.94-2.06 2.06-.94-2.06-.94L8.5 2.5l-.94 2.06-2.06.94zm10 10l.94 2.06.94-2.06 2.06-.94-2.06-.94-.94-2.06-.94 2.06-2.06.94z\"/><path d=\"M17.41 7.96l-1.37-1.37c-.4-.4-.92-.59-1.43-.59-.52 0-1.04.2-1.43.59L10.3 9.45l-7.72 7.72c-.78.78-.78 2.05 0 2.83L4 21.41c.39.39.9.59 1.41.59.51 0 1.02-.2 1.41-.59l7.78-7.78 2.81-2.81c.8-.78.8-2.07 0-2.86zM5.41 20L4 18.59l7.72-7.72 1.47 1.35L5.41 20z\"/>\n",
              "  </svg>\n",
              "      </button>\n",
              "      \n",
              "  <style>\n",
              "    .colab-df-container {\n",
              "      display:flex;\n",
              "      flex-wrap:wrap;\n",
              "      gap: 12px;\n",
              "    }\n",
              "\n",
              "    .colab-df-convert {\n",
              "      background-color: #E8F0FE;\n",
              "      border: none;\n",
              "      border-radius: 50%;\n",
              "      cursor: pointer;\n",
              "      display: none;\n",
              "      fill: #1967D2;\n",
              "      height: 32px;\n",
              "      padding: 0 0 0 0;\n",
              "      width: 32px;\n",
              "    }\n",
              "\n",
              "    .colab-df-convert:hover {\n",
              "      background-color: #E2EBFA;\n",
              "      box-shadow: 0px 1px 2px rgba(60, 64, 67, 0.3), 0px 1px 3px 1px rgba(60, 64, 67, 0.15);\n",
              "      fill: #174EA6;\n",
              "    }\n",
              "\n",
              "    [theme=dark] .colab-df-convert {\n",
              "      background-color: #3B4455;\n",
              "      fill: #D2E3FC;\n",
              "    }\n",
              "\n",
              "    [theme=dark] .colab-df-convert:hover {\n",
              "      background-color: #434B5C;\n",
              "      box-shadow: 0px 1px 3px 1px rgba(0, 0, 0, 0.15);\n",
              "      filter: drop-shadow(0px 1px 2px rgba(0, 0, 0, 0.3));\n",
              "      fill: #FFFFFF;\n",
              "    }\n",
              "  </style>\n",
              "\n",
              "      <script>\n",
              "        const buttonEl =\n",
              "          document.querySelector('#df-a7c9efc1-703b-4850-a5e1-123c2973ac05 button.colab-df-convert');\n",
              "        buttonEl.style.display =\n",
              "          google.colab.kernel.accessAllowed ? 'block' : 'none';\n",
              "\n",
              "        async function convertToInteractive(key) {\n",
              "          const element = document.querySelector('#df-a7c9efc1-703b-4850-a5e1-123c2973ac05');\n",
              "          const dataTable =\n",
              "            await google.colab.kernel.invokeFunction('convertToInteractive',\n",
              "                                                     [key], {});\n",
              "          if (!dataTable) return;\n",
              "\n",
              "          const docLinkHtml = 'Like what you see? Visit the ' +\n",
              "            '<a target=\"_blank\" href=https://colab.research.google.com/notebooks/data_table.ipynb>data table notebook</a>'\n",
              "            + ' to learn more about interactive tables.';\n",
              "          element.innerHTML = '';\n",
              "          dataTable['output_type'] = 'display_data';\n",
              "          await google.colab.output.renderOutput(dataTable, element);\n",
              "          const docLink = document.createElement('div');\n",
              "          docLink.innerHTML = docLinkHtml;\n",
              "          element.appendChild(docLink);\n",
              "        }\n",
              "      </script>\n",
              "    </div>\n",
              "  </div>\n",
              "  "
            ]
          },
          "metadata": {},
          "execution_count": 62
        }
      ],
      "source": [
        "df_data = pd.read_excel(\"/content/drive/MyDrive/Curso_Python/final_df.xlsx\")\n",
        "display(df_data.shape)\n",
        "df_data.head(2)"
      ]
    },
    {
      "cell_type": "markdown",
      "source": [
        "Visualización de variables"
      ],
      "metadata": {
        "id": "kRBL3TCNQ6xT"
      },
      "id": "kRBL3TCNQ6xT"
    },
    {
      "cell_type": "code",
      "execution_count": 63,
      "id": "306bd93c",
      "metadata": {
        "id": "306bd93c",
        "outputId": "8f83ad69-ac3a-4f99-fffa-d550763469d9",
        "colab": {
          "base_uri": "https://localhost:8080/"
        }
      },
      "outputs": [
        {
          "output_type": "execute_result",
          "data": {
            "text/plain": [
              "Index(['DIRECTORIO', 'Sexo', 'Edad', 'Estado_Civil', 'Región',\n",
              "       'recibio_rentas_capital', 'Percepción_ingreso', 'Servicios', 'Bienes',\n",
              "       'Empleabilidad', 'Horas', 'nivel_edu', 'tipo_casa', 'estrato',\n",
              "       'tipo_vivienda', 'total_ingresos'],\n",
              "      dtype='object')"
            ]
          },
          "metadata": {},
          "execution_count": 63
        }
      ],
      "source": [
        "df_data.columns"
      ]
    },
    {
      "cell_type": "markdown",
      "source": [
        "Cambiando el nombre de las variables"
      ],
      "metadata": {
        "id": "LWNgqRN1RAdg"
      },
      "id": "LWNgqRN1RAdg"
    },
    {
      "cell_type": "code",
      "source": [
        "df_data=df_data.rename(columns={'nivel_edu':'Nivel Educativo','tipo_vivienda':'Tipo Vivienda'})"
      ],
      "metadata": {
        "id": "qh57NBFc1pwd"
      },
      "id": "qh57NBFc1pwd",
      "execution_count": 64,
      "outputs": []
    },
    {
      "cell_type": "code",
      "source": [
        "df_data.columns"
      ],
      "metadata": {
        "colab": {
          "base_uri": "https://localhost:8080/"
        },
        "id": "OqcOZvl1M6UO",
        "outputId": "3c8ef875-acd1-4ffe-e38e-ddfb19e8ce86"
      },
      "id": "OqcOZvl1M6UO",
      "execution_count": 65,
      "outputs": [
        {
          "output_type": "execute_result",
          "data": {
            "text/plain": [
              "Index(['DIRECTORIO', 'Sexo', 'Edad', 'Estado_Civil', 'Región',\n",
              "       'recibio_rentas_capital', 'Percepción_ingreso', 'Servicios', 'Bienes',\n",
              "       'Empleabilidad', 'Horas', 'Nivel Educativo', 'tipo_casa', 'estrato',\n",
              "       'Tipo Vivienda', 'total_ingresos'],\n",
              "      dtype='object')"
            ]
          },
          "metadata": {},
          "execution_count": 65
        }
      ]
    },
    {
      "cell_type": "markdown",
      "id": "98e3dde1",
      "metadata": {
        "id": "98e3dde1"
      },
      "source": [
        "# Modelo de regresión lineal simple"
      ]
    },
    {
      "cell_type": "markdown",
      "id": "8f0051ae",
      "metadata": {
        "id": "8f0051ae"
      },
      "source": [
        "Vamos a estimar un modelo en donde se analice la distribución de la variable Ingreso en función del Nivel educativo"
      ]
    },
    {
      "cell_type": "markdown",
      "source": [
        "Gráfico de variables"
      ],
      "metadata": {
        "id": "tq3dca2xRXh7"
      },
      "id": "tq3dca2xRXh7"
    },
    {
      "cell_type": "code",
      "execution_count": 66,
      "id": "5d9997ac",
      "metadata": {
        "id": "5d9997ac",
        "outputId": "ea8392e1-c744-47fc-838d-1b6bd49f70c8",
        "colab": {
          "base_uri": "https://localhost:8080/",
          "height": 625
        }
      },
      "outputs": [
        {
          "output_type": "execute_result",
          "data": {
            "text/plain": [
              "Text(0.5, 1.0, 'Nivel educativo')"
            ]
          },
          "metadata": {},
          "execution_count": 66
        },
        {
          "output_type": "display_data",
          "data": {
            "text/plain": [
              "<Figure size 1440x720 with 2 Axes>"
            ],
            "image/png": "[encoded data removed]"
          },
          "metadata": {
            "needs_background": "light"
          }
        }
      ],
      "source": [
        "f, axs = plt.subplots(1, 2,figsize=(20, 10))\n",
        "sns.boxplot(data=df_data[\"total_ingresos\"], ax=axs[0])\n",
        "axs[0].set_title('Ingresos')\n",
        "\n",
        "sns.boxplot(data=df_data[\"Nivel Educativo\"], ax=axs[1])\n",
        "axs[1].set_title('Nivel educativo')"
      ]
    },
    {
      "cell_type": "markdown",
      "source": [
        "Eliminación de datos atípicos"
      ],
      "metadata": {
        "id": "UHPpWcIzTTKQ"
      },
      "id": "UHPpWcIzTTKQ"
    },
    {
      "cell_type": "code",
      "execution_count": 77,
      "id": "1188f990",
      "metadata": {
        "id": "1188f990"
      },
      "outputs": [],
      "source": [
        "q1 = df_data.total_ingresos.quantile(0.25)\n",
        "q3 = df_data.total_ingresos.quantile(0.75)\n",
        "RIQ = q3-q1"
      ]
    },
    {
      "cell_type": "code",
      "execution_count": 92,
      "id": "xdIbCIZizz5E",
      "metadata": {
        "id": "xdIbCIZizz5E",
        "outputId": "229f6aec-129a-4585-bf11-e3c1aba780b0",
        "colab": {
          "base_uri": "https://localhost:8080/",
          "height": 294
        }
      },
      "outputs": [
        {
          "output_type": "execute_result",
          "data": {
            "text/plain": [
              "<matplotlib.lines.Line2D at 0x7f8fc9581cd0>"
            ]
          },
          "metadata": {},
          "execution_count": 92
        },
        {
          "output_type": "display_data",
          "data": {
            "text/plain": [
              "<Figure size 432x288 with 2 Axes>"
            ],
            "image/png": "[encoded data removed]"
          },
          "metadata": {
            "needs_background": "light"
          }
        }
      ],
      "source": [
        "f, axs = plt.subplots(1, 2)\n",
        "#sns.boxplot(data=df_data[\"total_ingresos\"])\n",
        "plt.axhline(min(df_data.total_ingresos), color='g')\n",
        "plt.axhline(q3+1.5*RIQ, color='b')\n",
        "plt.axhline(q3+3*RIQ, color='r')\n",
        "#sns.boxplot(data=df_data[\"nivel_edu\"])"
      ]
    },
    {
      "cell_type": "markdown",
      "id": "e6f5b31d",
      "metadata": {
        "id": "e6f5b31d"
      },
      "source": [
        "###  Gráfico dinámico"
      ]
    },
    {
      "cell_type": "code",
      "execution_count": 86,
      "id": "65317dc5",
      "metadata": {
        "id": "65317dc5"
      },
      "outputs": [],
      "source": [
        "def plot_function(x_mill = 9000000,y=50000, bins = 10, color='red'):\n",
        "    binwidth = (max(df_data.total_ingresos) - min(df_data.total_ingresos))/ bins\n",
        "    plt.hist(df_data.total_ingresos, \n",
        "             bins=np.arange(min(df_data.total_ingresos), max(df_data.total_ingresos) + binwidth, binwidth),\n",
        "             color=color)\n",
        "    plt.xlim(0,x_mill)\n",
        "    plt.ylim(0,y)\n",
        "    plt.show()"
      ]
    },
    {
      "cell_type": "code",
      "execution_count": 87,
      "id": "d84b1fa3",
      "metadata": {
        "colab": {
          "referenced_widgets": [
            "2ce66266a9804a89831c069357fedbe8",
            "fd6816b164e64d44b73fe74cd919602c",
            "2f2d42fc066e4858a7e283689cd97c4d",
            "e0fe7a4728664ce4be87455699ee2a8c",
            "b9ba2d613e1445ada39a691f4472b307",
            "5fde7ab20b774ab2b9838bf95b1789af",
            "9d687671e50e4413a18eb578c75143af",
            "23fc30f8d6bc4cd1b8da0488aa48c956",
            "82cb8a9e8e4c46a39bce919605640ac6",
            "61909b4cdde7427cb7cf0a062905da76",
            "95498558017f45f7b877f33d64223ef2",
            "33095ccddf334cbab9f279a0ccd39f0d",
            "383d269bc9d64f04ac35dc12c45e4bae",
            "6e7813c310c04a98b84ba553d378d49f",
            "ba23b35575274d569a101e40a15e9bb1",
            "ab7801b34d6b4af3896de0e81e12e98a"
          ],
          "base_uri": "https://localhost:8080/",
          "height": 410
        },
        "id": "d84b1fa3",
        "outputId": "19fc445c-ccae-4ebc-f362-def104a6ec08"
      },
      "outputs": [
        {
          "output_type": "display_data",
          "data": {
            "text/plain": [
              "interactive(children=(IntSlider(value=9000000, description='x_mill', max=9000000, step=100000), IntSlider(valu…"
            ],
            "application/vnd.jupyter.widget-view+json": {
              "version_major": 2,
              "version_minor": 0,
              "model_id": "2ce66266a9804a89831c069357fedbe8"
            }
          },
          "metadata": {}
        }
      ],
      "source": [
        "from ipywidgets import interact \n",
        "interact(plot_function,\n",
        "         x_mill = (0, 9000000, 100000),\n",
        "         y = (0, 50000, 1000),\n",
        "         bins = (1, 1000, 1),\n",
        "         color=['red', 'yellow', 'blue','gray','green','white','black'])\n",
        "None"
      ]
    },
    {
      "cell_type": "markdown",
      "id": "f5b8bb29",
      "metadata": {
        "id": "f5b8bb29"
      },
      "source": [
        "### Selección de una muestra para correr el modelo\n",
        "\n",
        "Inicialmente vamos a correr el modelo con datos que se encuentren dentro del recorrido intercuantil y además vamos a tomar sólo una muestra al azar de 100 de ellos para ver mejor las gráficas."
      ]
    },
    {
      "cell_type": "code",
      "source": [
        "df_data.head(100)"
      ],
      "metadata": {
        "colab": {
          "base_uri": "https://localhost:8080/",
          "height": 762
        },
        "id": "C8HZZfFFP6hL",
        "outputId": "4cee46b1-1cb3-4b2c-bfc0-8a2e8ae340cc"
      },
      "id": "C8HZZfFFP6hL",
      "execution_count": 71,
      "outputs": [
        {
          "output_type": "execute_result",
          "data": {
            "text/plain": [
              "    DIRECTORIO    Sexo  Edad  \\\n",
              "0       118277  Hombre    28   \n",
              "1       118278   Mujer    26   \n",
              "2       118279   Mujer    22   \n",
              "3       118280  Hombre    33   \n",
              "4       118285  Hombre    27   \n",
              "..         ...     ...   ...   \n",
              "95      118507   Mujer    29   \n",
              "96      118508   Mujer    50   \n",
              "97      118511   Mujer    31   \n",
              "98      118512  Hombre    30   \n",
              "99      118513  Hombre    60   \n",
              "\n",
              "                                         Estado_Civil    Región  \\\n",
              "0                                    Esta soltero (a)  Pacífica   \n",
              "1                                    Esta soltero (a)  Pacífica   \n",
              "2   No esta casado(a) y vive en pareja hace dos añ...  Pacífica   \n",
              "3                                    Esta soltero (a)  Pacífica   \n",
              "4                                    Esta soltero (a)  Pacífica   \n",
              "..                                                ...       ...   \n",
              "95  No esta casado(a) y vive en pareja hace dos añ...    Bogotá   \n",
              "96                   Esta separado(a) o divorciado(a)    Bogotá   \n",
              "97                                   Esta soltero (a)    Bogotá   \n",
              "98                                   Esta soltero (a)    Bogotá   \n",
              "99                   Esta separado(a) o divorciado(a)    Bogotá   \n",
              "\n",
              "   recibio_rentas_capital  Percepción_ingreso  Servicios  Bienes  \\\n",
              "0                      No  No son suficientes          5    71.0   \n",
              "1                      No  No son suficientes          5    75.0   \n",
              "2                      No     Son suficientes          5   165.0   \n",
              "3                      No  No son suficientes          4    54.0   \n",
              "4                      No  No son suficientes          3    23.0   \n",
              "..                    ...                 ...        ...     ...   \n",
              "95                     Si     Son suficientes          5   390.0   \n",
              "96                     Si     Son suficientes          5   331.0   \n",
              "97                     No     Son suficientes          5   341.0   \n",
              "98                     No     Son suficientes          5   398.0   \n",
              "99                     Si  No son suficientes          5   593.0   \n",
              "\n",
              "    Empleabilidad  Horas  Nivel Educativo  tipo_casa  estrato  Tipo Vivienda  \\\n",
              "0            0.40    0.0         5.600000          1      2.0              3   \n",
              "1            0.25    0.0         4.000000          1      2.0              3   \n",
              "2            0.50    0.0         8.000000          2      1.0              3   \n",
              "3            1.00    0.0         4.000000          2      2.0              1   \n",
              "4            0.40    0.0         6.400000          1      1.0              1   \n",
              "..            ...    ...              ...        ...      ...            ...   \n",
              "95           0.50    0.0        10.666667          2      3.0              3   \n",
              "96           1.00    0.0        16.000000          2      3.0              1   \n",
              "97           0.50    0.0        16.000000          2      3.0              3   \n",
              "98           0.25    0.0        13.000000          2      3.0              1   \n",
              "99           1.00    0.0        16.000000          2      3.0              3   \n",
              "\n",
              "    total_ingresos  \n",
              "0     3.355833e+05  \n",
              "1     1.900000e+05  \n",
              "2     9.375000e+05  \n",
              "3     7.000000e+05  \n",
              "4     2.303333e+05  \n",
              "..             ...  \n",
              "95    2.808333e+06  \n",
              "96    2.657101e+07  \n",
              "97    4.400000e+06  \n",
              "98    2.650000e+06  \n",
              "99    4.983073e+06  \n",
              "\n",
              "[100 rows x 16 columns]"
            ],
            "text/html": [
              "\n",
              "  <div id=\"df-7aad213f-1f64-4472-92fe-094a5f2ca197\">\n",
              "    <div class=\"colab-df-container\">\n",
              "      <div>\n",
              "<style scoped>\n",
              "    .dataframe tbody tr th:only-of-type {\n",
              "        vertical-align: middle;\n",
              "    }\n",
              "\n",
              "    .dataframe tbody tr th {\n",
              "        vertical-align: top;\n",
              "    }\n",
              "\n",
              "    .dataframe thead th {\n",
              "        text-align: right;\n",
              "    }\n",
              "</style>\n",
              "<table border=\"1\" class=\"dataframe\">\n",
              "  <thead>\n",
              "    <tr style=\"text-align: right;\">\n",
              "      <th></th>\n",
              "      <th>DIRECTORIO</th>\n",
              "      <th>Sexo</th>\n",
              "      <th>Edad</th>\n",
              "      <th>Estado_Civil</th>\n",
              "      <th>Región</th>\n",
              "      <th>recibio_rentas_capital</th>\n",
              "      <th>Percepción_ingreso</th>\n",
              "      <th>Servicios</th>\n",
              "      <th>Bienes</th>\n",
              "      <th>Empleabilidad</th>\n",
              "      <th>Horas</th>\n",
              "      <th>Nivel Educativo</th>\n",
              "      <th>tipo_casa</th>\n",
              "      <th>estrato</th>\n",
              "      <th>Tipo Vivienda</th>\n",
              "      <th>total_ingresos</th>\n",
              "    </tr>\n",
              "  </thead>\n",
              "  <tbody>\n",
              "    <tr>\n",
              "      <th>0</th>\n",
              "      <td>118277</td>\n",
              "      <td>Hombre</td>\n",
              "      <td>28</td>\n",
              "      <td>Esta soltero (a)</td>\n",
              "      <td>Pacífica</td>\n",
              "      <td>No</td>\n",
              "      <td>No son suficientes</td>\n",
              "      <td>5</td>\n",
              "      <td>71.0</td>\n",
              "      <td>0.40</td>\n",
              "      <td>0.0</td>\n",
              "      <td>5.600000</td>\n",
              "      <td>1</td>\n",
              "      <td>2.0</td>\n",
              "      <td>3</td>\n",
              "      <td>3.355833e+05</td>\n",
              "    </tr>\n",
              "    <tr>\n",
              "      <th>1</th>\n",
              "      <td>118278</td>\n",
              "      <td>Mujer</td>\n",
              "      <td>26</td>\n",
              "      <td>Esta soltero (a)</td>\n",
              "      <td>Pacífica</td>\n",
              "      <td>No</td>\n",
              "      <td>No son suficientes</td>\n",
              "      <td>5</td>\n",
              "      <td>75.0</td>\n",
              "      <td>0.25</td>\n",
              "      <td>0.0</td>\n",
              "      <td>4.000000</td>\n",
              "      <td>1</td>\n",
              "      <td>2.0</td>\n",
              "      <td>3</td>\n",
              "      <td>1.900000e+05</td>\n",
              "    </tr>\n",
              "    <tr>\n",
              "      <th>2</th>\n",
              "      <td>118279</td>\n",
              "      <td>Mujer</td>\n",
              "      <td>22</td>\n",
              "      <td>No esta casado(a) y vive en pareja hace dos añ...</td>\n",
              "      <td>Pacífica</td>\n",
              "      <td>No</td>\n",
              "      <td>Son suficientes</td>\n",
              "      <td>5</td>\n",
              "      <td>165.0</td>\n",
              "      <td>0.50</td>\n",
              "      <td>0.0</td>\n",
              "      <td>8.000000</td>\n",
              "      <td>2</td>\n",
              "      <td>1.0</td>\n",
              "      <td>3</td>\n",
              "      <td>9.375000e+05</td>\n",
              "    </tr>\n",
              "    <tr>\n",
              "      <th>3</th>\n",
              "      <td>118280</td>\n",
              "      <td>Hombre</td>\n",
              "      <td>33</td>\n",
              "      <td>Esta soltero (a)</td>\n",
              "      <td>Pacífica</td>\n",
              "      <td>No</td>\n",
              "      <td>No son suficientes</td>\n",
              "      <td>4</td>\n",
              "      <td>54.0</td>\n",
              "      <td>1.00</td>\n",
              "      <td>0.0</td>\n",
              "      <td>4.000000</td>\n",
              "      <td>2</td>\n",
              "      <td>2.0</td>\n",
              "      <td>1</td>\n",
              "      <td>7.000000e+05</td>\n",
              "    </tr>\n",
              "    <tr>\n",
              "      <th>4</th>\n",
              "      <td>118285</td>\n",
              "      <td>Hombre</td>\n",
              "      <td>27</td>\n",
              "      <td>Esta soltero (a)</td>\n",
              "      <td>Pacífica</td>\n",
              "      <td>No</td>\n",
              "      <td>No son suficientes</td>\n",
              "      <td>3</td>\n",
              "      <td>23.0</td>\n",
              "      <td>0.40</td>\n",
              "      <td>0.0</td>\n",
              "      <td>6.400000</td>\n",
              "      <td>1</td>\n",
              "      <td>1.0</td>\n",
              "      <td>1</td>\n",
              "      <td>2.303333e+05</td>\n",
              "    </tr>\n",
              "    <tr>\n",
              "      <th>...</th>\n",
              "      <td>...</td>\n",
              "      <td>...</td>\n",
              "      <td>...</td>\n",
              "      <td>...</td>\n",
              "      <td>...</td>\n",
              "      <td>...</td>\n",
              "      <td>...</td>\n",
              "      <td>...</td>\n",
              "      <td>...</td>\n",
              "      <td>...</td>\n",
              "      <td>...</td>\n",
              "      <td>...</td>\n",
              "      <td>...</td>\n",
              "      <td>...</td>\n",
              "      <td>...</td>\n",
              "      <td>...</td>\n",
              "    </tr>\n",
              "    <tr>\n",
              "      <th>95</th>\n",
              "      <td>118507</td>\n",
              "      <td>Mujer</td>\n",
              "      <td>29</td>\n",
              "      <td>No esta casado(a) y vive en pareja hace dos añ...</td>\n",
              "      <td>Bogotá</td>\n",
              "      <td>Si</td>\n",
              "      <td>Son suficientes</td>\n",
              "      <td>5</td>\n",
              "      <td>390.0</td>\n",
              "      <td>0.50</td>\n",
              "      <td>0.0</td>\n",
              "      <td>10.666667</td>\n",
              "      <td>2</td>\n",
              "      <td>3.0</td>\n",
              "      <td>3</td>\n",
              "      <td>2.808333e+06</td>\n",
              "    </tr>\n",
              "    <tr>\n",
              "      <th>96</th>\n",
              "      <td>118508</td>\n",
              "      <td>Mujer</td>\n",
              "      <td>50</td>\n",
              "      <td>Esta separado(a) o divorciado(a)</td>\n",
              "      <td>Bogotá</td>\n",
              "      <td>Si</td>\n",
              "      <td>Son suficientes</td>\n",
              "      <td>5</td>\n",
              "      <td>331.0</td>\n",
              "      <td>1.00</td>\n",
              "      <td>0.0</td>\n",
              "      <td>16.000000</td>\n",
              "      <td>2</td>\n",
              "      <td>3.0</td>\n",
              "      <td>1</td>\n",
              "      <td>2.657101e+07</td>\n",
              "    </tr>\n",
              "    <tr>\n",
              "      <th>97</th>\n",
              "      <td>118511</td>\n",
              "      <td>Mujer</td>\n",
              "      <td>31</td>\n",
              "      <td>Esta soltero (a)</td>\n",
              "      <td>Bogotá</td>\n",
              "      <td>No</td>\n",
              "      <td>Son suficientes</td>\n",
              "      <td>5</td>\n",
              "      <td>341.0</td>\n",
              "      <td>0.50</td>\n",
              "      <td>0.0</td>\n",
              "      <td>16.000000</td>\n",
              "      <td>2</td>\n",
              "      <td>3.0</td>\n",
              "      <td>3</td>\n",
              "      <td>4.400000e+06</td>\n",
              "    </tr>\n",
              "    <tr>\n",
              "      <th>98</th>\n",
              "      <td>118512</td>\n",
              "      <td>Hombre</td>\n",
              "      <td>30</td>\n",
              "      <td>Esta soltero (a)</td>\n",
              "      <td>Bogotá</td>\n",
              "      <td>No</td>\n",
              "      <td>Son suficientes</td>\n",
              "      <td>5</td>\n",
              "      <td>398.0</td>\n",
              "      <td>0.25</td>\n",
              "      <td>0.0</td>\n",
              "      <td>13.000000</td>\n",
              "      <td>2</td>\n",
              "      <td>3.0</td>\n",
              "      <td>1</td>\n",
              "      <td>2.650000e+06</td>\n",
              "    </tr>\n",
              "    <tr>\n",
              "      <th>99</th>\n",
              "      <td>118513</td>\n",
              "      <td>Hombre</td>\n",
              "      <td>60</td>\n",
              "      <td>Esta separado(a) o divorciado(a)</td>\n",
              "      <td>Bogotá</td>\n",
              "      <td>Si</td>\n",
              "      <td>No son suficientes</td>\n",
              "      <td>5</td>\n",
              "      <td>593.0</td>\n",
              "      <td>1.00</td>\n",
              "      <td>0.0</td>\n",
              "      <td>16.000000</td>\n",
              "      <td>2</td>\n",
              "      <td>3.0</td>\n",
              "      <td>3</td>\n",
              "      <td>4.983073e+06</td>\n",
              "    </tr>\n",
              "  </tbody>\n",
              "</table>\n",
              "<p>100 rows × 16 columns</p>\n",
              "</div>\n",
              "      <button class=\"colab-df-convert\" onclick=\"convertToInteractive('df-7aad213f-1f64-4472-92fe-094a5f2ca197')\"\n",
              "              title=\"Convert this dataframe to an interactive table.\"\n",
              "              style=\"display:none;\">\n",
              "        \n",
              "  <svg xmlns=\"http://www.w3.org/2000/svg\" height=\"24px\"viewBox=\"0 0 24 24\"\n",
              "       width=\"24px\">\n",
              "    <path d=\"M0 0h24v24H0V0z\" fill=\"none\"/>\n",
              "    <path d=\"M18.56 5.44l.94 2.06.94-2.06 2.06-.94-2.06-.94-.94-2.06-.94 2.06-2.06.94zm-11 1L8.5 8.5l.94-2.06 2.06-.94-2.06-.94L8.5 2.5l-.94 2.06-2.06.94zm10 10l.94 2.06.94-2.06 2.06-.94-2.06-.94-.94-2.06-.94 2.06-2.06.94z\"/><path d=\"M17.41 7.96l-1.37-1.37c-.4-.4-.92-.59-1.43-.59-.52 0-1.04.2-1.43.59L10.3 9.45l-7.72 7.72c-.78.78-.78 2.05 0 2.83L4 21.41c.39.39.9.59 1.41.59.51 0 1.02-.2 1.41-.59l7.78-7.78 2.81-2.81c.8-.78.8-2.07 0-2.86zM5.41 20L4 18.59l7.72-7.72 1.47 1.35L5.41 20z\"/>\n",
              "  </svg>\n",
              "      </button>\n",
              "      \n",
              "  <style>\n",
              "    .colab-df-container {\n",
              "      display:flex;\n",
              "      flex-wrap:wrap;\n",
              "      gap: 12px;\n",
              "    }\n",
              "\n",
              "    .colab-df-convert {\n",
              "      background-color: #E8F0FE;\n",
              "      border: none;\n",
              "      border-radius: 50%;\n",
              "      cursor: pointer;\n",
              "      display: none;\n",
              "      fill: #1967D2;\n",
              "      height: 32px;\n",
              "      padding: 0 0 0 0;\n",
              "      width: 32px;\n",
              "    }\n",
              "\n",
              "    .colab-df-convert:hover {\n",
              "      background-color: #E2EBFA;\n",
              "      box-shadow: 0px 1px 2px rgba(60, 64, 67, 0.3), 0px 1px 3px 1px rgba(60, 64, 67, 0.15);\n",
              "      fill: #174EA6;\n",
              "    }\n",
              "\n",
              "    [theme=dark] .colab-df-convert {\n",
              "      background-color: #3B4455;\n",
              "      fill: #D2E3FC;\n",
              "    }\n",
              "\n",
              "    [theme=dark] .colab-df-convert:hover {\n",
              "      background-color: #434B5C;\n",
              "      box-shadow: 0px 1px 3px 1px rgba(0, 0, 0, 0.15);\n",
              "      filter: drop-shadow(0px 1px 2px rgba(0, 0, 0, 0.3));\n",
              "      fill: #FFFFFF;\n",
              "    }\n",
              "  </style>\n",
              "\n",
              "      <script>\n",
              "        const buttonEl =\n",
              "          document.querySelector('#df-7aad213f-1f64-4472-92fe-094a5f2ca197 button.colab-df-convert');\n",
              "        buttonEl.style.display =\n",
              "          google.colab.kernel.accessAllowed ? 'block' : 'none';\n",
              "\n",
              "        async function convertToInteractive(key) {\n",
              "          const element = document.querySelector('#df-7aad213f-1f64-4472-92fe-094a5f2ca197');\n",
              "          const dataTable =\n",
              "            await google.colab.kernel.invokeFunction('convertToInteractive',\n",
              "                                                     [key], {});\n",
              "          if (!dataTable) return;\n",
              "\n",
              "          const docLinkHtml = 'Like what you see? Visit the ' +\n",
              "            '<a target=\"_blank\" href=https://colab.research.google.com/notebooks/data_table.ipynb>data table notebook</a>'\n",
              "            + ' to learn more about interactive tables.';\n",
              "          element.innerHTML = '';\n",
              "          dataTable['output_type'] = 'display_data';\n",
              "          await google.colab.output.renderOutput(dataTable, element);\n",
              "          const docLink = document.createElement('div');\n",
              "          docLink.innerHTML = docLinkHtml;\n",
              "          element.appendChild(docLink);\n",
              "        }\n",
              "      </script>\n",
              "    </div>\n",
              "  </div>\n",
              "  "
            ]
          },
          "metadata": {},
          "execution_count": 71
        }
      ]
    },
    {
      "cell_type": "code",
      "execution_count": 72,
      "id": "2e9b404b",
      "metadata": {
        "id": "2e9b404b",
        "colab": {
          "base_uri": "https://localhost:8080/",
          "height": 349
        },
        "outputId": "150fdf4a-ef54-4380-eb4e-33196b12fb2a"
      },
      "outputs": [
        {
          "output_type": "display_data",
          "data": {
            "text/plain": [
              "Int64Index([    0,     3,     4,     5,     6,     9,    10,    12,    13,\n",
              "               18,\n",
              "            ...\n",
              "            59017, 59018, 59019, 59020, 59023, 59026, 59027, 59029, 59033,\n",
              "            59039],\n",
              "           dtype='int64', length=29474)"
            ]
          },
          "metadata": {}
        },
        {
          "output_type": "display_data",
          "data": {
            "text/plain": [
              "array([ 4036, 28713,  2267, 22457, 14498, 53342, 50089,  6603, 13983,\n",
              "       20218, 51280, 33032, 35377, 52206,  4073, 33100, 32465, 34456,\n",
              "       58346, 26450, 56346,  1755,  7784, 17546, 30392, 39948, 54407,\n",
              "        6794, 52202, 14858, 22049, 14844, 54306, 19207, 29380, 50172,\n",
              "       39015, 48962, 51891, 20615, 45444, 48155, 53484,  7531, 37733,\n",
              "       14245, 42763, 55811, 42008,  8786, 57828,  6369,  9467, 33247,\n",
              "       29316, 35699, 31243, 57186, 18442, 32094, 14272, 56919, 18117,\n",
              "       40733,  3681, 35530, 45344, 31632,  9844, 17080, 29287, 48597,\n",
              "       12384, 18249, 51636, 45235, 12338, 35829, 40326, 31595, 54989,\n",
              "       30610, 35839, 24363, 15561,  4090, 31893,  5214, 52139, 14415,\n",
              "       23401, 31232, 25046, 21363, 52252, 27981, 37093, 18291, 57635,\n",
              "       39376])"
            ]
          },
          "metadata": {}
        }
      ],
      "source": [
        "from numpy.core.fromnumeric import repeat\n",
        "indices = df_data[(df_data.total_ingresos<q3) & (df_data.total_ingresos>q1)].index\n",
        "display(indices)\n",
        "muestra=np.random.choice(indices,100,replace=False)\n",
        "display(muestra)\n",
        "df_data=df_data.loc[muestra]"
      ]
    },
    {
      "cell_type": "markdown",
      "id": "8e97eff2",
      "metadata": {
        "id": "8e97eff2"
      },
      "source": [
        "#### Eliminación de datos atípicos anormales"
      ]
    },
    {
      "cell_type": "code",
      "execution_count": 75,
      "id": "f038e65d",
      "metadata": {
        "id": "f038e65d"
      },
      "outputs": [],
      "source": [
        "#df_data = df_data[df_data.total_ingresos<q3+1.5*RIQ]\n",
        "#df_data.shape"
      ]
    },
    {
      "cell_type": "markdown",
      "id": "ce76e4d0",
      "metadata": {
        "id": "ce76e4d0"
      },
      "source": [
        "## Diagrama de dispersión de Ingresos y Nivel educativo"
      ]
    },
    {
      "cell_type": "code",
      "execution_count": 93,
      "id": "e048b48e",
      "metadata": {
        "id": "e048b48e",
        "colab": {
          "base_uri": "https://localhost:8080/",
          "height": 350
        },
        "outputId": "6d4ecf67-62c7-4f5e-9efc-1fe637277909"
      },
      "outputs": [
        {
          "output_type": "display_data",
          "data": {
            "text/plain": [
              "<Figure size 720x360 with 1 Axes>"
            ],
            "image/png": "[encoded data removed]"
          },
          "metadata": {
            "needs_background": "light"
          }
        }
      ],
      "source": [
        "fig, ax = plt.subplots(figsize=(10, 5))\n",
        "\n",
        "df_data.plot(\n",
        "    x    = 'Nivel Educativo',\n",
        "    y    = 'total_ingresos',\n",
        "    c    = 'green',\n",
        "    kind = \"scatter\",\n",
        "    ax   = ax\n",
        ")\n",
        "ax.set_title('Ingresos vs NIvel educativo');"
      ]
    },
    {
      "cell_type": "code",
      "source": [
        "fig, ax = plt.subplots(figsize=(10, 5))\n",
        "\n",
        "df_data.plot(\n",
        "    x    = 'Bienes',\n",
        "    y    = 'total_ingresos',\n",
        "    c    = 'green',\n",
        "    kind = \"scatter\",\n",
        "    ax   = ax\n",
        ")\n",
        "ax.set_title('Ingresos vs NIvel educativo');"
      ],
      "metadata": {
        "colab": {
          "base_uri": "https://localhost:8080/",
          "height": 350
        },
        "id": "5aNRuIpWwOyu",
        "outputId": "9ceb7c4a-a652-4320-cc93-7cd1df78ca99"
      },
      "id": "5aNRuIpWwOyu",
      "execution_count": 94,
      "outputs": [
        {
          "output_type": "display_data",
          "data": {
            "text/plain": [
              "<Figure size 720x360 with 1 Axes>"
            ],
            "image/png": "[encoded data removed]"
          },
          "metadata": {
            "needs_background": "light"
          }
        }
      ]
    },
    {
      "cell_type": "markdown",
      "id": "c13761e8",
      "metadata": {
        "id": "c13761e8"
      },
      "source": [
        "## Correlación lineal entre las variables"
      ]
    },
    {
      "cell_type": "code",
      "execution_count": 99,
      "id": "22b05fd5",
      "metadata": {
        "id": "22b05fd5",
        "colab": {
          "base_uri": "https://localhost:8080/"
        },
        "outputId": "ce1b4d5b-baa8-4b35-f3da-367399143725"
      },
      "outputs": [
        {
          "output_type": "stream",
          "name": "stdout",
          "text": [
            "Coeficiente de correlación de Pearson:  0.25627323358485465\n",
            "P-value:  0.01006335696732523\n"
          ]
        }
      ],
      "source": [
        "from scipy.stats import pearsonr\n",
        "corr_test = pearsonr(x = df_data['Nivel Educativo'], y =  df_data['total_ingresos'])\n",
        "print(\"Coeficiente de correlación de Pearson: \", corr_test[0])#primer valor\n",
        "print(\"P-value: \", corr_test[1])#segundo valor"
      ]
    },
    {
      "cell_type": "code",
      "source": [
        "from scipy.stats import pearsonr\n",
        "corr_test = pearsonr(x = df_data['Bienes'], y =  df_data['total_ingresos'])\n",
        "print(\"Coeficiente de correlación de Pearson: \", str(round(corr_test[0],4)*100) + '%')\n",
        "print(\"P-value: \", corr_test[1])"
      ],
      "metadata": {
        "colab": {
          "base_uri": "https://localhost:8080/"
        },
        "id": "kODZmdHzwlAC",
        "outputId": "e0c2e111-4235-46bd-caa9-9323421c5d2e"
      },
      "id": "kODZmdHzwlAC",
      "execution_count": 101,
      "outputs": [
        {
          "output_type": "stream",
          "name": "stdout",
          "text": [
            "Coeficiente de correlación de Pearson:  14.56%\n",
            "P-value:  0.14829397704981942\n"
          ]
        }
      ]
    },
    {
      "cell_type": "markdown",
      "id": "e72a22f9",
      "metadata": {
        "id": "e72a22f9"
      },
      "source": [
        "## Estimación del modelo"
      ]
    },
    {
      "cell_type": "markdown",
      "id": "87cd14bc",
      "metadata": {
        "id": "87cd14bc"
      },
      "source": [
        "Selección de variables independientes"
      ]
    },
    {
      "cell_type": "code",
      "execution_count": 102,
      "id": "aa794b3f",
      "metadata": {
        "id": "aa794b3f",
        "colab": {
          "base_uri": "https://localhost:8080/",
          "height": 143
        },
        "outputId": "4c854bce-cf6f-47b5-dc28-c460c778b5fa"
      },
      "outputs": [
        {
          "output_type": "execute_result",
          "data": {
            "text/plain": [
              "       Nivel Educativo\n",
              "4036               7.0\n",
              "28713              2.0\n",
              "2267               5.0"
            ],
            "text/html": [
              "\n",
              "  <div id=\"df-c87a3ec2-7eee-4801-aa47-da74285c5b3c\">\n",
              "    <div class=\"colab-df-container\">\n",
              "      <div>\n",
              "<style scoped>\n",
              "    .dataframe tbody tr th:only-of-type {\n",
              "        vertical-align: middle;\n",
              "    }\n",
              "\n",
              "    .dataframe tbody tr th {\n",
              "        vertical-align: top;\n",
              "    }\n",
              "\n",
              "    .dataframe thead th {\n",
              "        text-align: right;\n",
              "    }\n",
              "</style>\n",
              "<table border=\"1\" class=\"dataframe\">\n",
              "  <thead>\n",
              "    <tr style=\"text-align: right;\">\n",
              "      <th></th>\n",
              "      <th>Nivel Educativo</th>\n",
              "    </tr>\n",
              "  </thead>\n",
              "  <tbody>\n",
              "    <tr>\n",
              "      <th>4036</th>\n",
              "      <td>7.0</td>\n",
              "    </tr>\n",
              "    <tr>\n",
              "      <th>28713</th>\n",
              "      <td>2.0</td>\n",
              "    </tr>\n",
              "    <tr>\n",
              "      <th>2267</th>\n",
              "      <td>5.0</td>\n",
              "    </tr>\n",
              "  </tbody>\n",
              "</table>\n",
              "</div>\n",
              "      <button class=\"colab-df-convert\" onclick=\"convertToInteractive('df-c87a3ec2-7eee-4801-aa47-da74285c5b3c')\"\n",
              "              title=\"Convert this dataframe to an interactive table.\"\n",
              "              style=\"display:none;\">\n",
              "        \n",
              "  <svg xmlns=\"http://www.w3.org/2000/svg\" height=\"24px\"viewBox=\"0 0 24 24\"\n",
              "       width=\"24px\">\n",
              "    <path d=\"M0 0h24v24H0V0z\" fill=\"none\"/>\n",
              "    <path d=\"M18.56 5.44l.94 2.06.94-2.06 2.06-.94-2.06-.94-.94-2.06-.94 2.06-2.06.94zm-11 1L8.5 8.5l.94-2.06 2.06-.94-2.06-.94L8.5 2.5l-.94 2.06-2.06.94zm10 10l.94 2.06.94-2.06 2.06-.94-2.06-.94-.94-2.06-.94 2.06-2.06.94z\"/><path d=\"M17.41 7.96l-1.37-1.37c-.4-.4-.92-.59-1.43-.59-.52 0-1.04.2-1.43.59L10.3 9.45l-7.72 7.72c-.78.78-.78 2.05 0 2.83L4 21.41c.39.39.9.59 1.41.59.51 0 1.02-.2 1.41-.59l7.78-7.78 2.81-2.81c.8-.78.8-2.07 0-2.86zM5.41 20L4 18.59l7.72-7.72 1.47 1.35L5.41 20z\"/>\n",
              "  </svg>\n",
              "      </button>\n",
              "      \n",
              "  <style>\n",
              "    .colab-df-container {\n",
              "      display:flex;\n",
              "      flex-wrap:wrap;\n",
              "      gap: 12px;\n",
              "    }\n",
              "\n",
              "    .colab-df-convert {\n",
              "      background-color: #E8F0FE;\n",
              "      border: none;\n",
              "      border-radius: 50%;\n",
              "      cursor: pointer;\n",
              "      display: none;\n",
              "      fill: #1967D2;\n",
              "      height: 32px;\n",
              "      padding: 0 0 0 0;\n",
              "      width: 32px;\n",
              "    }\n",
              "\n",
              "    .colab-df-convert:hover {\n",
              "      background-color: #E2EBFA;\n",
              "      box-shadow: 0px 1px 2px rgba(60, 64, 67, 0.3), 0px 1px 3px 1px rgba(60, 64, 67, 0.15);\n",
              "      fill: #174EA6;\n",
              "    }\n",
              "\n",
              "    [theme=dark] .colab-df-convert {\n",
              "      background-color: #3B4455;\n",
              "      fill: #D2E3FC;\n",
              "    }\n",
              "\n",
              "    [theme=dark] .colab-df-convert:hover {\n",
              "      background-color: #434B5C;\n",
              "      box-shadow: 0px 1px 3px 1px rgba(0, 0, 0, 0.15);\n",
              "      filter: drop-shadow(0px 1px 2px rgba(0, 0, 0, 0.3));\n",
              "      fill: #FFFFFF;\n",
              "    }\n",
              "  </style>\n",
              "\n",
              "      <script>\n",
              "        const buttonEl =\n",
              "          document.querySelector('#df-c87a3ec2-7eee-4801-aa47-da74285c5b3c button.colab-df-convert');\n",
              "        buttonEl.style.display =\n",
              "          google.colab.kernel.accessAllowed ? 'block' : 'none';\n",
              "\n",
              "        async function convertToInteractive(key) {\n",
              "          const element = document.querySelector('#df-c87a3ec2-7eee-4801-aa47-da74285c5b3c');\n",
              "          const dataTable =\n",
              "            await google.colab.kernel.invokeFunction('convertToInteractive',\n",
              "                                                     [key], {});\n",
              "          if (!dataTable) return;\n",
              "\n",
              "          const docLinkHtml = 'Like what you see? Visit the ' +\n",
              "            '<a target=\"_blank\" href=https://colab.research.google.com/notebooks/data_table.ipynb>data table notebook</a>'\n",
              "            + ' to learn more about interactive tables.';\n",
              "          element.innerHTML = '';\n",
              "          dataTable['output_type'] = 'display_data';\n",
              "          await google.colab.output.renderOutput(dataTable, element);\n",
              "          const docLink = document.createElement('div');\n",
              "          docLink.innerHTML = docLinkHtml;\n",
              "          element.appendChild(docLink);\n",
              "        }\n",
              "      </script>\n",
              "    </div>\n",
              "  </div>\n",
              "  "
            ]
          },
          "metadata": {},
          "execution_count": 102
        }
      ],
      "source": [
        "inde=['Nivel Educativo']\n",
        "X=df_data[inde]\n",
        "X.head(3)"
      ]
    },
    {
      "cell_type": "markdown",
      "source": [
        "Agregar la constante al conjunto de variables independientes"
      ],
      "metadata": {
        "id": "L1nr2wAlUfNy"
      },
      "id": "L1nr2wAlUfNy"
    },
    {
      "cell_type": "code",
      "source": [
        "X = sm.add_constant(X)\n",
        "X.head()"
      ],
      "metadata": {
        "colab": {
          "base_uri": "https://localhost:8080/",
          "height": 243
        },
        "id": "QpgOvkr4Uqnk",
        "outputId": "5c01e008-a5a0-41ac-f08f-c5eb0e7ea034"
      },
      "id": "QpgOvkr4Uqnk",
      "execution_count": 103,
      "outputs": [
        {
          "output_type": "stream",
          "name": "stderr",
          "text": [
            "/usr/local/lib/python3.7/dist-packages/statsmodels/tsa/tsatools.py:142: FutureWarning: In a future version of pandas all arguments of concat except for the argument 'objs' will be keyword-only\n",
            "  x = pd.concat(x[::order], 1)\n"
          ]
        },
        {
          "output_type": "execute_result",
          "data": {
            "text/plain": [
              "       const  Nivel Educativo\n",
              "4036     1.0         7.000000\n",
              "28713    1.0         2.000000\n",
              "2267     1.0         5.000000\n",
              "22457    1.0         6.666667\n",
              "14498    1.0         3.000000"
            ],
            "text/html": [
              "\n",
              "  <div id=\"df-ed2019f7-1136-4373-b68e-f4dd2e5e01a2\">\n",
              "    <div class=\"colab-df-container\">\n",
              "      <div>\n",
              "<style scoped>\n",
              "    .dataframe tbody tr th:only-of-type {\n",
              "        vertical-align: middle;\n",
              "    }\n",
              "\n",
              "    .dataframe tbody tr th {\n",
              "        vertical-align: top;\n",
              "    }\n",
              "\n",
              "    .dataframe thead th {\n",
              "        text-align: right;\n",
              "    }\n",
              "</style>\n",
              "<table border=\"1\" class=\"dataframe\">\n",
              "  <thead>\n",
              "    <tr style=\"text-align: right;\">\n",
              "      <th></th>\n",
              "      <th>const</th>\n",
              "      <th>Nivel Educativo</th>\n",
              "    </tr>\n",
              "  </thead>\n",
              "  <tbody>\n",
              "    <tr>\n",
              "      <th>4036</th>\n",
              "      <td>1.0</td>\n",
              "      <td>7.000000</td>\n",
              "    </tr>\n",
              "    <tr>\n",
              "      <th>28713</th>\n",
              "      <td>1.0</td>\n",
              "      <td>2.000000</td>\n",
              "    </tr>\n",
              "    <tr>\n",
              "      <th>2267</th>\n",
              "      <td>1.0</td>\n",
              "      <td>5.000000</td>\n",
              "    </tr>\n",
              "    <tr>\n",
              "      <th>22457</th>\n",
              "      <td>1.0</td>\n",
              "      <td>6.666667</td>\n",
              "    </tr>\n",
              "    <tr>\n",
              "      <th>14498</th>\n",
              "      <td>1.0</td>\n",
              "      <td>3.000000</td>\n",
              "    </tr>\n",
              "  </tbody>\n",
              "</table>\n",
              "</div>\n",
              "      <button class=\"colab-df-convert\" onclick=\"convertToInteractive('df-ed2019f7-1136-4373-b68e-f4dd2e5e01a2')\"\n",
              "              title=\"Convert this dataframe to an interactive table.\"\n",
              "              style=\"display:none;\">\n",
              "        \n",
              "  <svg xmlns=\"http://www.w3.org/2000/svg\" height=\"24px\"viewBox=\"0 0 24 24\"\n",
              "       width=\"24px\">\n",
              "    <path d=\"M0 0h24v24H0V0z\" fill=\"none\"/>\n",
              "    <path d=\"M18.56 5.44l.94 2.06.94-2.06 2.06-.94-2.06-.94-.94-2.06-.94 2.06-2.06.94zm-11 1L8.5 8.5l.94-2.06 2.06-.94-2.06-.94L8.5 2.5l-.94 2.06-2.06.94zm10 10l.94 2.06.94-2.06 2.06-.94-2.06-.94-.94-2.06-.94 2.06-2.06.94z\"/><path d=\"M17.41 7.96l-1.37-1.37c-.4-.4-.92-.59-1.43-.59-.52 0-1.04.2-1.43.59L10.3 9.45l-7.72 7.72c-.78.78-.78 2.05 0 2.83L4 21.41c.39.39.9.59 1.41.59.51 0 1.02-.2 1.41-.59l7.78-7.78 2.81-2.81c.8-.78.8-2.07 0-2.86zM5.41 20L4 18.59l7.72-7.72 1.47 1.35L5.41 20z\"/>\n",
              "  </svg>\n",
              "      </button>\n",
              "      \n",
              "  <style>\n",
              "    .colab-df-container {\n",
              "      display:flex;\n",
              "      flex-wrap:wrap;\n",
              "      gap: 12px;\n",
              "    }\n",
              "\n",
              "    .colab-df-convert {\n",
              "      background-color: #E8F0FE;\n",
              "      border: none;\n",
              "      border-radius: 50%;\n",
              "      cursor: pointer;\n",
              "      display: none;\n",
              "      fill: #1967D2;\n",
              "      height: 32px;\n",
              "      padding: 0 0 0 0;\n",
              "      width: 32px;\n",
              "    }\n",
              "\n",
              "    .colab-df-convert:hover {\n",
              "      background-color: #E2EBFA;\n",
              "      box-shadow: 0px 1px 2px rgba(60, 64, 67, 0.3), 0px 1px 3px 1px rgba(60, 64, 67, 0.15);\n",
              "      fill: #174EA6;\n",
              "    }\n",
              "\n",
              "    [theme=dark] .colab-df-convert {\n",
              "      background-color: #3B4455;\n",
              "      fill: #D2E3FC;\n",
              "    }\n",
              "\n",
              "    [theme=dark] .colab-df-convert:hover {\n",
              "      background-color: #434B5C;\n",
              "      box-shadow: 0px 1px 3px 1px rgba(0, 0, 0, 0.15);\n",
              "      filter: drop-shadow(0px 1px 2px rgba(0, 0, 0, 0.3));\n",
              "      fill: #FFFFFF;\n",
              "    }\n",
              "  </style>\n",
              "\n",
              "      <script>\n",
              "        const buttonEl =\n",
              "          document.querySelector('#df-ed2019f7-1136-4373-b68e-f4dd2e5e01a2 button.colab-df-convert');\n",
              "        buttonEl.style.display =\n",
              "          google.colab.kernel.accessAllowed ? 'block' : 'none';\n",
              "\n",
              "        async function convertToInteractive(key) {\n",
              "          const element = document.querySelector('#df-ed2019f7-1136-4373-b68e-f4dd2e5e01a2');\n",
              "          const dataTable =\n",
              "            await google.colab.kernel.invokeFunction('convertToInteractive',\n",
              "                                                     [key], {});\n",
              "          if (!dataTable) return;\n",
              "\n",
              "          const docLinkHtml = 'Like what you see? Visit the ' +\n",
              "            '<a target=\"_blank\" href=https://colab.research.google.com/notebooks/data_table.ipynb>data table notebook</a>'\n",
              "            + ' to learn more about interactive tables.';\n",
              "          element.innerHTML = '';\n",
              "          dataTable['output_type'] = 'display_data';\n",
              "          await google.colab.output.renderOutput(dataTable, element);\n",
              "          const docLink = document.createElement('div');\n",
              "          docLink.innerHTML = docLinkHtml;\n",
              "          element.appendChild(docLink);\n",
              "        }\n",
              "      </script>\n",
              "    </div>\n",
              "  </div>\n",
              "  "
            ]
          },
          "metadata": {},
          "execution_count": 103
        }
      ]
    },
    {
      "cell_type": "markdown",
      "id": "ede7dbc4",
      "metadata": {
        "id": "ede7dbc4"
      },
      "source": [
        "Selección de variable dependiente"
      ]
    },
    {
      "cell_type": "code",
      "execution_count": 105,
      "id": "189e9b7a",
      "metadata": {
        "id": "189e9b7a",
        "colab": {
          "base_uri": "https://localhost:8080/"
        },
        "outputId": "6109cca2-dfc7-42b7-93ea-34a13edad6ea"
      },
      "outputs": [
        {
          "output_type": "execute_result",
          "data": {
            "text/plain": [
              "4036     360000.0\n",
              "28713    512500.0\n",
              "2267     390000.0\n",
              "Name: total_ingresos, dtype: float64"
            ]
          },
          "metadata": {},
          "execution_count": 105
        }
      ],
      "source": [
        "y=df_data['total_ingresos']\n",
        "y.head(3)"
      ]
    },
    {
      "cell_type": "markdown",
      "id": "016e2ad4",
      "metadata": {
        "id": "016e2ad4"
      },
      "source": [
        "Separación de registros de entrenamiento y prueba"
      ]
    },
    {
      "cell_type": "code",
      "execution_count": 106,
      "id": "324326a8",
      "metadata": {
        "id": "324326a8"
      },
      "outputs": [],
      "source": [
        "from sklearn.model_selection import train_test_split\n",
        "X_train, X_test, y_train, y_test = train_test_split(X, y, test_size = 0.3)"
      ]
    },
    {
      "cell_type": "code",
      "source": [
        "display(X_train.head(2))\n",
        "display(y_train.head(2))\n",
        "display(X_test.head(2))\n",
        "display(y_test.head(2))"
      ],
      "metadata": {
        "colab": {
          "base_uri": "https://localhost:8080/",
          "height": 318
        },
        "id": "ySWfNAyfbJvO",
        "outputId": "687e8d11-cbaa-4d22-a51d-e559f09221b4"
      },
      "id": "ySWfNAyfbJvO",
      "execution_count": 107,
      "outputs": [
        {
          "output_type": "display_data",
          "data": {
            "text/plain": [
              "       const  Nivel Educativo\n",
              "48962    1.0             14.4\n",
              "18442    1.0              8.0"
            ],
            "text/html": [
              "\n",
              "  <div id=\"df-89e8d2bd-2ed1-4a60-b9a9-1491ff57acad\">\n",
              "    <div class=\"colab-df-container\">\n",
              "      <div>\n",
              "<style scoped>\n",
              "    .dataframe tbody tr th:only-of-type {\n",
              "        vertical-align: middle;\n",
              "    }\n",
              "\n",
              "    .dataframe tbody tr th {\n",
              "        vertical-align: top;\n",
              "    }\n",
              "\n",
              "    .dataframe thead th {\n",
              "        text-align: right;\n",
              "    }\n",
              "</style>\n",
              "<table border=\"1\" class=\"dataframe\">\n",
              "  <thead>\n",
              "    <tr style=\"text-align: right;\">\n",
              "      <th></th>\n",
              "      <th>const</th>\n",
              "      <th>Nivel Educativo</th>\n",
              "    </tr>\n",
              "  </thead>\n",
              "  <tbody>\n",
              "    <tr>\n",
              "      <th>48962</th>\n",
              "      <td>1.0</td>\n",
              "      <td>14.4</td>\n",
              "    </tr>\n",
              "    <tr>\n",
              "      <th>18442</th>\n",
              "      <td>1.0</td>\n",
              "      <td>8.0</td>\n",
              "    </tr>\n",
              "  </tbody>\n",
              "</table>\n",
              "</div>\n",
              "      <button class=\"colab-df-convert\" onclick=\"convertToInteractive('df-89e8d2bd-2ed1-4a60-b9a9-1491ff57acad')\"\n",
              "              title=\"Convert this dataframe to an interactive table.\"\n",
              "              style=\"display:none;\">\n",
              "        \n",
              "  <svg xmlns=\"http://www.w3.org/2000/svg\" height=\"24px\"viewBox=\"0 0 24 24\"\n",
              "       width=\"24px\">\n",
              "    <path d=\"M0 0h24v24H0V0z\" fill=\"none\"/>\n",
              "    <path d=\"M18.56 5.44l.94 2.06.94-2.06 2.06-.94-2.06-.94-.94-2.06-.94 2.06-2.06.94zm-11 1L8.5 8.5l.94-2.06 2.06-.94-2.06-.94L8.5 2.5l-.94 2.06-2.06.94zm10 10l.94 2.06.94-2.06 2.06-.94-2.06-.94-.94-2.06-.94 2.06-2.06.94z\"/><path d=\"M17.41 7.96l-1.37-1.37c-.4-.4-.92-.59-1.43-.59-.52 0-1.04.2-1.43.59L10.3 9.45l-7.72 7.72c-.78.78-.78 2.05 0 2.83L4 21.41c.39.39.9.59 1.41.59.51 0 1.02-.2 1.41-.59l7.78-7.78 2.81-2.81c.8-.78.8-2.07 0-2.86zM5.41 20L4 18.59l7.72-7.72 1.47 1.35L5.41 20z\"/>\n",
              "  </svg>\n",
              "      </button>\n",
              "      \n",
              "  <style>\n",
              "    .colab-df-container {\n",
              "      display:flex;\n",
              "      flex-wrap:wrap;\n",
              "      gap: 12px;\n",
              "    }\n",
              "\n",
              "    .colab-df-convert {\n",
              "      background-color: #E8F0FE;\n",
              "      border: none;\n",
              "      border-radius: 50%;\n",
              "      cursor: pointer;\n",
              "      display: none;\n",
              "      fill: #1967D2;\n",
              "      height: 32px;\n",
              "      padding: 0 0 0 0;\n",
              "      width: 32px;\n",
              "    }\n",
              "\n",
              "    .colab-df-convert:hover {\n",
              "      background-color: #E2EBFA;\n",
              "      box-shadow: 0px 1px 2px rgba(60, 64, 67, 0.3), 0px 1px 3px 1px rgba(60, 64, 67, 0.15);\n",
              "      fill: #174EA6;\n",
              "    }\n",
              "\n",
              "    [theme=dark] .colab-df-convert {\n",
              "      background-color: #3B4455;\n",
              "      fill: #D2E3FC;\n",
              "    }\n",
              "\n",
              "    [theme=dark] .colab-df-convert:hover {\n",
              "      background-color: #434B5C;\n",
              "      box-shadow: 0px 1px 3px 1px rgba(0, 0, 0, 0.15);\n",
              "      filter: drop-shadow(0px 1px 2px rgba(0, 0, 0, 0.3));\n",
              "      fill: #FFFFFF;\n",
              "    }\n",
              "  </style>\n",
              "\n",
              "      <script>\n",
              "        const buttonEl =\n",
              "          document.querySelector('#df-89e8d2bd-2ed1-4a60-b9a9-1491ff57acad button.colab-df-convert');\n",
              "        buttonEl.style.display =\n",
              "          google.colab.kernel.accessAllowed ? 'block' : 'none';\n",
              "\n",
              "        async function convertToInteractive(key) {\n",
              "          const element = document.querySelector('#df-89e8d2bd-2ed1-4a60-b9a9-1491ff57acad');\n",
              "          const dataTable =\n",
              "            await google.colab.kernel.invokeFunction('convertToInteractive',\n",
              "                                                     [key], {});\n",
              "          if (!dataTable) return;\n",
              "\n",
              "          const docLinkHtml = 'Like what you see? Visit the ' +\n",
              "            '<a target=\"_blank\" href=https://colab.research.google.com/notebooks/data_table.ipynb>data table notebook</a>'\n",
              "            + ' to learn more about interactive tables.';\n",
              "          element.innerHTML = '';\n",
              "          dataTable['output_type'] = 'display_data';\n",
              "          await google.colab.output.renderOutput(dataTable, element);\n",
              "          const docLink = document.createElement('div');\n",
              "          docLink.innerHTML = docLinkHtml;\n",
              "          element.appendChild(docLink);\n",
              "        }\n",
              "      </script>\n",
              "    </div>\n",
              "  </div>\n",
              "  "
            ]
          },
          "metadata": {}
        },
        {
          "output_type": "display_data",
          "data": {
            "text/plain": [
              "48962    656666.666667\n",
              "18442    316666.666667\n",
              "Name: total_ingresos, dtype: float64"
            ]
          },
          "metadata": {}
        },
        {
          "output_type": "display_data",
          "data": {
            "text/plain": [
              "       const  Nivel Educativo\n",
              "7531     1.0              1.0\n",
              "13983    1.0              2.5"
            ],
            "text/html": [
              "\n",
              "  <div id=\"df-efaca4ec-000f-4165-af96-ef333b16e1db\">\n",
              "    <div class=\"colab-df-container\">\n",
              "      <div>\n",
              "<style scoped>\n",
              "    .dataframe tbody tr th:only-of-type {\n",
              "        vertical-align: middle;\n",
              "    }\n",
              "\n",
              "    .dataframe tbody tr th {\n",
              "        vertical-align: top;\n",
              "    }\n",
              "\n",
              "    .dataframe thead th {\n",
              "        text-align: right;\n",
              "    }\n",
              "</style>\n",
              "<table border=\"1\" class=\"dataframe\">\n",
              "  <thead>\n",
              "    <tr style=\"text-align: right;\">\n",
              "      <th></th>\n",
              "      <th>const</th>\n",
              "      <th>Nivel Educativo</th>\n",
              "    </tr>\n",
              "  </thead>\n",
              "  <tbody>\n",
              "    <tr>\n",
              "      <th>7531</th>\n",
              "      <td>1.0</td>\n",
              "      <td>1.0</td>\n",
              "    </tr>\n",
              "    <tr>\n",
              "      <th>13983</th>\n",
              "      <td>1.0</td>\n",
              "      <td>2.5</td>\n",
              "    </tr>\n",
              "  </tbody>\n",
              "</table>\n",
              "</div>\n",
              "      <button class=\"colab-df-convert\" onclick=\"convertToInteractive('df-efaca4ec-000f-4165-af96-ef333b16e1db')\"\n",
              "              title=\"Convert this dataframe to an interactive table.\"\n",
              "              style=\"display:none;\">\n",
              "        \n",
              "  <svg xmlns=\"http://www.w3.org/2000/svg\" height=\"24px\"viewBox=\"0 0 24 24\"\n",
              "       width=\"24px\">\n",
              "    <path d=\"M0 0h24v24H0V0z\" fill=\"none\"/>\n",
              "    <path d=\"M18.56 5.44l.94 2.06.94-2.06 2.06-.94-2.06-.94-.94-2.06-.94 2.06-2.06.94zm-11 1L8.5 8.5l.94-2.06 2.06-.94-2.06-.94L8.5 2.5l-.94 2.06-2.06.94zm10 10l.94 2.06.94-2.06 2.06-.94-2.06-.94-.94-2.06-.94 2.06-2.06.94z\"/><path d=\"M17.41 7.96l-1.37-1.37c-.4-.4-.92-.59-1.43-.59-.52 0-1.04.2-1.43.59L10.3 9.45l-7.72 7.72c-.78.78-.78 2.05 0 2.83L4 21.41c.39.39.9.59 1.41.59.51 0 1.02-.2 1.41-.59l7.78-7.78 2.81-2.81c.8-.78.8-2.07 0-2.86zM5.41 20L4 18.59l7.72-7.72 1.47 1.35L5.41 20z\"/>\n",
              "  </svg>\n",
              "      </button>\n",
              "      \n",
              "  <style>\n",
              "    .colab-df-container {\n",
              "      display:flex;\n",
              "      flex-wrap:wrap;\n",
              "      gap: 12px;\n",
              "    }\n",
              "\n",
              "    .colab-df-convert {\n",
              "      background-color: #E8F0FE;\n",
              "      border: none;\n",
              "      border-radius: 50%;\n",
              "      cursor: pointer;\n",
              "      display: none;\n",
              "      fill: #1967D2;\n",
              "      height: 32px;\n",
              "      padding: 0 0 0 0;\n",
              "      width: 32px;\n",
              "    }\n",
              "\n",
              "    .colab-df-convert:hover {\n",
              "      background-color: #E2EBFA;\n",
              "      box-shadow: 0px 1px 2px rgba(60, 64, 67, 0.3), 0px 1px 3px 1px rgba(60, 64, 67, 0.15);\n",
              "      fill: #174EA6;\n",
              "    }\n",
              "\n",
              "    [theme=dark] .colab-df-convert {\n",
              "      background-color: #3B4455;\n",
              "      fill: #D2E3FC;\n",
              "    }\n",
              "\n",
              "    [theme=dark] .colab-df-convert:hover {\n",
              "      background-color: #434B5C;\n",
              "      box-shadow: 0px 1px 3px 1px rgba(0, 0, 0, 0.15);\n",
              "      filter: drop-shadow(0px 1px 2px rgba(0, 0, 0, 0.3));\n",
              "      fill: #FFFFFF;\n",
              "    }\n",
              "  </style>\n",
              "\n",
              "      <script>\n",
              "        const buttonEl =\n",
              "          document.querySelector('#df-efaca4ec-000f-4165-af96-ef333b16e1db button.colab-df-convert');\n",
              "        buttonEl.style.display =\n",
              "          google.colab.kernel.accessAllowed ? 'block' : 'none';\n",
              "\n",
              "        async function convertToInteractive(key) {\n",
              "          const element = document.querySelector('#df-efaca4ec-000f-4165-af96-ef333b16e1db');\n",
              "          const dataTable =\n",
              "            await google.colab.kernel.invokeFunction('convertToInteractive',\n",
              "                                                     [key], {});\n",
              "          if (!dataTable) return;\n",
              "\n",
              "          const docLinkHtml = 'Like what you see? Visit the ' +\n",
              "            '<a target=\"_blank\" href=https://colab.research.google.com/notebooks/data_table.ipynb>data table notebook</a>'\n",
              "            + ' to learn more about interactive tables.';\n",
              "          element.innerHTML = '';\n",
              "          dataTable['output_type'] = 'display_data';\n",
              "          await google.colab.output.renderOutput(dataTable, element);\n",
              "          const docLink = document.createElement('div');\n",
              "          docLink.innerHTML = docLinkHtml;\n",
              "          element.appendChild(docLink);\n",
              "        }\n",
              "      </script>\n",
              "    </div>\n",
              "  </div>\n",
              "  "
            ]
          },
          "metadata": {}
        },
        {
          "output_type": "display_data",
          "data": {
            "text/plain": [
              "7531     390000.000000\n",
              "13983    383333.333333\n",
              "Name: total_ingresos, dtype: float64"
            ]
          },
          "metadata": {}
        }
      ]
    },
    {
      "cell_type": "code",
      "source": [
        "display(X_train.head(2))\n",
        "display(X_test.head(2))"
      ],
      "metadata": {
        "colab": {
          "base_uri": "https://localhost:8080/",
          "height": 208
        },
        "id": "QRbK6BGGbvDM",
        "outputId": "946d04db-92fc-434d-a7fa-b1e20392db69"
      },
      "id": "QRbK6BGGbvDM",
      "execution_count": null,
      "outputs": [
        {
          "output_type": "display_data",
          "data": {
            "text/plain": [
              "       const  Nivel Educativo\n",
              "19385    1.0         9.333333\n",
              "24987    1.0         8.000000"
            ],
            "text/html": [
              "\n",
              "  <div id=\"df-a0a46bb6-ded9-4e1a-be3f-22ad5b787e80\">\n",
              "    <div class=\"colab-df-container\">\n",
              "      <div>\n",
              "<style scoped>\n",
              "    .dataframe tbody tr th:only-of-type {\n",
              "        vertical-align: middle;\n",
              "    }\n",
              "\n",
              "    .dataframe tbody tr th {\n",
              "        vertical-align: top;\n",
              "    }\n",
              "\n",
              "    .dataframe thead th {\n",
              "        text-align: right;\n",
              "    }\n",
              "</style>\n",
              "<table border=\"1\" class=\"dataframe\">\n",
              "  <thead>\n",
              "    <tr style=\"text-align: right;\">\n",
              "      <th></th>\n",
              "      <th>const</th>\n",
              "      <th>Nivel Educativo</th>\n",
              "    </tr>\n",
              "  </thead>\n",
              "  <tbody>\n",
              "    <tr>\n",
              "      <th>19385</th>\n",
              "      <td>1.0</td>\n",
              "      <td>9.333333</td>\n",
              "    </tr>\n",
              "    <tr>\n",
              "      <th>24987</th>\n",
              "      <td>1.0</td>\n",
              "      <td>8.000000</td>\n",
              "    </tr>\n",
              "  </tbody>\n",
              "</table>\n",
              "</div>\n",
              "      <button class=\"colab-df-convert\" onclick=\"convertToInteractive('df-a0a46bb6-ded9-4e1a-be3f-22ad5b787e80')\"\n",
              "              title=\"Convert this dataframe to an interactive table.\"\n",
              "              style=\"display:none;\">\n",
              "        \n",
              "  <svg xmlns=\"http://www.w3.org/2000/svg\" height=\"24px\"viewBox=\"0 0 24 24\"\n",
              "       width=\"24px\">\n",
              "    <path d=\"M0 0h24v24H0V0z\" fill=\"none\"/>\n",
              "    <path d=\"M18.56 5.44l.94 2.06.94-2.06 2.06-.94-2.06-.94-.94-2.06-.94 2.06-2.06.94zm-11 1L8.5 8.5l.94-2.06 2.06-.94-2.06-.94L8.5 2.5l-.94 2.06-2.06.94zm10 10l.94 2.06.94-2.06 2.06-.94-2.06-.94-.94-2.06-.94 2.06-2.06.94z\"/><path d=\"M17.41 7.96l-1.37-1.37c-.4-.4-.92-.59-1.43-.59-.52 0-1.04.2-1.43.59L10.3 9.45l-7.72 7.72c-.78.78-.78 2.05 0 2.83L4 21.41c.39.39.9.59 1.41.59.51 0 1.02-.2 1.41-.59l7.78-7.78 2.81-2.81c.8-.78.8-2.07 0-2.86zM5.41 20L4 18.59l7.72-7.72 1.47 1.35L5.41 20z\"/>\n",
              "  </svg>\n",
              "      </button>\n",
              "      \n",
              "  <style>\n",
              "    .colab-df-container {\n",
              "      display:flex;\n",
              "      flex-wrap:wrap;\n",
              "      gap: 12px;\n",
              "    }\n",
              "\n",
              "    .colab-df-convert {\n",
              "      background-color: #E8F0FE;\n",
              "      border: none;\n",
              "      border-radius: 50%;\n",
              "      cursor: pointer;\n",
              "      display: none;\n",
              "      fill: #1967D2;\n",
              "      height: 32px;\n",
              "      padding: 0 0 0 0;\n",
              "      width: 32px;\n",
              "    }\n",
              "\n",
              "    .colab-df-convert:hover {\n",
              "      background-color: #E2EBFA;\n",
              "      box-shadow: 0px 1px 2px rgba(60, 64, 67, 0.3), 0px 1px 3px 1px rgba(60, 64, 67, 0.15);\n",
              "      fill: #174EA6;\n",
              "    }\n",
              "\n",
              "    [theme=dark] .colab-df-convert {\n",
              "      background-color: #3B4455;\n",
              "      fill: #D2E3FC;\n",
              "    }\n",
              "\n",
              "    [theme=dark] .colab-df-convert:hover {\n",
              "      background-color: #434B5C;\n",
              "      box-shadow: 0px 1px 3px 1px rgba(0, 0, 0, 0.15);\n",
              "      filter: drop-shadow(0px 1px 2px rgba(0, 0, 0, 0.3));\n",
              "      fill: #FFFFFF;\n",
              "    }\n",
              "  </style>\n",
              "\n",
              "      <script>\n",
              "        const buttonEl =\n",
              "          document.querySelector('#df-a0a46bb6-ded9-4e1a-be3f-22ad5b787e80 button.colab-df-convert');\n",
              "        buttonEl.style.display =\n",
              "          google.colab.kernel.accessAllowed ? 'block' : 'none';\n",
              "\n",
              "        async function convertToInteractive(key) {\n",
              "          const element = document.querySelector('#df-a0a46bb6-ded9-4e1a-be3f-22ad5b787e80');\n",
              "          const dataTable =\n",
              "            await google.colab.kernel.invokeFunction('convertToInteractive',\n",
              "                                                     [key], {});\n",
              "          if (!dataTable) return;\n",
              "\n",
              "          const docLinkHtml = 'Like what you see? Visit the ' +\n",
              "            '<a target=\"_blank\" href=https://colab.research.google.com/notebooks/data_table.ipynb>data table notebook</a>'\n",
              "            + ' to learn more about interactive tables.';\n",
              "          element.innerHTML = '';\n",
              "          dataTable['output_type'] = 'display_data';\n",
              "          await google.colab.output.renderOutput(dataTable, element);\n",
              "          const docLink = document.createElement('div');\n",
              "          docLink.innerHTML = docLinkHtml;\n",
              "          element.appendChild(docLink);\n",
              "        }\n",
              "      </script>\n",
              "    </div>\n",
              "  </div>\n",
              "  "
            ]
          },
          "metadata": {}
        },
        {
          "output_type": "display_data",
          "data": {
            "text/plain": [
              "       const  Nivel Educativo\n",
              "27525    1.0        11.333333\n",
              "21543    1.0         9.500000"
            ],
            "text/html": [
              "\n",
              "  <div id=\"df-73aa0b70-695b-4603-a3ed-9f7373b0549c\">\n",
              "    <div class=\"colab-df-container\">\n",
              "      <div>\n",
              "<style scoped>\n",
              "    .dataframe tbody tr th:only-of-type {\n",
              "        vertical-align: middle;\n",
              "    }\n",
              "\n",
              "    .dataframe tbody tr th {\n",
              "        vertical-align: top;\n",
              "    }\n",
              "\n",
              "    .dataframe thead th {\n",
              "        text-align: right;\n",
              "    }\n",
              "</style>\n",
              "<table border=\"1\" class=\"dataframe\">\n",
              "  <thead>\n",
              "    <tr style=\"text-align: right;\">\n",
              "      <th></th>\n",
              "      <th>const</th>\n",
              "      <th>Nivel Educativo</th>\n",
              "    </tr>\n",
              "  </thead>\n",
              "  <tbody>\n",
              "    <tr>\n",
              "      <th>27525</th>\n",
              "      <td>1.0</td>\n",
              "      <td>11.333333</td>\n",
              "    </tr>\n",
              "    <tr>\n",
              "      <th>21543</th>\n",
              "      <td>1.0</td>\n",
              "      <td>9.500000</td>\n",
              "    </tr>\n",
              "  </tbody>\n",
              "</table>\n",
              "</div>\n",
              "      <button class=\"colab-df-convert\" onclick=\"convertToInteractive('df-73aa0b70-695b-4603-a3ed-9f7373b0549c')\"\n",
              "              title=\"Convert this dataframe to an interactive table.\"\n",
              "              style=\"display:none;\">\n",
              "        \n",
              "  <svg xmlns=\"http://www.w3.org/2000/svg\" height=\"24px\"viewBox=\"0 0 24 24\"\n",
              "       width=\"24px\">\n",
              "    <path d=\"M0 0h24v24H0V0z\" fill=\"none\"/>\n",
              "    <path d=\"M18.56 5.44l.94 2.06.94-2.06 2.06-.94-2.06-.94-.94-2.06-.94 2.06-2.06.94zm-11 1L8.5 8.5l.94-2.06 2.06-.94-2.06-.94L8.5 2.5l-.94 2.06-2.06.94zm10 10l.94 2.06.94-2.06 2.06-.94-2.06-.94-.94-2.06-.94 2.06-2.06.94z\"/><path d=\"M17.41 7.96l-1.37-1.37c-.4-.4-.92-.59-1.43-.59-.52 0-1.04.2-1.43.59L10.3 9.45l-7.72 7.72c-.78.78-.78 2.05 0 2.83L4 21.41c.39.39.9.59 1.41.59.51 0 1.02-.2 1.41-.59l7.78-7.78 2.81-2.81c.8-.78.8-2.07 0-2.86zM5.41 20L4 18.59l7.72-7.72 1.47 1.35L5.41 20z\"/>\n",
              "  </svg>\n",
              "      </button>\n",
              "      \n",
              "  <style>\n",
              "    .colab-df-container {\n",
              "      display:flex;\n",
              "      flex-wrap:wrap;\n",
              "      gap: 12px;\n",
              "    }\n",
              "\n",
              "    .colab-df-convert {\n",
              "      background-color: #E8F0FE;\n",
              "      border: none;\n",
              "      border-radius: 50%;\n",
              "      cursor: pointer;\n",
              "      display: none;\n",
              "      fill: #1967D2;\n",
              "      height: 32px;\n",
              "      padding: 0 0 0 0;\n",
              "      width: 32px;\n",
              "    }\n",
              "\n",
              "    .colab-df-convert:hover {\n",
              "      background-color: #E2EBFA;\n",
              "      box-shadow: 0px 1px 2px rgba(60, 64, 67, 0.3), 0px 1px 3px 1px rgba(60, 64, 67, 0.15);\n",
              "      fill: #174EA6;\n",
              "    }\n",
              "\n",
              "    [theme=dark] .colab-df-convert {\n",
              "      background-color: #3B4455;\n",
              "      fill: #D2E3FC;\n",
              "    }\n",
              "\n",
              "    [theme=dark] .colab-df-convert:hover {\n",
              "      background-color: #434B5C;\n",
              "      box-shadow: 0px 1px 3px 1px rgba(0, 0, 0, 0.15);\n",
              "      filter: drop-shadow(0px 1px 2px rgba(0, 0, 0, 0.3));\n",
              "      fill: #FFFFFF;\n",
              "    }\n",
              "  </style>\n",
              "\n",
              "      <script>\n",
              "        const buttonEl =\n",
              "          document.querySelector('#df-73aa0b70-695b-4603-a3ed-9f7373b0549c button.colab-df-convert');\n",
              "        buttonEl.style.display =\n",
              "          google.colab.kernel.accessAllowed ? 'block' : 'none';\n",
              "\n",
              "        async function convertToInteractive(key) {\n",
              "          const element = document.querySelector('#df-73aa0b70-695b-4603-a3ed-9f7373b0549c');\n",
              "          const dataTable =\n",
              "            await google.colab.kernel.invokeFunction('convertToInteractive',\n",
              "                                                     [key], {});\n",
              "          if (!dataTable) return;\n",
              "\n",
              "          const docLinkHtml = 'Like what you see? Visit the ' +\n",
              "            '<a target=\"_blank\" href=https://colab.research.google.com/notebooks/data_table.ipynb>data table notebook</a>'\n",
              "            + ' to learn more about interactive tables.';\n",
              "          element.innerHTML = '';\n",
              "          dataTable['output_type'] = 'display_data';\n",
              "          await google.colab.output.renderOutput(dataTable, element);\n",
              "          const docLink = document.createElement('div');\n",
              "          docLink.innerHTML = docLinkHtml;\n",
              "          element.appendChild(docLink);\n",
              "        }\n",
              "      </script>\n",
              "    </div>\n",
              "  </div>\n",
              "  "
            ]
          },
          "metadata": {}
        }
      ]
    },
    {
      "cell_type": "markdown",
      "source": [
        "Estimación del modelo"
      ],
      "metadata": {
        "id": "8u29ATLmU6R7"
      },
      "id": "8u29ATLmU6R7"
    },
    {
      "cell_type": "code",
      "execution_count": null,
      "id": "c2b35a02",
      "metadata": {
        "id": "c2b35a02"
      },
      "outputs": [],
      "source": [
        "model = sm.OLS(y_train,X_train)\n",
        "results = model.fit()"
      ]
    },
    {
      "cell_type": "markdown",
      "source": [
        "Visualizacion de resultados"
      ],
      "metadata": {
        "id": "nt929bdQU_BA"
      },
      "id": "nt929bdQU_BA"
    },
    {
      "cell_type": "code",
      "execution_count": null,
      "id": "54cce102",
      "metadata": {
        "id": "54cce102",
        "colab": {
          "base_uri": "https://localhost:8080/"
        },
        "outputId": "8d9e578d-5f69-4da8-dd3d-303a24cf9e6c"
      },
      "outputs": [
        {
          "output_type": "stream",
          "name": "stdout",
          "text": [
            "                            OLS Regression Results                            \n",
            "==============================================================================\n",
            "Dep. Variable:               Ingresos   R-squared:                       0.104\n",
            "Model:                            OLS   Adj. R-squared:                  0.091\n",
            "Method:                 Least Squares   F-statistic:                     7.922\n",
            "Date:                Mon, 29 Aug 2022   Prob (F-statistic):            0.00638\n",
            "Time:                        02:05:50   Log-Likelihood:                -939.67\n",
            "No. Observations:                  70   AIC:                             1883.\n",
            "Df Residuals:                      68   BIC:                             1888.\n",
            "Df Model:                           1                                         \n",
            "Covariance Type:            nonrobust                                         \n",
            "===================================================================================\n",
            "                      coef    std err          t      P>|t|      [0.025      0.975]\n",
            "-----------------------------------------------------------------------------------\n",
            "const            4.601e+05   4.79e+04      9.603      0.000    3.64e+05    5.56e+05\n",
            "Nivel Educativo  1.514e+04   5379.503      2.815      0.006    4406.967    2.59e+04\n",
            "==============================================================================\n",
            "Omnibus:                        7.491   Durbin-Watson:                   1.962\n",
            "Prob(Omnibus):                  0.024   Jarque-Bera (JB):                7.543\n",
            "Skew:                           0.759   Prob(JB):                       0.0230\n",
            "Kurtosis:                       2.467   Cond. No.                         21.7\n",
            "==============================================================================\n",
            "\n",
            "Notes:\n",
            "[1] Standard Errors assume that the covariance matrix of the errors is correctly specified.\n"
          ]
        }
      ],
      "source": [
        "print(results.summary())"
      ]
    },
    {
      "cell_type": "markdown",
      "source": [
        "Parámetros del modelo"
      ],
      "metadata": {
        "id": "yztgzliLVMSE"
      },
      "id": "yztgzliLVMSE"
    },
    {
      "cell_type": "code",
      "source": [
        "results.params"
      ],
      "metadata": {
        "colab": {
          "base_uri": "https://localhost:8080/"
        },
        "id": "h41V2oORgz4U",
        "outputId": "c53a648c-5177-49c2-a622-46597722f9b3"
      },
      "id": "h41V2oORgz4U",
      "execution_count": null,
      "outputs": [
        {
          "output_type": "execute_result",
          "data": {
            "text/plain": [
              "const              460050.199503\n",
              "Nivel Educativo     15141.599163\n",
              "dtype: float64"
            ]
          },
          "metadata": {},
          "execution_count": 71
        }
      ]
    },
    {
      "cell_type": "code",
      "source": [
        "display(X_test.head(2))\n",
        "display(y_test.head(2))"
      ],
      "metadata": {
        "colab": {
          "base_uri": "https://localhost:8080/",
          "height": 164
        },
        "id": "EaVZJhPjePBy",
        "outputId": "12ede856-bd49-49c1-ccb8-1ca62ad22a70"
      },
      "id": "EaVZJhPjePBy",
      "execution_count": null,
      "outputs": [
        {
          "output_type": "display_data",
          "data": {
            "text/plain": [
              "       const  Nivel Educativo\n",
              "27525    1.0        11.333333\n",
              "21543    1.0         9.500000"
            ],
            "text/html": [
              "\n",
              "  <div id=\"df-b4d39d8a-2c8e-4871-8583-6e371db732ea\">\n",
              "    <div class=\"colab-df-container\">\n",
              "      <div>\n",
              "<style scoped>\n",
              "    .dataframe tbody tr th:only-of-type {\n",
              "        vertical-align: middle;\n",
              "    }\n",
              "\n",
              "    .dataframe tbody tr th {\n",
              "        vertical-align: top;\n",
              "    }\n",
              "\n",
              "    .dataframe thead th {\n",
              "        text-align: right;\n",
              "    }\n",
              "</style>\n",
              "<table border=\"1\" class=\"dataframe\">\n",
              "  <thead>\n",
              "    <tr style=\"text-align: right;\">\n",
              "      <th></th>\n",
              "      <th>const</th>\n",
              "      <th>Nivel Educativo</th>\n",
              "    </tr>\n",
              "  </thead>\n",
              "  <tbody>\n",
              "    <tr>\n",
              "      <th>27525</th>\n",
              "      <td>1.0</td>\n",
              "      <td>11.333333</td>\n",
              "    </tr>\n",
              "    <tr>\n",
              "      <th>21543</th>\n",
              "      <td>1.0</td>\n",
              "      <td>9.500000</td>\n",
              "    </tr>\n",
              "  </tbody>\n",
              "</table>\n",
              "</div>\n",
              "      <button class=\"colab-df-convert\" onclick=\"convertToInteractive('df-b4d39d8a-2c8e-4871-8583-6e371db732ea')\"\n",
              "              title=\"Convert this dataframe to an interactive table.\"\n",
              "              style=\"display:none;\">\n",
              "        \n",
              "  <svg xmlns=\"http://www.w3.org/2000/svg\" height=\"24px\"viewBox=\"0 0 24 24\"\n",
              "       width=\"24px\">\n",
              "    <path d=\"M0 0h24v24H0V0z\" fill=\"none\"/>\n",
              "    <path d=\"M18.56 5.44l.94 2.06.94-2.06 2.06-.94-2.06-.94-.94-2.06-.94 2.06-2.06.94zm-11 1L8.5 8.5l.94-2.06 2.06-.94-2.06-.94L8.5 2.5l-.94 2.06-2.06.94zm10 10l.94 2.06.94-2.06 2.06-.94-2.06-.94-.94-2.06-.94 2.06-2.06.94z\"/><path d=\"M17.41 7.96l-1.37-1.37c-.4-.4-.92-.59-1.43-.59-.52 0-1.04.2-1.43.59L10.3 9.45l-7.72 7.72c-.78.78-.78 2.05 0 2.83L4 21.41c.39.39.9.59 1.41.59.51 0 1.02-.2 1.41-.59l7.78-7.78 2.81-2.81c.8-.78.8-2.07 0-2.86zM5.41 20L4 18.59l7.72-7.72 1.47 1.35L5.41 20z\"/>\n",
              "  </svg>\n",
              "      </button>\n",
              "      \n",
              "  <style>\n",
              "    .colab-df-container {\n",
              "      display:flex;\n",
              "      flex-wrap:wrap;\n",
              "      gap: 12px;\n",
              "    }\n",
              "\n",
              "    .colab-df-convert {\n",
              "      background-color: #E8F0FE;\n",
              "      border: none;\n",
              "      border-radius: 50%;\n",
              "      cursor: pointer;\n",
              "      display: none;\n",
              "      fill: #1967D2;\n",
              "      height: 32px;\n",
              "      padding: 0 0 0 0;\n",
              "      width: 32px;\n",
              "    }\n",
              "\n",
              "    .colab-df-convert:hover {\n",
              "      background-color: #E2EBFA;\n",
              "      box-shadow: 0px 1px 2px rgba(60, 64, 67, 0.3), 0px 1px 3px 1px rgba(60, 64, 67, 0.15);\n",
              "      fill: #174EA6;\n",
              "    }\n",
              "\n",
              "    [theme=dark] .colab-df-convert {\n",
              "      background-color: #3B4455;\n",
              "      fill: #D2E3FC;\n",
              "    }\n",
              "\n",
              "    [theme=dark] .colab-df-convert:hover {\n",
              "      background-color: #434B5C;\n",
              "      box-shadow: 0px 1px 3px 1px rgba(0, 0, 0, 0.15);\n",
              "      filter: drop-shadow(0px 1px 2px rgba(0, 0, 0, 0.3));\n",
              "      fill: #FFFFFF;\n",
              "    }\n",
              "  </style>\n",
              "\n",
              "      <script>\n",
              "        const buttonEl =\n",
              "          document.querySelector('#df-b4d39d8a-2c8e-4871-8583-6e371db732ea button.colab-df-convert');\n",
              "        buttonEl.style.display =\n",
              "          google.colab.kernel.accessAllowed ? 'block' : 'none';\n",
              "\n",
              "        async function convertToInteractive(key) {\n",
              "          const element = document.querySelector('#df-b4d39d8a-2c8e-4871-8583-6e371db732ea');\n",
              "          const dataTable =\n",
              "            await google.colab.kernel.invokeFunction('convertToInteractive',\n",
              "                                                     [key], {});\n",
              "          if (!dataTable) return;\n",
              "\n",
              "          const docLinkHtml = 'Like what you see? Visit the ' +\n",
              "            '<a target=\"_blank\" href=https://colab.research.google.com/notebooks/data_table.ipynb>data table notebook</a>'\n",
              "            + ' to learn more about interactive tables.';\n",
              "          element.innerHTML = '';\n",
              "          dataTable['output_type'] = 'display_data';\n",
              "          await google.colab.output.renderOutput(dataTable, element);\n",
              "          const docLink = document.createElement('div');\n",
              "          docLink.innerHTML = docLinkHtml;\n",
              "          element.appendChild(docLink);\n",
              "        }\n",
              "      </script>\n",
              "    </div>\n",
              "  </div>\n",
              "  "
            ]
          },
          "metadata": {}
        },
        {
          "output_type": "display_data",
          "data": {
            "text/plain": [
              "27525    425583.333333\n",
              "21543    638541.666667\n",
              "Name: Ingresos, dtype: float64"
            ]
          },
          "metadata": {}
        }
      ]
    },
    {
      "cell_type": "markdown",
      "id": "1d23cacb",
      "metadata": {
        "id": "1d23cacb"
      },
      "source": [
        "## Intervalos de confianza"
      ]
    },
    {
      "cell_type": "code",
      "execution_count": null,
      "id": "3b7e3c75",
      "metadata": {
        "id": "3b7e3c75",
        "scrolled": true,
        "colab": {
          "base_uri": "https://localhost:8080/",
          "height": 112
        },
        "outputId": "f8bec5a4-b251-480a-e688-4b7862097c92"
      },
      "outputs": [
        {
          "output_type": "execute_result",
          "data": {
            "text/plain": [
              "                             0              1\n",
              "const            364457.168076  555643.230931\n",
              "Nivel Educativo    4406.967377   25876.230949"
            ],
            "text/html": [
              "\n",
              "  <div id=\"df-b091a638-a2f3-40ff-9bd7-2d0e65614203\">\n",
              "    <div class=\"colab-df-container\">\n",
              "      <div>\n",
              "<style scoped>\n",
              "    .dataframe tbody tr th:only-of-type {\n",
              "        vertical-align: middle;\n",
              "    }\n",
              "\n",
              "    .dataframe tbody tr th {\n",
              "        vertical-align: top;\n",
              "    }\n",
              "\n",
              "    .dataframe thead th {\n",
              "        text-align: right;\n",
              "    }\n",
              "</style>\n",
              "<table border=\"1\" class=\"dataframe\">\n",
              "  <thead>\n",
              "    <tr style=\"text-align: right;\">\n",
              "      <th></th>\n",
              "      <th>0</th>\n",
              "      <th>1</th>\n",
              "    </tr>\n",
              "  </thead>\n",
              "  <tbody>\n",
              "    <tr>\n",
              "      <th>const</th>\n",
              "      <td>364457.168076</td>\n",
              "      <td>555643.230931</td>\n",
              "    </tr>\n",
              "    <tr>\n",
              "      <th>Nivel Educativo</th>\n",
              "      <td>4406.967377</td>\n",
              "      <td>25876.230949</td>\n",
              "    </tr>\n",
              "  </tbody>\n",
              "</table>\n",
              "</div>\n",
              "      <button class=\"colab-df-convert\" onclick=\"convertToInteractive('df-b091a638-a2f3-40ff-9bd7-2d0e65614203')\"\n",
              "              title=\"Convert this dataframe to an interactive table.\"\n",
              "              style=\"display:none;\">\n",
              "        \n",
              "  <svg xmlns=\"http://www.w3.org/2000/svg\" height=\"24px\"viewBox=\"0 0 24 24\"\n",
              "       width=\"24px\">\n",
              "    <path d=\"M0 0h24v24H0V0z\" fill=\"none\"/>\n",
              "    <path d=\"M18.56 5.44l.94 2.06.94-2.06 2.06-.94-2.06-.94-.94-2.06-.94 2.06-2.06.94zm-11 1L8.5 8.5l.94-2.06 2.06-.94-2.06-.94L8.5 2.5l-.94 2.06-2.06.94zm10 10l.94 2.06.94-2.06 2.06-.94-2.06-.94-.94-2.06-.94 2.06-2.06.94z\"/><path d=\"M17.41 7.96l-1.37-1.37c-.4-.4-.92-.59-1.43-.59-.52 0-1.04.2-1.43.59L10.3 9.45l-7.72 7.72c-.78.78-.78 2.05 0 2.83L4 21.41c.39.39.9.59 1.41.59.51 0 1.02-.2 1.41-.59l7.78-7.78 2.81-2.81c.8-.78.8-2.07 0-2.86zM5.41 20L4 18.59l7.72-7.72 1.47 1.35L5.41 20z\"/>\n",
              "  </svg>\n",
              "      </button>\n",
              "      \n",
              "  <style>\n",
              "    .colab-df-container {\n",
              "      display:flex;\n",
              "      flex-wrap:wrap;\n",
              "      gap: 12px;\n",
              "    }\n",
              "\n",
              "    .colab-df-convert {\n",
              "      background-color: #E8F0FE;\n",
              "      border: none;\n",
              "      border-radius: 50%;\n",
              "      cursor: pointer;\n",
              "      display: none;\n",
              "      fill: #1967D2;\n",
              "      height: 32px;\n",
              "      padding: 0 0 0 0;\n",
              "      width: 32px;\n",
              "    }\n",
              "\n",
              "    .colab-df-convert:hover {\n",
              "      background-color: #E2EBFA;\n",
              "      box-shadow: 0px 1px 2px rgba(60, 64, 67, 0.3), 0px 1px 3px 1px rgba(60, 64, 67, 0.15);\n",
              "      fill: #174EA6;\n",
              "    }\n",
              "\n",
              "    [theme=dark] .colab-df-convert {\n",
              "      background-color: #3B4455;\n",
              "      fill: #D2E3FC;\n",
              "    }\n",
              "\n",
              "    [theme=dark] .colab-df-convert:hover {\n",
              "      background-color: #434B5C;\n",
              "      box-shadow: 0px 1px 3px 1px rgba(0, 0, 0, 0.15);\n",
              "      filter: drop-shadow(0px 1px 2px rgba(0, 0, 0, 0.3));\n",
              "      fill: #FFFFFF;\n",
              "    }\n",
              "  </style>\n",
              "\n",
              "      <script>\n",
              "        const buttonEl =\n",
              "          document.querySelector('#df-b091a638-a2f3-40ff-9bd7-2d0e65614203 button.colab-df-convert');\n",
              "        buttonEl.style.display =\n",
              "          google.colab.kernel.accessAllowed ? 'block' : 'none';\n",
              "\n",
              "        async function convertToInteractive(key) {\n",
              "          const element = document.querySelector('#df-b091a638-a2f3-40ff-9bd7-2d0e65614203');\n",
              "          const dataTable =\n",
              "            await google.colab.kernel.invokeFunction('convertToInteractive',\n",
              "                                                     [key], {});\n",
              "          if (!dataTable) return;\n",
              "\n",
              "          const docLinkHtml = 'Like what you see? Visit the ' +\n",
              "            '<a target=\"_blank\" href=https://colab.research.google.com/notebooks/data_table.ipynb>data table notebook</a>'\n",
              "            + ' to learn more about interactive tables.';\n",
              "          element.innerHTML = '';\n",
              "          dataTable['output_type'] = 'display_data';\n",
              "          await google.colab.output.renderOutput(dataTable, element);\n",
              "          const docLink = document.createElement('div');\n",
              "          docLink.innerHTML = docLinkHtml;\n",
              "          element.appendChild(docLink);\n",
              "        }\n",
              "      </script>\n",
              "    </div>\n",
              "  </div>\n",
              "  "
            ]
          },
          "metadata": {},
          "execution_count": 73
        }
      ],
      "source": [
        "results.conf_int(alpha=0.05) #Confianza del 95%"
      ]
    },
    {
      "cell_type": "markdown",
      "id": "c5d19f54",
      "metadata": {
        "id": "c5d19f54",
        "scrolled": true
      },
      "source": [
        "# Predicciones"
      ]
    },
    {
      "cell_type": "code",
      "source": [
        "display(X_test.head(2))"
      ],
      "metadata": {
        "colab": {
          "base_uri": "https://localhost:8080/",
          "height": 112
        },
        "id": "OKH7Maet-pD9",
        "outputId": "76a0ba91-fa33-4dd9-b27c-56ddc4e096df"
      },
      "id": "OKH7Maet-pD9",
      "execution_count": null,
      "outputs": [
        {
          "output_type": "display_data",
          "data": {
            "text/plain": [
              "       const  Nivel Educativo\n",
              "27525    1.0        11.333333\n",
              "21543    1.0         9.500000"
            ],
            "text/html": [
              "\n",
              "  <div id=\"df-c61ee6bb-982d-4233-bfb0-1a88093aeda3\">\n",
              "    <div class=\"colab-df-container\">\n",
              "      <div>\n",
              "<style scoped>\n",
              "    .dataframe tbody tr th:only-of-type {\n",
              "        vertical-align: middle;\n",
              "    }\n",
              "\n",
              "    .dataframe tbody tr th {\n",
              "        vertical-align: top;\n",
              "    }\n",
              "\n",
              "    .dataframe thead th {\n",
              "        text-align: right;\n",
              "    }\n",
              "</style>\n",
              "<table border=\"1\" class=\"dataframe\">\n",
              "  <thead>\n",
              "    <tr style=\"text-align: right;\">\n",
              "      <th></th>\n",
              "      <th>const</th>\n",
              "      <th>Nivel Educativo</th>\n",
              "    </tr>\n",
              "  </thead>\n",
              "  <tbody>\n",
              "    <tr>\n",
              "      <th>27525</th>\n",
              "      <td>1.0</td>\n",
              "      <td>11.333333</td>\n",
              "    </tr>\n",
              "    <tr>\n",
              "      <th>21543</th>\n",
              "      <td>1.0</td>\n",
              "      <td>9.500000</td>\n",
              "    </tr>\n",
              "  </tbody>\n",
              "</table>\n",
              "</div>\n",
              "      <button class=\"colab-df-convert\" onclick=\"convertToInteractive('df-c61ee6bb-982d-4233-bfb0-1a88093aeda3')\"\n",
              "              title=\"Convert this dataframe to an interactive table.\"\n",
              "              style=\"display:none;\">\n",
              "        \n",
              "  <svg xmlns=\"http://www.w3.org/2000/svg\" height=\"24px\"viewBox=\"0 0 24 24\"\n",
              "       width=\"24px\">\n",
              "    <path d=\"M0 0h24v24H0V0z\" fill=\"none\"/>\n",
              "    <path d=\"M18.56 5.44l.94 2.06.94-2.06 2.06-.94-2.06-.94-.94-2.06-.94 2.06-2.06.94zm-11 1L8.5 8.5l.94-2.06 2.06-.94-2.06-.94L8.5 2.5l-.94 2.06-2.06.94zm10 10l.94 2.06.94-2.06 2.06-.94-2.06-.94-.94-2.06-.94 2.06-2.06.94z\"/><path d=\"M17.41 7.96l-1.37-1.37c-.4-.4-.92-.59-1.43-.59-.52 0-1.04.2-1.43.59L10.3 9.45l-7.72 7.72c-.78.78-.78 2.05 0 2.83L4 21.41c.39.39.9.59 1.41.59.51 0 1.02-.2 1.41-.59l7.78-7.78 2.81-2.81c.8-.78.8-2.07 0-2.86zM5.41 20L4 18.59l7.72-7.72 1.47 1.35L5.41 20z\"/>\n",
              "  </svg>\n",
              "      </button>\n",
              "      \n",
              "  <style>\n",
              "    .colab-df-container {\n",
              "      display:flex;\n",
              "      flex-wrap:wrap;\n",
              "      gap: 12px;\n",
              "    }\n",
              "\n",
              "    .colab-df-convert {\n",
              "      background-color: #E8F0FE;\n",
              "      border: none;\n",
              "      border-radius: 50%;\n",
              "      cursor: pointer;\n",
              "      display: none;\n",
              "      fill: #1967D2;\n",
              "      height: 32px;\n",
              "      padding: 0 0 0 0;\n",
              "      width: 32px;\n",
              "    }\n",
              "\n",
              "    .colab-df-convert:hover {\n",
              "      background-color: #E2EBFA;\n",
              "      box-shadow: 0px 1px 2px rgba(60, 64, 67, 0.3), 0px 1px 3px 1px rgba(60, 64, 67, 0.15);\n",
              "      fill: #174EA6;\n",
              "    }\n",
              "\n",
              "    [theme=dark] .colab-df-convert {\n",
              "      background-color: #3B4455;\n",
              "      fill: #D2E3FC;\n",
              "    }\n",
              "\n",
              "    [theme=dark] .colab-df-convert:hover {\n",
              "      background-color: #434B5C;\n",
              "      box-shadow: 0px 1px 3px 1px rgba(0, 0, 0, 0.15);\n",
              "      filter: drop-shadow(0px 1px 2px rgba(0, 0, 0, 0.3));\n",
              "      fill: #FFFFFF;\n",
              "    }\n",
              "  </style>\n",
              "\n",
              "      <script>\n",
              "        const buttonEl =\n",
              "          document.querySelector('#df-c61ee6bb-982d-4233-bfb0-1a88093aeda3 button.colab-df-convert');\n",
              "        buttonEl.style.display =\n",
              "          google.colab.kernel.accessAllowed ? 'block' : 'none';\n",
              "\n",
              "        async function convertToInteractive(key) {\n",
              "          const element = document.querySelector('#df-c61ee6bb-982d-4233-bfb0-1a88093aeda3');\n",
              "          const dataTable =\n",
              "            await google.colab.kernel.invokeFunction('convertToInteractive',\n",
              "                                                     [key], {});\n",
              "          if (!dataTable) return;\n",
              "\n",
              "          const docLinkHtml = 'Like what you see? Visit the ' +\n",
              "            '<a target=\"_blank\" href=https://colab.research.google.com/notebooks/data_table.ipynb>data table notebook</a>'\n",
              "            + ' to learn more about interactive tables.';\n",
              "          element.innerHTML = '';\n",
              "          dataTable['output_type'] = 'display_data';\n",
              "          await google.colab.output.renderOutput(dataTable, element);\n",
              "          const docLink = document.createElement('div');\n",
              "          docLink.innerHTML = docLinkHtml;\n",
              "          element.appendChild(docLink);\n",
              "        }\n",
              "      </script>\n",
              "    </div>\n",
              "  </div>\n",
              "  "
            ]
          },
          "metadata": {}
        }
      ]
    },
    {
      "cell_type": "code",
      "source": [
        "display(y_test.head(2))"
      ],
      "metadata": {
        "colab": {
          "base_uri": "https://localhost:8080/",
          "height": 69
        },
        "id": "bCPrAv7a_FTH",
        "outputId": "793633d4-407e-4f2e-aa88-8b48f46476bc"
      },
      "id": "bCPrAv7a_FTH",
      "execution_count": null,
      "outputs": [
        {
          "output_type": "display_data",
          "data": {
            "text/plain": [
              "27525    425583.333333\n",
              "21543    638541.666667\n",
              "Name: Ingresos, dtype: float64"
            ]
          },
          "metadata": {}
        }
      ]
    },
    {
      "cell_type": "code",
      "execution_count": null,
      "id": "71c38128",
      "metadata": {
        "id": "71c38128",
        "colab": {
          "base_uri": "https://localhost:8080/"
        },
        "outputId": "015ea964-2735-431a-8383-adb1952e263c"
      },
      "outputs": [
        {
          "output_type": "execute_result",
          "data": {
            "text/plain": [
              "27525    631654.990018\n",
              "21543    603895.391552\n",
              "dtype: float64"
            ]
          },
          "metadata": {},
          "execution_count": 76
        }
      ],
      "source": [
        "results.predict(X_test).head(2)"
      ]
    },
    {
      "cell_type": "markdown",
      "id": "85cd5cfa",
      "metadata": {
        "id": "85cd5cfa"
      },
      "source": [
        "## Intervalos de confianza predicciones"
      ]
    },
    {
      "cell_type": "code",
      "execution_count": null,
      "id": "82e6c657",
      "metadata": {
        "id": "82e6c657"
      },
      "outputs": [],
      "source": [
        "Pred_test=results.get_prediction(X_test).summary_frame().sort_values(\"mean\")"
      ]
    },
    {
      "cell_type": "code",
      "source": [
        "Pred_test.head(5)"
      ],
      "metadata": {
        "colab": {
          "base_uri": "https://localhost:8080/",
          "height": 206
        },
        "id": "Y5fO5W1-AHDP",
        "outputId": "2b64e825-e290-4327-a659-2e6f714141b0"
      },
      "id": "Y5fO5W1-AHDP",
      "execution_count": null,
      "outputs": [
        {
          "output_type": "execute_result",
          "data": {
            "text/plain": [
              "                mean       mean_se  mean_ci_lower  mean_ci_upper  \\\n",
              "33453  470144.598945  44665.241260  381016.497720  559272.700171   \n",
              "41345  490333.397829  38371.020763  413765.218049  566901.577610   \n",
              "18745  510522.196713  32443.506502  445782.187479  575262.205948   \n",
              "29471  510522.196713  32443.506502  445782.187479  575262.205948   \n",
              "15810  530710.995598  27124.185075  476585.527003  584836.464192   \n",
              "\n",
              "        obs_ci_lower   obs_ci_upper  \n",
              "33453  127215.777785  813073.420105  \n",
              "41345  150452.471461  830214.324198  \n",
              "18745  173109.057150  847935.336277  \n",
              "29471  173109.057150  847935.336277  \n",
              "15810  195172.735030  866249.256165  "
            ],
            "text/html": [
              "\n",
              "  <div id=\"df-0618598f-b93d-4d5f-a894-a851927bc083\">\n",
              "    <div class=\"colab-df-container\">\n",
              "      <div>\n",
              "<style scoped>\n",
              "    .dataframe tbody tr th:only-of-type {\n",
              "        vertical-align: middle;\n",
              "    }\n",
              "\n",
              "    .dataframe tbody tr th {\n",
              "        vertical-align: top;\n",
              "    }\n",
              "\n",
              "    .dataframe thead th {\n",
              "        text-align: right;\n",
              "    }\n",
              "</style>\n",
              "<table border=\"1\" class=\"dataframe\">\n",
              "  <thead>\n",
              "    <tr style=\"text-align: right;\">\n",
              "      <th></th>\n",
              "      <th>mean</th>\n",
              "      <th>mean_se</th>\n",
              "      <th>mean_ci_lower</th>\n",
              "      <th>mean_ci_upper</th>\n",
              "      <th>obs_ci_lower</th>\n",
              "      <th>obs_ci_upper</th>\n",
              "    </tr>\n",
              "  </thead>\n",
              "  <tbody>\n",
              "    <tr>\n",
              "      <th>33453</th>\n",
              "      <td>470144.598945</td>\n",
              "      <td>44665.241260</td>\n",
              "      <td>381016.497720</td>\n",
              "      <td>559272.700171</td>\n",
              "      <td>127215.777785</td>\n",
              "      <td>813073.420105</td>\n",
              "    </tr>\n",
              "    <tr>\n",
              "      <th>41345</th>\n",
              "      <td>490333.397829</td>\n",
              "      <td>38371.020763</td>\n",
              "      <td>413765.218049</td>\n",
              "      <td>566901.577610</td>\n",
              "      <td>150452.471461</td>\n",
              "      <td>830214.324198</td>\n",
              "    </tr>\n",
              "    <tr>\n",
              "      <th>18745</th>\n",
              "      <td>510522.196713</td>\n",
              "      <td>32443.506502</td>\n",
              "      <td>445782.187479</td>\n",
              "      <td>575262.205948</td>\n",
              "      <td>173109.057150</td>\n",
              "      <td>847935.336277</td>\n",
              "    </tr>\n",
              "    <tr>\n",
              "      <th>29471</th>\n",
              "      <td>510522.196713</td>\n",
              "      <td>32443.506502</td>\n",
              "      <td>445782.187479</td>\n",
              "      <td>575262.205948</td>\n",
              "      <td>173109.057150</td>\n",
              "      <td>847935.336277</td>\n",
              "    </tr>\n",
              "    <tr>\n",
              "      <th>15810</th>\n",
              "      <td>530710.995598</td>\n",
              "      <td>27124.185075</td>\n",
              "      <td>476585.527003</td>\n",
              "      <td>584836.464192</td>\n",
              "      <td>195172.735030</td>\n",
              "      <td>866249.256165</td>\n",
              "    </tr>\n",
              "  </tbody>\n",
              "</table>\n",
              "</div>\n",
              "      <button class=\"colab-df-convert\" onclick=\"convertToInteractive('df-0618598f-b93d-4d5f-a894-a851927bc083')\"\n",
              "              title=\"Convert this dataframe to an interactive table.\"\n",
              "              style=\"display:none;\">\n",
              "        \n",
              "  <svg xmlns=\"http://www.w3.org/2000/svg\" height=\"24px\"viewBox=\"0 0 24 24\"\n",
              "       width=\"24px\">\n",
              "    <path d=\"M0 0h24v24H0V0z\" fill=\"none\"/>\n",
              "    <path d=\"M18.56 5.44l.94 2.06.94-2.06 2.06-.94-2.06-.94-.94-2.06-.94 2.06-2.06.94zm-11 1L8.5 8.5l.94-2.06 2.06-.94-2.06-.94L8.5 2.5l-.94 2.06-2.06.94zm10 10l.94 2.06.94-2.06 2.06-.94-2.06-.94-.94-2.06-.94 2.06-2.06.94z\"/><path d=\"M17.41 7.96l-1.37-1.37c-.4-.4-.92-.59-1.43-.59-.52 0-1.04.2-1.43.59L10.3 9.45l-7.72 7.72c-.78.78-.78 2.05 0 2.83L4 21.41c.39.39.9.59 1.41.59.51 0 1.02-.2 1.41-.59l7.78-7.78 2.81-2.81c.8-.78.8-2.07 0-2.86zM5.41 20L4 18.59l7.72-7.72 1.47 1.35L5.41 20z\"/>\n",
              "  </svg>\n",
              "      </button>\n",
              "      \n",
              "  <style>\n",
              "    .colab-df-container {\n",
              "      display:flex;\n",
              "      flex-wrap:wrap;\n",
              "      gap: 12px;\n",
              "    }\n",
              "\n",
              "    .colab-df-convert {\n",
              "      background-color: #E8F0FE;\n",
              "      border: none;\n",
              "      border-radius: 50%;\n",
              "      cursor: pointer;\n",
              "      display: none;\n",
              "      fill: #1967D2;\n",
              "      height: 32px;\n",
              "      padding: 0 0 0 0;\n",
              "      width: 32px;\n",
              "    }\n",
              "\n",
              "    .colab-df-convert:hover {\n",
              "      background-color: #E2EBFA;\n",
              "      box-shadow: 0px 1px 2px rgba(60, 64, 67, 0.3), 0px 1px 3px 1px rgba(60, 64, 67, 0.15);\n",
              "      fill: #174EA6;\n",
              "    }\n",
              "\n",
              "    [theme=dark] .colab-df-convert {\n",
              "      background-color: #3B4455;\n",
              "      fill: #D2E3FC;\n",
              "    }\n",
              "\n",
              "    [theme=dark] .colab-df-convert:hover {\n",
              "      background-color: #434B5C;\n",
              "      box-shadow: 0px 1px 3px 1px rgba(0, 0, 0, 0.15);\n",
              "      filter: drop-shadow(0px 1px 2px rgba(0, 0, 0, 0.3));\n",
              "      fill: #FFFFFF;\n",
              "    }\n",
              "  </style>\n",
              "\n",
              "      <script>\n",
              "        const buttonEl =\n",
              "          document.querySelector('#df-0618598f-b93d-4d5f-a894-a851927bc083 button.colab-df-convert');\n",
              "        buttonEl.style.display =\n",
              "          google.colab.kernel.accessAllowed ? 'block' : 'none';\n",
              "\n",
              "        async function convertToInteractive(key) {\n",
              "          const element = document.querySelector('#df-0618598f-b93d-4d5f-a894-a851927bc083');\n",
              "          const dataTable =\n",
              "            await google.colab.kernel.invokeFunction('convertToInteractive',\n",
              "                                                     [key], {});\n",
              "          if (!dataTable) return;\n",
              "\n",
              "          const docLinkHtml = 'Like what you see? Visit the ' +\n",
              "            '<a target=\"_blank\" href=https://colab.research.google.com/notebooks/data_table.ipynb>data table notebook</a>'\n",
              "            + ' to learn more about interactive tables.';\n",
              "          element.innerHTML = '';\n",
              "          dataTable['output_type'] = 'display_data';\n",
              "          await google.colab.output.renderOutput(dataTable, element);\n",
              "          const docLink = document.createElement('div');\n",
              "          docLink.innerHTML = docLinkHtml;\n",
              "          element.appendChild(docLink);\n",
              "        }\n",
              "      </script>\n",
              "    </div>\n",
              "  </div>\n",
              "  "
            ]
          },
          "metadata": {},
          "execution_count": 78
        }
      ]
    },
    {
      "cell_type": "markdown",
      "source": [
        "Agregando variables independientes a las predicciones"
      ],
      "metadata": {
        "id": "YT0ShPUKVhEX"
      },
      "id": "YT0ShPUKVhEX"
    },
    {
      "cell_type": "code",
      "execution_count": null,
      "id": "fa528c6b",
      "metadata": {
        "id": "fa528c6b"
      },
      "outputs": [],
      "source": [
        "Pred_test[\"X\"]=X_test['Nivel Educativo']\n",
        "Pred_test[\"Observado\"]= y_test"
      ]
    },
    {
      "cell_type": "code",
      "source": [
        "Pred_test.head(5)"
      ],
      "metadata": {
        "colab": {
          "base_uri": "https://localhost:8080/",
          "height": 206
        },
        "id": "xEaHsAoRDa6X",
        "outputId": "800f44b1-f704-4f03-84fb-a918114d6cfd"
      },
      "id": "xEaHsAoRDa6X",
      "execution_count": null,
      "outputs": [
        {
          "output_type": "execute_result",
          "data": {
            "text/plain": [
              "                mean       mean_se  mean_ci_lower  mean_ci_upper  \\\n",
              "33453  470144.598945  44665.241260  381016.497720  559272.700171   \n",
              "41345  490333.397829  38371.020763  413765.218049  566901.577610   \n",
              "18745  510522.196713  32443.506502  445782.187479  575262.205948   \n",
              "29471  510522.196713  32443.506502  445782.187479  575262.205948   \n",
              "15810  530710.995598  27124.185075  476585.527003  584836.464192   \n",
              "\n",
              "        obs_ci_lower   obs_ci_upper         X      Observado  \n",
              "33453  127215.777785  813073.420105  0.666667  536111.111111  \n",
              "41345  150452.471461  830214.324198  2.000000  540000.000000  \n",
              "18745  173109.057150  847935.336277  3.333333  470000.000000  \n",
              "29471  173109.057150  847935.336277  3.333333  468068.822984  \n",
              "15810  195172.735030  866249.256165  4.666667  370166.666667  "
            ],
            "text/html": [
              "\n",
              "  <div id=\"df-af486e67-eed2-4210-bda3-975a5603cdda\">\n",
              "    <div class=\"colab-df-container\">\n",
              "      <div>\n",
              "<style scoped>\n",
              "    .dataframe tbody tr th:only-of-type {\n",
              "        vertical-align: middle;\n",
              "    }\n",
              "\n",
              "    .dataframe tbody tr th {\n",
              "        vertical-align: top;\n",
              "    }\n",
              "\n",
              "    .dataframe thead th {\n",
              "        text-align: right;\n",
              "    }\n",
              "</style>\n",
              "<table border=\"1\" class=\"dataframe\">\n",
              "  <thead>\n",
              "    <tr style=\"text-align: right;\">\n",
              "      <th></th>\n",
              "      <th>mean</th>\n",
              "      <th>mean_se</th>\n",
              "      <th>mean_ci_lower</th>\n",
              "      <th>mean_ci_upper</th>\n",
              "      <th>obs_ci_lower</th>\n",
              "      <th>obs_ci_upper</th>\n",
              "      <th>X</th>\n",
              "      <th>Observado</th>\n",
              "    </tr>\n",
              "  </thead>\n",
              "  <tbody>\n",
              "    <tr>\n",
              "      <th>33453</th>\n",
              "      <td>470144.598945</td>\n",
              "      <td>44665.241260</td>\n",
              "      <td>381016.497720</td>\n",
              "      <td>559272.700171</td>\n",
              "      <td>127215.777785</td>\n",
              "      <td>813073.420105</td>\n",
              "      <td>0.666667</td>\n",
              "      <td>536111.111111</td>\n",
              "    </tr>\n",
              "    <tr>\n",
              "      <th>41345</th>\n",
              "      <td>490333.397829</td>\n",
              "      <td>38371.020763</td>\n",
              "      <td>413765.218049</td>\n",
              "      <td>566901.577610</td>\n",
              "      <td>150452.471461</td>\n",
              "      <td>830214.324198</td>\n",
              "      <td>2.000000</td>\n",
              "      <td>540000.000000</td>\n",
              "    </tr>\n",
              "    <tr>\n",
              "      <th>18745</th>\n",
              "      <td>510522.196713</td>\n",
              "      <td>32443.506502</td>\n",
              "      <td>445782.187479</td>\n",
              "      <td>575262.205948</td>\n",
              "      <td>173109.057150</td>\n",
              "      <td>847935.336277</td>\n",
              "      <td>3.333333</td>\n",
              "      <td>470000.000000</td>\n",
              "    </tr>\n",
              "    <tr>\n",
              "      <th>29471</th>\n",
              "      <td>510522.196713</td>\n",
              "      <td>32443.506502</td>\n",
              "      <td>445782.187479</td>\n",
              "      <td>575262.205948</td>\n",
              "      <td>173109.057150</td>\n",
              "      <td>847935.336277</td>\n",
              "      <td>3.333333</td>\n",
              "      <td>468068.822984</td>\n",
              "    </tr>\n",
              "    <tr>\n",
              "      <th>15810</th>\n",
              "      <td>530710.995598</td>\n",
              "      <td>27124.185075</td>\n",
              "      <td>476585.527003</td>\n",
              "      <td>584836.464192</td>\n",
              "      <td>195172.735030</td>\n",
              "      <td>866249.256165</td>\n",
              "      <td>4.666667</td>\n",
              "      <td>370166.666667</td>\n",
              "    </tr>\n",
              "  </tbody>\n",
              "</table>\n",
              "</div>\n",
              "      <button class=\"colab-df-convert\" onclick=\"convertToInteractive('df-af486e67-eed2-4210-bda3-975a5603cdda')\"\n",
              "              title=\"Convert this dataframe to an interactive table.\"\n",
              "              style=\"display:none;\">\n",
              "        \n",
              "  <svg xmlns=\"http://www.w3.org/2000/svg\" height=\"24px\"viewBox=\"0 0 24 24\"\n",
              "       width=\"24px\">\n",
              "    <path d=\"M0 0h24v24H0V0z\" fill=\"none\"/>\n",
              "    <path d=\"M18.56 5.44l.94 2.06.94-2.06 2.06-.94-2.06-.94-.94-2.06-.94 2.06-2.06.94zm-11 1L8.5 8.5l.94-2.06 2.06-.94-2.06-.94L8.5 2.5l-.94 2.06-2.06.94zm10 10l.94 2.06.94-2.06 2.06-.94-2.06-.94-.94-2.06-.94 2.06-2.06.94z\"/><path d=\"M17.41 7.96l-1.37-1.37c-.4-.4-.92-.59-1.43-.59-.52 0-1.04.2-1.43.59L10.3 9.45l-7.72 7.72c-.78.78-.78 2.05 0 2.83L4 21.41c.39.39.9.59 1.41.59.51 0 1.02-.2 1.41-.59l7.78-7.78 2.81-2.81c.8-.78.8-2.07 0-2.86zM5.41 20L4 18.59l7.72-7.72 1.47 1.35L5.41 20z\"/>\n",
              "  </svg>\n",
              "      </button>\n",
              "      \n",
              "  <style>\n",
              "    .colab-df-container {\n",
              "      display:flex;\n",
              "      flex-wrap:wrap;\n",
              "      gap: 12px;\n",
              "    }\n",
              "\n",
              "    .colab-df-convert {\n",
              "      background-color: #E8F0FE;\n",
              "      border: none;\n",
              "      border-radius: 50%;\n",
              "      cursor: pointer;\n",
              "      display: none;\n",
              "      fill: #1967D2;\n",
              "      height: 32px;\n",
              "      padding: 0 0 0 0;\n",
              "      width: 32px;\n",
              "    }\n",
              "\n",
              "    .colab-df-convert:hover {\n",
              "      background-color: #E2EBFA;\n",
              "      box-shadow: 0px 1px 2px rgba(60, 64, 67, 0.3), 0px 1px 3px 1px rgba(60, 64, 67, 0.15);\n",
              "      fill: #174EA6;\n",
              "    }\n",
              "\n",
              "    [theme=dark] .colab-df-convert {\n",
              "      background-color: #3B4455;\n",
              "      fill: #D2E3FC;\n",
              "    }\n",
              "\n",
              "    [theme=dark] .colab-df-convert:hover {\n",
              "      background-color: #434B5C;\n",
              "      box-shadow: 0px 1px 3px 1px rgba(0, 0, 0, 0.15);\n",
              "      filter: drop-shadow(0px 1px 2px rgba(0, 0, 0, 0.3));\n",
              "      fill: #FFFFFF;\n",
              "    }\n",
              "  </style>\n",
              "\n",
              "      <script>\n",
              "        const buttonEl =\n",
              "          document.querySelector('#df-af486e67-eed2-4210-bda3-975a5603cdda button.colab-df-convert');\n",
              "        buttonEl.style.display =\n",
              "          google.colab.kernel.accessAllowed ? 'block' : 'none';\n",
              "\n",
              "        async function convertToInteractive(key) {\n",
              "          const element = document.querySelector('#df-af486e67-eed2-4210-bda3-975a5603cdda');\n",
              "          const dataTable =\n",
              "            await google.colab.kernel.invokeFunction('convertToInteractive',\n",
              "                                                     [key], {});\n",
              "          if (!dataTable) return;\n",
              "\n",
              "          const docLinkHtml = 'Like what you see? Visit the ' +\n",
              "            '<a target=\"_blank\" href=https://colab.research.google.com/notebooks/data_table.ipynb>data table notebook</a>'\n",
              "            + ' to learn more about interactive tables.';\n",
              "          element.innerHTML = '';\n",
              "          dataTable['output_type'] = 'display_data';\n",
              "          await google.colab.output.renderOutput(dataTable, element);\n",
              "          const docLink = document.createElement('div');\n",
              "          docLink.innerHTML = docLinkHtml;\n",
              "          element.appendChild(docLink);\n",
              "        }\n",
              "      </script>\n",
              "    </div>\n",
              "  </div>\n",
              "  "
            ]
          },
          "metadata": {},
          "execution_count": 80
        }
      ]
    },
    {
      "cell_type": "code",
      "execution_count": null,
      "id": "a30ee3df",
      "metadata": {
        "id": "a30ee3df"
      },
      "outputs": [],
      "source": [
        "Pred_test=Pred_test.sort_values(\"mean\")"
      ]
    },
    {
      "cell_type": "code",
      "execution_count": null,
      "id": "f2bb79ec",
      "metadata": {
        "id": "f2bb79ec",
        "colab": {
          "base_uri": "https://localhost:8080/",
          "height": 206
        },
        "outputId": "1546fee9-bc5c-405e-ca0f-95a07b9a7a62"
      },
      "outputs": [
        {
          "output_type": "execute_result",
          "data": {
            "text/plain": [
              "                mean       mean_se  mean_ci_lower  mean_ci_upper  \\\n",
              "33453  470144.598945  44665.241260  381016.497720  559272.700171   \n",
              "41345  490333.397829  38371.020763  413765.218049  566901.577610   \n",
              "18745  510522.196713  32443.506502  445782.187479  575262.205948   \n",
              "29471  510522.196713  32443.506502  445782.187479  575262.205948   \n",
              "15810  530710.995598  27124.185075  476585.527003  584836.464192   \n",
              "\n",
              "        obs_ci_lower   obs_ci_upper         X      Observado  \n",
              "33453  127215.777785  813073.420105  0.666667  536111.111111  \n",
              "41345  150452.471461  830214.324198  2.000000  540000.000000  \n",
              "18745  173109.057150  847935.336277  3.333333  470000.000000  \n",
              "29471  173109.057150  847935.336277  3.333333  468068.822984  \n",
              "15810  195172.735030  866249.256165  4.666667  370166.666667  "
            ],
            "text/html": [
              "\n",
              "  <div id=\"df-fa7a77c2-c63e-407b-8e74-ec3717ef9070\">\n",
              "    <div class=\"colab-df-container\">\n",
              "      <div>\n",
              "<style scoped>\n",
              "    .dataframe tbody tr th:only-of-type {\n",
              "        vertical-align: middle;\n",
              "    }\n",
              "\n",
              "    .dataframe tbody tr th {\n",
              "        vertical-align: top;\n",
              "    }\n",
              "\n",
              "    .dataframe thead th {\n",
              "        text-align: right;\n",
              "    }\n",
              "</style>\n",
              "<table border=\"1\" class=\"dataframe\">\n",
              "  <thead>\n",
              "    <tr style=\"text-align: right;\">\n",
              "      <th></th>\n",
              "      <th>mean</th>\n",
              "      <th>mean_se</th>\n",
              "      <th>mean_ci_lower</th>\n",
              "      <th>mean_ci_upper</th>\n",
              "      <th>obs_ci_lower</th>\n",
              "      <th>obs_ci_upper</th>\n",
              "      <th>X</th>\n",
              "      <th>Observado</th>\n",
              "    </tr>\n",
              "  </thead>\n",
              "  <tbody>\n",
              "    <tr>\n",
              "      <th>33453</th>\n",
              "      <td>470144.598945</td>\n",
              "      <td>44665.241260</td>\n",
              "      <td>381016.497720</td>\n",
              "      <td>559272.700171</td>\n",
              "      <td>127215.777785</td>\n",
              "      <td>813073.420105</td>\n",
              "      <td>0.666667</td>\n",
              "      <td>536111.111111</td>\n",
              "    </tr>\n",
              "    <tr>\n",
              "      <th>41345</th>\n",
              "      <td>490333.397829</td>\n",
              "      <td>38371.020763</td>\n",
              "      <td>413765.218049</td>\n",
              "      <td>566901.577610</td>\n",
              "      <td>150452.471461</td>\n",
              "      <td>830214.324198</td>\n",
              "      <td>2.000000</td>\n",
              "      <td>540000.000000</td>\n",
              "    </tr>\n",
              "    <tr>\n",
              "      <th>18745</th>\n",
              "      <td>510522.196713</td>\n",
              "      <td>32443.506502</td>\n",
              "      <td>445782.187479</td>\n",
              "      <td>575262.205948</td>\n",
              "      <td>173109.057150</td>\n",
              "      <td>847935.336277</td>\n",
              "      <td>3.333333</td>\n",
              "      <td>470000.000000</td>\n",
              "    </tr>\n",
              "    <tr>\n",
              "      <th>29471</th>\n",
              "      <td>510522.196713</td>\n",
              "      <td>32443.506502</td>\n",
              "      <td>445782.187479</td>\n",
              "      <td>575262.205948</td>\n",
              "      <td>173109.057150</td>\n",
              "      <td>847935.336277</td>\n",
              "      <td>3.333333</td>\n",
              "      <td>468068.822984</td>\n",
              "    </tr>\n",
              "    <tr>\n",
              "      <th>15810</th>\n",
              "      <td>530710.995598</td>\n",
              "      <td>27124.185075</td>\n",
              "      <td>476585.527003</td>\n",
              "      <td>584836.464192</td>\n",
              "      <td>195172.735030</td>\n",
              "      <td>866249.256165</td>\n",
              "      <td>4.666667</td>\n",
              "      <td>370166.666667</td>\n",
              "    </tr>\n",
              "  </tbody>\n",
              "</table>\n",
              "</div>\n",
              "      <button class=\"colab-df-convert\" onclick=\"convertToInteractive('df-fa7a77c2-c63e-407b-8e74-ec3717ef9070')\"\n",
              "              title=\"Convert this dataframe to an interactive table.\"\n",
              "              style=\"display:none;\">\n",
              "        \n",
              "  <svg xmlns=\"http://www.w3.org/2000/svg\" height=\"24px\"viewBox=\"0 0 24 24\"\n",
              "       width=\"24px\">\n",
              "    <path d=\"M0 0h24v24H0V0z\" fill=\"none\"/>\n",
              "    <path d=\"M18.56 5.44l.94 2.06.94-2.06 2.06-.94-2.06-.94-.94-2.06-.94 2.06-2.06.94zm-11 1L8.5 8.5l.94-2.06 2.06-.94-2.06-.94L8.5 2.5l-.94 2.06-2.06.94zm10 10l.94 2.06.94-2.06 2.06-.94-2.06-.94-.94-2.06-.94 2.06-2.06.94z\"/><path d=\"M17.41 7.96l-1.37-1.37c-.4-.4-.92-.59-1.43-.59-.52 0-1.04.2-1.43.59L10.3 9.45l-7.72 7.72c-.78.78-.78 2.05 0 2.83L4 21.41c.39.39.9.59 1.41.59.51 0 1.02-.2 1.41-.59l7.78-7.78 2.81-2.81c.8-.78.8-2.07 0-2.86zM5.41 20L4 18.59l7.72-7.72 1.47 1.35L5.41 20z\"/>\n",
              "  </svg>\n",
              "      </button>\n",
              "      \n",
              "  <style>\n",
              "    .colab-df-container {\n",
              "      display:flex;\n",
              "      flex-wrap:wrap;\n",
              "      gap: 12px;\n",
              "    }\n",
              "\n",
              "    .colab-df-convert {\n",
              "      background-color: #E8F0FE;\n",
              "      border: none;\n",
              "      border-radius: 50%;\n",
              "      cursor: pointer;\n",
              "      display: none;\n",
              "      fill: #1967D2;\n",
              "      height: 32px;\n",
              "      padding: 0 0 0 0;\n",
              "      width: 32px;\n",
              "    }\n",
              "\n",
              "    .colab-df-convert:hover {\n",
              "      background-color: #E2EBFA;\n",
              "      box-shadow: 0px 1px 2px rgba(60, 64, 67, 0.3), 0px 1px 3px 1px rgba(60, 64, 67, 0.15);\n",
              "      fill: #174EA6;\n",
              "    }\n",
              "\n",
              "    [theme=dark] .colab-df-convert {\n",
              "      background-color: #3B4455;\n",
              "      fill: #D2E3FC;\n",
              "    }\n",
              "\n",
              "    [theme=dark] .colab-df-convert:hover {\n",
              "      background-color: #434B5C;\n",
              "      box-shadow: 0px 1px 3px 1px rgba(0, 0, 0, 0.15);\n",
              "      filter: drop-shadow(0px 1px 2px rgba(0, 0, 0, 0.3));\n",
              "      fill: #FFFFFF;\n",
              "    }\n",
              "  </style>\n",
              "\n",
              "      <script>\n",
              "        const buttonEl =\n",
              "          document.querySelector('#df-fa7a77c2-c63e-407b-8e74-ec3717ef9070 button.colab-df-convert');\n",
              "        buttonEl.style.display =\n",
              "          google.colab.kernel.accessAllowed ? 'block' : 'none';\n",
              "\n",
              "        async function convertToInteractive(key) {\n",
              "          const element = document.querySelector('#df-fa7a77c2-c63e-407b-8e74-ec3717ef9070');\n",
              "          const dataTable =\n",
              "            await google.colab.kernel.invokeFunction('convertToInteractive',\n",
              "                                                     [key], {});\n",
              "          if (!dataTable) return;\n",
              "\n",
              "          const docLinkHtml = 'Like what you see? Visit the ' +\n",
              "            '<a target=\"_blank\" href=https://colab.research.google.com/notebooks/data_table.ipynb>data table notebook</a>'\n",
              "            + ' to learn more about interactive tables.';\n",
              "          element.innerHTML = '';\n",
              "          dataTable['output_type'] = 'display_data';\n",
              "          await google.colab.output.renderOutput(dataTable, element);\n",
              "          const docLink = document.createElement('div');\n",
              "          docLink.innerHTML = docLinkHtml;\n",
              "          element.appendChild(docLink);\n",
              "        }\n",
              "      </script>\n",
              "    </div>\n",
              "  </div>\n",
              "  "
            ]
          },
          "metadata": {},
          "execution_count": 82
        }
      ],
      "source": [
        "Pred_test.head(5)"
      ]
    },
    {
      "cell_type": "markdown",
      "id": "51ce1c9e",
      "metadata": {
        "id": "51ce1c9e"
      },
      "source": [
        "## Principales gráficos de la regresión lineal"
      ]
    },
    {
      "cell_type": "code",
      "execution_count": null,
      "id": "89600432",
      "metadata": {
        "id": "89600432",
        "colab": {
          "base_uri": "https://localhost:8080/",
          "height": 602
        },
        "outputId": "1478f5bd-6083-4c76-a6c2-d2b70cb82a75"
      },
      "outputs": [
        {
          "output_type": "display_data",
          "data": {
            "text/plain": [
              "<Figure size 720x720 with 1 Axes>"
            ],
            "image/png": "[encoded data removed]"
          },
          "metadata": {
            "needs_background": "light"
          }
        }
      ],
      "source": [
        "fig, ax = plt.subplots(figsize=(10, 10))\n",
        "\n",
        "ax.scatter(Pred_test[\"X\"], Pred_test.Observado, marker='o', color = \"blue\")\n",
        "ax.plot(Pred_test[\"X\"], Pred_test[\"mean\"], linestyle='-', label=\"OLS\",color=\"red\")\n",
        "ax.plot(Pred_test[\"X\"], Pred_test[\"mean_ci_lower\"], linestyle='--', color='red', label=\"95% CI media\")\n",
        "ax.plot(Pred_test[\"X\"], Pred_test[\"mean_ci_upper\"], linestyle='--', color='red')\n",
        "ax.fill_between(Pred_test[\"X\"], Pred_test[\"mean_ci_lower\"], Pred_test[\"mean_ci_upper\"], alpha=0.1)\n",
        "ax.plot(Pred_test[\"X\"], Pred_test[\"obs_ci_lower\"], linestyle='--', color='blue', label=\"95% CI Observaciones\")\n",
        "ax.plot(Pred_test[\"X\"], Pred_test[\"obs_ci_upper\"], linestyle='--', color='blue')\n",
        "\n",
        "\n",
        "ax.legend();"
      ]
    },
    {
      "cell_type": "markdown",
      "id": "dd1dc793",
      "metadata": {
        "id": "dd1dc793"
      },
      "source": [
        "## Pruebas de bondad de ajuste"
      ]
    },
    {
      "cell_type": "code",
      "execution_count": null,
      "id": "cfad4641",
      "metadata": {
        "id": "cfad4641",
        "scrolled": true,
        "colab": {
          "base_uri": "https://localhost:8080/"
        },
        "outputId": "333befae-f2ec-4e53-d5a1-b64f76aba159"
      },
      "outputs": [
        {
          "output_type": "stream",
          "name": "stdout",
          "text": [
            "coefficient of determination: 0.10434915873481931\n",
            "adjusted coefficient of determination: 0.09117782283386078\n",
            "regression coefficients: const              460050.199503\n",
            "Nivel Educativo     15141.599163\n",
            "dtype: float64\n"
          ]
        }
      ],
      "source": [
        "print('coefficient of determination:', results.rsquared)\n",
        "print('adjusted coefficient of determination:', results.rsquared_adj)\n",
        "print('regression coefficients:', results.params)"
      ]
    },
    {
      "cell_type": "markdown",
      "id": "024a61a5",
      "metadata": {
        "id": "024a61a5"
      },
      "source": [
        "## Diagnóstico de los residuos"
      ]
    },
    {
      "cell_type": "code",
      "execution_count": null,
      "id": "0c2699ff",
      "metadata": {
        "id": "0c2699ff"
      },
      "outputs": [],
      "source": [
        "residuos_test   = Pred_test[\"mean\"] - Pred_test[\"Observado\"]"
      ]
    },
    {
      "cell_type": "code",
      "execution_count": null,
      "id": "d435a39d",
      "metadata": {
        "id": "d435a39d",
        "colab": {
          "base_uri": "https://localhost:8080/",
          "height": 1000
        },
        "outputId": "348de454-b0de-4c31-a621-55a3f066c519"
      },
      "outputs": [
        {
          "output_type": "display_data",
          "data": {
            "text/plain": [
              "<Figure size 1296x1152 with 5 Axes>"
            ],
            "image/png": "[encoded data removed]"
          },
          "metadata": {
            "needs_background": "light"
          }
        }
      ],
      "source": [
        "fig, axes = plt.subplots(nrows=3, ncols=2, figsize=(18, 16))\n",
        "\n",
        "axes[0, 0].scatter(Pred_test[\"Observado\"],Pred_test[\"mean\"], edgecolors=(0, 0, 0), alpha = 0.4)\n",
        "axes[0, 0].plot([Pred_test[\"Observado\"].min(), Pred_test[\"Observado\"].max()],\n",
        "                [Pred_test[\"Observado\"].min(), Pred_test[\"Observado\"].max()],\n",
        "                'k--', color = 'black', lw=2)\n",
        "axes[0, 0].set_title('Valor predicho vs valor real', fontsize = 10, fontweight = \"bold\")\n",
        "axes[0, 0].set_xlabel('Real')\n",
        "axes[0, 0].set_ylabel('Predicción')\n",
        "axes[0, 0].tick_params(labelsize = 7)\n",
        "\n",
        "axes[0, 1].scatter(list(range(len(residuos_test))), residuos_test,\n",
        "                   edgecolors=(0, 0, 0), alpha = 0.4)\n",
        "axes[0, 1].axhline(y = 0, linestyle = '--', color = 'black', lw=2)\n",
        "axes[0, 1].set_title('Residuos del modelo', fontsize = 10, fontweight = \"bold\")\n",
        "axes[0, 1].set_xlabel('id')\n",
        "axes[0, 1].set_ylabel('Residuo')\n",
        "axes[0, 1].tick_params(labelsize = 7)\n",
        "\n",
        "sns.histplot(\n",
        "    data    = residuos_test,\n",
        "    stat    = \"density\",\n",
        "    kde     = True,\n",
        "    line_kws= {'linewidth': 1},\n",
        "    color   = \"firebrick\",\n",
        "    alpha   = 0.3,\n",
        "    ax      = axes[1, 0]\n",
        ")\n",
        "\n",
        "axes[1, 0].set_title('Distribución residuos del modelo', fontsize = 10,\n",
        "                     fontweight = \"bold\")\n",
        "axes[1, 0].set_xlabel(\"Residuo\")\n",
        "axes[1, 0].tick_params(labelsize = 7)\n",
        "\n",
        "\n",
        "sm.qqplot(\n",
        "    residuos_test,\n",
        "    fit   = True,\n",
        "    line  = 'q',\n",
        "    ax    = axes[1, 1], \n",
        "    color = 'firebrick',\n",
        "    alpha = 0.4,\n",
        "    lw    = 2\n",
        ")\n",
        "axes[1, 1].set_title('Q-Q residuos del modelo', fontsize = 10, fontweight = \"bold\")\n",
        "axes[1, 1].tick_params(labelsize = 7)\n",
        "\n",
        "axes[2, 0].scatter(Pred_test[\"mean\"], residuos_test,\n",
        "                   edgecolors=(0, 0, 0), alpha = 0.4)\n",
        "axes[2, 0].axhline(y = 0, linestyle = '--', color = 'black', lw=2)\n",
        "axes[2, 0].set_title('Residuos del modelo vs predicción', fontsize = 10, fontweight = \"bold\")\n",
        "axes[2, 0].set_xlabel('Predicción')\n",
        "axes[2, 0].set_ylabel('Residuo')\n",
        "axes[2, 0].tick_params(labelsize = 7)\n",
        "\n",
        "# Se eliminan los axes vacíos\n",
        "fig.delaxes(axes[2,1])\n",
        "\n",
        "fig.tight_layout()\n",
        "plt.subplots_adjust(top=0.9)\n",
        "fig.suptitle('Diagnóstico residuos', fontsize = 12, fontweight = \"bold\");"
      ]
    },
    {
      "cell_type": "markdown",
      "id": "cb03f5b2",
      "metadata": {
        "id": "cb03f5b2"
      },
      "source": [
        "## Test de Normalidad"
      ]
    },
    {
      "cell_type": "markdown",
      "source": [
        "Shapiro test"
      ],
      "metadata": {
        "id": "HUtcfHt4Sazz"
      },
      "id": "HUtcfHt4Sazz"
    },
    {
      "cell_type": "code",
      "execution_count": null,
      "id": "4c0c0bd7",
      "metadata": {
        "id": "4c0c0bd7",
        "colab": {
          "base_uri": "https://localhost:8080/"
        },
        "outputId": "09ad3bad-7038-475a-d912-29724a32db6a"
      },
      "outputs": [
        {
          "output_type": "execute_result",
          "data": {
            "text/plain": [
              "ShapiroResult(statistic=0.9769253730773926, pvalue=0.7392574548721313)"
            ]
          },
          "metadata": {},
          "execution_count": 87
        }
      ],
      "source": [
        "from scipy import stats\n",
        "shapiro_test = stats.shapiro(residuos_test)\n",
        "shapiro_test"
      ]
    },
    {
      "cell_type": "code",
      "source": [
        "k2, p_value = stats.normaltest(residuos_test)\n",
        "print('Estadístico: ' + str(k2)+'p_value: ' + str(p_value))"
      ],
      "metadata": {
        "colab": {
          "base_uri": "https://localhost:8080/"
        },
        "id": "-VwjPnnMSYF6",
        "outputId": "1d059fa4-ef78-4593-a16c-a76a1c7fc8d8"
      },
      "id": "-VwjPnnMSYF6",
      "execution_count": null,
      "outputs": [
        {
          "output_type": "stream",
          "name": "stdout",
          "text": [
            "Estadístico: 0.35366238985642034p_value: 0.8379212179366673\n"
          ]
        }
      ]
    }
  ],
  "metadata": {
    "colab": {
      "collapsed_sections": [],
      "name": "Modulo 6  Regresión lineal.ipynb",
      "provenance": [],
      "include_colab_link": true
    },
    "kernelspec": {
      "display_name": "Python 3 (ipykernel)",
      "language": "python",
      "name": "python3"
    },
    "language_info": {
      "codemirror_mode": {
        "name": "ipython",
        "version": 3
      },
      "file_extension": ".py",
      "mimetype": "text/x-python",
      "name": "python",
      "nbconvert_exporter": "python",
      "pygments_lexer": "ipython3",
      "version": "3.9.7"
    },
    "widgets": {
      "application/vnd.jupyter.widget-state+json": {
        "2ce66266a9804a89831c069357fedbe8": {
          "model_module": "@jupyter-widgets/controls",
          "model_name": "VBoxModel",
          "model_module_version": "1.5.0",
          "state": {
            "_dom_classes": [
              "widget-interact"
            ],
            "_model_module": "@jupyter-widgets/controls",
            "_model_module_version": "1.5.0",
            "_model_name": "VBoxModel",
            "_view_count": null,
            "_view_module": "@jupyter-widgets/controls",
            "_view_module_version": "1.5.0",
            "_view_name": "VBoxView",
            "box_style": "",
            "children": [
              "IPY_MODEL_fd6816b164e64d44b73fe74cd919602c",
              "IPY_MODEL_2f2d42fc066e4858a7e283689cd97c4d",
              "IPY_MODEL_e0fe7a4728664ce4be87455699ee2a8c",
              "IPY_MODEL_b9ba2d613e1445ada39a691f4472b307",
              "IPY_MODEL_5fde7ab20b774ab2b9838bf95b1789af"
            ],
            "layout": "IPY_MODEL_9d687671e50e4413a18eb578c75143af"
          }
        },
        "fd6816b164e64d44b73fe74cd919602c": {
          "model_module": "@jupyter-widgets/controls",
          "model_name": "IntSliderModel",
          "model_module_version": "1.5.0",
          "state": {
            "_dom_classes": [],
            "_model_module": "@jupyter-widgets/controls",
            "_model_module_version": "1.5.0",
            "_model_name": "IntSliderModel",
            "_view_count": null,
            "_view_module": "@jupyter-widgets/controls",
            "_view_module_version": "1.5.0",
            "_view_name": "IntSliderView",
            "continuous_update": true,
            "description": "x_mill",
            "description_tooltip": null,
            "disabled": false,
            "layout": "IPY_MODEL_23fc30f8d6bc4cd1b8da0488aa48c956",
            "max": 9000000,
            "min": 0,
            "orientation": "horizontal",
            "readout": true,
            "readout_format": "d",
            "step": 100000,
            "style": "IPY_MODEL_82cb8a9e8e4c46a39bce919605640ac6",
            "value": 9000000
          }
        },
        "2f2d42fc066e4858a7e283689cd97c4d": {
          "model_module": "@jupyter-widgets/controls",
          "model_name": "IntSliderModel",
          "model_module_version": "1.5.0",
          "state": {
            "_dom_classes": [],
            "_model_module": "@jupyter-widgets/controls",
            "_model_module_version": "1.5.0",
            "_model_name": "IntSliderModel",
            "_view_count": null,
            "_view_module": "@jupyter-widgets/controls",
            "_view_module_version": "1.5.0",
            "_view_name": "IntSliderView",
            "continuous_update": true,
            "description": "y",
            "description_tooltip": null,
            "disabled": false,
            "layout": "IPY_MODEL_61909b4cdde7427cb7cf0a062905da76",
            "max": 50000,
            "min": 0,
            "orientation": "horizontal",
            "readout": true,
            "readout_format": "d",
            "step": 1000,
            "style": "IPY_MODEL_95498558017f45f7b877f33d64223ef2",
            "value": 50000
          }
        },
        "e0fe7a4728664ce4be87455699ee2a8c": {
          "model_module": "@jupyter-widgets/controls",
          "model_name": "IntSliderModel",
          "model_module_version": "1.5.0",
          "state": {
            "_dom_classes": [],
            "_model_module": "@jupyter-widgets/controls",
            "_model_module_version": "1.5.0",
            "_model_name": "IntSliderModel",
            "_view_count": null,
            "_view_module": "@jupyter-widgets/controls",
            "_view_module_version": "1.5.0",
            "_view_name": "IntSliderView",
            "continuous_update": true,
            "description": "bins",
            "description_tooltip": null,
            "disabled": false,
            "layout": "IPY_MODEL_33095ccddf334cbab9f279a0ccd39f0d",
            "max": 1000,
            "min": 1,
            "orientation": "horizontal",
            "readout": true,
            "readout_format": "d",
            "step": 1,
            "style": "IPY_MODEL_383d269bc9d64f04ac35dc12c45e4bae",
            "value": 10
          }
        },
        "b9ba2d613e1445ada39a691f4472b307": {
          "model_module": "@jupyter-widgets/controls",
          "model_name": "DropdownModel",
          "model_module_version": "1.5.0",
          "state": {
            "_dom_classes": [],
            "_model_module": "@jupyter-widgets/controls",
            "_model_module_version": "1.5.0",
            "_model_name": "DropdownModel",
            "_options_labels": [
              "red",
              "yellow",
              "blue",
              "gray",
              "green",
              "white",
              "black"
            ],
            "_view_count": null,
            "_view_module": "@jupyter-widgets/controls",
            "_view_module_version": "1.5.0",
            "_view_name": "DropdownView",
            "description": "color",
            "description_tooltip": null,
            "disabled": false,
            "index": 0,
            "layout": "IPY_MODEL_6e7813c310c04a98b84ba553d378d49f",
            "style": "IPY_MODEL_ba23b35575274d569a101e40a15e9bb1"
          }
        },
        "5fde7ab20b774ab2b9838bf95b1789af": {
          "model_module": "@jupyter-widgets/output",
          "model_name": "OutputModel",
          "model_module_version": "1.0.0",
          "state": {
            "_dom_classes": [],
            "_model_module": "@jupyter-widgets/output",
            "_model_module_version": "1.0.0",
            "_model_name": "OutputModel",
            "_view_count": null,
            "_view_module": "@jupyter-widgets/output",
            "_view_module_version": "1.0.0",
            "_view_name": "OutputView",
            "layout": "IPY_MODEL_ab7801b34d6b4af3896de0e81e12e98a",
            "msg_id": "",
            "outputs": [
              {
                "output_type": "display_data",
                "data": {
                  "text/plain": "<Figure size 432x288 with 1 Axes>",
                  "image/png": "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\n"
                },
                "metadata": {
                  "needs_background": "light"
                }
              }
            ]
          }
        },
        "9d687671e50e4413a18eb578c75143af": {
          "model_module": "@jupyter-widgets/base",
          "model_name": "LayoutModel",
          "model_module_version": "1.2.0",
          "state": {
            "_model_module": "@jupyter-widgets/base",
            "_model_module_version": "1.2.0",
            "_model_name": "LayoutModel",
            "_view_count": null,
            "_view_module": "@jupyter-widgets/base",
            "_view_module_version": "1.2.0",
            "_view_name": "LayoutView",
            "align_content": null,
            "align_items": null,
            "align_self": null,
            "border": null,
            "bottom": null,
            "display": null,
            "flex": null,
            "flex_flow": null,
            "grid_area": null,
            "grid_auto_columns": null,
            "grid_auto_flow": null,
            "grid_auto_rows": null,
            "grid_column": null,
            "grid_gap": null,
            "grid_row": null,
            "grid_template_areas": null,
            "grid_template_columns": null,
            "grid_template_rows": null,
            "height": null,
            "justify_content": null,
            "justify_items": null,
            "left": null,
            "margin": null,
            "max_height": null,
            "max_width": null,
            "min_height": null,
            "min_width": null,
            "object_fit": null,
            "object_position": null,
            "order": null,
            "overflow": null,
            "overflow_x": null,
            "overflow_y": null,
            "padding": null,
            "right": null,
            "top": null,
            "visibility": null,
            "width": null
          }
        },
        "23fc30f8d6bc4cd1b8da0488aa48c956": {
          "model_module": "@jupyter-widgets/base",
          "model_name": "LayoutModel",
          "model_module_version": "1.2.0",
          "state": {
            "_model_module": "@jupyter-widgets/base",
            "_model_module_version": "1.2.0",
            "_model_name": "LayoutModel",
            "_view_count": null,
            "_view_module": "@jupyter-widgets/base",
            "_view_module_version": "1.2.0",
            "_view_name": "LayoutView",
            "align_content": null,
            "align_items": null,
            "align_self": null,
            "border": null,
            "bottom": null,
            "display": null,
            "flex": null,
            "flex_flow": null,
            "grid_area": null,
            "grid_auto_columns": null,
            "grid_auto_flow": null,
            "grid_auto_rows": null,
            "grid_column": null,
            "grid_gap": null,
            "grid_row": null,
            "grid_template_areas": null,
            "grid_template_columns": null,
            "grid_template_rows": null,
            "height": null,
            "justify_content": null,
            "justify_items": null,
            "left": null,
            "margin": null,
            "max_height": null,
            "max_width": null,
            "min_height": null,
            "min_width": null,
            "object_fit": null,
            "object_position": null,
            "order": null,
            "overflow": null,
            "overflow_x": null,
            "overflow_y": null,
            "padding": null,
            "right": null,
            "top": null,
            "visibility": null,
            "width": null
          }
        },
        "82cb8a9e8e4c46a39bce919605640ac6": {
          "model_module": "@jupyter-widgets/controls",
          "model_name": "SliderStyleModel",
          "model_module_version": "1.5.0",
          "state": {
            "_model_module": "@jupyter-widgets/controls",
            "_model_module_version": "1.5.0",
            "_model_name": "SliderStyleModel",
            "_view_count": null,
            "_view_module": "@jupyter-widgets/base",
            "_view_module_version": "1.2.0",
            "_view_name": "StyleView",
            "description_width": "",
            "handle_color": null
          }
        },
        "61909b4cdde7427cb7cf0a062905da76": {
          "model_module": "@jupyter-widgets/base",
          "model_name": "LayoutModel",
          "model_module_version": "1.2.0",
          "state": {
            "_model_module": "@jupyter-widgets/base",
            "_model_module_version": "1.2.0",
            "_model_name": "LayoutModel",
            "_view_count": null,
            "_view_module": "@jupyter-widgets/base",
            "_view_module_version": "1.2.0",
            "_view_name": "LayoutView",
            "align_content": null,
            "align_items": null,
            "align_self": null,
            "border": null,
            "bottom": null,
            "display": null,
            "flex": null,
            "flex_flow": null,
            "grid_area": null,
            "grid_auto_columns": null,
            "grid_auto_flow": null,
            "grid_auto_rows": null,
            "grid_column": null,
            "grid_gap": null,
            "grid_row": null,
            "grid_template_areas": null,
            "grid_template_columns": null,
            "grid_template_rows": null,
            "height": null,
            "justify_content": null,
            "justify_items": null,
            "left": null,
            "margin": null,
            "max_height": null,
            "max_width": null,
            "min_height": null,
            "min_width": null,
            "object_fit": null,
            "object_position": null,
            "order": null,
            "overflow": null,
            "overflow_x": null,
            "overflow_y": null,
            "padding": null,
            "right": null,
            "top": null,
            "visibility": null,
            "width": null
          }
        },
        "95498558017f45f7b877f33d64223ef2": {
          "model_module": "@jupyter-widgets/controls",
          "model_name": "SliderStyleModel",
          "model_module_version": "1.5.0",
          "state": {
            "_model_module": "@jupyter-widgets/controls",
            "_model_module_version": "1.5.0",
            "_model_name": "SliderStyleModel",
            "_view_count": null,
            "_view_module": "@jupyter-widgets/base",
            "_view_module_version": "1.2.0",
            "_view_name": "StyleView",
            "description_width": "",
            "handle_color": null
          }
        },
        "33095ccddf334cbab9f279a0ccd39f0d": {
          "model_module": "@jupyter-widgets/base",
          "model_name": "LayoutModel",
          "model_module_version": "1.2.0",
          "state": {
            "_model_module": "@jupyter-widgets/base",
            "_model_module_version": "1.2.0",
            "_model_name": "LayoutModel",
            "_view_count": null,
            "_view_module": "@jupyter-widgets/base",
            "_view_module_version": "1.2.0",
            "_view_name": "LayoutView",
            "align_content": null,
            "align_items": null,
            "align_self": null,
            "border": null,
            "bottom": null,
            "display": null,
            "flex": null,
            "flex_flow": null,
            "grid_area": null,
            "grid_auto_columns": null,
            "grid_auto_flow": null,
            "grid_auto_rows": null,
            "grid_column": null,
            "grid_gap": null,
            "grid_row": null,
            "grid_template_areas": null,
            "grid_template_columns": null,
            "grid_template_rows": null,
            "height": null,
            "justify_content": null,
            "justify_items": null,
            "left": null,
            "margin": null,
            "max_height": null,
            "max_width": null,
            "min_height": null,
            "min_width": null,
            "object_fit": null,
            "object_position": null,
            "order": null,
            "overflow": null,
            "overflow_x": null,
            "overflow_y": null,
            "padding": null,
            "right": null,
            "top": null,
            "visibility": null,
            "width": null
          }
        },
        "383d269bc9d64f04ac35dc12c45e4bae": {
          "model_module": "@jupyter-widgets/controls",
          "model_name": "SliderStyleModel",
          "model_module_version": "1.5.0",
          "state": {
            "_model_module": "@jupyter-widgets/controls",
            "_model_module_version": "1.5.0",
            "_model_name": "SliderStyleModel",
            "_view_count": null,
            "_view_module": "@jupyter-widgets/base",
            "_view_module_version": "1.2.0",
            "_view_name": "StyleView",
            "description_width": "",
            "handle_color": null
          }
        },
        "6e7813c310c04a98b84ba553d378d49f": {
          "model_module": "@jupyter-widgets/base",
          "model_name": "LayoutModel",
          "model_module_version": "1.2.0",
          "state": {
            "_model_module": "@jupyter-widgets/base",
            "_model_module_version": "1.2.0",
            "_model_name": "LayoutModel",
            "_view_count": null,
            "_view_module": "@jupyter-widgets/base",
            "_view_module_version": "1.2.0",
            "_view_name": "LayoutView",
            "align_content": null,
            "align_items": null,
            "align_self": null,
            "border": null,
            "bottom": null,
            "display": null,
            "flex": null,
            "flex_flow": null,
            "grid_area": null,
            "grid_auto_columns": null,
            "grid_auto_flow": null,
            "grid_auto_rows": null,
            "grid_column": null,
            "grid_gap": null,
            "grid_row": null,
            "grid_template_areas": null,
            "grid_template_columns": null,
            "grid_template_rows": null,
            "height": null,
            "justify_content": null,
            "justify_items": null,
            "left": null,
            "margin": null,
            "max_height": null,
            "max_width": null,
            "min_height": null,
            "min_width": null,
            "object_fit": null,
            "object_position": null,
            "order": null,
            "overflow": null,
            "overflow_x": null,
            "overflow_y": null,
            "padding": null,
            "right": null,
            "top": null,
            "visibility": null,
            "width": null
          }
        },
        "ba23b35575274d569a101e40a15e9bb1": {
          "model_module": "@jupyter-widgets/controls",
          "model_name": "DescriptionStyleModel",
          "model_module_version": "1.5.0",
          "state": {
            "_model_module": "@jupyter-widgets/controls",
            "_model_module_version": "1.5.0",
            "_model_name": "DescriptionStyleModel",
            "_view_count": null,
            "_view_module": "@jupyter-widgets/base",
            "_view_module_version": "1.2.0",
            "_view_name": "StyleView",
            "description_width": ""
          }
        },
        "ab7801b34d6b4af3896de0e81e12e98a": {
          "model_module": "@jupyter-widgets/base",
          "model_name": "LayoutModel",
          "model_module_version": "1.2.0",
          "state": {
            "_model_module": "@jupyter-widgets/base",
            "_model_module_version": "1.2.0",
            "_model_name": "LayoutModel",
            "_view_count": null,
            "_view_module": "@jupyter-widgets/base",
            "_view_module_version": "1.2.0",
            "_view_name": "LayoutView",
            "align_content": null,
            "align_items": null,
            "align_self": null,
            "border": null,
            "bottom": null,
            "display": null,
            "flex": null,
            "flex_flow": null,
            "grid_area": null,
            "grid_auto_columns": null,
            "grid_auto_flow": null,
            "grid_auto_rows": null,
            "grid_column": null,
            "grid_gap": null,
            "grid_row": null,
            "grid_template_areas": null,
            "grid_template_columns": null,
            "grid_template_rows": null,
            "height": null,
            "justify_content": null,
            "justify_items": null,
            "left": null,
            "margin": null,
            "max_height": null,
            "max_width": null,
            "min_height": null,
            "min_width": null,
            "object_fit": null,
            "object_position": null,
            "order": null,
            "overflow": null,
            "overflow_x": null,
            "overflow_y": null,
            "padding": null,
            "right": null,
            "top": null,
            "visibility": null,
            "width": null
          }
        }
      }
    }
  },
  "nbformat": 4,
  "nbformat_minor": 5
}