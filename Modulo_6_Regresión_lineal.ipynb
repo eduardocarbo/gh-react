{
  "cells": [
    {
      "cell_type": "markdown",
      "metadata": {
        "id": "view-in-github",
        "colab_type": "text"
      },
      "source": [
        "<a href=\"https://colab.research.google.com/github/eduardocarbo/gh-react/blob/main/Modulo_6_Regresi%C3%B3n_lineal.ipynb\" target=\"_parent\"><img src=\"https://colab.research.google.com/assets/colab-badge.svg\" alt=\"Open In Colab\"/></a>"
      ]
    },
    {
      "cell_type": "markdown",
      "id": "15dd6ef9",
      "metadata": {
        "id": "15dd6ef9"
      },
      "source": [
        "# Modulo 6: SKLEARN Y STATMODELS, REGRESIÓN LINEAL SIMPLE"
      ]
    },
    {
      "cell_type": "markdown",
      "source": [
        "Importación de librerias"
      ],
      "metadata": {
        "id": "wLmeWxxmQHhr"
      },
      "id": "wLmeWxxmQHhr"
    },
    {
      "cell_type": "code",
      "execution_count": 1,
      "id": "d5167bdb",
      "metadata": {
        "id": "d5167bdb"
      },
      "outputs": [],
      "source": [
        "import pandas as pd\n",
        "import numpy as np\n",
        "import matplotlib.pyplot as plt\n",
        "import seaborn as sns\n",
        "import statsmodels.api as sm"
      ]
    },
    {
      "cell_type": "markdown",
      "id": "a360a3d9",
      "metadata": {
        "id": "a360a3d9"
      },
      "source": [
        "# Preparación de la data"
      ]
    },
    {
      "cell_type": "markdown",
      "source": [
        "Conexión al drive"
      ],
      "metadata": {
        "id": "YzanfVaYQXoU"
      },
      "id": "YzanfVaYQXoU"
    },
    {
      "cell_type": "code",
      "source": [
        "from google.colab import drive\n",
        "drive.mount('/content/drive')"
      ],
      "metadata": {
        "colab": {
          "base_uri": "https://localhost:8080/"
        },
        "id": "5I6VV4PT0ien",
        "outputId": "c76cfc6a-2f39-4012-cb9e-d6e50a07892d"
      },
      "id": "5I6VV4PT0ien",
      "execution_count": 2,
      "outputs": [
        {
          "output_type": "stream",
          "name": "stdout",
          "text": [
            "Mounted at /content/drive\n"
          ]
        }
      ]
    },
    {
      "cell_type": "markdown",
      "source": [
        "Importación de la información"
      ],
      "metadata": {
        "id": "Itds_LkQQvnT"
      },
      "id": "Itds_LkQQvnT"
    },
    {
      "cell_type": "code",
      "execution_count": 3,
      "id": "6c8037f4",
      "metadata": {
        "id": "6c8037f4",
        "colab": {
          "base_uri": "https://localhost:8080/",
          "height": 229
        },
        "outputId": "fc8f788e-0da2-47a5-a012-585a2a3f7691"
      },
      "outputs": [
        {
          "output_type": "display_data",
          "data": {
            "text/plain": [
              "(59043, 16)"
            ]
          },
          "metadata": {}
        },
        {
          "output_type": "execute_result",
          "data": {
            "text/plain": [
              "   DIRECTORIO    Sexo  Edad      Estado_Civil    Región  \\\n",
              "0      118277  Hombre    28  Esta soltero (a)  Pacífica   \n",
              "1      118278   Mujer    26  Esta soltero (a)  Pacífica   \n",
              "\n",
              "  recibio_rentas_capital  Percepción_ingreso  Servicios  Bienes  \\\n",
              "0                     No  No son suficientes          5    71.0   \n",
              "1                     No  No son suficientes          5    75.0   \n",
              "\n",
              "   Empleabilidad  Horas  nivel_edu  tipo_casa  estrato  tipo_vivienda  \\\n",
              "0           0.40    0.0        5.6          1      2.0              3   \n",
              "1           0.25    0.0        4.0          1      2.0              3   \n",
              "\n",
              "   total_ingresos  \n",
              "0   335583.333333  \n",
              "1   190000.000000  "
            ],
            "text/html": [
              "\n",
              "  <div id=\"df-e9afca7c-5077-48f6-a699-27cff6436575\">\n",
              "    <div class=\"colab-df-container\">\n",
              "      <div>\n",
              "<style scoped>\n",
              "    .dataframe tbody tr th:only-of-type {\n",
              "        vertical-align: middle;\n",
              "    }\n",
              "\n",
              "    .dataframe tbody tr th {\n",
              "        vertical-align: top;\n",
              "    }\n",
              "\n",
              "    .dataframe thead th {\n",
              "        text-align: right;\n",
              "    }\n",
              "</style>\n",
              "<table border=\"1\" class=\"dataframe\">\n",
              "  <thead>\n",
              "    <tr style=\"text-align: right;\">\n",
              "      <th></th>\n",
              "      <th>DIRECTORIO</th>\n",
              "      <th>Sexo</th>\n",
              "      <th>Edad</th>\n",
              "      <th>Estado_Civil</th>\n",
              "      <th>Región</th>\n",
              "      <th>recibio_rentas_capital</th>\n",
              "      <th>Percepción_ingreso</th>\n",
              "      <th>Servicios</th>\n",
              "      <th>Bienes</th>\n",
              "      <th>Empleabilidad</th>\n",
              "      <th>Horas</th>\n",
              "      <th>nivel_edu</th>\n",
              "      <th>tipo_casa</th>\n",
              "      <th>estrato</th>\n",
              "      <th>tipo_vivienda</th>\n",
              "      <th>total_ingresos</th>\n",
              "    </tr>\n",
              "  </thead>\n",
              "  <tbody>\n",
              "    <tr>\n",
              "      <th>0</th>\n",
              "      <td>118277</td>\n",
              "      <td>Hombre</td>\n",
              "      <td>28</td>\n",
              "      <td>Esta soltero (a)</td>\n",
              "      <td>Pacífica</td>\n",
              "      <td>No</td>\n",
              "      <td>No son suficientes</td>\n",
              "      <td>5</td>\n",
              "      <td>71.0</td>\n",
              "      <td>0.40</td>\n",
              "      <td>0.0</td>\n",
              "      <td>5.6</td>\n",
              "      <td>1</td>\n",
              "      <td>2.0</td>\n",
              "      <td>3</td>\n",
              "      <td>335583.333333</td>\n",
              "    </tr>\n",
              "    <tr>\n",
              "      <th>1</th>\n",
              "      <td>118278</td>\n",
              "      <td>Mujer</td>\n",
              "      <td>26</td>\n",
              "      <td>Esta soltero (a)</td>\n",
              "      <td>Pacífica</td>\n",
              "      <td>No</td>\n",
              "      <td>No son suficientes</td>\n",
              "      <td>5</td>\n",
              "      <td>75.0</td>\n",
              "      <td>0.25</td>\n",
              "      <td>0.0</td>\n",
              "      <td>4.0</td>\n",
              "      <td>1</td>\n",
              "      <td>2.0</td>\n",
              "      <td>3</td>\n",
              "      <td>190000.000000</td>\n",
              "    </tr>\n",
              "  </tbody>\n",
              "</table>\n",
              "</div>\n",
              "      <button class=\"colab-df-convert\" onclick=\"convertToInteractive('df-e9afca7c-5077-48f6-a699-27cff6436575')\"\n",
              "              title=\"Convert this dataframe to an interactive table.\"\n",
              "              style=\"display:none;\">\n",
              "        \n",
              "  <svg xmlns=\"http://www.w3.org/2000/svg\" height=\"24px\"viewBox=\"0 0 24 24\"\n",
              "       width=\"24px\">\n",
              "    <path d=\"M0 0h24v24H0V0z\" fill=\"none\"/>\n",
              "    <path d=\"M18.56 5.44l.94 2.06.94-2.06 2.06-.94-2.06-.94-.94-2.06-.94 2.06-2.06.94zm-11 1L8.5 8.5l.94-2.06 2.06-.94-2.06-.94L8.5 2.5l-.94 2.06-2.06.94zm10 10l.94 2.06.94-2.06 2.06-.94-2.06-.94-.94-2.06-.94 2.06-2.06.94z\"/><path d=\"M17.41 7.96l-1.37-1.37c-.4-.4-.92-.59-1.43-.59-.52 0-1.04.2-1.43.59L10.3 9.45l-7.72 7.72c-.78.78-.78 2.05 0 2.83L4 21.41c.39.39.9.59 1.41.59.51 0 1.02-.2 1.41-.59l7.78-7.78 2.81-2.81c.8-.78.8-2.07 0-2.86zM5.41 20L4 18.59l7.72-7.72 1.47 1.35L5.41 20z\"/>\n",
              "  </svg>\n",
              "      </button>\n",
              "      \n",
              "  <style>\n",
              "    .colab-df-container {\n",
              "      display:flex;\n",
              "      flex-wrap:wrap;\n",
              "      gap: 12px;\n",
              "    }\n",
              "\n",
              "    .colab-df-convert {\n",
              "      background-color: #E8F0FE;\n",
              "      border: none;\n",
              "      border-radius: 50%;\n",
              "      cursor: pointer;\n",
              "      display: none;\n",
              "      fill: #1967D2;\n",
              "      height: 32px;\n",
              "      padding: 0 0 0 0;\n",
              "      width: 32px;\n",
              "    }\n",
              "\n",
              "    .colab-df-convert:hover {\n",
              "      background-color: #E2EBFA;\n",
              "      box-shadow: 0px 1px 2px rgba(60, 64, 67, 0.3), 0px 1px 3px 1px rgba(60, 64, 67, 0.15);\n",
              "      fill: #174EA6;\n",
              "    }\n",
              "\n",
              "    [theme=dark] .colab-df-convert {\n",
              "      background-color: #3B4455;\n",
              "      fill: #D2E3FC;\n",
              "    }\n",
              "\n",
              "    [theme=dark] .colab-df-convert:hover {\n",
              "      background-color: #434B5C;\n",
              "      box-shadow: 0px 1px 3px 1px rgba(0, 0, 0, 0.15);\n",
              "      filter: drop-shadow(0px 1px 2px rgba(0, 0, 0, 0.3));\n",
              "      fill: #FFFFFF;\n",
              "    }\n",
              "  </style>\n",
              "\n",
              "      <script>\n",
              "        const buttonEl =\n",
              "          document.querySelector('#df-e9afca7c-5077-48f6-a699-27cff6436575 button.colab-df-convert');\n",
              "        buttonEl.style.display =\n",
              "          google.colab.kernel.accessAllowed ? 'block' : 'none';\n",
              "\n",
              "        async function convertToInteractive(key) {\n",
              "          const element = document.querySelector('#df-e9afca7c-5077-48f6-a699-27cff6436575');\n",
              "          const dataTable =\n",
              "            await google.colab.kernel.invokeFunction('convertToInteractive',\n",
              "                                                     [key], {});\n",
              "          if (!dataTable) return;\n",
              "\n",
              "          const docLinkHtml = 'Like what you see? Visit the ' +\n",
              "            '<a target=\"_blank\" href=https://colab.research.google.com/notebooks/data_table.ipynb>data table notebook</a>'\n",
              "            + ' to learn more about interactive tables.';\n",
              "          element.innerHTML = '';\n",
              "          dataTable['output_type'] = 'display_data';\n",
              "          await google.colab.output.renderOutput(dataTable, element);\n",
              "          const docLink = document.createElement('div');\n",
              "          docLink.innerHTML = docLinkHtml;\n",
              "          element.appendChild(docLink);\n",
              "        }\n",
              "      </script>\n",
              "    </div>\n",
              "  </div>\n",
              "  "
            ]
          },
          "metadata": {},
          "execution_count": 3
        }
      ],
      "source": [
        "df_data = pd.read_excel(\"/content/drive/MyDrive/Curso_Python/final_df.xlsx\")\n",
        "display(df_data.shape)\n",
        "df_data.head(2)"
      ]
    },
    {
      "cell_type": "markdown",
      "source": [
        "Visualización de variables"
      ],
      "metadata": {
        "id": "kRBL3TCNQ6xT"
      },
      "id": "kRBL3TCNQ6xT"
    },
    {
      "cell_type": "code",
      "execution_count": 4,
      "id": "306bd93c",
      "metadata": {
        "id": "306bd93c",
        "outputId": "0136ad3c-6605-4345-dec0-9d0f5b20f24c",
        "colab": {
          "base_uri": "https://localhost:8080/"
        }
      },
      "outputs": [
        {
          "output_type": "execute_result",
          "data": {
            "text/plain": [
              "Index(['DIRECTORIO', 'Sexo', 'Edad', 'Estado_Civil', 'Región',\n",
              "       'recibio_rentas_capital', 'Percepción_ingreso', 'Servicios', 'Bienes',\n",
              "       'Empleabilidad', 'Horas', 'nivel_edu', 'tipo_casa', 'estrato',\n",
              "       'tipo_vivienda', 'total_ingresos'],\n",
              "      dtype='object')"
            ]
          },
          "metadata": {},
          "execution_count": 4
        }
      ],
      "source": [
        "df_data.columns"
      ]
    },
    {
      "cell_type": "markdown",
      "source": [
        "Cambiando el nombre de las variables"
      ],
      "metadata": {
        "id": "LWNgqRN1RAdg"
      },
      "id": "LWNgqRN1RAdg"
    },
    {
      "cell_type": "code",
      "source": [
        "df_data=df_data.rename(columns={'nivel_edu':'Nivel Educativo','tipo_vivienda':'Tipo Vivienda'})"
      ],
      "metadata": {
        "id": "qh57NBFc1pwd"
      },
      "id": "qh57NBFc1pwd",
      "execution_count": 5,
      "outputs": []
    },
    {
      "cell_type": "code",
      "source": [
        "df_data.columns"
      ],
      "metadata": {
        "colab": {
          "base_uri": "https://localhost:8080/"
        },
        "id": "OqcOZvl1M6UO",
        "outputId": "4e8b4d3b-bdb9-4c99-ee71-c27b206689b8"
      },
      "id": "OqcOZvl1M6UO",
      "execution_count": 6,
      "outputs": [
        {
          "output_type": "execute_result",
          "data": {
            "text/plain": [
              "Index(['DIRECTORIO', 'Sexo', 'Edad', 'Estado_Civil', 'Región',\n",
              "       'recibio_rentas_capital', 'Percepción_ingreso', 'Servicios', 'Bienes',\n",
              "       'Empleabilidad', 'Horas', 'Nivel Educativo', 'tipo_casa', 'estrato',\n",
              "       'Tipo Vivienda', 'total_ingresos'],\n",
              "      dtype='object')"
            ]
          },
          "metadata": {},
          "execution_count": 6
        }
      ]
    },
    {
      "cell_type": "markdown",
      "id": "98e3dde1",
      "metadata": {
        "id": "98e3dde1"
      },
      "source": [
        "# Modelo de regresión lineal simple"
      ]
    },
    {
      "cell_type": "markdown",
      "id": "8f0051ae",
      "metadata": {
        "id": "8f0051ae"
      },
      "source": [
        "Vamos a estimar un modelo en donde se analice la distribución de la variable Ingreso en función del Nivel educativo"
      ]
    },
    {
      "cell_type": "markdown",
      "source": [
        "Gráfico de variables"
      ],
      "metadata": {
        "id": "tq3dca2xRXh7"
      },
      "id": "tq3dca2xRXh7"
    },
    {
      "cell_type": "code",
      "execution_count": 7,
      "id": "5d9997ac",
      "metadata": {
        "id": "5d9997ac",
        "outputId": "6de1c97e-a365-4072-916e-8edfee54c80b",
        "colab": {
          "base_uri": "https://localhost:8080/",
          "height": 625
        }
      },
      "outputs": [
        {
          "output_type": "execute_result",
          "data": {
            "text/plain": [
              "Text(0.5, 1.0, 'Nivel educativo')"
            ]
          },
          "metadata": {},
          "execution_count": 7
        },
        {
          "output_type": "display_data",
          "data": {
            "text/plain": [
              "<Figure size 1440x720 with 2 Axes>"
            ],
            "image/png": "[encoded data removed]"
          },
          "metadata": {
            "needs_background": "light"
          }
        }
      ],
      "source": [
        "f, axs = plt.subplots(1, 2,figsize=(20, 10))\n",
        "sns.boxplot(data=df_data[\"total_ingresos\"], ax=axs[0])\n",
        "axs[0].set_title('Ingresos')\n",
        "\n",
        "sns.boxplot(data=df_data[\"Nivel Educativo\"], ax=axs[1])\n",
        "axs[1].set_title('Nivel educativo')"
      ]
    },
    {
      "cell_type": "markdown",
      "source": [
        "Eliminación de datos atípicos"
      ],
      "metadata": {
        "id": "UHPpWcIzTTKQ"
      },
      "id": "UHPpWcIzTTKQ"
    },
    {
      "cell_type": "code",
      "execution_count": 8,
      "id": "1188f990",
      "metadata": {
        "id": "1188f990"
      },
      "outputs": [],
      "source": [
        "q1 = df_data.total_ingresos.quantile(0.25)\n",
        "q3 = df_data.total_ingresos.quantile(0.75)\n",
        "RIQ = q3-q1"
      ]
    },
    {
      "cell_type": "code",
      "execution_count": 9,
      "id": "xdIbCIZizz5E",
      "metadata": {
        "id": "xdIbCIZizz5E",
        "outputId": "4f063e4d-df21-4fa2-ae96-5ab761630000",
        "colab": {
          "base_uri": "https://localhost:8080/",
          "height": 294
        }
      },
      "outputs": [
        {
          "output_type": "execute_result",
          "data": {
            "text/plain": [
              "<matplotlib.lines.Line2D at 0x7fcd406ea0d0>"
            ]
          },
          "metadata": {},
          "execution_count": 9
        },
        {
          "output_type": "display_data",
          "data": {
            "text/plain": [
              "<Figure size 432x288 with 2 Axes>"
            ],
            "image/png": "[encoded data removed]"
          },
          "metadata": {
            "needs_background": "light"
          }
        }
      ],
      "source": [
        "f, axs = plt.subplots(1, 2)\n",
        "#sns.boxplot(data=df_data[\"total_ingresos\"])\n",
        "plt.axhline(min(df_data.total_ingresos), color='g')\n",
        "plt.axhline(q3+1.5*RIQ, color='b')\n",
        "plt.axhline(q3+3*RIQ, color='r')\n",
        "#sns.boxplot(data=df_data[\"nivel_edu\"])"
      ]
    },
    {
      "cell_type": "markdown",
      "id": "e6f5b31d",
      "metadata": {
        "id": "e6f5b31d"
      },
      "source": [
        "###  Gráfico dinámico"
      ]
    },
    {
      "cell_type": "code",
      "execution_count": 10,
      "id": "65317dc5",
      "metadata": {
        "id": "65317dc5"
      },
      "outputs": [],
      "source": [
        "def plot_function(x_mill = 9000000,y=50000, bins = 10, color='red'):\n",
        "    binwidth = (max(df_data.total_ingresos) - min(df_data.total_ingresos))/ bins\n",
        "    plt.hist(df_data.total_ingresos, \n",
        "             bins=np.arange(min(df_data.total_ingresos), max(df_data.total_ingresos) + binwidth, binwidth),\n",
        "             color=color)\n",
        "    plt.xlim(0,x_mill)\n",
        "    plt.ylim(0,y)\n",
        "    plt.show()"
      ]
    },
    {
      "cell_type": "code",
      "execution_count": 11,
      "id": "d84b1fa3",
      "metadata": {
        "colab": {
          "referenced_widgets": [
            "8c25c601d0714292b3017629a987e02e",
            "0d2d932b57d44edf86a4323b5caf4ece",
            "8d1bd7eb03c74430be46ca82a23f0e6b",
            "a4b1918c77ed4831a87b03cd1648eeaa",
            "401ca15fee354c8087541750680a7bec",
            "c2094581c0b345aaa36274a0228e2e70",
            "8484f007ff254bc3a8e48bb2cacdb66c",
            "9e35474b47f3449bbc735b0d944a74a4",
            "844f68b6ae3045c0b7066a556742853d",
            "97562791b8074f54a972bfeefffffde7",
            "808e4f500b7144d3b7067da3e46f0244",
            "39c60febf0744b8e858a6f0c84874829",
            "a20f8210e97e4104a9ee6ffbcc1322f6",
            "39a0e8a3849a498c8945182a83424242",
            "0d0f383d00c64368b91cdc5a612590e2",
            "b30f19ae16294213ab9217f0729fcd8e"
          ],
          "base_uri": "https://localhost:8080/",
          "height": 410
        },
        "id": "d84b1fa3",
        "outputId": "2fb7ffaf-e58e-46c9-b1a8-8367c2ea1446"
      },
      "outputs": [
        {
          "output_type": "display_data",
          "data": {
            "text/plain": [
              "interactive(children=(IntSlider(value=9000000, description='x_mill', max=9000000, step=100000), IntSlider(valu…"
            ],
            "application/vnd.jupyter.widget-view+json": {
              "version_major": 2,
              "version_minor": 0,
              "model_id": "8c25c601d0714292b3017629a987e02e"
            }
          },
          "metadata": {}
        }
      ],
      "source": [
        "from ipywidgets import interact \n",
        "interact(plot_function,\n",
        "         x_mill = (0, 9000000, 100000),\n",
        "         y = (0, 50000, 1000),\n",
        "         bins = (1, 1000, 1),\n",
        "         color=['red', 'yellow', 'blue','gray','green','white','black'])\n",
        "None"
      ]
    },
    {
      "cell_type": "markdown",
      "id": "f5b8bb29",
      "metadata": {
        "id": "f5b8bb29"
      },
      "source": [
        "### Selección de una muestra para correr el modelo\n",
        "\n",
        "Inicialmente vamos a correr el modelo con datos que se encuentren dentro del recorrido intercuantil y además vamos a tomar sólo una muestra al azar de 100 de ellos para ver mejor las gráficas."
      ]
    },
    {
      "cell_type": "code",
      "source": [
        "df_data.head(100)"
      ],
      "metadata": {
        "colab": {
          "base_uri": "https://localhost:8080/",
          "height": 762
        },
        "id": "C8HZZfFFP6hL",
        "outputId": "ce354346-192d-4531-bee8-b90a81ab6899"
      },
      "id": "C8HZZfFFP6hL",
      "execution_count": 12,
      "outputs": [
        {
          "output_type": "execute_result",
          "data": {
            "text/plain": [
              "    DIRECTORIO    Sexo  Edad  \\\n",
              "0       118277  Hombre    28   \n",
              "1       118278   Mujer    26   \n",
              "2       118279   Mujer    22   \n",
              "3       118280  Hombre    33   \n",
              "4       118285  Hombre    27   \n",
              "..         ...     ...   ...   \n",
              "95      118507   Mujer    29   \n",
              "96      118508   Mujer    50   \n",
              "97      118511   Mujer    31   \n",
              "98      118512  Hombre    30   \n",
              "99      118513  Hombre    60   \n",
              "\n",
              "                                         Estado_Civil    Región  \\\n",
              "0                                    Esta soltero (a)  Pacífica   \n",
              "1                                    Esta soltero (a)  Pacífica   \n",
              "2   No esta casado(a) y vive en pareja hace dos añ...  Pacífica   \n",
              "3                                    Esta soltero (a)  Pacífica   \n",
              "4                                    Esta soltero (a)  Pacífica   \n",
              "..                                                ...       ...   \n",
              "95  No esta casado(a) y vive en pareja hace dos añ...    Bogotá   \n",
              "96                   Esta separado(a) o divorciado(a)    Bogotá   \n",
              "97                                   Esta soltero (a)    Bogotá   \n",
              "98                                   Esta soltero (a)    Bogotá   \n",
              "99                   Esta separado(a) o divorciado(a)    Bogotá   \n",
              "\n",
              "   recibio_rentas_capital  Percepción_ingreso  Servicios  Bienes  \\\n",
              "0                      No  No son suficientes          5    71.0   \n",
              "1                      No  No son suficientes          5    75.0   \n",
              "2                      No     Son suficientes          5   165.0   \n",
              "3                      No  No son suficientes          4    54.0   \n",
              "4                      No  No son suficientes          3    23.0   \n",
              "..                    ...                 ...        ...     ...   \n",
              "95                     Si     Son suficientes          5   390.0   \n",
              "96                     Si     Son suficientes          5   331.0   \n",
              "97                     No     Son suficientes          5   341.0   \n",
              "98                     No     Son suficientes          5   398.0   \n",
              "99                     Si  No son suficientes          5   593.0   \n",
              "\n",
              "    Empleabilidad  Horas  Nivel Educativo  tipo_casa  estrato  Tipo Vivienda  \\\n",
              "0            0.40    0.0         5.600000          1      2.0              3   \n",
              "1            0.25    0.0         4.000000          1      2.0              3   \n",
              "2            0.50    0.0         8.000000          2      1.0              3   \n",
              "3            1.00    0.0         4.000000          2      2.0              1   \n",
              "4            0.40    0.0         6.400000          1      1.0              1   \n",
              "..            ...    ...              ...        ...      ...            ...   \n",
              "95           0.50    0.0        10.666667          2      3.0              3   \n",
              "96           1.00    0.0        16.000000          2      3.0              1   \n",
              "97           0.50    0.0        16.000000          2      3.0              3   \n",
              "98           0.25    0.0        13.000000          2      3.0              1   \n",
              "99           1.00    0.0        16.000000          2      3.0              3   \n",
              "\n",
              "    total_ingresos  \n",
              "0     3.355833e+05  \n",
              "1     1.900000e+05  \n",
              "2     9.375000e+05  \n",
              "3     7.000000e+05  \n",
              "4     2.303333e+05  \n",
              "..             ...  \n",
              "95    2.808333e+06  \n",
              "96    2.657101e+07  \n",
              "97    4.400000e+06  \n",
              "98    2.650000e+06  \n",
              "99    4.983073e+06  \n",
              "\n",
              "[100 rows x 16 columns]"
            ],
            "text/html": [
              "\n",
              "  <div id=\"df-525c18bc-d526-4d58-94d4-31b9425561b4\">\n",
              "    <div class=\"colab-df-container\">\n",
              "      <div>\n",
              "<style scoped>\n",
              "    .dataframe tbody tr th:only-of-type {\n",
              "        vertical-align: middle;\n",
              "    }\n",
              "\n",
              "    .dataframe tbody tr th {\n",
              "        vertical-align: top;\n",
              "    }\n",
              "\n",
              "    .dataframe thead th {\n",
              "        text-align: right;\n",
              "    }\n",
              "</style>\n",
              "<table border=\"1\" class=\"dataframe\">\n",
              "  <thead>\n",
              "    <tr style=\"text-align: right;\">\n",
              "      <th></th>\n",
              "      <th>DIRECTORIO</th>\n",
              "      <th>Sexo</th>\n",
              "      <th>Edad</th>\n",
              "      <th>Estado_Civil</th>\n",
              "      <th>Región</th>\n",
              "      <th>recibio_rentas_capital</th>\n",
              "      <th>Percepción_ingreso</th>\n",
              "      <th>Servicios</th>\n",
              "      <th>Bienes</th>\n",
              "      <th>Empleabilidad</th>\n",
              "      <th>Horas</th>\n",
              "      <th>Nivel Educativo</th>\n",
              "      <th>tipo_casa</th>\n",
              "      <th>estrato</th>\n",
              "      <th>Tipo Vivienda</th>\n",
              "      <th>total_ingresos</th>\n",
              "    </tr>\n",
              "  </thead>\n",
              "  <tbody>\n",
              "    <tr>\n",
              "      <th>0</th>\n",
              "      <td>118277</td>\n",
              "      <td>Hombre</td>\n",
              "      <td>28</td>\n",
              "      <td>Esta soltero (a)</td>\n",
              "      <td>Pacífica</td>\n",
              "      <td>No</td>\n",
              "      <td>No son suficientes</td>\n",
              "      <td>5</td>\n",
              "      <td>71.0</td>\n",
              "      <td>0.40</td>\n",
              "      <td>0.0</td>\n",
              "      <td>5.600000</td>\n",
              "      <td>1</td>\n",
              "      <td>2.0</td>\n",
              "      <td>3</td>\n",
              "      <td>3.355833e+05</td>\n",
              "    </tr>\n",
              "    <tr>\n",
              "      <th>1</th>\n",
              "      <td>118278</td>\n",
              "      <td>Mujer</td>\n",
              "      <td>26</td>\n",
              "      <td>Esta soltero (a)</td>\n",
              "      <td>Pacífica</td>\n",
              "      <td>No</td>\n",
              "      <td>No son suficientes</td>\n",
              "      <td>5</td>\n",
              "      <td>75.0</td>\n",
              "      <td>0.25</td>\n",
              "      <td>0.0</td>\n",
              "      <td>4.000000</td>\n",
              "      <td>1</td>\n",
              "      <td>2.0</td>\n",
              "      <td>3</td>\n",
              "      <td>1.900000e+05</td>\n",
              "    </tr>\n",
              "    <tr>\n",
              "      <th>2</th>\n",
              "      <td>118279</td>\n",
              "      <td>Mujer</td>\n",
              "      <td>22</td>\n",
              "      <td>No esta casado(a) y vive en pareja hace dos añ...</td>\n",
              "      <td>Pacífica</td>\n",
              "      <td>No</td>\n",
              "      <td>Son suficientes</td>\n",
              "      <td>5</td>\n",
              "      <td>165.0</td>\n",
              "      <td>0.50</td>\n",
              "      <td>0.0</td>\n",
              "      <td>8.000000</td>\n",
              "      <td>2</td>\n",
              "      <td>1.0</td>\n",
              "      <td>3</td>\n",
              "      <td>9.375000e+05</td>\n",
              "    </tr>\n",
              "    <tr>\n",
              "      <th>3</th>\n",
              "      <td>118280</td>\n",
              "      <td>Hombre</td>\n",
              "      <td>33</td>\n",
              "      <td>Esta soltero (a)</td>\n",
              "      <td>Pacífica</td>\n",
              "      <td>No</td>\n",
              "      <td>No son suficientes</td>\n",
              "      <td>4</td>\n",
              "      <td>54.0</td>\n",
              "      <td>1.00</td>\n",
              "      <td>0.0</td>\n",
              "      <td>4.000000</td>\n",
              "      <td>2</td>\n",
              "      <td>2.0</td>\n",
              "      <td>1</td>\n",
              "      <td>7.000000e+05</td>\n",
              "    </tr>\n",
              "    <tr>\n",
              "      <th>4</th>\n",
              "      <td>118285</td>\n",
              "      <td>Hombre</td>\n",
              "      <td>27</td>\n",
              "      <td>Esta soltero (a)</td>\n",
              "      <td>Pacífica</td>\n",
              "      <td>No</td>\n",
              "      <td>No son suficientes</td>\n",
              "      <td>3</td>\n",
              "      <td>23.0</td>\n",
              "      <td>0.40</td>\n",
              "      <td>0.0</td>\n",
              "      <td>6.400000</td>\n",
              "      <td>1</td>\n",
              "      <td>1.0</td>\n",
              "      <td>1</td>\n",
              "      <td>2.303333e+05</td>\n",
              "    </tr>\n",
              "    <tr>\n",
              "      <th>...</th>\n",
              "      <td>...</td>\n",
              "      <td>...</td>\n",
              "      <td>...</td>\n",
              "      <td>...</td>\n",
              "      <td>...</td>\n",
              "      <td>...</td>\n",
              "      <td>...</td>\n",
              "      <td>...</td>\n",
              "      <td>...</td>\n",
              "      <td>...</td>\n",
              "      <td>...</td>\n",
              "      <td>...</td>\n",
              "      <td>...</td>\n",
              "      <td>...</td>\n",
              "      <td>...</td>\n",
              "      <td>...</td>\n",
              "    </tr>\n",
              "    <tr>\n",
              "      <th>95</th>\n",
              "      <td>118507</td>\n",
              "      <td>Mujer</td>\n",
              "      <td>29</td>\n",
              "      <td>No esta casado(a) y vive en pareja hace dos añ...</td>\n",
              "      <td>Bogotá</td>\n",
              "      <td>Si</td>\n",
              "      <td>Son suficientes</td>\n",
              "      <td>5</td>\n",
              "      <td>390.0</td>\n",
              "      <td>0.50</td>\n",
              "      <td>0.0</td>\n",
              "      <td>10.666667</td>\n",
              "      <td>2</td>\n",
              "      <td>3.0</td>\n",
              "      <td>3</td>\n",
              "      <td>2.808333e+06</td>\n",
              "    </tr>\n",
              "    <tr>\n",
              "      <th>96</th>\n",
              "      <td>118508</td>\n",
              "      <td>Mujer</td>\n",
              "      <td>50</td>\n",
              "      <td>Esta separado(a) o divorciado(a)</td>\n",
              "      <td>Bogotá</td>\n",
              "      <td>Si</td>\n",
              "      <td>Son suficientes</td>\n",
              "      <td>5</td>\n",
              "      <td>331.0</td>\n",
              "      <td>1.00</td>\n",
              "      <td>0.0</td>\n",
              "      <td>16.000000</td>\n",
              "      <td>2</td>\n",
              "      <td>3.0</td>\n",
              "      <td>1</td>\n",
              "      <td>2.657101e+07</td>\n",
              "    </tr>\n",
              "    <tr>\n",
              "      <th>97</th>\n",
              "      <td>118511</td>\n",
              "      <td>Mujer</td>\n",
              "      <td>31</td>\n",
              "      <td>Esta soltero (a)</td>\n",
              "      <td>Bogotá</td>\n",
              "      <td>No</td>\n",
              "      <td>Son suficientes</td>\n",
              "      <td>5</td>\n",
              "      <td>341.0</td>\n",
              "      <td>0.50</td>\n",
              "      <td>0.0</td>\n",
              "      <td>16.000000</td>\n",
              "      <td>2</td>\n",
              "      <td>3.0</td>\n",
              "      <td>3</td>\n",
              "      <td>4.400000e+06</td>\n",
              "    </tr>\n",
              "    <tr>\n",
              "      <th>98</th>\n",
              "      <td>118512</td>\n",
              "      <td>Hombre</td>\n",
              "      <td>30</td>\n",
              "      <td>Esta soltero (a)</td>\n",
              "      <td>Bogotá</td>\n",
              "      <td>No</td>\n",
              "      <td>Son suficientes</td>\n",
              "      <td>5</td>\n",
              "      <td>398.0</td>\n",
              "      <td>0.25</td>\n",
              "      <td>0.0</td>\n",
              "      <td>13.000000</td>\n",
              "      <td>2</td>\n",
              "      <td>3.0</td>\n",
              "      <td>1</td>\n",
              "      <td>2.650000e+06</td>\n",
              "    </tr>\n",
              "    <tr>\n",
              "      <th>99</th>\n",
              "      <td>118513</td>\n",
              "      <td>Hombre</td>\n",
              "      <td>60</td>\n",
              "      <td>Esta separado(a) o divorciado(a)</td>\n",
              "      <td>Bogotá</td>\n",
              "      <td>Si</td>\n",
              "      <td>No son suficientes</td>\n",
              "      <td>5</td>\n",
              "      <td>593.0</td>\n",
              "      <td>1.00</td>\n",
              "      <td>0.0</td>\n",
              "      <td>16.000000</td>\n",
              "      <td>2</td>\n",
              "      <td>3.0</td>\n",
              "      <td>3</td>\n",
              "      <td>4.983073e+06</td>\n",
              "    </tr>\n",
              "  </tbody>\n",
              "</table>\n",
              "<p>100 rows × 16 columns</p>\n",
              "</div>\n",
              "      <button class=\"colab-df-convert\" onclick=\"convertToInteractive('df-525c18bc-d526-4d58-94d4-31b9425561b4')\"\n",
              "              title=\"Convert this dataframe to an interactive table.\"\n",
              "              style=\"display:none;\">\n",
              "        \n",
              "  <svg xmlns=\"http://www.w3.org/2000/svg\" height=\"24px\"viewBox=\"0 0 24 24\"\n",
              "       width=\"24px\">\n",
              "    <path d=\"M0 0h24v24H0V0z\" fill=\"none\"/>\n",
              "    <path d=\"M18.56 5.44l.94 2.06.94-2.06 2.06-.94-2.06-.94-.94-2.06-.94 2.06-2.06.94zm-11 1L8.5 8.5l.94-2.06 2.06-.94-2.06-.94L8.5 2.5l-.94 2.06-2.06.94zm10 10l.94 2.06.94-2.06 2.06-.94-2.06-.94-.94-2.06-.94 2.06-2.06.94z\"/><path d=\"M17.41 7.96l-1.37-1.37c-.4-.4-.92-.59-1.43-.59-.52 0-1.04.2-1.43.59L10.3 9.45l-7.72 7.72c-.78.78-.78 2.05 0 2.83L4 21.41c.39.39.9.59 1.41.59.51 0 1.02-.2 1.41-.59l7.78-7.78 2.81-2.81c.8-.78.8-2.07 0-2.86zM5.41 20L4 18.59l7.72-7.72 1.47 1.35L5.41 20z\"/>\n",
              "  </svg>\n",
              "      </button>\n",
              "      \n",
              "  <style>\n",
              "    .colab-df-container {\n",
              "      display:flex;\n",
              "      flex-wrap:wrap;\n",
              "      gap: 12px;\n",
              "    }\n",
              "\n",
              "    .colab-df-convert {\n",
              "      background-color: #E8F0FE;\n",
              "      border: none;\n",
              "      border-radius: 50%;\n",
              "      cursor: pointer;\n",
              "      display: none;\n",
              "      fill: #1967D2;\n",
              "      height: 32px;\n",
              "      padding: 0 0 0 0;\n",
              "      width: 32px;\n",
              "    }\n",
              "\n",
              "    .colab-df-convert:hover {\n",
              "      background-color: #E2EBFA;\n",
              "      box-shadow: 0px 1px 2px rgba(60, 64, 67, 0.3), 0px 1px 3px 1px rgba(60, 64, 67, 0.15);\n",
              "      fill: #174EA6;\n",
              "    }\n",
              "\n",
              "    [theme=dark] .colab-df-convert {\n",
              "      background-color: #3B4455;\n",
              "      fill: #D2E3FC;\n",
              "    }\n",
              "\n",
              "    [theme=dark] .colab-df-convert:hover {\n",
              "      background-color: #434B5C;\n",
              "      box-shadow: 0px 1px 3px 1px rgba(0, 0, 0, 0.15);\n",
              "      filter: drop-shadow(0px 1px 2px rgba(0, 0, 0, 0.3));\n",
              "      fill: #FFFFFF;\n",
              "    }\n",
              "  </style>\n",
              "\n",
              "      <script>\n",
              "        const buttonEl =\n",
              "          document.querySelector('#df-525c18bc-d526-4d58-94d4-31b9425561b4 button.colab-df-convert');\n",
              "        buttonEl.style.display =\n",
              "          google.colab.kernel.accessAllowed ? 'block' : 'none';\n",
              "\n",
              "        async function convertToInteractive(key) {\n",
              "          const element = document.querySelector('#df-525c18bc-d526-4d58-94d4-31b9425561b4');\n",
              "          const dataTable =\n",
              "            await google.colab.kernel.invokeFunction('convertToInteractive',\n",
              "                                                     [key], {});\n",
              "          if (!dataTable) return;\n",
              "\n",
              "          const docLinkHtml = 'Like what you see? Visit the ' +\n",
              "            '<a target=\"_blank\" href=https://colab.research.google.com/notebooks/data_table.ipynb>data table notebook</a>'\n",
              "            + ' to learn more about interactive tables.';\n",
              "          element.innerHTML = '';\n",
              "          dataTable['output_type'] = 'display_data';\n",
              "          await google.colab.output.renderOutput(dataTable, element);\n",
              "          const docLink = document.createElement('div');\n",
              "          docLink.innerHTML = docLinkHtml;\n",
              "          element.appendChild(docLink);\n",
              "        }\n",
              "      </script>\n",
              "    </div>\n",
              "  </div>\n",
              "  "
            ]
          },
          "metadata": {},
          "execution_count": 12
        }
      ]
    },
    {
      "cell_type": "code",
      "execution_count": 13,
      "id": "2e9b404b",
      "metadata": {
        "id": "2e9b404b",
        "colab": {
          "base_uri": "https://localhost:8080/",
          "height": 349
        },
        "outputId": "09340b4b-64e8-4a96-eff0-c936af8b7783"
      },
      "outputs": [
        {
          "output_type": "display_data",
          "data": {
            "text/plain": [
              "Int64Index([    0,     3,     4,     5,     6,     9,    10,    12,    13,\n",
              "               18,\n",
              "            ...\n",
              "            59017, 59018, 59019, 59020, 59023, 59026, 59027, 59029, 59033,\n",
              "            59039],\n",
              "           dtype='int64', length=29474)"
            ]
          },
          "metadata": {}
        },
        {
          "output_type": "display_data",
          "data": {
            "text/plain": [
              "array([21579, 51251,  8689, 17335, 32823, 12632, 48236, 33649,   673,\n",
              "       50437, 40712, 46423, 10851, 56370, 24109,  2221, 51682, 19759,\n",
              "       57725, 25903,  1489,  3324, 42585, 35103, 14924, 57902, 18007,\n",
              "       51903, 50402, 22914, 48433, 22092, 31192, 38699, 30414, 31350,\n",
              "       46481, 31488, 40958, 29351, 20495, 44822,  7478,  9634, 18427,\n",
              "       47584, 45280, 52021, 12894, 10794,   389, 32520, 50354, 32961,\n",
              "       37073, 50363, 48651, 16197, 47577, 58842, 57581, 22951, 15916,\n",
              "       30599, 32833, 35521, 17510, 29429,  6571,  4069,  9202, 51799,\n",
              "       41558, 20209, 41500, 23419, 58761,  7075, 39525, 39832, 48218,\n",
              "       26224, 50779, 42269, 42776,   456, 36300, 16261, 28044,  2703,\n",
              "       40131, 43917, 44873, 11193, 25609, 15876, 31010, 48256, 34977,\n",
              "       13305])"
            ]
          },
          "metadata": {}
        }
      ],
      "source": [
        "from numpy.core.fromnumeric import repeat\n",
        "indices = df_data[(df_data.total_ingresos<q3) & (df_data.total_ingresos>q1)].index\n",
        "display(indices)\n",
        "muestra=np.random.choice(indices,100,replace=False)\n",
        "display(muestra)\n",
        "df_data=df_data.loc[muestra]"
      ]
    },
    {
      "cell_type": "markdown",
      "id": "8e97eff2",
      "metadata": {
        "id": "8e97eff2"
      },
      "source": [
        "#### Eliminación de datos atípicos anormales"
      ]
    },
    {
      "cell_type": "code",
      "execution_count": 14,
      "id": "f038e65d",
      "metadata": {
        "id": "f038e65d"
      },
      "outputs": [],
      "source": [
        "#df_data = df_data[df_data.total_ingresos<q3+1.5*RIQ]\n",
        "#df_data.shape"
      ]
    },
    {
      "cell_type": "markdown",
      "id": "ce76e4d0",
      "metadata": {
        "id": "ce76e4d0"
      },
      "source": [
        "## Diagrama de dispersión de Ingresos y Nivel educativo"
      ]
    },
    {
      "cell_type": "code",
      "execution_count": 15,
      "id": "e048b48e",
      "metadata": {
        "id": "e048b48e",
        "colab": {
          "base_uri": "https://localhost:8080/",
          "height": 350
        },
        "outputId": "9d23d57a-b052-42be-fa95-b1e04923a0fb"
      },
      "outputs": [
        {
          "output_type": "display_data",
          "data": {
            "text/plain": [
              "<Figure size 720x360 with 1 Axes>"
            ],
            "image/png": "[encoded data removed]"
          },
          "metadata": {
            "needs_background": "light"
          }
        }
      ],
      "source": [
        "fig, ax = plt.subplots(figsize=(10, 5))\n",
        "\n",
        "df_data.plot(\n",
        "    x    = 'Nivel Educativo',\n",
        "    y    = 'total_ingresos',\n",
        "    c    = 'green',\n",
        "    kind = \"scatter\",\n",
        "    ax   = ax\n",
        ")\n",
        "ax.set_title('Ingresos vs NIvel educativo');"
      ]
    },
    {
      "cell_type": "code",
      "source": [
        "fig, ax = plt.subplots(figsize=(10, 5))\n",
        "\n",
        "df_data.plot(\n",
        "    x    = 'Bienes',\n",
        "    y    = 'total_ingresos',\n",
        "    c    = 'green',\n",
        "    kind = \"scatter\",\n",
        "    ax   = ax\n",
        ")\n",
        "ax.set_title('Ingresos vs NIvel educativo');"
      ],
      "metadata": {
        "colab": {
          "base_uri": "https://localhost:8080/",
          "height": 350
        },
        "id": "5aNRuIpWwOyu",
        "outputId": "cc5d9a87-9dda-4b36-d1cc-aa9f6e35f19a"
      },
      "id": "5aNRuIpWwOyu",
      "execution_count": 16,
      "outputs": [
        {
          "output_type": "display_data",
          "data": {
            "text/plain": [
              "<Figure size 720x360 with 1 Axes>"
            ],
            "image/png": "[encoded data removed]"
          },
          "metadata": {
            "needs_background": "light"
          }
        }
      ]
    },
    {
      "cell_type": "markdown",
      "id": "c13761e8",
      "metadata": {
        "id": "c13761e8"
      },
      "source": [
        "## Correlación lineal entre las variables"
      ]
    },
    {
      "cell_type": "code",
      "execution_count": 17,
      "id": "22b05fd5",
      "metadata": {
        "id": "22b05fd5",
        "colab": {
          "base_uri": "https://localhost:8080/"
        },
        "outputId": "2ce7e3e7-30de-46e7-81f3-858ec7a32c99"
      },
      "outputs": [
        {
          "output_type": "stream",
          "name": "stdout",
          "text": [
            "Coeficiente de correlación de Pearson:  0.21536526922619587\n",
            "P-value:  0.03140555993145521\n"
          ]
        }
      ],
      "source": [
        "from scipy.stats import pearsonr\n",
        "corr_test = pearsonr(x = df_data['Nivel Educativo'], y =  df_data['total_ingresos'])\n",
        "print(\"Coeficiente de correlación de Pearson: \", corr_test[0])#primer valor\n",
        "print(\"P-value: \", corr_test[1])#segundo valor"
      ]
    },
    {
      "cell_type": "code",
      "source": [
        "from scipy.stats import pearsonr\n",
        "corr_test = pearsonr(x = df_data['Bienes'], y =  df_data['total_ingresos'])\n",
        "print(\"Coeficiente de correlación de Pearson: \", str(round(corr_test[0],4)*100) + '%')\n",
        "print(\"P-value: \", corr_test[1])"
      ],
      "metadata": {
        "colab": {
          "base_uri": "https://localhost:8080/"
        },
        "id": "kODZmdHzwlAC",
        "outputId": "a8ee5f23-3b4b-4fda-e684-5c84fca26792"
      },
      "id": "kODZmdHzwlAC",
      "execution_count": 18,
      "outputs": [
        {
          "output_type": "stream",
          "name": "stdout",
          "text": [
            "Coeficiente de correlación de Pearson:  -0.09%\n",
            "P-value:  0.9931424157433435\n"
          ]
        }
      ]
    },
    {
      "cell_type": "markdown",
      "id": "e72a22f9",
      "metadata": {
        "id": "e72a22f9"
      },
      "source": [
        "## Estimación del modelo"
      ]
    },
    {
      "cell_type": "markdown",
      "id": "87cd14bc",
      "metadata": {
        "id": "87cd14bc"
      },
      "source": [
        "Selección de variables independientes"
      ]
    },
    {
      "cell_type": "code",
      "execution_count": 19,
      "id": "aa794b3f",
      "metadata": {
        "id": "aa794b3f",
        "colab": {
          "base_uri": "https://localhost:8080/",
          "height": 143
        },
        "outputId": "76f35188-fc94-480e-b6e7-db4d3e776c3b"
      },
      "outputs": [
        {
          "output_type": "execute_result",
          "data": {
            "text/plain": [
              "       Nivel Educativo\n",
              "21579             10.0\n",
              "51251             12.0\n",
              "8689               5.0"
            ],
            "text/html": [
              "\n",
              "  <div id=\"df-1a9df816-79bd-4210-bb33-37507c680a24\">\n",
              "    <div class=\"colab-df-container\">\n",
              "      <div>\n",
              "<style scoped>\n",
              "    .dataframe tbody tr th:only-of-type {\n",
              "        vertical-align: middle;\n",
              "    }\n",
              "\n",
              "    .dataframe tbody tr th {\n",
              "        vertical-align: top;\n",
              "    }\n",
              "\n",
              "    .dataframe thead th {\n",
              "        text-align: right;\n",
              "    }\n",
              "</style>\n",
              "<table border=\"1\" class=\"dataframe\">\n",
              "  <thead>\n",
              "    <tr style=\"text-align: right;\">\n",
              "      <th></th>\n",
              "      <th>Nivel Educativo</th>\n",
              "    </tr>\n",
              "  </thead>\n",
              "  <tbody>\n",
              "    <tr>\n",
              "      <th>21579</th>\n",
              "      <td>10.0</td>\n",
              "    </tr>\n",
              "    <tr>\n",
              "      <th>51251</th>\n",
              "      <td>12.0</td>\n",
              "    </tr>\n",
              "    <tr>\n",
              "      <th>8689</th>\n",
              "      <td>5.0</td>\n",
              "    </tr>\n",
              "  </tbody>\n",
              "</table>\n",
              "</div>\n",
              "      <button class=\"colab-df-convert\" onclick=\"convertToInteractive('df-1a9df816-79bd-4210-bb33-37507c680a24')\"\n",
              "              title=\"Convert this dataframe to an interactive table.\"\n",
              "              style=\"display:none;\">\n",
              "        \n",
              "  <svg xmlns=\"http://www.w3.org/2000/svg\" height=\"24px\"viewBox=\"0 0 24 24\"\n",
              "       width=\"24px\">\n",
              "    <path d=\"M0 0h24v24H0V0z\" fill=\"none\"/>\n",
              "    <path d=\"M18.56 5.44l.94 2.06.94-2.06 2.06-.94-2.06-.94-.94-2.06-.94 2.06-2.06.94zm-11 1L8.5 8.5l.94-2.06 2.06-.94-2.06-.94L8.5 2.5l-.94 2.06-2.06.94zm10 10l.94 2.06.94-2.06 2.06-.94-2.06-.94-.94-2.06-.94 2.06-2.06.94z\"/><path d=\"M17.41 7.96l-1.37-1.37c-.4-.4-.92-.59-1.43-.59-.52 0-1.04.2-1.43.59L10.3 9.45l-7.72 7.72c-.78.78-.78 2.05 0 2.83L4 21.41c.39.39.9.59 1.41.59.51 0 1.02-.2 1.41-.59l7.78-7.78 2.81-2.81c.8-.78.8-2.07 0-2.86zM5.41 20L4 18.59l7.72-7.72 1.47 1.35L5.41 20z\"/>\n",
              "  </svg>\n",
              "      </button>\n",
              "      \n",
              "  <style>\n",
              "    .colab-df-container {\n",
              "      display:flex;\n",
              "      flex-wrap:wrap;\n",
              "      gap: 12px;\n",
              "    }\n",
              "\n",
              "    .colab-df-convert {\n",
              "      background-color: #E8F0FE;\n",
              "      border: none;\n",
              "      border-radius: 50%;\n",
              "      cursor: pointer;\n",
              "      display: none;\n",
              "      fill: #1967D2;\n",
              "      height: 32px;\n",
              "      padding: 0 0 0 0;\n",
              "      width: 32px;\n",
              "    }\n",
              "\n",
              "    .colab-df-convert:hover {\n",
              "      background-color: #E2EBFA;\n",
              "      box-shadow: 0px 1px 2px rgba(60, 64, 67, 0.3), 0px 1px 3px 1px rgba(60, 64, 67, 0.15);\n",
              "      fill: #174EA6;\n",
              "    }\n",
              "\n",
              "    [theme=dark] .colab-df-convert {\n",
              "      background-color: #3B4455;\n",
              "      fill: #D2E3FC;\n",
              "    }\n",
              "\n",
              "    [theme=dark] .colab-df-convert:hover {\n",
              "      background-color: #434B5C;\n",
              "      box-shadow: 0px 1px 3px 1px rgba(0, 0, 0, 0.15);\n",
              "      filter: drop-shadow(0px 1px 2px rgba(0, 0, 0, 0.3));\n",
              "      fill: #FFFFFF;\n",
              "    }\n",
              "  </style>\n",
              "\n",
              "      <script>\n",
              "        const buttonEl =\n",
              "          document.querySelector('#df-1a9df816-79bd-4210-bb33-37507c680a24 button.colab-df-convert');\n",
              "        buttonEl.style.display =\n",
              "          google.colab.kernel.accessAllowed ? 'block' : 'none';\n",
              "\n",
              "        async function convertToInteractive(key) {\n",
              "          const element = document.querySelector('#df-1a9df816-79bd-4210-bb33-37507c680a24');\n",
              "          const dataTable =\n",
              "            await google.colab.kernel.invokeFunction('convertToInteractive',\n",
              "                                                     [key], {});\n",
              "          if (!dataTable) return;\n",
              "\n",
              "          const docLinkHtml = 'Like what you see? Visit the ' +\n",
              "            '<a target=\"_blank\" href=https://colab.research.google.com/notebooks/data_table.ipynb>data table notebook</a>'\n",
              "            + ' to learn more about interactive tables.';\n",
              "          element.innerHTML = '';\n",
              "          dataTable['output_type'] = 'display_data';\n",
              "          await google.colab.output.renderOutput(dataTable, element);\n",
              "          const docLink = document.createElement('div');\n",
              "          docLink.innerHTML = docLinkHtml;\n",
              "          element.appendChild(docLink);\n",
              "        }\n",
              "      </script>\n",
              "    </div>\n",
              "  </div>\n",
              "  "
            ]
          },
          "metadata": {},
          "execution_count": 19
        }
      ],
      "source": [
        "inde=['Nivel Educativo']\n",
        "X=df_data[inde]\n",
        "X.head(3)"
      ]
    },
    {
      "cell_type": "markdown",
      "source": [
        "Agregar la constante al conjunto de variables independientes"
      ],
      "metadata": {
        "id": "L1nr2wAlUfNy"
      },
      "id": "L1nr2wAlUfNy"
    },
    {
      "cell_type": "code",
      "source": [
        "X = sm.add_constant(X)\n",
        "X.head()"
      ],
      "metadata": {
        "colab": {
          "base_uri": "https://localhost:8080/",
          "height": 243
        },
        "id": "QpgOvkr4Uqnk",
        "outputId": "5a2e1095-2ac2-40cf-caa3-9628bd37bb42"
      },
      "id": "QpgOvkr4Uqnk",
      "execution_count": 20,
      "outputs": [
        {
          "output_type": "stream",
          "name": "stderr",
          "text": [
            "/usr/local/lib/python3.7/dist-packages/statsmodels/tsa/tsatools.py:142: FutureWarning: In a future version of pandas all arguments of concat except for the argument 'objs' will be keyword-only\n",
            "  x = pd.concat(x[::order], 1)\n"
          ]
        },
        {
          "output_type": "execute_result",
          "data": {
            "text/plain": [
              "       const  Nivel Educativo\n",
              "21579    1.0        10.000000\n",
              "51251    1.0        12.000000\n",
              "8689     1.0         5.000000\n",
              "17335    1.0         9.666667\n",
              "32823    1.0         4.000000"
            ],
            "text/html": [
              "\n",
              "  <div id=\"df-f53b8d22-cc76-4e88-a13c-e745e440784c\">\n",
              "    <div class=\"colab-df-container\">\n",
              "      <div>\n",
              "<style scoped>\n",
              "    .dataframe tbody tr th:only-of-type {\n",
              "        vertical-align: middle;\n",
              "    }\n",
              "\n",
              "    .dataframe tbody tr th {\n",
              "        vertical-align: top;\n",
              "    }\n",
              "\n",
              "    .dataframe thead th {\n",
              "        text-align: right;\n",
              "    }\n",
              "</style>\n",
              "<table border=\"1\" class=\"dataframe\">\n",
              "  <thead>\n",
              "    <tr style=\"text-align: right;\">\n",
              "      <th></th>\n",
              "      <th>const</th>\n",
              "      <th>Nivel Educativo</th>\n",
              "    </tr>\n",
              "  </thead>\n",
              "  <tbody>\n",
              "    <tr>\n",
              "      <th>21579</th>\n",
              "      <td>1.0</td>\n",
              "      <td>10.000000</td>\n",
              "    </tr>\n",
              "    <tr>\n",
              "      <th>51251</th>\n",
              "      <td>1.0</td>\n",
              "      <td>12.000000</td>\n",
              "    </tr>\n",
              "    <tr>\n",
              "      <th>8689</th>\n",
              "      <td>1.0</td>\n",
              "      <td>5.000000</td>\n",
              "    </tr>\n",
              "    <tr>\n",
              "      <th>17335</th>\n",
              "      <td>1.0</td>\n",
              "      <td>9.666667</td>\n",
              "    </tr>\n",
              "    <tr>\n",
              "      <th>32823</th>\n",
              "      <td>1.0</td>\n",
              "      <td>4.000000</td>\n",
              "    </tr>\n",
              "  </tbody>\n",
              "</table>\n",
              "</div>\n",
              "      <button class=\"colab-df-convert\" onclick=\"convertToInteractive('df-f53b8d22-cc76-4e88-a13c-e745e440784c')\"\n",
              "              title=\"Convert this dataframe to an interactive table.\"\n",
              "              style=\"display:none;\">\n",
              "        \n",
              "  <svg xmlns=\"http://www.w3.org/2000/svg\" height=\"24px\"viewBox=\"0 0 24 24\"\n",
              "       width=\"24px\">\n",
              "    <path d=\"M0 0h24v24H0V0z\" fill=\"none\"/>\n",
              "    <path d=\"M18.56 5.44l.94 2.06.94-2.06 2.06-.94-2.06-.94-.94-2.06-.94 2.06-2.06.94zm-11 1L8.5 8.5l.94-2.06 2.06-.94-2.06-.94L8.5 2.5l-.94 2.06-2.06.94zm10 10l.94 2.06.94-2.06 2.06-.94-2.06-.94-.94-2.06-.94 2.06-2.06.94z\"/><path d=\"M17.41 7.96l-1.37-1.37c-.4-.4-.92-.59-1.43-.59-.52 0-1.04.2-1.43.59L10.3 9.45l-7.72 7.72c-.78.78-.78 2.05 0 2.83L4 21.41c.39.39.9.59 1.41.59.51 0 1.02-.2 1.41-.59l7.78-7.78 2.81-2.81c.8-.78.8-2.07 0-2.86zM5.41 20L4 18.59l7.72-7.72 1.47 1.35L5.41 20z\"/>\n",
              "  </svg>\n",
              "      </button>\n",
              "      \n",
              "  <style>\n",
              "    .colab-df-container {\n",
              "      display:flex;\n",
              "      flex-wrap:wrap;\n",
              "      gap: 12px;\n",
              "    }\n",
              "\n",
              "    .colab-df-convert {\n",
              "      background-color: #E8F0FE;\n",
              "      border: none;\n",
              "      border-radius: 50%;\n",
              "      cursor: pointer;\n",
              "      display: none;\n",
              "      fill: #1967D2;\n",
              "      height: 32px;\n",
              "      padding: 0 0 0 0;\n",
              "      width: 32px;\n",
              "    }\n",
              "\n",
              "    .colab-df-convert:hover {\n",
              "      background-color: #E2EBFA;\n",
              "      box-shadow: 0px 1px 2px rgba(60, 64, 67, 0.3), 0px 1px 3px 1px rgba(60, 64, 67, 0.15);\n",
              "      fill: #174EA6;\n",
              "    }\n",
              "\n",
              "    [theme=dark] .colab-df-convert {\n",
              "      background-color: #3B4455;\n",
              "      fill: #D2E3FC;\n",
              "    }\n",
              "\n",
              "    [theme=dark] .colab-df-convert:hover {\n",
              "      background-color: #434B5C;\n",
              "      box-shadow: 0px 1px 3px 1px rgba(0, 0, 0, 0.15);\n",
              "      filter: drop-shadow(0px 1px 2px rgba(0, 0, 0, 0.3));\n",
              "      fill: #FFFFFF;\n",
              "    }\n",
              "  </style>\n",
              "\n",
              "      <script>\n",
              "        const buttonEl =\n",
              "          document.querySelector('#df-f53b8d22-cc76-4e88-a13c-e745e440784c button.colab-df-convert');\n",
              "        buttonEl.style.display =\n",
              "          google.colab.kernel.accessAllowed ? 'block' : 'none';\n",
              "\n",
              "        async function convertToInteractive(key) {\n",
              "          const element = document.querySelector('#df-f53b8d22-cc76-4e88-a13c-e745e440784c');\n",
              "          const dataTable =\n",
              "            await google.colab.kernel.invokeFunction('convertToInteractive',\n",
              "                                                     [key], {});\n",
              "          if (!dataTable) return;\n",
              "\n",
              "          const docLinkHtml = 'Like what you see? Visit the ' +\n",
              "            '<a target=\"_blank\" href=https://colab.research.google.com/notebooks/data_table.ipynb>data table notebook</a>'\n",
              "            + ' to learn more about interactive tables.';\n",
              "          element.innerHTML = '';\n",
              "          dataTable['output_type'] = 'display_data';\n",
              "          await google.colab.output.renderOutput(dataTable, element);\n",
              "          const docLink = document.createElement('div');\n",
              "          docLink.innerHTML = docLinkHtml;\n",
              "          element.appendChild(docLink);\n",
              "        }\n",
              "      </script>\n",
              "    </div>\n",
              "  </div>\n",
              "  "
            ]
          },
          "metadata": {},
          "execution_count": 20
        }
      ]
    },
    {
      "cell_type": "markdown",
      "id": "ede7dbc4",
      "metadata": {
        "id": "ede7dbc4"
      },
      "source": [
        "Selección de variable dependiente"
      ]
    },
    {
      "cell_type": "code",
      "execution_count": 21,
      "id": "189e9b7a",
      "metadata": {
        "id": "189e9b7a",
        "colab": {
          "base_uri": "https://localhost:8080/"
        },
        "outputId": "a4ed5fb4-1556-48b0-f13d-9dd869043efc"
      },
      "outputs": [
        {
          "output_type": "execute_result",
          "data": {
            "text/plain": [
              "21579    369727.000000\n",
              "51251    793595.916667\n",
              "8689     225000.000000\n",
              "Name: total_ingresos, dtype: float64"
            ]
          },
          "metadata": {},
          "execution_count": 21
        }
      ],
      "source": [
        "y=df_data['total_ingresos']\n",
        "y.head(3)"
      ]
    },
    {
      "cell_type": "markdown",
      "id": "016e2ad4",
      "metadata": {
        "id": "016e2ad4"
      },
      "source": [
        "Separación de registros de entrenamiento y prueba"
      ]
    },
    {
      "cell_type": "code",
      "execution_count": 22,
      "id": "324326a8",
      "metadata": {
        "id": "324326a8"
      },
      "outputs": [],
      "source": [
        "from sklearn.model_selection import train_test_split\n",
        "X_train, X_test, y_train, y_test = train_test_split(X, y, test_size = 0.3)"
      ]
    },
    {
      "cell_type": "code",
      "source": [
        "display(X_train.head(2))\n",
        "display(y_train.head(2))\n",
        "display(X_test.head(2))\n",
        "display(y_test.head(2))"
      ],
      "metadata": {
        "colab": {
          "base_uri": "https://localhost:8080/",
          "height": 318
        },
        "id": "ySWfNAyfbJvO",
        "outputId": "c6454e7d-6380-4819-9d32-197788d26d3a"
      },
      "id": "ySWfNAyfbJvO",
      "execution_count": 23,
      "outputs": [
        {
          "output_type": "display_data",
          "data": {
            "text/plain": [
              "       const  Nivel Educativo\n",
              "29429    1.0              5.5\n",
              "389      1.0              2.0"
            ],
            "text/html": [
              "\n",
              "  <div id=\"df-68a518ea-442c-4683-b51c-fca0aac682d8\">\n",
              "    <div class=\"colab-df-container\">\n",
              "      <div>\n",
              "<style scoped>\n",
              "    .dataframe tbody tr th:only-of-type {\n",
              "        vertical-align: middle;\n",
              "    }\n",
              "\n",
              "    .dataframe tbody tr th {\n",
              "        vertical-align: top;\n",
              "    }\n",
              "\n",
              "    .dataframe thead th {\n",
              "        text-align: right;\n",
              "    }\n",
              "</style>\n",
              "<table border=\"1\" class=\"dataframe\">\n",
              "  <thead>\n",
              "    <tr style=\"text-align: right;\">\n",
              "      <th></th>\n",
              "      <th>const</th>\n",
              "      <th>Nivel Educativo</th>\n",
              "    </tr>\n",
              "  </thead>\n",
              "  <tbody>\n",
              "    <tr>\n",
              "      <th>29429</th>\n",
              "      <td>1.0</td>\n",
              "      <td>5.5</td>\n",
              "    </tr>\n",
              "    <tr>\n",
              "      <th>389</th>\n",
              "      <td>1.0</td>\n",
              "      <td>2.0</td>\n",
              "    </tr>\n",
              "  </tbody>\n",
              "</table>\n",
              "</div>\n",
              "      <button class=\"colab-df-convert\" onclick=\"convertToInteractive('df-68a518ea-442c-4683-b51c-fca0aac682d8')\"\n",
              "              title=\"Convert this dataframe to an interactive table.\"\n",
              "              style=\"display:none;\">\n",
              "        \n",
              "  <svg xmlns=\"http://www.w3.org/2000/svg\" height=\"24px\"viewBox=\"0 0 24 24\"\n",
              "       width=\"24px\">\n",
              "    <path d=\"M0 0h24v24H0V0z\" fill=\"none\"/>\n",
              "    <path d=\"M18.56 5.44l.94 2.06.94-2.06 2.06-.94-2.06-.94-.94-2.06-.94 2.06-2.06.94zm-11 1L8.5 8.5l.94-2.06 2.06-.94-2.06-.94L8.5 2.5l-.94 2.06-2.06.94zm10 10l.94 2.06.94-2.06 2.06-.94-2.06-.94-.94-2.06-.94 2.06-2.06.94z\"/><path d=\"M17.41 7.96l-1.37-1.37c-.4-.4-.92-.59-1.43-.59-.52 0-1.04.2-1.43.59L10.3 9.45l-7.72 7.72c-.78.78-.78 2.05 0 2.83L4 21.41c.39.39.9.59 1.41.59.51 0 1.02-.2 1.41-.59l7.78-7.78 2.81-2.81c.8-.78.8-2.07 0-2.86zM5.41 20L4 18.59l7.72-7.72 1.47 1.35L5.41 20z\"/>\n",
              "  </svg>\n",
              "      </button>\n",
              "      \n",
              "  <style>\n",
              "    .colab-df-container {\n",
              "      display:flex;\n",
              "      flex-wrap:wrap;\n",
              "      gap: 12px;\n",
              "    }\n",
              "\n",
              "    .colab-df-convert {\n",
              "      background-color: #E8F0FE;\n",
              "      border: none;\n",
              "      border-radius: 50%;\n",
              "      cursor: pointer;\n",
              "      display: none;\n",
              "      fill: #1967D2;\n",
              "      height: 32px;\n",
              "      padding: 0 0 0 0;\n",
              "      width: 32px;\n",
              "    }\n",
              "\n",
              "    .colab-df-convert:hover {\n",
              "      background-color: #E2EBFA;\n",
              "      box-shadow: 0px 1px 2px rgba(60, 64, 67, 0.3), 0px 1px 3px 1px rgba(60, 64, 67, 0.15);\n",
              "      fill: #174EA6;\n",
              "    }\n",
              "\n",
              "    [theme=dark] .colab-df-convert {\n",
              "      background-color: #3B4455;\n",
              "      fill: #D2E3FC;\n",
              "    }\n",
              "\n",
              "    [theme=dark] .colab-df-convert:hover {\n",
              "      background-color: #434B5C;\n",
              "      box-shadow: 0px 1px 3px 1px rgba(0, 0, 0, 0.15);\n",
              "      filter: drop-shadow(0px 1px 2px rgba(0, 0, 0, 0.3));\n",
              "      fill: #FFFFFF;\n",
              "    }\n",
              "  </style>\n",
              "\n",
              "      <script>\n",
              "        const buttonEl =\n",
              "          document.querySelector('#df-68a518ea-442c-4683-b51c-fca0aac682d8 button.colab-df-convert');\n",
              "        buttonEl.style.display =\n",
              "          google.colab.kernel.accessAllowed ? 'block' : 'none';\n",
              "\n",
              "        async function convertToInteractive(key) {\n",
              "          const element = document.querySelector('#df-68a518ea-442c-4683-b51c-fca0aac682d8');\n",
              "          const dataTable =\n",
              "            await google.colab.kernel.invokeFunction('convertToInteractive',\n",
              "                                                     [key], {});\n",
              "          if (!dataTable) return;\n",
              "\n",
              "          const docLinkHtml = 'Like what you see? Visit the ' +\n",
              "            '<a target=\"_blank\" href=https://colab.research.google.com/notebooks/data_table.ipynb>data table notebook</a>'\n",
              "            + ' to learn more about interactive tables.';\n",
              "          element.innerHTML = '';\n",
              "          dataTable['output_type'] = 'display_data';\n",
              "          await google.colab.output.renderOutput(dataTable, element);\n",
              "          const docLink = document.createElement('div');\n",
              "          docLink.innerHTML = docLinkHtml;\n",
              "          element.appendChild(docLink);\n",
              "        }\n",
              "      </script>\n",
              "    </div>\n",
              "  </div>\n",
              "  "
            ]
          },
          "metadata": {}
        },
        {
          "output_type": "display_data",
          "data": {
            "text/plain": [
              "29429    500000.0\n",
              "389      412500.0\n",
              "Name: total_ingresos, dtype: float64"
            ]
          },
          "metadata": {}
        },
        {
          "output_type": "display_data",
          "data": {
            "text/plain": [
              "       const  Nivel Educativo\n",
              "16261    1.0              8.0\n",
              "51251    1.0             12.0"
            ],
            "text/html": [
              "\n",
              "  <div id=\"df-81803c35-0e8b-4c83-82e4-06eae3f14ba1\">\n",
              "    <div class=\"colab-df-container\">\n",
              "      <div>\n",
              "<style scoped>\n",
              "    .dataframe tbody tr th:only-of-type {\n",
              "        vertical-align: middle;\n",
              "    }\n",
              "\n",
              "    .dataframe tbody tr th {\n",
              "        vertical-align: top;\n",
              "    }\n",
              "\n",
              "    .dataframe thead th {\n",
              "        text-align: right;\n",
              "    }\n",
              "</style>\n",
              "<table border=\"1\" class=\"dataframe\">\n",
              "  <thead>\n",
              "    <tr style=\"text-align: right;\">\n",
              "      <th></th>\n",
              "      <th>const</th>\n",
              "      <th>Nivel Educativo</th>\n",
              "    </tr>\n",
              "  </thead>\n",
              "  <tbody>\n",
              "    <tr>\n",
              "      <th>16261</th>\n",
              "      <td>1.0</td>\n",
              "      <td>8.0</td>\n",
              "    </tr>\n",
              "    <tr>\n",
              "      <th>51251</th>\n",
              "      <td>1.0</td>\n",
              "      <td>12.0</td>\n",
              "    </tr>\n",
              "  </tbody>\n",
              "</table>\n",
              "</div>\n",
              "      <button class=\"colab-df-convert\" onclick=\"convertToInteractive('df-81803c35-0e8b-4c83-82e4-06eae3f14ba1')\"\n",
              "              title=\"Convert this dataframe to an interactive table.\"\n",
              "              style=\"display:none;\">\n",
              "        \n",
              "  <svg xmlns=\"http://www.w3.org/2000/svg\" height=\"24px\"viewBox=\"0 0 24 24\"\n",
              "       width=\"24px\">\n",
              "    <path d=\"M0 0h24v24H0V0z\" fill=\"none\"/>\n",
              "    <path d=\"M18.56 5.44l.94 2.06.94-2.06 2.06-.94-2.06-.94-.94-2.06-.94 2.06-2.06.94zm-11 1L8.5 8.5l.94-2.06 2.06-.94-2.06-.94L8.5 2.5l-.94 2.06-2.06.94zm10 10l.94 2.06.94-2.06 2.06-.94-2.06-.94-.94-2.06-.94 2.06-2.06.94z\"/><path d=\"M17.41 7.96l-1.37-1.37c-.4-.4-.92-.59-1.43-.59-.52 0-1.04.2-1.43.59L10.3 9.45l-7.72 7.72c-.78.78-.78 2.05 0 2.83L4 21.41c.39.39.9.59 1.41.59.51 0 1.02-.2 1.41-.59l7.78-7.78 2.81-2.81c.8-.78.8-2.07 0-2.86zM5.41 20L4 18.59l7.72-7.72 1.47 1.35L5.41 20z\"/>\n",
              "  </svg>\n",
              "      </button>\n",
              "      \n",
              "  <style>\n",
              "    .colab-df-container {\n",
              "      display:flex;\n",
              "      flex-wrap:wrap;\n",
              "      gap: 12px;\n",
              "    }\n",
              "\n",
              "    .colab-df-convert {\n",
              "      background-color: #E8F0FE;\n",
              "      border: none;\n",
              "      border-radius: 50%;\n",
              "      cursor: pointer;\n",
              "      display: none;\n",
              "      fill: #1967D2;\n",
              "      height: 32px;\n",
              "      padding: 0 0 0 0;\n",
              "      width: 32px;\n",
              "    }\n",
              "\n",
              "    .colab-df-convert:hover {\n",
              "      background-color: #E2EBFA;\n",
              "      box-shadow: 0px 1px 2px rgba(60, 64, 67, 0.3), 0px 1px 3px 1px rgba(60, 64, 67, 0.15);\n",
              "      fill: #174EA6;\n",
              "    }\n",
              "\n",
              "    [theme=dark] .colab-df-convert {\n",
              "      background-color: #3B4455;\n",
              "      fill: #D2E3FC;\n",
              "    }\n",
              "\n",
              "    [theme=dark] .colab-df-convert:hover {\n",
              "      background-color: #434B5C;\n",
              "      box-shadow: 0px 1px 3px 1px rgba(0, 0, 0, 0.15);\n",
              "      filter: drop-shadow(0px 1px 2px rgba(0, 0, 0, 0.3));\n",
              "      fill: #FFFFFF;\n",
              "    }\n",
              "  </style>\n",
              "\n",
              "      <script>\n",
              "        const buttonEl =\n",
              "          document.querySelector('#df-81803c35-0e8b-4c83-82e4-06eae3f14ba1 button.colab-df-convert');\n",
              "        buttonEl.style.display =\n",
              "          google.colab.kernel.accessAllowed ? 'block' : 'none';\n",
              "\n",
              "        async function convertToInteractive(key) {\n",
              "          const element = document.querySelector('#df-81803c35-0e8b-4c83-82e4-06eae3f14ba1');\n",
              "          const dataTable =\n",
              "            await google.colab.kernel.invokeFunction('convertToInteractive',\n",
              "                                                     [key], {});\n",
              "          if (!dataTable) return;\n",
              "\n",
              "          const docLinkHtml = 'Like what you see? Visit the ' +\n",
              "            '<a target=\"_blank\" href=https://colab.research.google.com/notebooks/data_table.ipynb>data table notebook</a>'\n",
              "            + ' to learn more about interactive tables.';\n",
              "          element.innerHTML = '';\n",
              "          dataTable['output_type'] = 'display_data';\n",
              "          await google.colab.output.renderOutput(dataTable, element);\n",
              "          const docLink = document.createElement('div');\n",
              "          docLink.innerHTML = docLinkHtml;\n",
              "          element.appendChild(docLink);\n",
              "        }\n",
              "      </script>\n",
              "    </div>\n",
              "  </div>\n",
              "  "
            ]
          },
          "metadata": {}
        },
        {
          "output_type": "display_data",
          "data": {
            "text/plain": [
              "16261    440436.375000\n",
              "51251    793595.916667\n",
              "Name: total_ingresos, dtype: float64"
            ]
          },
          "metadata": {}
        }
      ]
    },
    {
      "cell_type": "code",
      "source": [
        "display(X_train.head(2))\n",
        "display(X_test.head(2))"
      ],
      "metadata": {
        "colab": {
          "base_uri": "https://localhost:8080/",
          "height": 207
        },
        "id": "QRbK6BGGbvDM",
        "outputId": "f975403e-6873-4289-ee2e-e99b8fa338ce"
      },
      "id": "QRbK6BGGbvDM",
      "execution_count": 24,
      "outputs": [
        {
          "output_type": "display_data",
          "data": {
            "text/plain": [
              "       const  Nivel Educativo\n",
              "29429    1.0              5.5\n",
              "389      1.0              2.0"
            ],
            "text/html": [
              "\n",
              "  <div id=\"df-00be8ab6-e1f0-4100-bf03-daed59112a53\">\n",
              "    <div class=\"colab-df-container\">\n",
              "      <div>\n",
              "<style scoped>\n",
              "    .dataframe tbody tr th:only-of-type {\n",
              "        vertical-align: middle;\n",
              "    }\n",
              "\n",
              "    .dataframe tbody tr th {\n",
              "        vertical-align: top;\n",
              "    }\n",
              "\n",
              "    .dataframe thead th {\n",
              "        text-align: right;\n",
              "    }\n",
              "</style>\n",
              "<table border=\"1\" class=\"dataframe\">\n",
              "  <thead>\n",
              "    <tr style=\"text-align: right;\">\n",
              "      <th></th>\n",
              "      <th>const</th>\n",
              "      <th>Nivel Educativo</th>\n",
              "    </tr>\n",
              "  </thead>\n",
              "  <tbody>\n",
              "    <tr>\n",
              "      <th>29429</th>\n",
              "      <td>1.0</td>\n",
              "      <td>5.5</td>\n",
              "    </tr>\n",
              "    <tr>\n",
              "      <th>389</th>\n",
              "      <td>1.0</td>\n",
              "      <td>2.0</td>\n",
              "    </tr>\n",
              "  </tbody>\n",
              "</table>\n",
              "</div>\n",
              "      <button class=\"colab-df-convert\" onclick=\"convertToInteractive('df-00be8ab6-e1f0-4100-bf03-daed59112a53')\"\n",
              "              title=\"Convert this dataframe to an interactive table.\"\n",
              "              style=\"display:none;\">\n",
              "        \n",
              "  <svg xmlns=\"http://www.w3.org/2000/svg\" height=\"24px\"viewBox=\"0 0 24 24\"\n",
              "       width=\"24px\">\n",
              "    <path d=\"M0 0h24v24H0V0z\" fill=\"none\"/>\n",
              "    <path d=\"M18.56 5.44l.94 2.06.94-2.06 2.06-.94-2.06-.94-.94-2.06-.94 2.06-2.06.94zm-11 1L8.5 8.5l.94-2.06 2.06-.94-2.06-.94L8.5 2.5l-.94 2.06-2.06.94zm10 10l.94 2.06.94-2.06 2.06-.94-2.06-.94-.94-2.06-.94 2.06-2.06.94z\"/><path d=\"M17.41 7.96l-1.37-1.37c-.4-.4-.92-.59-1.43-.59-.52 0-1.04.2-1.43.59L10.3 9.45l-7.72 7.72c-.78.78-.78 2.05 0 2.83L4 21.41c.39.39.9.59 1.41.59.51 0 1.02-.2 1.41-.59l7.78-7.78 2.81-2.81c.8-.78.8-2.07 0-2.86zM5.41 20L4 18.59l7.72-7.72 1.47 1.35L5.41 20z\"/>\n",
              "  </svg>\n",
              "      </button>\n",
              "      \n",
              "  <style>\n",
              "    .colab-df-container {\n",
              "      display:flex;\n",
              "      flex-wrap:wrap;\n",
              "      gap: 12px;\n",
              "    }\n",
              "\n",
              "    .colab-df-convert {\n",
              "      background-color: #E8F0FE;\n",
              "      border: none;\n",
              "      border-radius: 50%;\n",
              "      cursor: pointer;\n",
              "      display: none;\n",
              "      fill: #1967D2;\n",
              "      height: 32px;\n",
              "      padding: 0 0 0 0;\n",
              "      width: 32px;\n",
              "    }\n",
              "\n",
              "    .colab-df-convert:hover {\n",
              "      background-color: #E2EBFA;\n",
              "      box-shadow: 0px 1px 2px rgba(60, 64, 67, 0.3), 0px 1px 3px 1px rgba(60, 64, 67, 0.15);\n",
              "      fill: #174EA6;\n",
              "    }\n",
              "\n",
              "    [theme=dark] .colab-df-convert {\n",
              "      background-color: #3B4455;\n",
              "      fill: #D2E3FC;\n",
              "    }\n",
              "\n",
              "    [theme=dark] .colab-df-convert:hover {\n",
              "      background-color: #434B5C;\n",
              "      box-shadow: 0px 1px 3px 1px rgba(0, 0, 0, 0.15);\n",
              "      filter: drop-shadow(0px 1px 2px rgba(0, 0, 0, 0.3));\n",
              "      fill: #FFFFFF;\n",
              "    }\n",
              "  </style>\n",
              "\n",
              "      <script>\n",
              "        const buttonEl =\n",
              "          document.querySelector('#df-00be8ab6-e1f0-4100-bf03-daed59112a53 button.colab-df-convert');\n",
              "        buttonEl.style.display =\n",
              "          google.colab.kernel.accessAllowed ? 'block' : 'none';\n",
              "\n",
              "        async function convertToInteractive(key) {\n",
              "          const element = document.querySelector('#df-00be8ab6-e1f0-4100-bf03-daed59112a53');\n",
              "          const dataTable =\n",
              "            await google.colab.kernel.invokeFunction('convertToInteractive',\n",
              "                                                     [key], {});\n",
              "          if (!dataTable) return;\n",
              "\n",
              "          const docLinkHtml = 'Like what you see? Visit the ' +\n",
              "            '<a target=\"_blank\" href=https://colab.research.google.com/notebooks/data_table.ipynb>data table notebook</a>'\n",
              "            + ' to learn more about interactive tables.';\n",
              "          element.innerHTML = '';\n",
              "          dataTable['output_type'] = 'display_data';\n",
              "          await google.colab.output.renderOutput(dataTable, element);\n",
              "          const docLink = document.createElement('div');\n",
              "          docLink.innerHTML = docLinkHtml;\n",
              "          element.appendChild(docLink);\n",
              "        }\n",
              "      </script>\n",
              "    </div>\n",
              "  </div>\n",
              "  "
            ]
          },
          "metadata": {}
        },
        {
          "output_type": "display_data",
          "data": {
            "text/plain": [
              "       const  Nivel Educativo\n",
              "16261    1.0              8.0\n",
              "51251    1.0             12.0"
            ],
            "text/html": [
              "\n",
              "  <div id=\"df-df594ced-c681-431c-83a4-cb4fea7f707f\">\n",
              "    <div class=\"colab-df-container\">\n",
              "      <div>\n",
              "<style scoped>\n",
              "    .dataframe tbody tr th:only-of-type {\n",
              "        vertical-align: middle;\n",
              "    }\n",
              "\n",
              "    .dataframe tbody tr th {\n",
              "        vertical-align: top;\n",
              "    }\n",
              "\n",
              "    .dataframe thead th {\n",
              "        text-align: right;\n",
              "    }\n",
              "</style>\n",
              "<table border=\"1\" class=\"dataframe\">\n",
              "  <thead>\n",
              "    <tr style=\"text-align: right;\">\n",
              "      <th></th>\n",
              "      <th>const</th>\n",
              "      <th>Nivel Educativo</th>\n",
              "    </tr>\n",
              "  </thead>\n",
              "  <tbody>\n",
              "    <tr>\n",
              "      <th>16261</th>\n",
              "      <td>1.0</td>\n",
              "      <td>8.0</td>\n",
              "    </tr>\n",
              "    <tr>\n",
              "      <th>51251</th>\n",
              "      <td>1.0</td>\n",
              "      <td>12.0</td>\n",
              "    </tr>\n",
              "  </tbody>\n",
              "</table>\n",
              "</div>\n",
              "      <button class=\"colab-df-convert\" onclick=\"convertToInteractive('df-df594ced-c681-431c-83a4-cb4fea7f707f')\"\n",
              "              title=\"Convert this dataframe to an interactive table.\"\n",
              "              style=\"display:none;\">\n",
              "        \n",
              "  <svg xmlns=\"http://www.w3.org/2000/svg\" height=\"24px\"viewBox=\"0 0 24 24\"\n",
              "       width=\"24px\">\n",
              "    <path d=\"M0 0h24v24H0V0z\" fill=\"none\"/>\n",
              "    <path d=\"M18.56 5.44l.94 2.06.94-2.06 2.06-.94-2.06-.94-.94-2.06-.94 2.06-2.06.94zm-11 1L8.5 8.5l.94-2.06 2.06-.94-2.06-.94L8.5 2.5l-.94 2.06-2.06.94zm10 10l.94 2.06.94-2.06 2.06-.94-2.06-.94-.94-2.06-.94 2.06-2.06.94z\"/><path d=\"M17.41 7.96l-1.37-1.37c-.4-.4-.92-.59-1.43-.59-.52 0-1.04.2-1.43.59L10.3 9.45l-7.72 7.72c-.78.78-.78 2.05 0 2.83L4 21.41c.39.39.9.59 1.41.59.51 0 1.02-.2 1.41-.59l7.78-7.78 2.81-2.81c.8-.78.8-2.07 0-2.86zM5.41 20L4 18.59l7.72-7.72 1.47 1.35L5.41 20z\"/>\n",
              "  </svg>\n",
              "      </button>\n",
              "      \n",
              "  <style>\n",
              "    .colab-df-container {\n",
              "      display:flex;\n",
              "      flex-wrap:wrap;\n",
              "      gap: 12px;\n",
              "    }\n",
              "\n",
              "    .colab-df-convert {\n",
              "      background-color: #E8F0FE;\n",
              "      border: none;\n",
              "      border-radius: 50%;\n",
              "      cursor: pointer;\n",
              "      display: none;\n",
              "      fill: #1967D2;\n",
              "      height: 32px;\n",
              "      padding: 0 0 0 0;\n",
              "      width: 32px;\n",
              "    }\n",
              "\n",
              "    .colab-df-convert:hover {\n",
              "      background-color: #E2EBFA;\n",
              "      box-shadow: 0px 1px 2px rgba(60, 64, 67, 0.3), 0px 1px 3px 1px rgba(60, 64, 67, 0.15);\n",
              "      fill: #174EA6;\n",
              "    }\n",
              "\n",
              "    [theme=dark] .colab-df-convert {\n",
              "      background-color: #3B4455;\n",
              "      fill: #D2E3FC;\n",
              "    }\n",
              "\n",
              "    [theme=dark] .colab-df-convert:hover {\n",
              "      background-color: #434B5C;\n",
              "      box-shadow: 0px 1px 3px 1px rgba(0, 0, 0, 0.15);\n",
              "      filter: drop-shadow(0px 1px 2px rgba(0, 0, 0, 0.3));\n",
              "      fill: #FFFFFF;\n",
              "    }\n",
              "  </style>\n",
              "\n",
              "      <script>\n",
              "        const buttonEl =\n",
              "          document.querySelector('#df-df594ced-c681-431c-83a4-cb4fea7f707f button.colab-df-convert');\n",
              "        buttonEl.style.display =\n",
              "          google.colab.kernel.accessAllowed ? 'block' : 'none';\n",
              "\n",
              "        async function convertToInteractive(key) {\n",
              "          const element = document.querySelector('#df-df594ced-c681-431c-83a4-cb4fea7f707f');\n",
              "          const dataTable =\n",
              "            await google.colab.kernel.invokeFunction('convertToInteractive',\n",
              "                                                     [key], {});\n",
              "          if (!dataTable) return;\n",
              "\n",
              "          const docLinkHtml = 'Like what you see? Visit the ' +\n",
              "            '<a target=\"_blank\" href=https://colab.research.google.com/notebooks/data_table.ipynb>data table notebook</a>'\n",
              "            + ' to learn more about interactive tables.';\n",
              "          element.innerHTML = '';\n",
              "          dataTable['output_type'] = 'display_data';\n",
              "          await google.colab.output.renderOutput(dataTable, element);\n",
              "          const docLink = document.createElement('div');\n",
              "          docLink.innerHTML = docLinkHtml;\n",
              "          element.appendChild(docLink);\n",
              "        }\n",
              "      </script>\n",
              "    </div>\n",
              "  </div>\n",
              "  "
            ]
          },
          "metadata": {}
        }
      ]
    },
    {
      "cell_type": "markdown",
      "source": [
        "Estimación del modelo"
      ],
      "metadata": {
        "id": "8u29ATLmU6R7"
      },
      "id": "8u29ATLmU6R7"
    },
    {
      "cell_type": "code",
      "execution_count": 25,
      "id": "c2b35a02",
      "metadata": {
        "id": "c2b35a02"
      },
      "outputs": [],
      "source": [
        "model = sm.OLS(y_train,X_train)\n",
        "results = model.fit()"
      ]
    },
    {
      "cell_type": "markdown",
      "source": [
        "Visualizacion de resultados"
      ],
      "metadata": {
        "id": "nt929bdQU_BA"
      },
      "id": "nt929bdQU_BA"
    },
    {
      "cell_type": "code",
      "execution_count": 26,
      "id": "54cce102",
      "metadata": {
        "id": "54cce102",
        "colab": {
          "base_uri": "https://localhost:8080/"
        },
        "outputId": "8d79a2bd-efbb-42fa-b3e0-b2875769ace3"
      },
      "outputs": [
        {
          "output_type": "stream",
          "name": "stdout",
          "text": [
            "                            OLS Regression Results                            \n",
            "==============================================================================\n",
            "Dep. Variable:         total_ingresos   R-squared:                       0.037\n",
            "Model:                            OLS   Adj. R-squared:                  0.023\n",
            "Method:                 Least Squares   F-statistic:                     2.628\n",
            "Date:                Fri, 02 Sep 2022   Prob (F-statistic):              0.110\n",
            "Time:                        01:24:41   Log-Likelihood:                -937.04\n",
            "No. Observations:                  70   AIC:                             1878.\n",
            "Df Residuals:                      68   BIC:                             1883.\n",
            "Df Model:                           1                                         \n",
            "Covariance Type:            nonrobust                                         \n",
            "===================================================================================\n",
            "                      coef    std err          t      P>|t|      [0.025      0.975]\n",
            "-----------------------------------------------------------------------------------\n",
            "const            3.755e+05   4.18e+04      8.978      0.000    2.92e+05    4.59e+05\n",
            "Nivel Educativo  8889.6178   5483.818      1.621      0.110   -2053.172    1.98e+04\n",
            "==============================================================================\n",
            "Omnibus:                        5.690   Durbin-Watson:                   1.806\n",
            "Prob(Omnibus):                  0.058   Jarque-Bera (JB):                5.267\n",
            "Skew:                           0.603   Prob(JB):                       0.0718\n",
            "Kurtosis:                       2.405   Cond. No.                         16.9\n",
            "==============================================================================\n",
            "\n",
            "Notes:\n",
            "[1] Standard Errors assume that the covariance matrix of the errors is correctly specified.\n"
          ]
        }
      ],
      "source": [
        "print(results.summary())"
      ]
    },
    {
      "cell_type": "markdown",
      "source": [
        "Parámetros del modelo"
      ],
      "metadata": {
        "id": "yztgzliLVMSE"
      },
      "id": "yztgzliLVMSE"
    },
    {
      "cell_type": "code",
      "source": [
        "results.params"
      ],
      "metadata": {
        "colab": {
          "base_uri": "https://localhost:8080/"
        },
        "id": "h41V2oORgz4U",
        "outputId": "56d2fbaa-84cc-41e8-dd7d-e98b01da4978"
      },
      "id": "h41V2oORgz4U",
      "execution_count": 27,
      "outputs": [
        {
          "output_type": "execute_result",
          "data": {
            "text/plain": [
              "const              375549.091954\n",
              "Nivel Educativo      8889.617752\n",
              "dtype: float64"
            ]
          },
          "metadata": {},
          "execution_count": 27
        }
      ]
    },
    {
      "cell_type": "code",
      "source": [
        "display(X_test.head(2))\n",
        "display(y_test.head(2))"
      ],
      "metadata": {
        "colab": {
          "base_uri": "https://localhost:8080/",
          "height": 167
        },
        "id": "EaVZJhPjePBy",
        "outputId": "3cdfb0ae-8c44-46a4-cfe7-13ab04b0877b"
      },
      "id": "EaVZJhPjePBy",
      "execution_count": 28,
      "outputs": [
        {
          "output_type": "display_data",
          "data": {
            "text/plain": [
              "       const  Nivel Educativo\n",
              "16261    1.0              8.0\n",
              "51251    1.0             12.0"
            ],
            "text/html": [
              "\n",
              "  <div id=\"df-adb33acd-d072-46fa-a2c8-82ebc4724236\">\n",
              "    <div class=\"colab-df-container\">\n",
              "      <div>\n",
              "<style scoped>\n",
              "    .dataframe tbody tr th:only-of-type {\n",
              "        vertical-align: middle;\n",
              "    }\n",
              "\n",
              "    .dataframe tbody tr th {\n",
              "        vertical-align: top;\n",
              "    }\n",
              "\n",
              "    .dataframe thead th {\n",
              "        text-align: right;\n",
              "    }\n",
              "</style>\n",
              "<table border=\"1\" class=\"dataframe\">\n",
              "  <thead>\n",
              "    <tr style=\"text-align: right;\">\n",
              "      <th></th>\n",
              "      <th>const</th>\n",
              "      <th>Nivel Educativo</th>\n",
              "    </tr>\n",
              "  </thead>\n",
              "  <tbody>\n",
              "    <tr>\n",
              "      <th>16261</th>\n",
              "      <td>1.0</td>\n",
              "      <td>8.0</td>\n",
              "    </tr>\n",
              "    <tr>\n",
              "      <th>51251</th>\n",
              "      <td>1.0</td>\n",
              "      <td>12.0</td>\n",
              "    </tr>\n",
              "  </tbody>\n",
              "</table>\n",
              "</div>\n",
              "      <button class=\"colab-df-convert\" onclick=\"convertToInteractive('df-adb33acd-d072-46fa-a2c8-82ebc4724236')\"\n",
              "              title=\"Convert this dataframe to an interactive table.\"\n",
              "              style=\"display:none;\">\n",
              "        \n",
              "  <svg xmlns=\"http://www.w3.org/2000/svg\" height=\"24px\"viewBox=\"0 0 24 24\"\n",
              "       width=\"24px\">\n",
              "    <path d=\"M0 0h24v24H0V0z\" fill=\"none\"/>\n",
              "    <path d=\"M18.56 5.44l.94 2.06.94-2.06 2.06-.94-2.06-.94-.94-2.06-.94 2.06-2.06.94zm-11 1L8.5 8.5l.94-2.06 2.06-.94-2.06-.94L8.5 2.5l-.94 2.06-2.06.94zm10 10l.94 2.06.94-2.06 2.06-.94-2.06-.94-.94-2.06-.94 2.06-2.06.94z\"/><path d=\"M17.41 7.96l-1.37-1.37c-.4-.4-.92-.59-1.43-.59-.52 0-1.04.2-1.43.59L10.3 9.45l-7.72 7.72c-.78.78-.78 2.05 0 2.83L4 21.41c.39.39.9.59 1.41.59.51 0 1.02-.2 1.41-.59l7.78-7.78 2.81-2.81c.8-.78.8-2.07 0-2.86zM5.41 20L4 18.59l7.72-7.72 1.47 1.35L5.41 20z\"/>\n",
              "  </svg>\n",
              "      </button>\n",
              "      \n",
              "  <style>\n",
              "    .colab-df-container {\n",
              "      display:flex;\n",
              "      flex-wrap:wrap;\n",
              "      gap: 12px;\n",
              "    }\n",
              "\n",
              "    .colab-df-convert {\n",
              "      background-color: #E8F0FE;\n",
              "      border: none;\n",
              "      border-radius: 50%;\n",
              "      cursor: pointer;\n",
              "      display: none;\n",
              "      fill: #1967D2;\n",
              "      height: 32px;\n",
              "      padding: 0 0 0 0;\n",
              "      width: 32px;\n",
              "    }\n",
              "\n",
              "    .colab-df-convert:hover {\n",
              "      background-color: #E2EBFA;\n",
              "      box-shadow: 0px 1px 2px rgba(60, 64, 67, 0.3), 0px 1px 3px 1px rgba(60, 64, 67, 0.15);\n",
              "      fill: #174EA6;\n",
              "    }\n",
              "\n",
              "    [theme=dark] .colab-df-convert {\n",
              "      background-color: #3B4455;\n",
              "      fill: #D2E3FC;\n",
              "    }\n",
              "\n",
              "    [theme=dark] .colab-df-convert:hover {\n",
              "      background-color: #434B5C;\n",
              "      box-shadow: 0px 1px 3px 1px rgba(0, 0, 0, 0.15);\n",
              "      filter: drop-shadow(0px 1px 2px rgba(0, 0, 0, 0.3));\n",
              "      fill: #FFFFFF;\n",
              "    }\n",
              "  </style>\n",
              "\n",
              "      <script>\n",
              "        const buttonEl =\n",
              "          document.querySelector('#df-adb33acd-d072-46fa-a2c8-82ebc4724236 button.colab-df-convert');\n",
              "        buttonEl.style.display =\n",
              "          google.colab.kernel.accessAllowed ? 'block' : 'none';\n",
              "\n",
              "        async function convertToInteractive(key) {\n",
              "          const element = document.querySelector('#df-adb33acd-d072-46fa-a2c8-82ebc4724236');\n",
              "          const dataTable =\n",
              "            await google.colab.kernel.invokeFunction('convertToInteractive',\n",
              "                                                     [key], {});\n",
              "          if (!dataTable) return;\n",
              "\n",
              "          const docLinkHtml = 'Like what you see? Visit the ' +\n",
              "            '<a target=\"_blank\" href=https://colab.research.google.com/notebooks/data_table.ipynb>data table notebook</a>'\n",
              "            + ' to learn more about interactive tables.';\n",
              "          element.innerHTML = '';\n",
              "          dataTable['output_type'] = 'display_data';\n",
              "          await google.colab.output.renderOutput(dataTable, element);\n",
              "          const docLink = document.createElement('div');\n",
              "          docLink.innerHTML = docLinkHtml;\n",
              "          element.appendChild(docLink);\n",
              "        }\n",
              "      </script>\n",
              "    </div>\n",
              "  </div>\n",
              "  "
            ]
          },
          "metadata": {}
        },
        {
          "output_type": "display_data",
          "data": {
            "text/plain": [
              "16261    440436.375000\n",
              "51251    793595.916667\n",
              "Name: total_ingresos, dtype: float64"
            ]
          },
          "metadata": {}
        }
      ]
    },
    {
      "cell_type": "markdown",
      "id": "1d23cacb",
      "metadata": {
        "id": "1d23cacb"
      },
      "source": [
        "## Intervalos de confianza"
      ]
    },
    {
      "cell_type": "code",
      "execution_count": 29,
      "id": "3b7e3c75",
      "metadata": {
        "id": "3b7e3c75",
        "scrolled": true,
        "colab": {
          "base_uri": "https://localhost:8080/",
          "height": 112
        },
        "outputId": "fcaf7363-b116-4f40-fcd4-0bcc87eb3f1d"
      },
      "outputs": [
        {
          "output_type": "execute_result",
          "data": {
            "text/plain": [
              "                             0              1\n",
              "const            292074.147320  459024.036589\n",
              "Nivel Educativo   -2053.171543   19832.407047"
            ],
            "text/html": [
              "\n",
              "  <div id=\"df-921d30ac-000e-4780-b167-c54e6e88849e\">\n",
              "    <div class=\"colab-df-container\">\n",
              "      <div>\n",
              "<style scoped>\n",
              "    .dataframe tbody tr th:only-of-type {\n",
              "        vertical-align: middle;\n",
              "    }\n",
              "\n",
              "    .dataframe tbody tr th {\n",
              "        vertical-align: top;\n",
              "    }\n",
              "\n",
              "    .dataframe thead th {\n",
              "        text-align: right;\n",
              "    }\n",
              "</style>\n",
              "<table border=\"1\" class=\"dataframe\">\n",
              "  <thead>\n",
              "    <tr style=\"text-align: right;\">\n",
              "      <th></th>\n",
              "      <th>0</th>\n",
              "      <th>1</th>\n",
              "    </tr>\n",
              "  </thead>\n",
              "  <tbody>\n",
              "    <tr>\n",
              "      <th>const</th>\n",
              "      <td>292074.147320</td>\n",
              "      <td>459024.036589</td>\n",
              "    </tr>\n",
              "    <tr>\n",
              "      <th>Nivel Educativo</th>\n",
              "      <td>-2053.171543</td>\n",
              "      <td>19832.407047</td>\n",
              "    </tr>\n",
              "  </tbody>\n",
              "</table>\n",
              "</div>\n",
              "      <button class=\"colab-df-convert\" onclick=\"convertToInteractive('df-921d30ac-000e-4780-b167-c54e6e88849e')\"\n",
              "              title=\"Convert this dataframe to an interactive table.\"\n",
              "              style=\"display:none;\">\n",
              "        \n",
              "  <svg xmlns=\"http://www.w3.org/2000/svg\" height=\"24px\"viewBox=\"0 0 24 24\"\n",
              "       width=\"24px\">\n",
              "    <path d=\"M0 0h24v24H0V0z\" fill=\"none\"/>\n",
              "    <path d=\"M18.56 5.44l.94 2.06.94-2.06 2.06-.94-2.06-.94-.94-2.06-.94 2.06-2.06.94zm-11 1L8.5 8.5l.94-2.06 2.06-.94-2.06-.94L8.5 2.5l-.94 2.06-2.06.94zm10 10l.94 2.06.94-2.06 2.06-.94-2.06-.94-.94-2.06-.94 2.06-2.06.94z\"/><path d=\"M17.41 7.96l-1.37-1.37c-.4-.4-.92-.59-1.43-.59-.52 0-1.04.2-1.43.59L10.3 9.45l-7.72 7.72c-.78.78-.78 2.05 0 2.83L4 21.41c.39.39.9.59 1.41.59.51 0 1.02-.2 1.41-.59l7.78-7.78 2.81-2.81c.8-.78.8-2.07 0-2.86zM5.41 20L4 18.59l7.72-7.72 1.47 1.35L5.41 20z\"/>\n",
              "  </svg>\n",
              "      </button>\n",
              "      \n",
              "  <style>\n",
              "    .colab-df-container {\n",
              "      display:flex;\n",
              "      flex-wrap:wrap;\n",
              "      gap: 12px;\n",
              "    }\n",
              "\n",
              "    .colab-df-convert {\n",
              "      background-color: #E8F0FE;\n",
              "      border: none;\n",
              "      border-radius: 50%;\n",
              "      cursor: pointer;\n",
              "      display: none;\n",
              "      fill: #1967D2;\n",
              "      height: 32px;\n",
              "      padding: 0 0 0 0;\n",
              "      width: 32px;\n",
              "    }\n",
              "\n",
              "    .colab-df-convert:hover {\n",
              "      background-color: #E2EBFA;\n",
              "      box-shadow: 0px 1px 2px rgba(60, 64, 67, 0.3), 0px 1px 3px 1px rgba(60, 64, 67, 0.15);\n",
              "      fill: #174EA6;\n",
              "    }\n",
              "\n",
              "    [theme=dark] .colab-df-convert {\n",
              "      background-color: #3B4455;\n",
              "      fill: #D2E3FC;\n",
              "    }\n",
              "\n",
              "    [theme=dark] .colab-df-convert:hover {\n",
              "      background-color: #434B5C;\n",
              "      box-shadow: 0px 1px 3px 1px rgba(0, 0, 0, 0.15);\n",
              "      filter: drop-shadow(0px 1px 2px rgba(0, 0, 0, 0.3));\n",
              "      fill: #FFFFFF;\n",
              "    }\n",
              "  </style>\n",
              "\n",
              "      <script>\n",
              "        const buttonEl =\n",
              "          document.querySelector('#df-921d30ac-000e-4780-b167-c54e6e88849e button.colab-df-convert');\n",
              "        buttonEl.style.display =\n",
              "          google.colab.kernel.accessAllowed ? 'block' : 'none';\n",
              "\n",
              "        async function convertToInteractive(key) {\n",
              "          const element = document.querySelector('#df-921d30ac-000e-4780-b167-c54e6e88849e');\n",
              "          const dataTable =\n",
              "            await google.colab.kernel.invokeFunction('convertToInteractive',\n",
              "                                                     [key], {});\n",
              "          if (!dataTable) return;\n",
              "\n",
              "          const docLinkHtml = 'Like what you see? Visit the ' +\n",
              "            '<a target=\"_blank\" href=https://colab.research.google.com/notebooks/data_table.ipynb>data table notebook</a>'\n",
              "            + ' to learn more about interactive tables.';\n",
              "          element.innerHTML = '';\n",
              "          dataTable['output_type'] = 'display_data';\n",
              "          await google.colab.output.renderOutput(dataTable, element);\n",
              "          const docLink = document.createElement('div');\n",
              "          docLink.innerHTML = docLinkHtml;\n",
              "          element.appendChild(docLink);\n",
              "        }\n",
              "      </script>\n",
              "    </div>\n",
              "  </div>\n",
              "  "
            ]
          },
          "metadata": {},
          "execution_count": 29
        }
      ],
      "source": [
        "results.conf_int(alpha=0.05) #Confianza del 95%"
      ]
    },
    {
      "cell_type": "markdown",
      "id": "c5d19f54",
      "metadata": {
        "id": "c5d19f54",
        "scrolled": true
      },
      "source": [
        "# Predicciones"
      ]
    },
    {
      "cell_type": "code",
      "source": [
        "display(X_test.head(2))"
      ],
      "metadata": {
        "colab": {
          "base_uri": "https://localhost:8080/",
          "height": 112
        },
        "id": "OKH7Maet-pD9",
        "outputId": "fa9c1001-419b-4e30-c286-907782564814"
      },
      "id": "OKH7Maet-pD9",
      "execution_count": 30,
      "outputs": [
        {
          "output_type": "display_data",
          "data": {
            "text/plain": [
              "       const  Nivel Educativo\n",
              "16261    1.0              8.0\n",
              "51251    1.0             12.0"
            ],
            "text/html": [
              "\n",
              "  <div id=\"df-f7784db1-6503-46e0-a0c0-e4a7d0c6e3a9\">\n",
              "    <div class=\"colab-df-container\">\n",
              "      <div>\n",
              "<style scoped>\n",
              "    .dataframe tbody tr th:only-of-type {\n",
              "        vertical-align: middle;\n",
              "    }\n",
              "\n",
              "    .dataframe tbody tr th {\n",
              "        vertical-align: top;\n",
              "    }\n",
              "\n",
              "    .dataframe thead th {\n",
              "        text-align: right;\n",
              "    }\n",
              "</style>\n",
              "<table border=\"1\" class=\"dataframe\">\n",
              "  <thead>\n",
              "    <tr style=\"text-align: right;\">\n",
              "      <th></th>\n",
              "      <th>const</th>\n",
              "      <th>Nivel Educativo</th>\n",
              "    </tr>\n",
              "  </thead>\n",
              "  <tbody>\n",
              "    <tr>\n",
              "      <th>16261</th>\n",
              "      <td>1.0</td>\n",
              "      <td>8.0</td>\n",
              "    </tr>\n",
              "    <tr>\n",
              "      <th>51251</th>\n",
              "      <td>1.0</td>\n",
              "      <td>12.0</td>\n",
              "    </tr>\n",
              "  </tbody>\n",
              "</table>\n",
              "</div>\n",
              "      <button class=\"colab-df-convert\" onclick=\"convertToInteractive('df-f7784db1-6503-46e0-a0c0-e4a7d0c6e3a9')\"\n",
              "              title=\"Convert this dataframe to an interactive table.\"\n",
              "              style=\"display:none;\">\n",
              "        \n",
              "  <svg xmlns=\"http://www.w3.org/2000/svg\" height=\"24px\"viewBox=\"0 0 24 24\"\n",
              "       width=\"24px\">\n",
              "    <path d=\"M0 0h24v24H0V0z\" fill=\"none\"/>\n",
              "    <path d=\"M18.56 5.44l.94 2.06.94-2.06 2.06-.94-2.06-.94-.94-2.06-.94 2.06-2.06.94zm-11 1L8.5 8.5l.94-2.06 2.06-.94-2.06-.94L8.5 2.5l-.94 2.06-2.06.94zm10 10l.94 2.06.94-2.06 2.06-.94-2.06-.94-.94-2.06-.94 2.06-2.06.94z\"/><path d=\"M17.41 7.96l-1.37-1.37c-.4-.4-.92-.59-1.43-.59-.52 0-1.04.2-1.43.59L10.3 9.45l-7.72 7.72c-.78.78-.78 2.05 0 2.83L4 21.41c.39.39.9.59 1.41.59.51 0 1.02-.2 1.41-.59l7.78-7.78 2.81-2.81c.8-.78.8-2.07 0-2.86zM5.41 20L4 18.59l7.72-7.72 1.47 1.35L5.41 20z\"/>\n",
              "  </svg>\n",
              "      </button>\n",
              "      \n",
              "  <style>\n",
              "    .colab-df-container {\n",
              "      display:flex;\n",
              "      flex-wrap:wrap;\n",
              "      gap: 12px;\n",
              "    }\n",
              "\n",
              "    .colab-df-convert {\n",
              "      background-color: #E8F0FE;\n",
              "      border: none;\n",
              "      border-radius: 50%;\n",
              "      cursor: pointer;\n",
              "      display: none;\n",
              "      fill: #1967D2;\n",
              "      height: 32px;\n",
              "      padding: 0 0 0 0;\n",
              "      width: 32px;\n",
              "    }\n",
              "\n",
              "    .colab-df-convert:hover {\n",
              "      background-color: #E2EBFA;\n",
              "      box-shadow: 0px 1px 2px rgba(60, 64, 67, 0.3), 0px 1px 3px 1px rgba(60, 64, 67, 0.15);\n",
              "      fill: #174EA6;\n",
              "    }\n",
              "\n",
              "    [theme=dark] .colab-df-convert {\n",
              "      background-color: #3B4455;\n",
              "      fill: #D2E3FC;\n",
              "    }\n",
              "\n",
              "    [theme=dark] .colab-df-convert:hover {\n",
              "      background-color: #434B5C;\n",
              "      box-shadow: 0px 1px 3px 1px rgba(0, 0, 0, 0.15);\n",
              "      filter: drop-shadow(0px 1px 2px rgba(0, 0, 0, 0.3));\n",
              "      fill: #FFFFFF;\n",
              "    }\n",
              "  </style>\n",
              "\n",
              "      <script>\n",
              "        const buttonEl =\n",
              "          document.querySelector('#df-f7784db1-6503-46e0-a0c0-e4a7d0c6e3a9 button.colab-df-convert');\n",
              "        buttonEl.style.display =\n",
              "          google.colab.kernel.accessAllowed ? 'block' : 'none';\n",
              "\n",
              "        async function convertToInteractive(key) {\n",
              "          const element = document.querySelector('#df-f7784db1-6503-46e0-a0c0-e4a7d0c6e3a9');\n",
              "          const dataTable =\n",
              "            await google.colab.kernel.invokeFunction('convertToInteractive',\n",
              "                                                     [key], {});\n",
              "          if (!dataTable) return;\n",
              "\n",
              "          const docLinkHtml = 'Like what you see? Visit the ' +\n",
              "            '<a target=\"_blank\" href=https://colab.research.google.com/notebooks/data_table.ipynb>data table notebook</a>'\n",
              "            + ' to learn more about interactive tables.';\n",
              "          element.innerHTML = '';\n",
              "          dataTable['output_type'] = 'display_data';\n",
              "          await google.colab.output.renderOutput(dataTable, element);\n",
              "          const docLink = document.createElement('div');\n",
              "          docLink.innerHTML = docLinkHtml;\n",
              "          element.appendChild(docLink);\n",
              "        }\n",
              "      </script>\n",
              "    </div>\n",
              "  </div>\n",
              "  "
            ]
          },
          "metadata": {}
        }
      ]
    },
    {
      "cell_type": "code",
      "source": [
        "display(y_test.head(2))"
      ],
      "metadata": {
        "colab": {
          "base_uri": "https://localhost:8080/",
          "height": 72
        },
        "id": "bCPrAv7a_FTH",
        "outputId": "bf0ac649-217a-45ac-a33b-45110c5ae91d"
      },
      "id": "bCPrAv7a_FTH",
      "execution_count": 31,
      "outputs": [
        {
          "output_type": "display_data",
          "data": {
            "text/plain": [
              "16261    440436.375000\n",
              "51251    793595.916667\n",
              "Name: total_ingresos, dtype: float64"
            ]
          },
          "metadata": {}
        }
      ]
    },
    {
      "cell_type": "code",
      "execution_count": 32,
      "id": "71c38128",
      "metadata": {
        "id": "71c38128",
        "colab": {
          "base_uri": "https://localhost:8080/"
        },
        "outputId": "96a47861-1b10-4b5a-a841-3dce94bc7a43"
      },
      "outputs": [
        {
          "output_type": "execute_result",
          "data": {
            "text/plain": [
              "16261    446666.033971\n",
              "51251    482224.504979\n",
              "dtype: float64"
            ]
          },
          "metadata": {},
          "execution_count": 32
        }
      ],
      "source": [
        "results.predict(X_test).head(2)"
      ]
    },
    {
      "cell_type": "markdown",
      "id": "85cd5cfa",
      "metadata": {
        "id": "85cd5cfa"
      },
      "source": [
        "## Intervalos de confianza predicciones"
      ]
    },
    {
      "cell_type": "code",
      "execution_count": 33,
      "id": "82e6c657",
      "metadata": {
        "id": "82e6c657"
      },
      "outputs": [],
      "source": [
        "Pred_test=results.get_prediction(X_test).summary_frame().sort_values(\"mean\")"
      ]
    },
    {
      "cell_type": "code",
      "source": [
        "Pred_test.head(5)"
      ],
      "metadata": {
        "colab": {
          "base_uri": "https://localhost:8080/",
          "height": 206
        },
        "id": "Y5fO5W1-AHDP",
        "outputId": "2d8b40c4-c38c-42b0-e6c7-683c8fa4ddde"
      },
      "id": "Y5fO5W1-AHDP",
      "execution_count": 34,
      "outputs": [
        {
          "output_type": "execute_result",
          "data": {
            "text/plain": [
              "                mean       mean_se  mean_ci_lower  mean_ci_upper  \\\n",
              "58842  387401.915624  35484.876127  316592.947794  458210.883453   \n",
              "4069   393328.327458  32463.712889  328547.997007  458108.657910   \n",
              "58761  393328.327458  32463.712889  328547.997007  458108.657910   \n",
              "46423  396884.174559  30717.311403  335588.734012  458179.615106   \n",
              "16197  399254.739293  29586.141640  340216.512866  458292.965721   \n",
              "\n",
              "       obs_ci_lower   obs_ci_upper  \n",
              "58842  60699.190430  714104.640818  \n",
              "4069   67879.019674  718777.635243  \n",
              "58761  67879.019674  718777.635243  \n",
              "46423  72110.573791  721657.775327  \n",
              "16197  74899.574537  723609.904049  "
            ],
            "text/html": [
              "\n",
              "  <div id=\"df-a89bdc34-edf3-4f0a-b182-d80cccaf1d9b\">\n",
              "    <div class=\"colab-df-container\">\n",
              "      <div>\n",
              "<style scoped>\n",
              "    .dataframe tbody tr th:only-of-type {\n",
              "        vertical-align: middle;\n",
              "    }\n",
              "\n",
              "    .dataframe tbody tr th {\n",
              "        vertical-align: top;\n",
              "    }\n",
              "\n",
              "    .dataframe thead th {\n",
              "        text-align: right;\n",
              "    }\n",
              "</style>\n",
              "<table border=\"1\" class=\"dataframe\">\n",
              "  <thead>\n",
              "    <tr style=\"text-align: right;\">\n",
              "      <th></th>\n",
              "      <th>mean</th>\n",
              "      <th>mean_se</th>\n",
              "      <th>mean_ci_lower</th>\n",
              "      <th>mean_ci_upper</th>\n",
              "      <th>obs_ci_lower</th>\n",
              "      <th>obs_ci_upper</th>\n",
              "    </tr>\n",
              "  </thead>\n",
              "  <tbody>\n",
              "    <tr>\n",
              "      <th>58842</th>\n",
              "      <td>387401.915624</td>\n",
              "      <td>35484.876127</td>\n",
              "      <td>316592.947794</td>\n",
              "      <td>458210.883453</td>\n",
              "      <td>60699.190430</td>\n",
              "      <td>714104.640818</td>\n",
              "    </tr>\n",
              "    <tr>\n",
              "      <th>4069</th>\n",
              "      <td>393328.327458</td>\n",
              "      <td>32463.712889</td>\n",
              "      <td>328547.997007</td>\n",
              "      <td>458108.657910</td>\n",
              "      <td>67879.019674</td>\n",
              "      <td>718777.635243</td>\n",
              "    </tr>\n",
              "    <tr>\n",
              "      <th>58761</th>\n",
              "      <td>393328.327458</td>\n",
              "      <td>32463.712889</td>\n",
              "      <td>328547.997007</td>\n",
              "      <td>458108.657910</td>\n",
              "      <td>67879.019674</td>\n",
              "      <td>718777.635243</td>\n",
              "    </tr>\n",
              "    <tr>\n",
              "      <th>46423</th>\n",
              "      <td>396884.174559</td>\n",
              "      <td>30717.311403</td>\n",
              "      <td>335588.734012</td>\n",
              "      <td>458179.615106</td>\n",
              "      <td>72110.573791</td>\n",
              "      <td>721657.775327</td>\n",
              "    </tr>\n",
              "    <tr>\n",
              "      <th>16197</th>\n",
              "      <td>399254.739293</td>\n",
              "      <td>29586.141640</td>\n",
              "      <td>340216.512866</td>\n",
              "      <td>458292.965721</td>\n",
              "      <td>74899.574537</td>\n",
              "      <td>723609.904049</td>\n",
              "    </tr>\n",
              "  </tbody>\n",
              "</table>\n",
              "</div>\n",
              "      <button class=\"colab-df-convert\" onclick=\"convertToInteractive('df-a89bdc34-edf3-4f0a-b182-d80cccaf1d9b')\"\n",
              "              title=\"Convert this dataframe to an interactive table.\"\n",
              "              style=\"display:none;\">\n",
              "        \n",
              "  <svg xmlns=\"http://www.w3.org/2000/svg\" height=\"24px\"viewBox=\"0 0 24 24\"\n",
              "       width=\"24px\">\n",
              "    <path d=\"M0 0h24v24H0V0z\" fill=\"none\"/>\n",
              "    <path d=\"M18.56 5.44l.94 2.06.94-2.06 2.06-.94-2.06-.94-.94-2.06-.94 2.06-2.06.94zm-11 1L8.5 8.5l.94-2.06 2.06-.94-2.06-.94L8.5 2.5l-.94 2.06-2.06.94zm10 10l.94 2.06.94-2.06 2.06-.94-2.06-.94-.94-2.06-.94 2.06-2.06.94z\"/><path d=\"M17.41 7.96l-1.37-1.37c-.4-.4-.92-.59-1.43-.59-.52 0-1.04.2-1.43.59L10.3 9.45l-7.72 7.72c-.78.78-.78 2.05 0 2.83L4 21.41c.39.39.9.59 1.41.59.51 0 1.02-.2 1.41-.59l7.78-7.78 2.81-2.81c.8-.78.8-2.07 0-2.86zM5.41 20L4 18.59l7.72-7.72 1.47 1.35L5.41 20z\"/>\n",
              "  </svg>\n",
              "      </button>\n",
              "      \n",
              "  <style>\n",
              "    .colab-df-container {\n",
              "      display:flex;\n",
              "      flex-wrap:wrap;\n",
              "      gap: 12px;\n",
              "    }\n",
              "\n",
              "    .colab-df-convert {\n",
              "      background-color: #E8F0FE;\n",
              "      border: none;\n",
              "      border-radius: 50%;\n",
              "      cursor: pointer;\n",
              "      display: none;\n",
              "      fill: #1967D2;\n",
              "      height: 32px;\n",
              "      padding: 0 0 0 0;\n",
              "      width: 32px;\n",
              "    }\n",
              "\n",
              "    .colab-df-convert:hover {\n",
              "      background-color: #E2EBFA;\n",
              "      box-shadow: 0px 1px 2px rgba(60, 64, 67, 0.3), 0px 1px 3px 1px rgba(60, 64, 67, 0.15);\n",
              "      fill: #174EA6;\n",
              "    }\n",
              "\n",
              "    [theme=dark] .colab-df-convert {\n",
              "      background-color: #3B4455;\n",
              "      fill: #D2E3FC;\n",
              "    }\n",
              "\n",
              "    [theme=dark] .colab-df-convert:hover {\n",
              "      background-color: #434B5C;\n",
              "      box-shadow: 0px 1px 3px 1px rgba(0, 0, 0, 0.15);\n",
              "      filter: drop-shadow(0px 1px 2px rgba(0, 0, 0, 0.3));\n",
              "      fill: #FFFFFF;\n",
              "    }\n",
              "  </style>\n",
              "\n",
              "      <script>\n",
              "        const buttonEl =\n",
              "          document.querySelector('#df-a89bdc34-edf3-4f0a-b182-d80cccaf1d9b button.colab-df-convert');\n",
              "        buttonEl.style.display =\n",
              "          google.colab.kernel.accessAllowed ? 'block' : 'none';\n",
              "\n",
              "        async function convertToInteractive(key) {\n",
              "          const element = document.querySelector('#df-a89bdc34-edf3-4f0a-b182-d80cccaf1d9b');\n",
              "          const dataTable =\n",
              "            await google.colab.kernel.invokeFunction('convertToInteractive',\n",
              "                                                     [key], {});\n",
              "          if (!dataTable) return;\n",
              "\n",
              "          const docLinkHtml = 'Like what you see? Visit the ' +\n",
              "            '<a target=\"_blank\" href=https://colab.research.google.com/notebooks/data_table.ipynb>data table notebook</a>'\n",
              "            + ' to learn more about interactive tables.';\n",
              "          element.innerHTML = '';\n",
              "          dataTable['output_type'] = 'display_data';\n",
              "          await google.colab.output.renderOutput(dataTable, element);\n",
              "          const docLink = document.createElement('div');\n",
              "          docLink.innerHTML = docLinkHtml;\n",
              "          element.appendChild(docLink);\n",
              "        }\n",
              "      </script>\n",
              "    </div>\n",
              "  </div>\n",
              "  "
            ]
          },
          "metadata": {},
          "execution_count": 34
        }
      ]
    },
    {
      "cell_type": "markdown",
      "source": [
        "Agregando variables independientes a las predicciones"
      ],
      "metadata": {
        "id": "YT0ShPUKVhEX"
      },
      "id": "YT0ShPUKVhEX"
    },
    {
      "cell_type": "code",
      "execution_count": 35,
      "id": "fa528c6b",
      "metadata": {
        "id": "fa528c6b"
      },
      "outputs": [],
      "source": [
        "Pred_test[\"X\"]=X_test['Nivel Educativo']\n",
        "Pred_test[\"Observado\"]= y_test"
      ]
    },
    {
      "cell_type": "code",
      "source": [
        "Pred_test.head(5)"
      ],
      "metadata": {
        "colab": {
          "base_uri": "https://localhost:8080/",
          "height": 206
        },
        "id": "xEaHsAoRDa6X",
        "outputId": "0aa54677-5298-49a0-e6dd-65125bf5eac9"
      },
      "id": "xEaHsAoRDa6X",
      "execution_count": 36,
      "outputs": [
        {
          "output_type": "execute_result",
          "data": {
            "text/plain": [
              "                mean       mean_se  mean_ci_lower  mean_ci_upper  \\\n",
              "58842  387401.915624  35484.876127  316592.947794  458210.883453   \n",
              "4069   393328.327458  32463.712889  328547.997007  458108.657910   \n",
              "58761  393328.327458  32463.712889  328547.997007  458108.657910   \n",
              "46423  396884.174559  30717.311403  335588.734012  458179.615106   \n",
              "16197  399254.739293  29586.141640  340216.512866  458292.965721   \n",
              "\n",
              "       obs_ci_lower   obs_ci_upper         X      Observado  \n",
              "58842  60699.190430  714104.640818  1.333333  255900.000000  \n",
              "4069   67879.019674  718777.635243  2.000000  789500.000000  \n",
              "58761  67879.019674  718777.635243  2.000000  471944.444444  \n",
              "46423  72110.573791  721657.775327  2.400000  721416.666667  \n",
              "16197  74899.574537  723609.904049  2.666667  400333.333333  "
            ],
            "text/html": [
              "\n",
              "  <div id=\"df-d2cb6267-37cb-4c58-b1ec-a4b9062ad827\">\n",
              "    <div class=\"colab-df-container\">\n",
              "      <div>\n",
              "<style scoped>\n",
              "    .dataframe tbody tr th:only-of-type {\n",
              "        vertical-align: middle;\n",
              "    }\n",
              "\n",
              "    .dataframe tbody tr th {\n",
              "        vertical-align: top;\n",
              "    }\n",
              "\n",
              "    .dataframe thead th {\n",
              "        text-align: right;\n",
              "    }\n",
              "</style>\n",
              "<table border=\"1\" class=\"dataframe\">\n",
              "  <thead>\n",
              "    <tr style=\"text-align: right;\">\n",
              "      <th></th>\n",
              "      <th>mean</th>\n",
              "      <th>mean_se</th>\n",
              "      <th>mean_ci_lower</th>\n",
              "      <th>mean_ci_upper</th>\n",
              "      <th>obs_ci_lower</th>\n",
              "      <th>obs_ci_upper</th>\n",
              "      <th>X</th>\n",
              "      <th>Observado</th>\n",
              "    </tr>\n",
              "  </thead>\n",
              "  <tbody>\n",
              "    <tr>\n",
              "      <th>58842</th>\n",
              "      <td>387401.915624</td>\n",
              "      <td>35484.876127</td>\n",
              "      <td>316592.947794</td>\n",
              "      <td>458210.883453</td>\n",
              "      <td>60699.190430</td>\n",
              "      <td>714104.640818</td>\n",
              "      <td>1.333333</td>\n",
              "      <td>255900.000000</td>\n",
              "    </tr>\n",
              "    <tr>\n",
              "      <th>4069</th>\n",
              "      <td>393328.327458</td>\n",
              "      <td>32463.712889</td>\n",
              "      <td>328547.997007</td>\n",
              "      <td>458108.657910</td>\n",
              "      <td>67879.019674</td>\n",
              "      <td>718777.635243</td>\n",
              "      <td>2.000000</td>\n",
              "      <td>789500.000000</td>\n",
              "    </tr>\n",
              "    <tr>\n",
              "      <th>58761</th>\n",
              "      <td>393328.327458</td>\n",
              "      <td>32463.712889</td>\n",
              "      <td>328547.997007</td>\n",
              "      <td>458108.657910</td>\n",
              "      <td>67879.019674</td>\n",
              "      <td>718777.635243</td>\n",
              "      <td>2.000000</td>\n",
              "      <td>471944.444444</td>\n",
              "    </tr>\n",
              "    <tr>\n",
              "      <th>46423</th>\n",
              "      <td>396884.174559</td>\n",
              "      <td>30717.311403</td>\n",
              "      <td>335588.734012</td>\n",
              "      <td>458179.615106</td>\n",
              "      <td>72110.573791</td>\n",
              "      <td>721657.775327</td>\n",
              "      <td>2.400000</td>\n",
              "      <td>721416.666667</td>\n",
              "    </tr>\n",
              "    <tr>\n",
              "      <th>16197</th>\n",
              "      <td>399254.739293</td>\n",
              "      <td>29586.141640</td>\n",
              "      <td>340216.512866</td>\n",
              "      <td>458292.965721</td>\n",
              "      <td>74899.574537</td>\n",
              "      <td>723609.904049</td>\n",
              "      <td>2.666667</td>\n",
              "      <td>400333.333333</td>\n",
              "    </tr>\n",
              "  </tbody>\n",
              "</table>\n",
              "</div>\n",
              "      <button class=\"colab-df-convert\" onclick=\"convertToInteractive('df-d2cb6267-37cb-4c58-b1ec-a4b9062ad827')\"\n",
              "              title=\"Convert this dataframe to an interactive table.\"\n",
              "              style=\"display:none;\">\n",
              "        \n",
              "  <svg xmlns=\"http://www.w3.org/2000/svg\" height=\"24px\"viewBox=\"0 0 24 24\"\n",
              "       width=\"24px\">\n",
              "    <path d=\"M0 0h24v24H0V0z\" fill=\"none\"/>\n",
              "    <path d=\"M18.56 5.44l.94 2.06.94-2.06 2.06-.94-2.06-.94-.94-2.06-.94 2.06-2.06.94zm-11 1L8.5 8.5l.94-2.06 2.06-.94-2.06-.94L8.5 2.5l-.94 2.06-2.06.94zm10 10l.94 2.06.94-2.06 2.06-.94-2.06-.94-.94-2.06-.94 2.06-2.06.94z\"/><path d=\"M17.41 7.96l-1.37-1.37c-.4-.4-.92-.59-1.43-.59-.52 0-1.04.2-1.43.59L10.3 9.45l-7.72 7.72c-.78.78-.78 2.05 0 2.83L4 21.41c.39.39.9.59 1.41.59.51 0 1.02-.2 1.41-.59l7.78-7.78 2.81-2.81c.8-.78.8-2.07 0-2.86zM5.41 20L4 18.59l7.72-7.72 1.47 1.35L5.41 20z\"/>\n",
              "  </svg>\n",
              "      </button>\n",
              "      \n",
              "  <style>\n",
              "    .colab-df-container {\n",
              "      display:flex;\n",
              "      flex-wrap:wrap;\n",
              "      gap: 12px;\n",
              "    }\n",
              "\n",
              "    .colab-df-convert {\n",
              "      background-color: #E8F0FE;\n",
              "      border: none;\n",
              "      border-radius: 50%;\n",
              "      cursor: pointer;\n",
              "      display: none;\n",
              "      fill: #1967D2;\n",
              "      height: 32px;\n",
              "      padding: 0 0 0 0;\n",
              "      width: 32px;\n",
              "    }\n",
              "\n",
              "    .colab-df-convert:hover {\n",
              "      background-color: #E2EBFA;\n",
              "      box-shadow: 0px 1px 2px rgba(60, 64, 67, 0.3), 0px 1px 3px 1px rgba(60, 64, 67, 0.15);\n",
              "      fill: #174EA6;\n",
              "    }\n",
              "\n",
              "    [theme=dark] .colab-df-convert {\n",
              "      background-color: #3B4455;\n",
              "      fill: #D2E3FC;\n",
              "    }\n",
              "\n",
              "    [theme=dark] .colab-df-convert:hover {\n",
              "      background-color: #434B5C;\n",
              "      box-shadow: 0px 1px 3px 1px rgba(0, 0, 0, 0.15);\n",
              "      filter: drop-shadow(0px 1px 2px rgba(0, 0, 0, 0.3));\n",
              "      fill: #FFFFFF;\n",
              "    }\n",
              "  </style>\n",
              "\n",
              "      <script>\n",
              "        const buttonEl =\n",
              "          document.querySelector('#df-d2cb6267-37cb-4c58-b1ec-a4b9062ad827 button.colab-df-convert');\n",
              "        buttonEl.style.display =\n",
              "          google.colab.kernel.accessAllowed ? 'block' : 'none';\n",
              "\n",
              "        async function convertToInteractive(key) {\n",
              "          const element = document.querySelector('#df-d2cb6267-37cb-4c58-b1ec-a4b9062ad827');\n",
              "          const dataTable =\n",
              "            await google.colab.kernel.invokeFunction('convertToInteractive',\n",
              "                                                     [key], {});\n",
              "          if (!dataTable) return;\n",
              "\n",
              "          const docLinkHtml = 'Like what you see? Visit the ' +\n",
              "            '<a target=\"_blank\" href=https://colab.research.google.com/notebooks/data_table.ipynb>data table notebook</a>'\n",
              "            + ' to learn more about interactive tables.';\n",
              "          element.innerHTML = '';\n",
              "          dataTable['output_type'] = 'display_data';\n",
              "          await google.colab.output.renderOutput(dataTable, element);\n",
              "          const docLink = document.createElement('div');\n",
              "          docLink.innerHTML = docLinkHtml;\n",
              "          element.appendChild(docLink);\n",
              "        }\n",
              "      </script>\n",
              "    </div>\n",
              "  </div>\n",
              "  "
            ]
          },
          "metadata": {},
          "execution_count": 36
        }
      ]
    },
    {
      "cell_type": "code",
      "execution_count": 37,
      "id": "a30ee3df",
      "metadata": {
        "id": "a30ee3df"
      },
      "outputs": [],
      "source": [
        "Pred_test=Pred_test.sort_values(\"mean\")"
      ]
    },
    {
      "cell_type": "code",
      "execution_count": 38,
      "id": "f2bb79ec",
      "metadata": {
        "id": "f2bb79ec",
        "colab": {
          "base_uri": "https://localhost:8080/",
          "height": 206
        },
        "outputId": "a769b425-b00f-4a4a-ebf2-40c609ccb495"
      },
      "outputs": [
        {
          "output_type": "execute_result",
          "data": {
            "text/plain": [
              "                mean       mean_se  mean_ci_lower  mean_ci_upper  \\\n",
              "58842  387401.915624  35484.876127  316592.947794  458210.883453   \n",
              "4069   393328.327458  32463.712889  328547.997007  458108.657910   \n",
              "58761  393328.327458  32463.712889  328547.997007  458108.657910   \n",
              "46423  396884.174559  30717.311403  335588.734012  458179.615106   \n",
              "16197  399254.739293  29586.141640  340216.512866  458292.965721   \n",
              "\n",
              "       obs_ci_lower   obs_ci_upper         X      Observado  \n",
              "58842  60699.190430  714104.640818  1.333333  255900.000000  \n",
              "4069   67879.019674  718777.635243  2.000000  789500.000000  \n",
              "58761  67879.019674  718777.635243  2.000000  471944.444444  \n",
              "46423  72110.573791  721657.775327  2.400000  721416.666667  \n",
              "16197  74899.574537  723609.904049  2.666667  400333.333333  "
            ],
            "text/html": [
              "\n",
              "  <div id=\"df-b7745155-d1f0-47f4-a488-6674e3d80a32\">\n",
              "    <div class=\"colab-df-container\">\n",
              "      <div>\n",
              "<style scoped>\n",
              "    .dataframe tbody tr th:only-of-type {\n",
              "        vertical-align: middle;\n",
              "    }\n",
              "\n",
              "    .dataframe tbody tr th {\n",
              "        vertical-align: top;\n",
              "    }\n",
              "\n",
              "    .dataframe thead th {\n",
              "        text-align: right;\n",
              "    }\n",
              "</style>\n",
              "<table border=\"1\" class=\"dataframe\">\n",
              "  <thead>\n",
              "    <tr style=\"text-align: right;\">\n",
              "      <th></th>\n",
              "      <th>mean</th>\n",
              "      <th>mean_se</th>\n",
              "      <th>mean_ci_lower</th>\n",
              "      <th>mean_ci_upper</th>\n",
              "      <th>obs_ci_lower</th>\n",
              "      <th>obs_ci_upper</th>\n",
              "      <th>X</th>\n",
              "      <th>Observado</th>\n",
              "    </tr>\n",
              "  </thead>\n",
              "  <tbody>\n",
              "    <tr>\n",
              "      <th>58842</th>\n",
              "      <td>387401.915624</td>\n",
              "      <td>35484.876127</td>\n",
              "      <td>316592.947794</td>\n",
              "      <td>458210.883453</td>\n",
              "      <td>60699.190430</td>\n",
              "      <td>714104.640818</td>\n",
              "      <td>1.333333</td>\n",
              "      <td>255900.000000</td>\n",
              "    </tr>\n",
              "    <tr>\n",
              "      <th>4069</th>\n",
              "      <td>393328.327458</td>\n",
              "      <td>32463.712889</td>\n",
              "      <td>328547.997007</td>\n",
              "      <td>458108.657910</td>\n",
              "      <td>67879.019674</td>\n",
              "      <td>718777.635243</td>\n",
              "      <td>2.000000</td>\n",
              "      <td>789500.000000</td>\n",
              "    </tr>\n",
              "    <tr>\n",
              "      <th>58761</th>\n",
              "      <td>393328.327458</td>\n",
              "      <td>32463.712889</td>\n",
              "      <td>328547.997007</td>\n",
              "      <td>458108.657910</td>\n",
              "      <td>67879.019674</td>\n",
              "      <td>718777.635243</td>\n",
              "      <td>2.000000</td>\n",
              "      <td>471944.444444</td>\n",
              "    </tr>\n",
              "    <tr>\n",
              "      <th>46423</th>\n",
              "      <td>396884.174559</td>\n",
              "      <td>30717.311403</td>\n",
              "      <td>335588.734012</td>\n",
              "      <td>458179.615106</td>\n",
              "      <td>72110.573791</td>\n",
              "      <td>721657.775327</td>\n",
              "      <td>2.400000</td>\n",
              "      <td>721416.666667</td>\n",
              "    </tr>\n",
              "    <tr>\n",
              "      <th>16197</th>\n",
              "      <td>399254.739293</td>\n",
              "      <td>29586.141640</td>\n",
              "      <td>340216.512866</td>\n",
              "      <td>458292.965721</td>\n",
              "      <td>74899.574537</td>\n",
              "      <td>723609.904049</td>\n",
              "      <td>2.666667</td>\n",
              "      <td>400333.333333</td>\n",
              "    </tr>\n",
              "  </tbody>\n",
              "</table>\n",
              "</div>\n",
              "      <button class=\"colab-df-convert\" onclick=\"convertToInteractive('df-b7745155-d1f0-47f4-a488-6674e3d80a32')\"\n",
              "              title=\"Convert this dataframe to an interactive table.\"\n",
              "              style=\"display:none;\">\n",
              "        \n",
              "  <svg xmlns=\"http://www.w3.org/2000/svg\" height=\"24px\"viewBox=\"0 0 24 24\"\n",
              "       width=\"24px\">\n",
              "    <path d=\"M0 0h24v24H0V0z\" fill=\"none\"/>\n",
              "    <path d=\"M18.56 5.44l.94 2.06.94-2.06 2.06-.94-2.06-.94-.94-2.06-.94 2.06-2.06.94zm-11 1L8.5 8.5l.94-2.06 2.06-.94-2.06-.94L8.5 2.5l-.94 2.06-2.06.94zm10 10l.94 2.06.94-2.06 2.06-.94-2.06-.94-.94-2.06-.94 2.06-2.06.94z\"/><path d=\"M17.41 7.96l-1.37-1.37c-.4-.4-.92-.59-1.43-.59-.52 0-1.04.2-1.43.59L10.3 9.45l-7.72 7.72c-.78.78-.78 2.05 0 2.83L4 21.41c.39.39.9.59 1.41.59.51 0 1.02-.2 1.41-.59l7.78-7.78 2.81-2.81c.8-.78.8-2.07 0-2.86zM5.41 20L4 18.59l7.72-7.72 1.47 1.35L5.41 20z\"/>\n",
              "  </svg>\n",
              "      </button>\n",
              "      \n",
              "  <style>\n",
              "    .colab-df-container {\n",
              "      display:flex;\n",
              "      flex-wrap:wrap;\n",
              "      gap: 12px;\n",
              "    }\n",
              "\n",
              "    .colab-df-convert {\n",
              "      background-color: #E8F0FE;\n",
              "      border: none;\n",
              "      border-radius: 50%;\n",
              "      cursor: pointer;\n",
              "      display: none;\n",
              "      fill: #1967D2;\n",
              "      height: 32px;\n",
              "      padding: 0 0 0 0;\n",
              "      width: 32px;\n",
              "    }\n",
              "\n",
              "    .colab-df-convert:hover {\n",
              "      background-color: #E2EBFA;\n",
              "      box-shadow: 0px 1px 2px rgba(60, 64, 67, 0.3), 0px 1px 3px 1px rgba(60, 64, 67, 0.15);\n",
              "      fill: #174EA6;\n",
              "    }\n",
              "\n",
              "    [theme=dark] .colab-df-convert {\n",
              "      background-color: #3B4455;\n",
              "      fill: #D2E3FC;\n",
              "    }\n",
              "\n",
              "    [theme=dark] .colab-df-convert:hover {\n",
              "      background-color: #434B5C;\n",
              "      box-shadow: 0px 1px 3px 1px rgba(0, 0, 0, 0.15);\n",
              "      filter: drop-shadow(0px 1px 2px rgba(0, 0, 0, 0.3));\n",
              "      fill: #FFFFFF;\n",
              "    }\n",
              "  </style>\n",
              "\n",
              "      <script>\n",
              "        const buttonEl =\n",
              "          document.querySelector('#df-b7745155-d1f0-47f4-a488-6674e3d80a32 button.colab-df-convert');\n",
              "        buttonEl.style.display =\n",
              "          google.colab.kernel.accessAllowed ? 'block' : 'none';\n",
              "\n",
              "        async function convertToInteractive(key) {\n",
              "          const element = document.querySelector('#df-b7745155-d1f0-47f4-a488-6674e3d80a32');\n",
              "          const dataTable =\n",
              "            await google.colab.kernel.invokeFunction('convertToInteractive',\n",
              "                                                     [key], {});\n",
              "          if (!dataTable) return;\n",
              "\n",
              "          const docLinkHtml = 'Like what you see? Visit the ' +\n",
              "            '<a target=\"_blank\" href=https://colab.research.google.com/notebooks/data_table.ipynb>data table notebook</a>'\n",
              "            + ' to learn more about interactive tables.';\n",
              "          element.innerHTML = '';\n",
              "          dataTable['output_type'] = 'display_data';\n",
              "          await google.colab.output.renderOutput(dataTable, element);\n",
              "          const docLink = document.createElement('div');\n",
              "          docLink.innerHTML = docLinkHtml;\n",
              "          element.appendChild(docLink);\n",
              "        }\n",
              "      </script>\n",
              "    </div>\n",
              "  </div>\n",
              "  "
            ]
          },
          "metadata": {},
          "execution_count": 38
        }
      ],
      "source": [
        "Pred_test.head(5)"
      ]
    },
    {
      "cell_type": "markdown",
      "id": "51ce1c9e",
      "metadata": {
        "id": "51ce1c9e"
      },
      "source": [
        "## Principales gráficos de la regresión lineal"
      ]
    },
    {
      "cell_type": "code",
      "execution_count": 39,
      "id": "89600432",
      "metadata": {
        "id": "89600432",
        "colab": {
          "base_uri": "https://localhost:8080/",
          "height": 592
        },
        "outputId": "90fc6987-3cc4-464a-90e7-71a8a3a549ab"
      },
      "outputs": [
        {
          "output_type": "display_data",
          "data": {
            "text/plain": [
              "<Figure size 720x720 with 1 Axes>"
            ],
            "image/png": "[encoded data removed]"
          },
          "metadata": {
            "needs_background": "light"
          }
        }
      ],
      "source": [
        "fig, ax = plt.subplots(figsize=(10, 10))\n",
        "\n",
        "ax.scatter(Pred_test[\"X\"], Pred_test.Observado, marker='o', color = \"blue\")\n",
        "ax.plot(Pred_test[\"X\"], Pred_test[\"mean\"], linestyle='-', label=\"OLS\",color=\"red\")\n",
        "ax.plot(Pred_test[\"X\"], Pred_test[\"mean_ci_lower\"], linestyle='--', color='red', label=\"95% CI media\")\n",
        "ax.plot(Pred_test[\"X\"], Pred_test[\"mean_ci_upper\"], linestyle='--', color='red')\n",
        "ax.fill_between(Pred_test[\"X\"], Pred_test[\"mean_ci_lower\"], Pred_test[\"mean_ci_upper\"], alpha=0.1)\n",
        "ax.plot(Pred_test[\"X\"], Pred_test[\"obs_ci_lower\"], linestyle='--', color='blue', label=\"95% CI Observaciones\")\n",
        "ax.plot(Pred_test[\"X\"], Pred_test[\"obs_ci_upper\"], linestyle='--', color='blue')\n",
        "\n",
        "\n",
        "ax.legend();"
      ]
    },
    {
      "cell_type": "markdown",
      "id": "dd1dc793",
      "metadata": {
        "id": "dd1dc793"
      },
      "source": [
        "## Pruebas de bondad de ajuste"
      ]
    },
    {
      "cell_type": "code",
      "execution_count": 40,
      "id": "cfad4641",
      "metadata": {
        "id": "cfad4641",
        "scrolled": true,
        "colab": {
          "base_uri": "https://localhost:8080/"
        },
        "outputId": "3c3e794e-f7fa-4c0d-f134-f82232504376"
      },
      "outputs": [
        {
          "output_type": "stream",
          "name": "stdout",
          "text": [
            "coefficient of determination: 0.037206950328604105\n",
            "adjusted coefficient of determination: 0.023048229009907106\n",
            "regression coefficients: const              375549.091954\n",
            "Nivel Educativo      8889.617752\n",
            "dtype: float64\n"
          ]
        }
      ],
      "source": [
        "print('coefficient of determination:', results.rsquared)\n",
        "print('adjusted coefficient of determination:', results.rsquared_adj)\n",
        "print('regression coefficients:', results.params)"
      ]
    },
    {
      "cell_type": "markdown",
      "id": "024a61a5",
      "metadata": {
        "id": "024a61a5"
      },
      "source": [
        "## Diagnóstico de los residuos"
      ]
    },
    {
      "cell_type": "code",
      "execution_count": 41,
      "id": "0c2699ff",
      "metadata": {
        "id": "0c2699ff"
      },
      "outputs": [],
      "source": [
        "residuos_test   = Pred_test[\"mean\"] - Pred_test[\"Observado\"]"
      ]
    },
    {
      "cell_type": "code",
      "execution_count": 42,
      "id": "d435a39d",
      "metadata": {
        "id": "d435a39d",
        "colab": {
          "base_uri": "https://localhost:8080/",
          "height": 1000
        },
        "outputId": "62a77b6b-ece1-4805-90f7-ff1a38ecc58e"
      },
      "outputs": [
        {
          "output_type": "display_data",
          "data": {
            "text/plain": [
              "<Figure size 1296x1152 with 5 Axes>"
            ],
            "image/png": "[encoded data removed]"
          },
          "metadata": {
            "needs_background": "light"
          }
        }
      ],
      "source": [
        "fig, axes = plt.subplots(nrows=3, ncols=2, figsize=(18, 16))\n",
        "\n",
        "axes[0, 0].scatter(Pred_test[\"Observado\"],Pred_test[\"mean\"], edgecolors=(0, 0, 0), alpha = 0.4)\n",
        "axes[0, 0].plot([Pred_test[\"Observado\"].min(), Pred_test[\"Observado\"].max()],\n",
        "                [Pred_test[\"Observado\"].min(), Pred_test[\"Observado\"].max()],\n",
        "                'k--', color = 'black', lw=2)\n",
        "axes[0, 0].set_title('Valor predicho vs valor real', fontsize = 10, fontweight = \"bold\")\n",
        "axes[0, 0].set_xlabel('Real')\n",
        "axes[0, 0].set_ylabel('Predicción')\n",
        "axes[0, 0].tick_params(labelsize = 7)\n",
        "\n",
        "axes[0, 1].scatter(list(range(len(residuos_test))), residuos_test,\n",
        "                   edgecolors=(0, 0, 0), alpha = 0.4)\n",
        "axes[0, 1].axhline(y = 0, linestyle = '--', color = 'black', lw=2)\n",
        "axes[0, 1].set_title('Residuos del modelo', fontsize = 10, fontweight = \"bold\")\n",
        "axes[0, 1].set_xlabel('id')\n",
        "axes[0, 1].set_ylabel('Residuo')\n",
        "axes[0, 1].tick_params(labelsize = 7)\n",
        "\n",
        "sns.histplot(\n",
        "    data    = residuos_test,\n",
        "    stat    = \"density\",\n",
        "    kde     = True,\n",
        "    line_kws= {'linewidth': 1},\n",
        "    color   = \"firebrick\",\n",
        "    alpha   = 0.3,\n",
        "    ax      = axes[1, 0]\n",
        ")\n",
        "\n",
        "axes[1, 0].set_title('Distribución residuos del modelo', fontsize = 10,\n",
        "                     fontweight = \"bold\")\n",
        "axes[1, 0].set_xlabel(\"Residuo\")\n",
        "axes[1, 0].tick_params(labelsize = 7)\n",
        "\n",
        "\n",
        "sm.qqplot(\n",
        "    residuos_test,\n",
        "    fit   = True,\n",
        "    line  = 'q',\n",
        "    ax    = axes[1, 1], \n",
        "    color = 'firebrick',\n",
        "    alpha = 0.4,\n",
        "    lw    = 2\n",
        ")\n",
        "axes[1, 1].set_title('Q-Q residuos del modelo', fontsize = 10, fontweight = \"bold\")\n",
        "axes[1, 1].tick_params(labelsize = 7)\n",
        "\n",
        "axes[2, 0].scatter(Pred_test[\"mean\"], residuos_test,\n",
        "                   edgecolors=(0, 0, 0), alpha = 0.4)\n",
        "axes[2, 0].axhline(y = 0, linestyle = '--', color = 'black', lw=2)\n",
        "axes[2, 0].set_title('Residuos del modelo vs predicción', fontsize = 10, fontweight = \"bold\")\n",
        "axes[2, 0].set_xlabel('Predicción')\n",
        "axes[2, 0].set_ylabel('Residuo')\n",
        "axes[2, 0].tick_params(labelsize = 7)\n",
        "\n",
        "# Se eliminan los axes vacíos\n",
        "fig.delaxes(axes[2,1])\n",
        "\n",
        "fig.tight_layout()\n",
        "plt.subplots_adjust(top=0.9)\n",
        "fig.suptitle('Diagnóstico residuos', fontsize = 12, fontweight = \"bold\");"
      ]
    },
    {
      "cell_type": "markdown",
      "id": "cb03f5b2",
      "metadata": {
        "id": "cb03f5b2"
      },
      "source": [
        "## Test de Normalidad"
      ]
    },
    {
      "cell_type": "markdown",
      "source": [
        "Shapiro test"
      ],
      "metadata": {
        "id": "HUtcfHt4Sazz"
      },
      "id": "HUtcfHt4Sazz"
    },
    {
      "cell_type": "code",
      "execution_count": 43,
      "id": "4c0c0bd7",
      "metadata": {
        "id": "4c0c0bd7",
        "colab": {
          "base_uri": "https://localhost:8080/"
        },
        "outputId": "fb085287-4134-4f93-832f-bb6a24123d0e"
      },
      "outputs": [
        {
          "output_type": "execute_result",
          "data": {
            "text/plain": [
              "ShapiroResult(statistic=0.9007040858268738, pvalue=0.008738747797906399)"
            ]
          },
          "metadata": {},
          "execution_count": 43
        }
      ],
      "source": [
        "from scipy import stats\n",
        "shapiro_test = stats.shapiro(residuos_test)\n",
        "shapiro_test"
      ]
    },
    {
      "cell_type": "code",
      "source": [
        "k2, p_value = stats.normaltest(residuos_test)\n",
        "print('Estadístico: ' + str(k2)+'p_value: ' + str(p_value))"
      ],
      "metadata": {
        "colab": {
          "base_uri": "https://localhost:8080/"
        },
        "id": "-VwjPnnMSYF6",
        "outputId": "18afcd52-5bfb-46b1-9e83-10228176052c"
      },
      "id": "-VwjPnnMSYF6",
      "execution_count": 44,
      "outputs": [
        {
          "output_type": "stream",
          "name": "stdout",
          "text": [
            "Estadístico: 3.9638048539011734p_value: 0.13780682036646485\n"
          ]
        }
      ]
    }
  ],
  "metadata": {
    "colab": {
      "collapsed_sections": [],
      "provenance": [],
      "include_colab_link": true
    },
    "kernelspec": {
      "display_name": "Python 3 (ipykernel)",
      "language": "python",
      "name": "python3"
    },
    "language_info": {
      "codemirror_mode": {
        "name": "ipython",
        "version": 3
      },
      "file_extension": ".py",
      "mimetype": "text/x-python",
      "name": "python",
      "nbconvert_exporter": "python",
      "pygments_lexer": "ipython3",
      "version": "3.9.7"
    },
    "widgets": {
      "application/vnd.jupyter.widget-state+json": {
        "8c25c601d0714292b3017629a987e02e": {
          "model_module": "@jupyter-widgets/controls",
          "model_name": "VBoxModel",
          "model_module_version": "1.5.0",
          "state": {
            "_dom_classes": [
              "widget-interact"
            ],
            "_model_module": "@jupyter-widgets/controls",
            "_model_module_version": "1.5.0",
            "_model_name": "VBoxModel",
            "_view_count": null,
            "_view_module": "@jupyter-widgets/controls",
            "_view_module_version": "1.5.0",
            "_view_name": "VBoxView",
            "box_style": "",
            "children": [
              "IPY_MODEL_0d2d932b57d44edf86a4323b5caf4ece",
              "IPY_MODEL_8d1bd7eb03c74430be46ca82a23f0e6b",
              "IPY_MODEL_a4b1918c77ed4831a87b03cd1648eeaa",
              "IPY_MODEL_401ca15fee354c8087541750680a7bec",
              "IPY_MODEL_c2094581c0b345aaa36274a0228e2e70"
            ],
            "layout": "IPY_MODEL_8484f007ff254bc3a8e48bb2cacdb66c"
          }
        },
        "0d2d932b57d44edf86a4323b5caf4ece": {
          "model_module": "@jupyter-widgets/controls",
          "model_name": "IntSliderModel",
          "model_module_version": "1.5.0",
          "state": {
            "_dom_classes": [],
            "_model_module": "@jupyter-widgets/controls",
            "_model_module_version": "1.5.0",
            "_model_name": "IntSliderModel",
            "_view_count": null,
            "_view_module": "@jupyter-widgets/controls",
            "_view_module_version": "1.5.0",
            "_view_name": "IntSliderView",
            "continuous_update": true,
            "description": "x_mill",
            "description_tooltip": null,
            "disabled": false,
            "layout": "IPY_MODEL_9e35474b47f3449bbc735b0d944a74a4",
            "max": 9000000,
            "min": 0,
            "orientation": "horizontal",
            "readout": true,
            "readout_format": "d",
            "step": 100000,
            "style": "IPY_MODEL_844f68b6ae3045c0b7066a556742853d",
            "value": 9000000
          }
        },
        "8d1bd7eb03c74430be46ca82a23f0e6b": {
          "model_module": "@jupyter-widgets/controls",
          "model_name": "IntSliderModel",
          "model_module_version": "1.5.0",
          "state": {
            "_dom_classes": [],
            "_model_module": "@jupyter-widgets/controls",
            "_model_module_version": "1.5.0",
            "_model_name": "IntSliderModel",
            "_view_count": null,
            "_view_module": "@jupyter-widgets/controls",
            "_view_module_version": "1.5.0",
            "_view_name": "IntSliderView",
            "continuous_update": true,
            "description": "y",
            "description_tooltip": null,
            "disabled": false,
            "layout": "IPY_MODEL_97562791b8074f54a972bfeefffffde7",
            "max": 50000,
            "min": 0,
            "orientation": "horizontal",
            "readout": true,
            "readout_format": "d",
            "step": 1000,
            "style": "IPY_MODEL_808e4f500b7144d3b7067da3e46f0244",
            "value": 50000
          }
        },
        "a4b1918c77ed4831a87b03cd1648eeaa": {
          "model_module": "@jupyter-widgets/controls",
          "model_name": "IntSliderModel",
          "model_module_version": "1.5.0",
          "state": {
            "_dom_classes": [],
            "_model_module": "@jupyter-widgets/controls",
            "_model_module_version": "1.5.0",
            "_model_name": "IntSliderModel",
            "_view_count": null,
            "_view_module": "@jupyter-widgets/controls",
            "_view_module_version": "1.5.0",
            "_view_name": "IntSliderView",
            "continuous_update": true,
            "description": "bins",
            "description_tooltip": null,
            "disabled": false,
            "layout": "IPY_MODEL_39c60febf0744b8e858a6f0c84874829",
            "max": 1000,
            "min": 1,
            "orientation": "horizontal",
            "readout": true,
            "readout_format": "d",
            "step": 1,
            "style": "IPY_MODEL_a20f8210e97e4104a9ee6ffbcc1322f6",
            "value": 10
          }
        },
        "401ca15fee354c8087541750680a7bec": {
          "model_module": "@jupyter-widgets/controls",
          "model_name": "DropdownModel",
          "model_module_version": "1.5.0",
          "state": {
            "_dom_classes": [],
            "_model_module": "@jupyter-widgets/controls",
            "_model_module_version": "1.5.0",
            "_model_name": "DropdownModel",
            "_options_labels": [
              "red",
              "yellow",
              "blue",
              "gray",
              "green",
              "white",
              "black"
            ],
            "_view_count": null,
            "_view_module": "@jupyter-widgets/controls",
            "_view_module_version": "1.5.0",
            "_view_name": "DropdownView",
            "description": "color",
            "description_tooltip": null,
            "disabled": false,
            "index": 0,
            "layout": "IPY_MODEL_39a0e8a3849a498c8945182a83424242",
            "style": "IPY_MODEL_0d0f383d00c64368b91cdc5a612590e2"
          }
        },
        "c2094581c0b345aaa36274a0228e2e70": {
          "model_module": "@jupyter-widgets/output",
          "model_name": "OutputModel",
          "model_module_version": "1.0.0",
          "state": {
            "_dom_classes": [],
            "_model_module": "@jupyter-widgets/output",
            "_model_module_version": "1.0.0",
            "_model_name": "OutputModel",
            "_view_count": null,
            "_view_module": "@jupyter-widgets/output",
            "_view_module_version": "1.0.0",
            "_view_name": "OutputView",
            "layout": "IPY_MODEL_b30f19ae16294213ab9217f0729fcd8e",
            "msg_id": "",
            "outputs": [
              {
                "output_type": "display_data",
                "data": {
                  "text/plain": "<Figure size 432x288 with 1 Axes>",
                  "image/png": "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\n"
                },
                "metadata": {
                  "needs_background": "light"
                }
              }
            ]
          }
        },
        "8484f007ff254bc3a8e48bb2cacdb66c": {
          "model_module": "@jupyter-widgets/base",
          "model_name": "LayoutModel",
          "model_module_version": "1.2.0",
          "state": {
            "_model_module": "@jupyter-widgets/base",
            "_model_module_version": "1.2.0",
            "_model_name": "LayoutModel",
            "_view_count": null,
            "_view_module": "@jupyter-widgets/base",
            "_view_module_version": "1.2.0",
            "_view_name": "LayoutView",
            "align_content": null,
            "align_items": null,
            "align_self": null,
            "border": null,
            "bottom": null,
            "display": null,
            "flex": null,
            "flex_flow": null,
            "grid_area": null,
            "grid_auto_columns": null,
            "grid_auto_flow": null,
            "grid_auto_rows": null,
            "grid_column": null,
            "grid_gap": null,
            "grid_row": null,
            "grid_template_areas": null,
            "grid_template_columns": null,
            "grid_template_rows": null,
            "height": null,
            "justify_content": null,
            "justify_items": null,
            "left": null,
            "margin": null,
            "max_height": null,
            "max_width": null,
            "min_height": null,
            "min_width": null,
            "object_fit": null,
            "object_position": null,
            "order": null,
            "overflow": null,
            "overflow_x": null,
            "overflow_y": null,
            "padding": null,
            "right": null,
            "top": null,
            "visibility": null,
            "width": null
          }
        },
        "9e35474b47f3449bbc735b0d944a74a4": {
          "model_module": "@jupyter-widgets/base",
          "model_name": "LayoutModel",
          "model_module_version": "1.2.0",
          "state": {
            "_model_module": "@jupyter-widgets/base",
            "_model_module_version": "1.2.0",
            "_model_name": "LayoutModel",
            "_view_count": null,
            "_view_module": "@jupyter-widgets/base",
            "_view_module_version": "1.2.0",
            "_view_name": "LayoutView",
            "align_content": null,
            "align_items": null,
            "align_self": null,
            "border": null,
            "bottom": null,
            "display": null,
            "flex": null,
            "flex_flow": null,
            "grid_area": null,
            "grid_auto_columns": null,
            "grid_auto_flow": null,
            "grid_auto_rows": null,
            "grid_column": null,
            "grid_gap": null,
            "grid_row": null,
            "grid_template_areas": null,
            "grid_template_columns": null,
            "grid_template_rows": null,
            "height": null,
            "justify_content": null,
            "justify_items": null,
            "left": null,
            "margin": null,
            "max_height": null,
            "max_width": null,
            "min_height": null,
            "min_width": null,
            "object_fit": null,
            "object_position": null,
            "order": null,
            "overflow": null,
            "overflow_x": null,
            "overflow_y": null,
            "padding": null,
            "right": null,
            "top": null,
            "visibility": null,
            "width": null
          }
        },
        "844f68b6ae3045c0b7066a556742853d": {
          "model_module": "@jupyter-widgets/controls",
          "model_name": "SliderStyleModel",
          "model_module_version": "1.5.0",
          "state": {
            "_model_module": "@jupyter-widgets/controls",
            "_model_module_version": "1.5.0",
            "_model_name": "SliderStyleModel",
            "_view_count": null,
            "_view_module": "@jupyter-widgets/base",
            "_view_module_version": "1.2.0",
            "_view_name": "StyleView",
            "description_width": "",
            "handle_color": null
          }
        },
        "97562791b8074f54a972bfeefffffde7": {
          "model_module": "@jupyter-widgets/base",
          "model_name": "LayoutModel",
          "model_module_version": "1.2.0",
          "state": {
            "_model_module": "@jupyter-widgets/base",
            "_model_module_version": "1.2.0",
            "_model_name": "LayoutModel",
            "_view_count": null,
            "_view_module": "@jupyter-widgets/base",
            "_view_module_version": "1.2.0",
            "_view_name": "LayoutView",
            "align_content": null,
            "align_items": null,
            "align_self": null,
            "border": null,
            "bottom": null,
            "display": null,
            "flex": null,
            "flex_flow": null,
            "grid_area": null,
            "grid_auto_columns": null,
            "grid_auto_flow": null,
            "grid_auto_rows": null,
            "grid_column": null,
            "grid_gap": null,
            "grid_row": null,
            "grid_template_areas": null,
            "grid_template_columns": null,
            "grid_template_rows": null,
            "height": null,
            "justify_content": null,
            "justify_items": null,
            "left": null,
            "margin": null,
            "max_height": null,
            "max_width": null,
            "min_height": null,
            "min_width": null,
            "object_fit": null,
            "object_position": null,
            "order": null,
            "overflow": null,
            "overflow_x": null,
            "overflow_y": null,
            "padding": null,
            "right": null,
            "top": null,
            "visibility": null,
            "width": null
          }
        },
        "808e4f500b7144d3b7067da3e46f0244": {
          "model_module": "@jupyter-widgets/controls",
          "model_name": "SliderStyleModel",
          "model_module_version": "1.5.0",
          "state": {
            "_model_module": "@jupyter-widgets/controls",
            "_model_module_version": "1.5.0",
            "_model_name": "SliderStyleModel",
            "_view_count": null,
            "_view_module": "@jupyter-widgets/base",
            "_view_module_version": "1.2.0",
            "_view_name": "StyleView",
            "description_width": "",
            "handle_color": null
          }
        },
        "39c60febf0744b8e858a6f0c84874829": {
          "model_module": "@jupyter-widgets/base",
          "model_name": "LayoutModel",
          "model_module_version": "1.2.0",
          "state": {
            "_model_module": "@jupyter-widgets/base",
            "_model_module_version": "1.2.0",
            "_model_name": "LayoutModel",
            "_view_count": null,
            "_view_module": "@jupyter-widgets/base",
            "_view_module_version": "1.2.0",
            "_view_name": "LayoutView",
            "align_content": null,
            "align_items": null,
            "align_self": null,
            "border": null,
            "bottom": null,
            "display": null,
            "flex": null,
            "flex_flow": null,
            "grid_area": null,
            "grid_auto_columns": null,
            "grid_auto_flow": null,
            "grid_auto_rows": null,
            "grid_column": null,
            "grid_gap": null,
            "grid_row": null,
            "grid_template_areas": null,
            "grid_template_columns": null,
            "grid_template_rows": null,
            "height": null,
            "justify_content": null,
            "justify_items": null,
            "left": null,
            "margin": null,
            "max_height": null,
            "max_width": null,
            "min_height": null,
            "min_width": null,
            "object_fit": null,
            "object_position": null,
            "order": null,
            "overflow": null,
            "overflow_x": null,
            "overflow_y": null,
            "padding": null,
            "right": null,
            "top": null,
            "visibility": null,
            "width": null
          }
        },
        "a20f8210e97e4104a9ee6ffbcc1322f6": {
          "model_module": "@jupyter-widgets/controls",
          "model_name": "SliderStyleModel",
          "model_module_version": "1.5.0",
          "state": {
            "_model_module": "@jupyter-widgets/controls",
            "_model_module_version": "1.5.0",
            "_model_name": "SliderStyleModel",
            "_view_count": null,
            "_view_module": "@jupyter-widgets/base",
            "_view_module_version": "1.2.0",
            "_view_name": "StyleView",
            "description_width": "",
            "handle_color": null
          }
        },
        "39a0e8a3849a498c8945182a83424242": {
          "model_module": "@jupyter-widgets/base",
          "model_name": "LayoutModel",
          "model_module_version": "1.2.0",
          "state": {
            "_model_module": "@jupyter-widgets/base",
            "_model_module_version": "1.2.0",
            "_model_name": "LayoutModel",
            "_view_count": null,
            "_view_module": "@jupyter-widgets/base",
            "_view_module_version": "1.2.0",
            "_view_name": "LayoutView",
            "align_content": null,
            "align_items": null,
            "align_self": null,
            "border": null,
            "bottom": null,
            "display": null,
            "flex": null,
            "flex_flow": null,
            "grid_area": null,
            "grid_auto_columns": null,
            "grid_auto_flow": null,
            "grid_auto_rows": null,
            "grid_column": null,
            "grid_gap": null,
            "grid_row": null,
            "grid_template_areas": null,
            "grid_template_columns": null,
            "grid_template_rows": null,
            "height": null,
            "justify_content": null,
            "justify_items": null,
            "left": null,
            "margin": null,
            "max_height": null,
            "max_width": null,
            "min_height": null,
            "min_width": null,
            "object_fit": null,
            "object_position": null,
            "order": null,
            "overflow": null,
            "overflow_x": null,
            "overflow_y": null,
            "padding": null,
            "right": null,
            "top": null,
            "visibility": null,
            "width": null
          }
        },
        "0d0f383d00c64368b91cdc5a612590e2": {
          "model_module": "@jupyter-widgets/controls",
          "model_name": "DescriptionStyleModel",
          "model_module_version": "1.5.0",
          "state": {
            "_model_module": "@jupyter-widgets/controls",
            "_model_module_version": "1.5.0",
            "_model_name": "DescriptionStyleModel",
            "_view_count": null,
            "_view_module": "@jupyter-widgets/base",
            "_view_module_version": "1.2.0",
            "_view_name": "StyleView",
            "description_width": ""
          }
        },
        "b30f19ae16294213ab9217f0729fcd8e": {
          "model_module": "@jupyter-widgets/base",
          "model_name": "LayoutModel",
          "model_module_version": "1.2.0",
          "state": {
            "_model_module": "@jupyter-widgets/base",
            "_model_module_version": "1.2.0",
            "_model_name": "LayoutModel",
            "_view_count": null,
            "_view_module": "@jupyter-widgets/base",
            "_view_module_version": "1.2.0",
            "_view_name": "LayoutView",
            "align_content": null,
            "align_items": null,
            "align_self": null,
            "border": null,
            "bottom": null,
            "display": null,
            "flex": null,
            "flex_flow": null,
            "grid_area": null,
            "grid_auto_columns": null,
            "grid_auto_flow": null,
            "grid_auto_rows": null,
            "grid_column": null,
            "grid_gap": null,
            "grid_row": null,
            "grid_template_areas": null,
            "grid_template_columns": null,
            "grid_template_rows": null,
            "height": null,
            "justify_content": null,
            "justify_items": null,
            "left": null,
            "margin": null,
            "max_height": null,
            "max_width": null,
            "min_height": null,
            "min_width": null,
            "object_fit": null,
            "object_position": null,
            "order": null,
            "overflow": null,
            "overflow_x": null,
            "overflow_y": null,
            "padding": null,
            "right": null,
            "top": null,
            "visibility": null,
            "width": null
          }
        }
      }
    }
  },
  "nbformat": 4,
  "nbformat_minor": 5
}